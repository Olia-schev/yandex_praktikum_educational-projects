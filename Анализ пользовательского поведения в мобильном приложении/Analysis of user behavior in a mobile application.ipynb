{
 "cells": [
  {
   "cell_type": "markdown",
   "metadata": {},
   "source": [
    "# Анализ пользовательского поведения в мобильном приложении"
   ]
  },
  {
   "cell_type": "markdown",
   "metadata": {},
   "source": [
    "## Описание проекта\n",
    "\n",
    "**Цель проекта**:\n",
    "- Оценка поведения пользователей мобильного приложения\n",
    "\n",
    "**Задачи проекта**:\n",
    "- **Анализ воронки продаж**:\n",
    "    - Оценка событий, совершаемых пользователями и их количества. \n",
    "    - Вяснить сколько пользователей совершали каждое из событий и оценить как пользователи доходят до покупки\n",
    "    - Оценка количества пользователей которые доходит до покупки, и тех которые  \"затревают\" на предыдущих шагах\n",
    "    - Выявить на каких шагах пользователи останавливаются и не совершают покупку   \n",
    "    \n",
    "    \n",
    "- **Анализ результатов A/A/B теста**:\n",
    "\n",
    "Дизайнеры захотели поменять шрифты во всём приложении. Для оценки правильности такого решения пользователей разбили на 3 группы: 2 контрольные со старыми шрифтами (А1, А2) и одну экспериментальную — с новыми (В).\n",
    "\n",
    "- Оценка количества пользователей в каждой эксперементальной группе (А1 и А2- контрольные группы )\n",
    "- A/A-тест - оценка статистических гипотез о равенстве среднего количества пользователей в контрольных группах А1 и А2 во всем логе и в разбивке по событиям\n",
    "- А/В-тест - оценка статистических гипотез о равенстве среднего количества пользователей в контрольной и тестовой группе\n",
    "- Оценка уровня значимости для проверки статистических гипотез\n",
    "\n",
    "\n",
    "**Структура проекта:**\n",
    "- [Описание данных;](#review)\n",
    "- [Предобработка данных;](#preprocessing)\n",
    "- [Изучение и проверка данных;](#analysis)\n",
    "- [Изучение воронки событий;](#funnel)\n",
    "- [Анализ результатов A/B теста;](#test)\n",
    "- [Выводы.](#results)"
   ]
  },
  {
   "cell_type": "markdown",
   "metadata": {},
   "source": [
    "<a id='review'></a>\n",
    "###  Описание данных\n",
    "Каждая запись в логе — это действие пользователя, или событие. \n",
    "- `EventName` — название события;\n",
    "- `DeviceIDHash` — уникальный идентификатор пользователя;\n",
    "- `EventTimestamp` — время события;\n",
    "- `ExpId` — номер эксперимента: 246 и 247 — контрольные группы, а 248 — экспериментальная."
   ]
  },
  {
   "cell_type": "markdown",
   "metadata": {},
   "source": [
    "**Импорт необходимых библиотек**"
   ]
  },
  {
   "cell_type": "code",
   "execution_count": 1,
   "metadata": {},
   "outputs": [],
   "source": [
    "import pandas as pd\n",
    "import datetime as dt \n",
    "import time\n",
    "from matplotlib import pyplot as plt\n",
    "import numpy as np\n",
    "from scipy import stats as st\n",
    "import scipy.stats as stats\n",
    "import math as mth\n",
    "from plotly import graph_objects as go\n",
    "import functools"
   ]
  },
  {
   "cell_type": "code",
   "execution_count": 2,
   "metadata": {},
   "outputs": [
    {
     "data": {
      "text/html": [
       "<div>\n",
       "<style scoped>\n",
       "    .dataframe tbody tr th:only-of-type {\n",
       "        vertical-align: middle;\n",
       "    }\n",
       "\n",
       "    .dataframe tbody tr th {\n",
       "        vertical-align: top;\n",
       "    }\n",
       "\n",
       "    .dataframe thead th {\n",
       "        text-align: right;\n",
       "    }\n",
       "</style>\n",
       "<table border=\"1\" class=\"dataframe\">\n",
       "  <thead>\n",
       "    <tr style=\"text-align: right;\">\n",
       "      <th></th>\n",
       "      <th>EventName</th>\n",
       "      <th>DeviceIDHash</th>\n",
       "      <th>EventTimestamp</th>\n",
       "      <th>ExpId</th>\n",
       "    </tr>\n",
       "  </thead>\n",
       "  <tbody>\n",
       "    <tr>\n",
       "      <th>0</th>\n",
       "      <td>MainScreenAppear</td>\n",
       "      <td>4575588528974610257</td>\n",
       "      <td>1564029816</td>\n",
       "      <td>246</td>\n",
       "    </tr>\n",
       "    <tr>\n",
       "      <th>1</th>\n",
       "      <td>MainScreenAppear</td>\n",
       "      <td>7416695313311560658</td>\n",
       "      <td>1564053102</td>\n",
       "      <td>246</td>\n",
       "    </tr>\n",
       "    <tr>\n",
       "      <th>2</th>\n",
       "      <td>PaymentScreenSuccessful</td>\n",
       "      <td>3518123091307005509</td>\n",
       "      <td>1564054127</td>\n",
       "      <td>248</td>\n",
       "    </tr>\n",
       "    <tr>\n",
       "      <th>3</th>\n",
       "      <td>CartScreenAppear</td>\n",
       "      <td>3518123091307005509</td>\n",
       "      <td>1564054127</td>\n",
       "      <td>248</td>\n",
       "    </tr>\n",
       "    <tr>\n",
       "      <th>4</th>\n",
       "      <td>PaymentScreenSuccessful</td>\n",
       "      <td>6217807653094995999</td>\n",
       "      <td>1564055322</td>\n",
       "      <td>248</td>\n",
       "    </tr>\n",
       "  </tbody>\n",
       "</table>\n",
       "</div>"
      ],
      "text/plain": [
       "                 EventName         DeviceIDHash  EventTimestamp  ExpId\n",
       "0         MainScreenAppear  4575588528974610257      1564029816    246\n",
       "1         MainScreenAppear  7416695313311560658      1564053102    246\n",
       "2  PaymentScreenSuccessful  3518123091307005509      1564054127    248\n",
       "3         CartScreenAppear  3518123091307005509      1564054127    248\n",
       "4  PaymentScreenSuccessful  6217807653094995999      1564055322    248"
      ]
     },
     "execution_count": 2,
     "metadata": {},
     "output_type": "execute_result"
    }
   ],
   "source": [
    "logs_exp = pd.read_csv('logs_exp.csv',sep='\\t')\n",
    "logs_exp.head()"
   ]
  },
  {
   "cell_type": "markdown",
   "metadata": {},
   "source": [
    "<a id='preprocessing'></a>\n",
    "## Предобработка данных  \n"
   ]
  },
  {
   "cell_type": "markdown",
   "metadata": {},
   "source": [
    "Проверим наличие дубликатов и пропусков в данных, а так посмотрим общую информацию о файле. "
   ]
  },
  {
   "cell_type": "code",
   "execution_count": 3,
   "metadata": {
    "scrolled": true
   },
   "outputs": [
    {
     "data": {
      "text/plain": [
       "'Дубликатов в файле:413(0.17%)'"
      ]
     },
     "metadata": {},
     "output_type": "display_data"
    },
    {
     "data": {
      "text/plain": [
       "'Пропусков в данных:'"
      ]
     },
     "metadata": {},
     "output_type": "display_data"
    },
    {
     "data": {
      "text/plain": [
       "EventName         0\n",
       "DeviceIDHash      0\n",
       "EventTimestamp    0\n",
       "ExpId             0\n",
       "dtype: int64"
      ]
     },
     "metadata": {},
     "output_type": "display_data"
    },
    {
     "name": "stdout",
     "output_type": "stream",
     "text": [
      "<class 'pandas.core.frame.DataFrame'>\n",
      "RangeIndex: 244126 entries, 0 to 244125\n",
      "Data columns (total 4 columns):\n",
      " #   Column          Non-Null Count   Dtype \n",
      "---  ------          --------------   ----- \n",
      " 0   EventName       244126 non-null  object\n",
      " 1   DeviceIDHash    244126 non-null  int64 \n",
      " 2   EventTimestamp  244126 non-null  int64 \n",
      " 3   ExpId           244126 non-null  int64 \n",
      "dtypes: int64(3), object(1)\n",
      "memory usage: 7.5+ MB\n"
     ]
    },
    {
     "data": {
      "text/plain": [
       "None"
      ]
     },
     "metadata": {},
     "output_type": "display_data"
    }
   ],
   "source": [
    "display(f'Дубликатов в файле:{logs_exp.duplicated().sum()}({logs_exp.duplicated().sum()/logs_exp.shape[0]:.2%})')\n",
    "display('Пропусков в данных:',logs_exp.isna().sum())\n",
    "display(logs_exp.info())"
   ]
  },
  {
   "cell_type": "markdown",
   "metadata": {},
   "source": [
    "___\n",
    "* Датафрейм содержит 244 126 строк, из них 413 полностью дублируются, удалим их. \n",
    "* Пропусков в данных нет. \n",
    "* Дата записана в формате `timestamp`. Создадим столбец с датой в формате `datetime`. Также в столбце с номером эксперимента заменим категориальные переменные строковыми значениями: `246 — А1` и `247 — А2` и `248 — В`.\n",
    "___"
   ]
  },
  {
   "cell_type": "code",
   "execution_count": 4,
   "metadata": {},
   "outputs": [
    {
     "data": {
      "text/plain": [
       "dtype('<M8[ns]')"
      ]
     },
     "metadata": {},
     "output_type": "display_data"
    },
    {
     "data": {
      "text/html": [
       "<div>\n",
       "<style scoped>\n",
       "    .dataframe tbody tr th:only-of-type {\n",
       "        vertical-align: middle;\n",
       "    }\n",
       "\n",
       "    .dataframe tbody tr th {\n",
       "        vertical-align: top;\n",
       "    }\n",
       "\n",
       "    .dataframe thead th {\n",
       "        text-align: right;\n",
       "    }\n",
       "</style>\n",
       "<table border=\"1\" class=\"dataframe\">\n",
       "  <thead>\n",
       "    <tr style=\"text-align: right;\">\n",
       "      <th></th>\n",
       "      <th>event_name</th>\n",
       "      <th>user_id</th>\n",
       "      <th>event_time_stamp</th>\n",
       "      <th>group</th>\n",
       "      <th>date_time</th>\n",
       "    </tr>\n",
       "  </thead>\n",
       "  <tbody>\n",
       "    <tr>\n",
       "      <th>0</th>\n",
       "      <td>MainScreenAppear</td>\n",
       "      <td>4575588528974610257</td>\n",
       "      <td>1564029816</td>\n",
       "      <td>A1</td>\n",
       "      <td>2019-07-25</td>\n",
       "    </tr>\n",
       "    <tr>\n",
       "      <th>1</th>\n",
       "      <td>MainScreenAppear</td>\n",
       "      <td>7416695313311560658</td>\n",
       "      <td>1564053102</td>\n",
       "      <td>A1</td>\n",
       "      <td>2019-07-25</td>\n",
       "    </tr>\n",
       "    <tr>\n",
       "      <th>2</th>\n",
       "      <td>PaymentScreenSuccessful</td>\n",
       "      <td>3518123091307005509</td>\n",
       "      <td>1564054127</td>\n",
       "      <td>B</td>\n",
       "      <td>2019-07-25</td>\n",
       "    </tr>\n",
       "    <tr>\n",
       "      <th>3</th>\n",
       "      <td>CartScreenAppear</td>\n",
       "      <td>3518123091307005509</td>\n",
       "      <td>1564054127</td>\n",
       "      <td>B</td>\n",
       "      <td>2019-07-25</td>\n",
       "    </tr>\n",
       "    <tr>\n",
       "      <th>4</th>\n",
       "      <td>PaymentScreenSuccessful</td>\n",
       "      <td>6217807653094995999</td>\n",
       "      <td>1564055322</td>\n",
       "      <td>B</td>\n",
       "      <td>2019-07-25</td>\n",
       "    </tr>\n",
       "  </tbody>\n",
       "</table>\n",
       "</div>"
      ],
      "text/plain": [
       "                event_name              user_id  event_time_stamp group  \\\n",
       "0         MainScreenAppear  4575588528974610257        1564029816    A1   \n",
       "1         MainScreenAppear  7416695313311560658        1564053102    A1   \n",
       "2  PaymentScreenSuccessful  3518123091307005509        1564054127     B   \n",
       "3         CartScreenAppear  3518123091307005509        1564054127     B   \n",
       "4  PaymentScreenSuccessful  6217807653094995999        1564055322     B   \n",
       "\n",
       "   date_time  \n",
       "0 2019-07-25  \n",
       "1 2019-07-25  \n",
       "2 2019-07-25  \n",
       "3 2019-07-25  \n",
       "4 2019-07-25  "
      ]
     },
     "metadata": {},
     "output_type": "display_data"
    },
    {
     "name": "stdout",
     "output_type": "stream",
     "text": [
      "<class 'pandas.core.frame.DataFrame'>\n",
      "RangeIndex: 244126 entries, 0 to 244125\n",
      "Data columns (total 5 columns):\n",
      " #   Column            Non-Null Count   Dtype         \n",
      "---  ------            --------------   -----         \n",
      " 0   event_name        244126 non-null  object        \n",
      " 1   user_id           244126 non-null  int64         \n",
      " 2   event_time_stamp  244126 non-null  int64         \n",
      " 3   group             244126 non-null  object        \n",
      " 4   date_time         244126 non-null  datetime64[ns]\n",
      "dtypes: datetime64[ns](1), int64(2), object(2)\n",
      "memory usage: 9.3+ MB\n"
     ]
    },
    {
     "data": {
      "text/plain": [
       "None"
      ]
     },
     "metadata": {},
     "output_type": "display_data"
    },
    {
     "data": {
      "text/plain": [
       "'Дубликатов в файле:'"
      ]
     },
     "metadata": {},
     "output_type": "display_data"
    },
    {
     "data": {
      "text/plain": [
       "0"
      ]
     },
     "metadata": {},
     "output_type": "display_data"
    }
   ],
   "source": [
    "#добавление столбца в формате date_time\n",
    "logs_exp['date_time'] = logs_exp['EventTimestamp'].map(lambda x: pd.to_datetime(time.strftime(\"%Y-%m-%d\",  time.gmtime(x))))\n",
    "display(logs_exp['date_time'].dtype)\n",
    "#переименование столбцов\n",
    "logs_exp.columns = ['event_name','user_id','event_time_stamp','group','date_time']\n",
    "# Присвоение категориальным переменным строковых названий\n",
    "logs_exp['group'] = logs_exp['group'].replace(246,'A1')\n",
    "logs_exp['group'] = logs_exp['group'].replace(247,'A2')\n",
    "logs_exp['group'] = logs_exp['group'].replace(248,'B')\n",
    "display(logs_exp.head())\n",
    "display(logs_exp.info())\n",
    "#Удалим дубликаты\n",
    "logs_exp = logs_exp.drop_duplicates().reset_index(drop=True)\n",
    "display('Дубликатов в файле:',logs_exp.duplicated().sum())"
   ]
  },
  {
   "cell_type": "markdown",
   "metadata": {},
   "source": [
    "<a id='analysis'></a>\n",
    "## Изучение и проверка данных"
   ]
  },
  {
   "cell_type": "markdown",
   "metadata": {},
   "source": [
    "**Сколько всего событий в логе?**\n"
   ]
  },
  {
   "cell_type": "code",
   "execution_count": 5,
   "metadata": {},
   "outputs": [
    {
     "data": {
      "text/plain": [
       "array(['MainScreenAppear', 'PaymentScreenSuccessful', 'CartScreenAppear',\n",
       "       'OffersScreenAppear', 'Tutorial'], dtype=object)"
      ]
     },
     "metadata": {},
     "output_type": "display_data"
    },
    {
     "data": {
      "text/plain": [
       "5"
      ]
     },
     "metadata": {},
     "output_type": "display_data"
    },
    {
     "data": {
      "text/plain": [
       "243713"
      ]
     },
     "metadata": {},
     "output_type": "display_data"
    }
   ],
   "source": [
    "display(logs_exp['event_name'].unique(),\n",
    "        logs_exp['event_name'].nunique(),\n",
    "       logs_exp['event_name'].count())"
   ]
  },
  {
   "cell_type": "markdown",
   "metadata": {},
   "source": [
    "___\n",
    "* В логе всего 5 уникальных событий: \n",
    "    * `MainScreenAppear` - Пользователь увидел главный экран\n",
    "    * `OffersScreenAppear` - Пользователь увидел  экран предложений\n",
    "    * `CartScreenAppear` - Пользователь зашел в корзину        \n",
    "    * `PaymentScreenSuccessful` - Пользователь увидел экран успешной оплаты товаров    \n",
    "    * `Tutorial` -  Пользователь увидел экран с обучением\n",
    "* Общее число событий: 243 713\n",
    "___"
   ]
  },
  {
   "cell_type": "markdown",
   "metadata": {},
   "source": [
    "**Сколько всего пользователей в логе?**\n"
   ]
  },
  {
   "cell_type": "code",
   "execution_count": 6,
   "metadata": {
    "scrolled": true
   },
   "outputs": [
    {
     "data": {
      "text/plain": [
       "7551"
      ]
     },
     "metadata": {},
     "output_type": "display_data"
    }
   ],
   "source": [
    "display(logs_exp['user_id'].nunique())"
   ]
  },
  {
   "cell_type": "markdown",
   "metadata": {},
   "source": [
    "___\n",
    "* Всего в логе 7 551 пользователь.\n",
    "___"
   ]
  },
  {
   "cell_type": "markdown",
   "metadata": {},
   "source": [
    "**Сколько в среднем событий приходится на пользователя?**\n"
   ]
  },
  {
   "cell_type": "code",
   "execution_count": 7,
   "metadata": {},
   "outputs": [
    {
     "data": {
      "text/plain": [
       "event_name    32.28\n",
       "dtype: float64"
      ]
     },
     "execution_count": 7,
     "metadata": {},
     "output_type": "execute_result"
    }
   ],
   "source": [
    "round(logs_exp.pivot_table(index='user_id',values = 'event_name',aggfunc = 'count').mean(),2)"
   ]
  },
  {
   "cell_type": "markdown",
   "metadata": {},
   "source": [
    "___\n",
    "* В среднем каждый пользователь совершает около 32 событий\n",
    "___"
   ]
  },
  {
   "cell_type": "markdown",
   "metadata": {},
   "source": [
    "**Данными за какой период мы располагаем?**\n",
    "\n",
    "Найдем минимальную и максимальную даты в логе"
   ]
  },
  {
   "cell_type": "code",
   "execution_count": 8,
   "metadata": {},
   "outputs": [
    {
     "data": {
      "text/plain": [
       "Timestamp('2019-07-25 00:00:00')"
      ]
     },
     "metadata": {},
     "output_type": "display_data"
    },
    {
     "data": {
      "text/plain": [
       "Timestamp('2019-08-07 00:00:00')"
      ]
     },
     "metadata": {},
     "output_type": "display_data"
    },
    {
     "data": {
      "text/plain": [
       "13"
      ]
     },
     "metadata": {},
     "output_type": "display_data"
    }
   ],
   "source": [
    "display(logs_exp['date_time'].min())\n",
    "display(logs_exp['date_time'].max())\n",
    "display((logs_exp['date_time'].max()-logs_exp['date_time'].min()).days)"
   ]
  },
  {
   "cell_type": "markdown",
   "metadata": {},
   "source": [
    "_____\n",
    "* Данные в логе содержат информацию о действиях пользователей за 13 дней с 25 июля по 7 августа 2019 года.\n",
    "___\n",
    "\n",
    "Посмотрим, как меняется количество данных по дням. Построим столбчатую диаграмму, которая отобразит количество событий в зависимости от времени в разрезе групп. "
   ]
  },
  {
   "cell_type": "code",
   "execution_count": 9,
   "metadata": {
    "scrolled": true
   },
   "outputs": [
    {
     "data": {
      "text/html": [
       "<div>\n",
       "<style scoped>\n",
       "    .dataframe tbody tr th:only-of-type {\n",
       "        vertical-align: middle;\n",
       "    }\n",
       "\n",
       "    .dataframe tbody tr th {\n",
       "        vertical-align: top;\n",
       "    }\n",
       "\n",
       "    .dataframe thead th {\n",
       "        text-align: right;\n",
       "    }\n",
       "</style>\n",
       "<table border=\"1\" class=\"dataframe\">\n",
       "  <thead>\n",
       "    <tr style=\"text-align: right;\">\n",
       "      <th></th>\n",
       "      <th>date_time</th>\n",
       "      <th>group</th>\n",
       "      <th>count_event</th>\n",
       "    </tr>\n",
       "  </thead>\n",
       "  <tbody>\n",
       "    <tr>\n",
       "      <th>0</th>\n",
       "      <td>2019-07-25</td>\n",
       "      <td>A1</td>\n",
       "      <td>4</td>\n",
       "    </tr>\n",
       "    <tr>\n",
       "      <th>1</th>\n",
       "      <td>2019-07-25</td>\n",
       "      <td>A2</td>\n",
       "      <td>1</td>\n",
       "    </tr>\n",
       "    <tr>\n",
       "      <th>2</th>\n",
       "      <td>2019-07-25</td>\n",
       "      <td>B</td>\n",
       "      <td>4</td>\n",
       "    </tr>\n",
       "    <tr>\n",
       "      <th>3</th>\n",
       "      <td>2019-07-26</td>\n",
       "      <td>A1</td>\n",
       "      <td>14</td>\n",
       "    </tr>\n",
       "    <tr>\n",
       "      <th>4</th>\n",
       "      <td>2019-07-26</td>\n",
       "      <td>A2</td>\n",
       "      <td>8</td>\n",
       "    </tr>\n",
       "  </tbody>\n",
       "</table>\n",
       "</div>"
      ],
      "text/plain": [
       "   date_time group  count_event\n",
       "0 2019-07-25    A1            4\n",
       "1 2019-07-25    A2            1\n",
       "2 2019-07-25     B            4\n",
       "3 2019-07-26    A1           14\n",
       "4 2019-07-26    A2            8"
      ]
     },
     "execution_count": 9,
     "metadata": {},
     "output_type": "execute_result"
    }
   ],
   "source": [
    "# Создание сводной таблицы для построения диаграммы\n",
    "logs_pivot = logs_exp.pivot_table(index=['date_time',\n",
    "                                         'group'],\n",
    "                                  values = 'event_name',\n",
    "                                  aggfunc = 'count').reset_index().sort_values('date_time')\n",
    "logs_pivot.columns = ['date_time','group','count_event']\n",
    "groupA1 = logs_pivot.query('group ==\"A1\"')\n",
    "groupA2 = logs_pivot.query('group ==\"A2\"')\n",
    "groupB = logs_pivot.query('group ==\"B\"')\n",
    "logs_pivot.head()"
   ]
  },
  {
   "cell_type": "code",
   "execution_count": 10,
   "metadata": {},
   "outputs": [
    {
     "data": {
      "image/png": "[encoded data removed]",
      "text/plain": [
       "<Figure size 1440x576 with 1 Axes>"
      ]
     },
     "metadata": {
      "needs_background": "light"
     },
     "output_type": "display_data"
    }
   ],
   "source": [
    "cat_par =[groupA1['date_time'].map(lambda x: x.date()).reset_index(drop=True).loc[i:] for i in range(14)][0].tolist()\n",
    "\n",
    "A1 = groupA1['count_event']\n",
    "A2 = groupA2['count_event']\n",
    "B = groupB['count_event']\n",
    "\n",
    "\n",
    "width = 0.3\n",
    "\n",
    "x = np.arange(len(cat_par))\n",
    "\n",
    "fig, ax = plt.subplots(figsize=(20,8))\n",
    "\n",
    "ax.bar(x - width/2, A1,width, label='A1',color='mediumslateblue')\n",
    "\n",
    "\n",
    "\n",
    "ax.bar(x + width/2, A2,width, label='A2',color='yellowgreen')\n",
    "\n",
    "\n",
    "ax.bar(x + 2*(width/2), B,width, label='B',color='g')\n",
    "# plt.axhline(y=groupB['count_event'].median(), color='y', linestyle='--',label='medianA1')\n",
    "\n",
    "plt.title('Количество событий в зависимости от времени в разрезе групп')\n",
    "plt.xticks(x,rotation=90)\n",
    "ax.set_xticklabels(cat_par)\n",
    "plt.legend()\n",
    "plt.xlabel(\"Дата\")\n",
    "plt.ylabel('Количество событий')\n",
    "plt.grid()\n",
    "plt.show()"
   ]
  },
  {
   "cell_type": "markdown",
   "metadata": {},
   "source": [
    "___\n",
    "* По диаграмме видно, что до 1 августа данные не полные. \n",
    "* Оставим данные за 7 дней с 1 по 7 августа\n",
    "___"
   ]
  },
  {
   "cell_type": "code",
   "execution_count": 11,
   "metadata": {},
   "outputs": [
    {
     "data": {
      "text/html": [
       "<div>\n",
       "<style scoped>\n",
       "    .dataframe tbody tr th:only-of-type {\n",
       "        vertical-align: middle;\n",
       "    }\n",
       "\n",
       "    .dataframe tbody tr th {\n",
       "        vertical-align: top;\n",
       "    }\n",
       "\n",
       "    .dataframe thead th {\n",
       "        text-align: right;\n",
       "    }\n",
       "</style>\n",
       "<table border=\"1\" class=\"dataframe\">\n",
       "  <thead>\n",
       "    <tr style=\"text-align: right;\">\n",
       "      <th></th>\n",
       "      <th>event_name</th>\n",
       "      <th>user_id</th>\n",
       "      <th>event_time_stamp</th>\n",
       "      <th>group</th>\n",
       "      <th>date_time</th>\n",
       "    </tr>\n",
       "  </thead>\n",
       "  <tbody>\n",
       "    <tr>\n",
       "      <th>2826</th>\n",
       "      <td>Tutorial</td>\n",
       "      <td>3737462046622621720</td>\n",
       "      <td>1564618048</td>\n",
       "      <td>A1</td>\n",
       "      <td>2019-08-01</td>\n",
       "    </tr>\n",
       "    <tr>\n",
       "      <th>2827</th>\n",
       "      <td>MainScreenAppear</td>\n",
       "      <td>3737462046622621720</td>\n",
       "      <td>1564618080</td>\n",
       "      <td>A1</td>\n",
       "      <td>2019-08-01</td>\n",
       "    </tr>\n",
       "    <tr>\n",
       "      <th>2828</th>\n",
       "      <td>MainScreenAppear</td>\n",
       "      <td>3737462046622621720</td>\n",
       "      <td>1564618135</td>\n",
       "      <td>A1</td>\n",
       "      <td>2019-08-01</td>\n",
       "    </tr>\n",
       "    <tr>\n",
       "      <th>2829</th>\n",
       "      <td>OffersScreenAppear</td>\n",
       "      <td>3737462046622621720</td>\n",
       "      <td>1564618138</td>\n",
       "      <td>A1</td>\n",
       "      <td>2019-08-01</td>\n",
       "    </tr>\n",
       "    <tr>\n",
       "      <th>2830</th>\n",
       "      <td>MainScreenAppear</td>\n",
       "      <td>1433840883824088890</td>\n",
       "      <td>1564618139</td>\n",
       "      <td>A2</td>\n",
       "      <td>2019-08-01</td>\n",
       "    </tr>\n",
       "  </tbody>\n",
       "</table>\n",
       "</div>"
      ],
      "text/plain": [
       "              event_name              user_id  event_time_stamp group  \\\n",
       "2826            Tutorial  3737462046622621720        1564618048    A1   \n",
       "2827    MainScreenAppear  3737462046622621720        1564618080    A1   \n",
       "2828    MainScreenAppear  3737462046622621720        1564618135    A1   \n",
       "2829  OffersScreenAppear  3737462046622621720        1564618138    A1   \n",
       "2830    MainScreenAppear  1433840883824088890        1564618139    A2   \n",
       "\n",
       "      date_time  \n",
       "2826 2019-08-01  \n",
       "2827 2019-08-01  \n",
       "2828 2019-08-01  \n",
       "2829 2019-08-01  \n",
       "2830 2019-08-01  "
      ]
     },
     "execution_count": 11,
     "metadata": {},
     "output_type": "execute_result"
    }
   ],
   "source": [
    "new_logs_exp = logs_exp.query('date_time >= \"2019-08-01\"')\n",
    "new_logs_exp.head()"
   ]
  },
  {
   "cell_type": "markdown",
   "metadata": {},
   "source": [
    "\n",
    "\n"
   ]
  },
  {
   "cell_type": "markdown",
   "metadata": {},
   "source": [
    "**Много ли событий и пользователей потерялись при удалении данных?**"
   ]
  },
  {
   "cell_type": "code",
   "execution_count": 12,
   "metadata": {},
   "outputs": [
    {
     "data": {
      "text/plain": [
       "'Удалено 0.23% пользователей'"
      ]
     },
     "metadata": {},
     "output_type": "display_data"
    },
    {
     "data": {
      "text/plain": [
       "'Удалено 0.0000% событий'"
      ]
     },
     "metadata": {},
     "output_type": "display_data"
    },
    {
     "data": {
      "text/plain": [
       "MainScreenAppear           1.49\n",
       "OffersScreenAppear         1.01\n",
       "CartScreenAppear           0.86\n",
       "PaymentScreenSuccessful    0.59\n",
       "Tutorial                   1.28\n",
       "Name: event_name, dtype: float64"
      ]
     },
     "metadata": {},
     "output_type": "display_data"
    }
   ],
   "source": [
    "delit = (logs_exp['user_id'].nunique()-new_logs_exp['user_id'].nunique())/logs_exp['user_id'].nunique()\n",
    "display(f'Удалено {delit:.2%} пользователей')\n",
    "\n",
    "delit = (logs_exp['event_name'].nunique()-new_logs_exp['event_name'].nunique())/logs_exp['event_name'].nunique()\n",
    "display(f'Удалено {delit:.4%} событий')\n",
    "\n",
    "display(round((logs_exp['event_name'].value_counts()-new_logs_exp['event_name'].value_counts())*100/logs_exp['event_name'].value_counts(),\n",
    "      2))"
   ]
  },
  {
   "cell_type": "markdown",
   "metadata": {},
   "source": [
    "___\n",
    "* Было удалено менее четверти процента пользователей\n",
    "* Ни одно событие полностью не \"пропало\" из датасета\n",
    "* По каждому событию в среднем было удалено около 1% записей. Больше всего для события MainScreenAppear, что логично — это самое частое событие в данных.\n",
    "___"
   ]
  },
  {
   "cell_type": "markdown",
   "metadata": {},
   "source": [
    "**Проверим, что у нас есть пользователи из всех трёх экспериментальных групп.**"
   ]
  },
  {
   "cell_type": "code",
   "execution_count": 13,
   "metadata": {
    "scrolled": true
   },
   "outputs": [
    {
     "data": {
      "text/html": [
       "<div>\n",
       "<style scoped>\n",
       "    .dataframe tbody tr th:only-of-type {\n",
       "        vertical-align: middle;\n",
       "    }\n",
       "\n",
       "    .dataframe tbody tr th {\n",
       "        vertical-align: top;\n",
       "    }\n",
       "\n",
       "    .dataframe thead th {\n",
       "        text-align: right;\n",
       "    }\n",
       "</style>\n",
       "<table border=\"1\" class=\"dataframe\">\n",
       "  <thead>\n",
       "    <tr style=\"text-align: right;\">\n",
       "      <th></th>\n",
       "      <th>user_id</th>\n",
       "    </tr>\n",
       "    <tr>\n",
       "      <th>group</th>\n",
       "      <th></th>\n",
       "    </tr>\n",
       "  </thead>\n",
       "  <tbody>\n",
       "    <tr>\n",
       "      <th>A1</th>\n",
       "      <td>79302</td>\n",
       "    </tr>\n",
       "    <tr>\n",
       "      <th>A2</th>\n",
       "      <td>77022</td>\n",
       "    </tr>\n",
       "    <tr>\n",
       "      <th>B</th>\n",
       "      <td>84563</td>\n",
       "    </tr>\n",
       "  </tbody>\n",
       "</table>\n",
       "</div>"
      ],
      "text/plain": [
       "       user_id\n",
       "group         \n",
       "A1       79302\n",
       "A2       77022\n",
       "B        84563"
      ]
     },
     "execution_count": 13,
     "metadata": {},
     "output_type": "execute_result"
    }
   ],
   "source": [
    "new_logs_exp.pivot_table(index='group', values = 'user_id', aggfunc = 'count')"
   ]
  },
  {
   "cell_type": "markdown",
   "metadata": {},
   "source": [
    "___\n",
    "* Все нормально, во всех трех группах есть пользователи \n",
    "___"
   ]
  },
  {
   "cell_type": "markdown",
   "metadata": {},
   "source": [
    "<a id='funnel'></a>\n",
    "## Изучение воронки событий"
   ]
  },
  {
   "cell_type": "markdown",
   "metadata": {},
   "source": [
    "**Посмотрим, как часто встречается каждое событие.** "
   ]
  },
  {
   "cell_type": "code",
   "execution_count": 14,
   "metadata": {},
   "outputs": [
    {
     "data": {
      "text/plain": [
       "MainScreenAppear           117328\n",
       "OffersScreenAppear          46333\n",
       "CartScreenAppear            42303\n",
       "PaymentScreenSuccessful     33918\n",
       "Tutorial                     1005\n",
       "Name: event_name, dtype: int64"
      ]
     },
     "execution_count": 14,
     "metadata": {},
     "output_type": "execute_result"
    }
   ],
   "source": [
    "new_logs_exp['event_name'].value_counts()"
   ]
  },
  {
   "cell_type": "markdown",
   "metadata": {},
   "source": [
    "___ \n",
    "* Самое популярное событие - просмотр главного экрана встречается в логе 117 328 раз.\n",
    "\n",
    "* Реже всего пользователи просматривают экран с обучением.\n",
    "___"
   ]
  },
  {
   "cell_type": "markdown",
   "metadata": {},
   "source": [
    "**Посчитаем, сколько пользователей совершали каждое из этих событий и долю пользователей, которые хоть раз совершали событие.** "
   ]
  },
  {
   "cell_type": "code",
   "execution_count": 15,
   "metadata": {},
   "outputs": [
    {
     "data": {
      "text/html": [
       "<div>\n",
       "<style scoped>\n",
       "    .dataframe tbody tr th:only-of-type {\n",
       "        vertical-align: middle;\n",
       "    }\n",
       "\n",
       "    .dataframe tbody tr th {\n",
       "        vertical-align: top;\n",
       "    }\n",
       "\n",
       "    .dataframe thead th {\n",
       "        text-align: right;\n",
       "    }\n",
       "</style>\n",
       "<table border=\"1\" class=\"dataframe\">\n",
       "  <thead>\n",
       "    <tr style=\"text-align: right;\">\n",
       "      <th></th>\n",
       "      <th>nunique_users</th>\n",
       "      <th>share_users (%)</th>\n",
       "    </tr>\n",
       "    <tr>\n",
       "      <th>event_name</th>\n",
       "      <th></th>\n",
       "      <th></th>\n",
       "    </tr>\n",
       "  </thead>\n",
       "  <tbody>\n",
       "    <tr>\n",
       "      <th>MainScreenAppear</th>\n",
       "      <td>7419</td>\n",
       "      <td>98.47</td>\n",
       "    </tr>\n",
       "    <tr>\n",
       "      <th>OffersScreenAppear</th>\n",
       "      <td>4593</td>\n",
       "      <td>60.96</td>\n",
       "    </tr>\n",
       "    <tr>\n",
       "      <th>CartScreenAppear</th>\n",
       "      <td>3734</td>\n",
       "      <td>49.56</td>\n",
       "    </tr>\n",
       "    <tr>\n",
       "      <th>PaymentScreenSuccessful</th>\n",
       "      <td>3539</td>\n",
       "      <td>46.97</td>\n",
       "    </tr>\n",
       "    <tr>\n",
       "      <th>Tutorial</th>\n",
       "      <td>840</td>\n",
       "      <td>11.15</td>\n",
       "    </tr>\n",
       "  </tbody>\n",
       "</table>\n",
       "</div>"
      ],
      "text/plain": [
       "                         nunique_users  share_users (%)\n",
       "event_name                                             \n",
       "MainScreenAppear                  7419            98.47\n",
       "OffersScreenAppear                4593            60.96\n",
       "CartScreenAppear                  3734            49.56\n",
       "PaymentScreenSuccessful           3539            46.97\n",
       "Tutorial                           840            11.15"
      ]
     },
     "execution_count": 15,
     "metadata": {},
     "output_type": "execute_result"
    }
   ],
   "source": [
    "users_committed_event = new_logs_exp.pivot_table(index = 'event_name', \n",
    "                                                 values = 'user_id',\n",
    "                                                 aggfunc = 'nunique')\n",
    "all_users = new_logs_exp['user_id'].nunique()\n",
    "users_committed_event.columns = ['nunique_users']\n",
    "users_committed_event['share_users (%)'] = round(users_committed_event['nunique_users']*100/all_users,2)\n",
    "users_committed_event.sort_values(by='nunique_users',ascending = False)"
   ]
  },
  {
   "cell_type": "markdown",
   "metadata": {},
   "source": [
    "___\n",
    "* Более 98 процентов пользователей хоть раз просматривали главный экран\n",
    "* Самая малая доля приходится на просмотр обучения, это событие большая часть пользователей пропускает\n",
    "___"
   ]
  },
  {
   "cell_type": "markdown",
   "metadata": {},
   "source": [
    "**Посмотрим самые популярные цепочки событий встречающихся в логе**"
   ]
  },
  {
   "cell_type": "code",
   "execution_count": null,
   "metadata": {},
   "outputs": [],
   "source": [
    "df =[]\n",
    "users = new_logs_exp['user_id'].unique().tolist()\n",
    "\n",
    "for u in users:\n",
    "    j = ' → '.join(new_logs_exp.query('user_id == @u')\\\n",
    "                                      .sort_values(by='date_time')['event_name'].drop_duplicates().reset_index(drop=True))\n",
    "    df.append(j)"
   ]
  },
  {
   "cell_type": "code",
   "execution_count": null,
   "metadata": {},
   "outputs": [],
   "source": [
    "pd.Series(df).value_counts().head(10)"
   ]
  },
  {
   "cell_type": "markdown",
   "metadata": {},
   "source": [
    "___\n",
    "* Как и ожидалось, чаще всего пользователи просматривают главный экран, не переходя в корзину и не совершая покупок\n",
    "* На втором месте по частоте цепочка: **`MainScreenAppear → OffersScreenAppear → CartScreenAppear → PaymentScreenSuccessful`**.  **Для построения воронки событий будем использовать эту цепочку**\n",
    "* Видно, что есть цепочки, где последовательность нарушается, пользователь перешел на экран оплаты сразу с главного экрана или с экрана предложений минуя корзину. Такое возможно если у пользователя есть прямая ссылка на страницу оплаты или интернет-магазин предлагают возможность совершить покупку в один шаг, без необходимости добавлять товары в корзину. Так же возможны технические ошибки в коде отслеживания корзины. В данных случаях цепочки выглядят так:\n",
    "`MainScreenAppear → OffersScreenAppear → PaymentScreenSuccessful → CartScreenAppear`             \n",
    "`MainScreenAppear → PaymentScreenSuccessful → CartScreenAppear → OffersScreenAppear` \n",
    "* Доля цепочек не содержит переход к экрану с предложениями, пользователь сразу попадает в корзину\n",
    "`MainScreenAppear → CartScreenAppear → PaymentScreenSuccessful → OffersScreenAppear`\n",
    "* Так как очень мало пользователей просматривают обучение,  это событие не нужно учитывать при расчёте воронки.  \n",
    "___\n"
   ]
  },
  {
   "cell_type": "markdown",
   "metadata": {},
   "source": [
    "**По воронке событий посчитаем, какая доля пользователей проходит на следующий шаг воронки (от числа пользователей на предыдущем).** \n",
    "\n",
    "* Событие 1 - MainScreenAppear\n",
    "* Событие 2 - OffersScreenAppear\n",
    "* Событие 3 - CartScreenAppear\n",
    "* Событие 4 - PaymentScreenSuccessful*"
   ]
  },
  {
   "cell_type": "code",
   "execution_count": null,
   "metadata": {},
   "outputs": [],
   "source": [
    "# Построим таблицу по пользователям с датой первого совершения события\n",
    "purchase_funnel = new_logs_exp.pivot_table(\n",
    "    index='user_id', \n",
    "    columns='event_name', \n",
    "    values='date_time',\n",
    "    aggfunc='min')\n",
    "purchase_funnel = purchase_funnel[['MainScreenAppear','OffersScreenAppear' ,'CartScreenAppear' ,'PaymentScreenSuccessful']]\n",
    "purchase_funnel.head()"
   ]
  },
  {
   "cell_type": "code",
   "execution_count": null,
   "metadata": {},
   "outputs": [],
   "source": [
    "#Построим таблицы для переходов в каждое событие и посчитаем долю пользователей перешедших из события в событие\n",
    "event1 = purchase_funnel.query('~MainScreenAppear.isna()')\n",
    "event12 = event1.query('~OffersScreenAppear.isna()')\n",
    "event123 = event12.query('~CartScreenAppear.isna()')\n",
    "event1234 = event123.query('~PaymentScreenSuccessful.isna()')\n",
    "\n",
    "display(f'Доля пользователей перешедших из события 1 в 2: {event12.shape[0]/event1.shape[0]:.2%}')\n",
    "display(f'Доля пользователей перешедших из события 2 в 3: {event123.shape[0]/event12.shape[0]:.2%}')\n",
    "display(f'Доля пользователей перешедших из события 3 в 4: {event1234.shape[0]/event123.shape[0]:.2%}')"
   ]
  },
  {
   "cell_type": "markdown",
   "metadata": {},
   "source": [
    "___\n",
    "* Самая малая доля пользователей наблюдается при переходе из события 1 в событие 2, т. е.  больше всего пользователей теряется на шаге 1 (`MainScreenAppear`).\n",
    "___"
   ]
  },
  {
   "cell_type": "markdown",
   "metadata": {},
   "source": [
    "**Какая доля пользователей доходит от первого события до оплаты?**"
   ]
  },
  {
   "cell_type": "code",
   "execution_count": null,
   "metadata": {
    "scrolled": true
   },
   "outputs": [],
   "source": [
    "display(f'Доля пользователей перешедших из события 1 в 4: {event1234.shape[0]/event1.shape[0]:.2%}')"
   ]
  },
  {
   "cell_type": "markdown",
   "metadata": {},
   "source": [
    "___\n",
    "* От просмотра главного экрана до оплаты доходит 46,22% пользователей \n",
    "___"
   ]
  },
  {
   "cell_type": "markdown",
   "metadata": {},
   "source": [
    "**Визуализируем воронку событий**"
   ]
  },
  {
   "cell_type": "code",
   "execution_count": null,
   "metadata": {},
   "outputs": [],
   "source": [
    "import plotly.graph_objects as go\n",
    "\n",
    "fig = go.Figure()\n",
    "fig.add_trace(go.Funnel(\n",
    "    name='Montreal',\n",
    "    y=[\"Все пользователи\", \"MainScreenAppear\", \"OffersScreenAppear\", \"CartScreenAppear\", \"PaymentScreenSuccessful\"],\n",
    "    x=[all_users,event1.shape[0], event12.shape[0], event123.shape[0], event1234.shape[0]],  \n",
    "    textinfo=\"value+percent initial\",\n",
    "))\n",
    "fig.update_layout(\n",
    "    title_text='Воронка событий'  # Установка названия диаграммы через метод update_layout\n",
    ")\n",
    "fig.show()"
   ]
  },
  {
   "cell_type": "markdown",
   "metadata": {},
   "source": [
    "___\n",
    "* По визуализации воронки можно подтвердить выводы сделанные выше: Больше всего пользователей теряется при переходе с первого на второй шаг - количество пользователей на 2 шаге на 30 ед. процента меньше, чем на первом, а от первого шага до оплаты доходят только 46% пользователей\n",
    "___"
   ]
  },
  {
   "cell_type": "markdown",
   "metadata": {},
   "source": [
    "___\n",
    "**Общие выводы**\n",
    "* Самое популярное событие - просмотр главного экрана\n",
    "\n",
    "* Реже всего пользователи просматривают экран с обучением, это событие большая часть пользователей пропускает\n",
    "\n",
    "* События происходят в следующем порядке: `Главный экран → Экран с предложениями → Корзина → Экран оплаты`. Не всегда события выстраиваются в последовательную цепочку, такие последовательности мы не учитывали при расчете воронки.\n",
    "\n",
    "* Больше всего пользователей теряется на первом шаге - при переходе с главного экрана в экран с предложениями. \n",
    "\n",
    "* Более половины пользователей с глафного экрана не доходят до совершения покупки.\n",
    "___\n"
   ]
  },
  {
   "cell_type": "markdown",
   "metadata": {},
   "source": [
    "<a id='test'></a>\n",
    "## Анализ результатов A/B теста\n",
    "\n",
    "**Посчитаем количество пользователей в каждой экспериментальной группе**"
   ]
  },
  {
   "cell_type": "code",
   "execution_count": null,
   "metadata": {},
   "outputs": [],
   "source": [
    "new_logs_exp.pivot_table(index = 'group', values = 'user_id', aggfunc = 'nunique')"
   ]
  },
  {
   "cell_type": "markdown",
   "metadata": {},
   "source": [
    "___\n",
    "* На первый взгляд можно сказать, что группы поделены равномерно.\n",
    "___"
   ]
  },
  {
   "cell_type": "markdown",
   "metadata": {},
   "source": [
    "**Проверим, что каждый пользователь принадлежит только одной группе**"
   ]
  },
  {
   "cell_type": "code",
   "execution_count": null,
   "metadata": {},
   "outputs": [],
   "source": [
    "user_list_A1 = new_logs_exp.query('group == \"A1\"')['user_id'].tolist()\n",
    "user_list_A2 = new_logs_exp.query('group == \"A2\"')['user_id'].tolist()\n",
    "user_list_B = new_logs_exp.query('group == \"B\"')['user_id'].tolist()\n",
    "\n",
    "if functools.reduce(lambda x, y : x and y, map(lambda p, q: p == q,user_list_A1,user_list_A2), True):\n",
    "    print (\"В группах A1 и А2 есть повторяющиеся пользователи\")\n",
    "else:\n",
    "    print (\"В группах A1 и А2 нет одних и тех же пользователей\")\n",
    "\n",
    "if functools.reduce(lambda x, y : x and y, map(lambda p, q: p == q,user_list_A1,user_list_B), True):\n",
    "    print (\"В группах A1 и B есть повторяющиеся пользователи\")\n",
    "else:\n",
    "    print (\"В группах A1 и B нет одних и тех же пользователей\")\n",
    "    \n",
    "if functools.reduce(lambda x, y : x and y, map(lambda p, q: p == q,user_list_A2,user_list_B), True):\n",
    "    print (\"В группах A2 и B есть повторяющиеся пользователи\")\n",
    "else:\n",
    "    print (\"В группах A2 и B нет одних и тех же пользователей\")"
   ]
  },
  {
   "cell_type": "markdown",
   "metadata": {},
   "source": [
    "___\n",
    "* В группах одних и тех же пользователей не обнаружено\n",
    "___"
   ]
  },
  {
   "cell_type": "markdown",
   "metadata": {},
   "source": [
    "**Проверим корректность механизмов деления трафика**\n",
    "\n",
    "Есть 2 контрольные группы для А/А-эксперимента, чтобы проверить корректность всех механизмов и расчётов, проверим, находят ли статистические критерии разницу между выборками А1 и А2.\n",
    "\n",
    "Посчитаем число пользователей, совершивших это событие в каждой из контрольных групп, долю пользователей, совершивших это событие и проверим будет ли отличие между группами статистически достоверным."
   ]
  },
  {
   "cell_type": "code",
   "execution_count": null,
   "metadata": {},
   "outputs": [],
   "source": [
    "# Функция для подсчета общего количества пользователей по группам, пользователей совершивших события и p_value между выборками\n",
    "def stats_AB(alpha,group,event):\n",
    "    for g in group:\n",
    "        display(f'group: {g}')\n",
    "        p_value = []\n",
    "        all_users1 = []\n",
    "        all_users2 = []\n",
    "        event_users1 = []\n",
    "        event_users2= []\n",
    "        for e in event:\n",
    "            # все пользователи групп \n",
    "            group1 = new_logs_exp.query('group == @g[0]')['user_id'].nunique()\n",
    "            all_users1.append(group1)\n",
    "            group2 =  new_logs_exp.query('group == @g[1]')['user_id'].nunique()\n",
    "            trials = np.array([group1, group2])\n",
    "            all_users2.append(group2)\n",
    "            #количество пользователей совершивших событие\n",
    "            event_group1 = new_logs_exp.query('(group == @g[0]) and (event_name == @e)')['user_id'].nunique()\n",
    "            event_users1.append(event_group1)\n",
    "            event_group2 = new_logs_exp.query('(group == @g[1]) and (event_name == @e)')['user_id'].nunique()\n",
    "            event_users2.append(event_group2)\n",
    "            successes = np.array([event_group1, event_group2 ])\n",
    "            # пропорция успехов в первой группе:\n",
    "            p1 = successes[0]/trials[0]\n",
    "            # пропорция успехов во второй группе:\n",
    "            p2 = successes[1]/trials[1]\n",
    "            # разница пропорций \n",
    "            diff = p1-p2\n",
    "            # комбинация пропорций\n",
    "            p = (successes[0]+successes[1])/(trials[0]+trials[1])\n",
    "            # считаем статистику в ст.отклонениях стандартного нормального распределения\n",
    "            z_value = diff / mth.sqrt(p*(1-p)*(1/trials[0] + 1/trials[1]))\n",
    "            # нормальное распределение\n",
    "            distr = st.norm(0,1)\n",
    "            p_value.append(round((1-distr.cdf(abs(z_value)))*2,2))       \n",
    "    data = {'event':event,\n",
    "                f'all_users{group[0][0]}':all_users1 ,f'event_users{group[0][0]}':event_users1,\n",
    "                f'all_users{group[0][1]}':all_users2 ,f'event_users{group[0][1]}':event_users2}\n",
    "    frame = pd.DataFrame(data=data)\n",
    "    frame[f'share{group[0][0]} (%)']  = round(frame[f'event_users{group[0][0]}']*100/frame[f'all_users{group[0][0]}'],2)\n",
    "    frame[f'share{group[0][1]} (%)']  = round(frame[f'event_users{group[0][1]}']*100/frame[f'all_users{group[0][1]}'],2)\n",
    "    display(frame)\n",
    "    \n",
    "    \n",
    "    for a in alpha:\n",
    "        display(f'alpha = {a}')\n",
    "        conc = []\n",
    "        for pv in p_value:\n",
    "            if  pv < a:\n",
    "                conc.append('есть значимая разница')\n",
    "            else:\n",
    "                conc.append('нет значимой разницы')\n",
    "        data2 = {'p_value': p_value, f'conclusion_alpha_{a}':conc}\n",
    "        display(pd.DataFrame(index=event,data=data2))\n",
    "\n",
    "    return "
   ]
  },
  {
   "cell_type": "code",
   "execution_count": null,
   "metadata": {},
   "outputs": [],
   "source": [
    "stats_AB([0.05],\n",
    "     [['A1','A2']],\n",
    "     [\"MainScreenAppear\",'OffersScreenAppear','CartScreenAppear','PaymentScreenSuccessful'])"
   ]
  },
  {
   "cell_type": "markdown",
   "metadata": {},
   "source": [
    "___\n",
    "\n",
    "* Можно  сказать, что разбиение на группы работает корректно. Статистической разницы между пользователями групп A1 и A2 для каждого из событий не выявлено\n",
    "___"
   ]
  },
  {
   "cell_type": "markdown",
   "metadata": {},
   "source": [
    "**Сравним результаты тестовой группы с каждой из контрольных групп в отдельности по каждому событию.**\n",
    "\n",
    "Также сравним результаты с объединённой контрольной группой."
   ]
  },
  {
   "cell_type": "code",
   "execution_count": null,
   "metadata": {},
   "outputs": [],
   "source": [
    "stats_AB([0.05],\n",
    "     [['A1','B']],\n",
    "     [\"MainScreenAppear\",'OffersScreenAppear','CartScreenAppear','PaymentScreenSuccessful'])"
   ]
  },
  {
   "cell_type": "code",
   "execution_count": null,
   "metadata": {},
   "outputs": [],
   "source": [
    "stats_AB([0.05],\n",
    "     [['A2','B']],\n",
    "     [\"MainScreenAppear\",'OffersScreenAppear','CartScreenAppear','PaymentScreenSuccessful'])"
   ]
  },
  {
   "cell_type": "code",
   "execution_count": null,
   "metadata": {},
   "outputs": [],
   "source": [
    "stats_AB([0.05],\n",
    "     [[['A1','A2'],'B']],\n",
    "     [\"MainScreenAppear\",'OffersScreenAppear','CartScreenAppear','PaymentScreenSuccessful'])"
   ]
  },
  {
   "cell_type": "markdown",
   "metadata": {},
   "source": [
    "___\n",
    "* Статисчитеской разницы между контрольными группами и тестовой группой не выявленно\n",
    "___"
   ]
  },
  {
   "cell_type": "markdown",
   "metadata": {},
   "source": [
    "**Скорректируем уровень значимости для множественного сравнения**\n",
    "\n",
    "При множественной проверке гипотез возрастает групповая вероятность совершить ошибку первого рода. В нашем исследовании мы проводим 16 проверок статистической значимости (A1/A2, A1/B, A2/B, A1A2/B для четырех событий). Для уменьшения FWER скорректируем уровень значимости с помощью поправки Бонферрони."
   ]
  },
  {
   "cell_type": "markdown",
   "metadata": {},
   "source": [
    "**Метод Бонферрони**"
   ]
  },
  {
   "cell_type": "code",
   "execution_count": null,
   "metadata": {},
   "outputs": [],
   "source": [
    "alpha = 0.05\n",
    "bonferroni_alpha = alpha / 16\n",
    "bonferroni_alpha"
   ]
  },
  {
   "cell_type": "code",
   "execution_count": null,
   "metadata": {},
   "outputs": [],
   "source": [
    "stats_AB([round(bonferroni_alpha,3)],\n",
    "     [['A1','A2']],\n",
    "     [\"MainScreenAppear\",'OffersScreenAppear','CartScreenAppear','PaymentScreenSuccessful'])"
   ]
  },
  {
   "cell_type": "code",
   "execution_count": null,
   "metadata": {},
   "outputs": [],
   "source": [
    "stats_AB([round(bonferroni_alpha,3)],\n",
    "     [['A1','B']],\n",
    "     [\"MainScreenAppear\",'OffersScreenAppear','CartScreenAppear','PaymentScreenSuccessful'])"
   ]
  },
  {
   "cell_type": "code",
   "execution_count": null,
   "metadata": {},
   "outputs": [],
   "source": [
    "stats_AB([round(bonferroni_alpha,3)],\n",
    "     [['A2','B']],\n",
    "     [\"MainScreenAppear\",'OffersScreenAppear','CartScreenAppear','PaymentScreenSuccessful'])"
   ]
  },
  {
   "cell_type": "code",
   "execution_count": null,
   "metadata": {},
   "outputs": [],
   "source": [
    "stats_AB([round(bonferroni_alpha,3)],\n",
    "     [[['A1','A2'],'B']],\n",
    "     [\"MainScreenAppear\",'OffersScreenAppear','CartScreenAppear','PaymentScreenSuccessful'])"
   ]
  },
  {
   "cell_type": "markdown",
   "metadata": {},
   "source": [
    "___\n",
    "* С коэффициентом уровня значимости в 0.003125 значимой разницы между группами также не выявленно\n",
    "___"
   ]
  },
  {
   "cell_type": "markdown",
   "metadata": {},
   "source": [
    "<a id='results'></a>\n",
    "## Выводы"
   ]
  },
  {
   "cell_type": "markdown",
   "metadata": {},
   "source": [
    "* Был проведен анализ воронки событий и результатов A/A/B теста по данным из лога с информацией о событиях 7 551 пользователя.\n",
    "* Было отброшено 0,23% пользователей за даты до 01.08.2019 в виду неполноты данных в эти даты - для анализа были использованы данные за период 01.08.2019 - 07.08.2019\n",
    "* Самое популярное событие - просмотр главного экрана. Тек же было установлено, что на этом этапе теряется больше всего пользователей и только 46,22% пользователей от просмотра главного экрана переходят к оплате.  \n",
    "* По результатам A/B теста статистической значимости между контрольными и тестовой группой не выявлено. Смена шрифтов в приложении никак не повлияла на пользователей, они продолжили покупать так же, как и со старыми шрифтами. Решение по результатами теста: остановить тест, зафиксировать отсутствие различий между группами."
   ]
  }
 ],
 "metadata": {
  "ExecuteTimeLog": [
   {
    "duration": 84,
    "start_time": "2024-01-17T11:42:27.005Z"
   },
   {
    "duration": 370,
    "start_time": "2024-01-17T11:42:40.421Z"
   },
   {
    "duration": 58,
    "start_time": "2024-01-17T11:43:05.552Z"
   },
   {
    "duration": 577,
    "start_time": "2024-01-17T11:43:16.248Z"
   },
   {
    "duration": 282,
    "start_time": "2024-01-17T11:43:22.654Z"
   },
   {
    "duration": 273,
    "start_time": "2024-01-17T11:43:25.766Z"
   },
   {
    "duration": 97,
    "start_time": "2024-01-17T11:47:25.490Z"
   },
   {
    "duration": 100,
    "start_time": "2024-01-17T11:47:30.487Z"
   },
   {
    "duration": 71,
    "start_time": "2024-01-17T11:47:38.486Z"
   },
   {
    "duration": 1047,
    "start_time": "2024-01-17T11:48:19.277Z"
   },
   {
    "duration": 284,
    "start_time": "2024-01-17T11:48:51.763Z"
   },
   {
    "duration": 73,
    "start_time": "2024-01-17T11:49:02.289Z"
   },
   {
    "duration": 260,
    "start_time": "2024-01-17T11:49:06.726Z"
   },
   {
    "duration": 169,
    "start_time": "2024-01-17T11:49:18.608Z"
   },
   {
    "duration": 79,
    "start_time": "2024-01-17T11:52:10.550Z"
   },
   {
    "duration": 42,
    "start_time": "2024-01-17T11:54:10.542Z"
   },
   {
    "duration": 44,
    "start_time": "2024-01-17T11:54:59.670Z"
   },
   {
    "duration": 47,
    "start_time": "2024-01-17T11:55:18.550Z"
   },
   {
    "duration": 45,
    "start_time": "2024-01-17T11:55:33.862Z"
   },
   {
    "duration": 50,
    "start_time": "2024-01-17T11:55:51.486Z"
   },
   {
    "duration": 44,
    "start_time": "2024-01-17T11:56:01.415Z"
   },
   {
    "duration": 51,
    "start_time": "2024-01-17T11:56:10.783Z"
   },
   {
    "duration": 49,
    "start_time": "2024-01-17T11:56:19.278Z"
   },
   {
    "duration": 44,
    "start_time": "2024-01-17T11:56:22.795Z"
   },
   {
    "duration": 45,
    "start_time": "2024-01-17T11:57:39.380Z"
   },
   {
    "duration": 49,
    "start_time": "2024-01-17T11:58:00.651Z"
   },
   {
    "duration": 46,
    "start_time": "2024-01-17T11:58:13.878Z"
   },
   {
    "duration": 45,
    "start_time": "2024-01-17T11:58:34.429Z"
   },
   {
    "duration": 105,
    "start_time": "2024-01-17T11:58:57.325Z"
   },
   {
    "duration": 45,
    "start_time": "2024-01-17T11:59:13.678Z"
   },
   {
    "duration": 46,
    "start_time": "2024-01-17T11:59:27.511Z"
   },
   {
    "duration": 49,
    "start_time": "2024-01-17T11:59:53.334Z"
   },
   {
    "duration": 49,
    "start_time": "2024-01-17T11:59:58.161Z"
   },
   {
    "duration": 49,
    "start_time": "2024-01-17T12:00:01.763Z"
   },
   {
    "duration": 50,
    "start_time": "2024-01-17T12:00:07.661Z"
   },
   {
    "duration": 381,
    "start_time": "2024-01-17T12:01:19.310Z"
   },
   {
    "duration": 396,
    "start_time": "2024-01-17T12:01:59.386Z"
   },
   {
    "duration": 70,
    "start_time": "2024-01-17T12:02:08.578Z"
   },
   {
    "duration": 77,
    "start_time": "2024-01-17T12:02:49.550Z"
   },
   {
    "duration": 73,
    "start_time": "2024-01-17T12:02:52.547Z"
   },
   {
    "duration": 70,
    "start_time": "2024-01-17T12:02:58.913Z"
   },
   {
    "duration": 8,
    "start_time": "2024-01-17T12:03:12.499Z"
   },
   {
    "duration": 49,
    "start_time": "2024-01-17T12:03:25.412Z"
   },
   {
    "duration": 8,
    "start_time": "2024-01-17T12:03:27.885Z"
   },
   {
    "duration": 8,
    "start_time": "2024-01-17T12:03:42.703Z"
   },
   {
    "duration": 22,
    "start_time": "2024-01-17T12:03:47.380Z"
   },
   {
    "duration": 4,
    "start_time": "2024-01-17T12:04:04.801Z"
   },
   {
    "duration": 8,
    "start_time": "2024-01-17T12:04:22.511Z"
   },
   {
    "duration": 5,
    "start_time": "2024-01-17T12:04:41.625Z"
   },
   {
    "duration": 11,
    "start_time": "2024-01-17T12:04:46.456Z"
   },
   {
    "duration": 4,
    "start_time": "2024-01-17T12:07:38.932Z"
   },
   {
    "duration": 3,
    "start_time": "2024-01-17T12:08:10.206Z"
   },
   {
    "duration": 185,
    "start_time": "2024-01-17T12:08:10.211Z"
   },
   {
    "duration": 100,
    "start_time": "2024-01-17T12:08:10.398Z"
   },
   {
    "duration": 64,
    "start_time": "2024-01-17T12:08:10.500Z"
   },
   {
    "duration": 8,
    "start_time": "2024-01-17T12:08:10.566Z"
   },
   {
    "duration": 20,
    "start_time": "2024-01-17T12:08:10.576Z"
   },
   {
    "duration": 6,
    "start_time": "2024-01-17T12:08:18.460Z"
   },
   {
    "duration": 5,
    "start_time": "2024-01-17T12:08:25.653Z"
   },
   {
    "duration": 25,
    "start_time": "2024-01-17T12:08:48.774Z"
   },
   {
    "duration": 29525,
    "start_time": "2024-01-17T12:09:14.880Z"
   },
   {
    "duration": 8,
    "start_time": "2024-01-17T12:09:59.399Z"
   },
   {
    "duration": 8,
    "start_time": "2024-01-17T12:10:07.462Z"
   },
   {
    "duration": 87,
    "start_time": "2024-01-17T12:10:23.891Z"
   },
   {
    "duration": 7,
    "start_time": "2024-01-17T12:10:27.517Z"
   },
   {
    "duration": 96,
    "start_time": "2024-01-17T12:10:39.963Z"
   },
   {
    "duration": 8,
    "start_time": "2024-01-17T12:10:47.685Z"
   },
   {
    "duration": 7,
    "start_time": "2024-01-17T12:10:59.155Z"
   },
   {
    "duration": 352,
    "start_time": "2024-01-17T12:11:13.455Z"
   },
   {
    "duration": 7,
    "start_time": "2024-01-17T12:11:39.819Z"
   },
   {
    "duration": 4,
    "start_time": "2024-01-17T12:11:51.756Z"
   },
   {
    "duration": 373,
    "start_time": "2024-01-17T12:16:14.892Z"
   },
   {
    "duration": 182,
    "start_time": "2024-01-17T12:16:15.267Z"
   },
   {
    "duration": 117,
    "start_time": "2024-01-17T12:16:15.450Z"
   },
   {
    "duration": 62,
    "start_time": "2024-01-17T12:16:15.569Z"
   },
   {
    "duration": 0,
    "start_time": "2024-01-17T12:16:15.634Z"
   },
   {
    "duration": 69,
    "start_time": "2024-01-17T12:16:48.553Z"
   },
   {
    "duration": 64,
    "start_time": "2024-01-17T12:16:55.776Z"
   },
   {
    "duration": 62,
    "start_time": "2024-01-17T12:17:10.567Z"
   },
   {
    "duration": 2,
    "start_time": "2024-01-17T12:17:36.870Z"
   },
   {
    "duration": 65,
    "start_time": "2024-01-17T12:17:43.939Z"
   },
   {
    "duration": 2,
    "start_time": "2024-01-17T12:17:46.645Z"
   },
   {
    "duration": 7,
    "start_time": "2024-01-17T12:18:11.837Z"
   },
   {
    "duration": 6,
    "start_time": "2024-01-17T12:18:23.252Z"
   },
   {
    "duration": 6,
    "start_time": "2024-01-17T12:18:26.518Z"
   },
   {
    "duration": 8,
    "start_time": "2024-01-17T12:18:32.557Z"
   },
   {
    "duration": 7,
    "start_time": "2024-01-17T12:19:33.434Z"
   },
   {
    "duration": 6,
    "start_time": "2024-01-17T12:19:51.702Z"
   },
   {
    "duration": 109,
    "start_time": "2024-01-17T12:20:08.058Z"
   },
   {
    "duration": 6,
    "start_time": "2024-01-17T12:20:13.179Z"
   },
   {
    "duration": 6,
    "start_time": "2024-01-17T12:20:55.770Z"
   },
   {
    "duration": 6,
    "start_time": "2024-01-17T12:21:08.674Z"
   },
   {
    "duration": 3,
    "start_time": "2024-01-17T12:21:14.365Z"
   },
   {
    "duration": 3,
    "start_time": "2024-01-17T12:21:23.952Z"
   },
   {
    "duration": 3,
    "start_time": "2024-01-17T12:21:27.313Z"
   },
   {
    "duration": 77,
    "start_time": "2024-01-17T12:21:51.766Z"
   },
   {
    "duration": 387,
    "start_time": "2024-01-17T12:23:53.257Z"
   },
   {
    "duration": 187,
    "start_time": "2024-01-17T12:23:53.645Z"
   },
   {
    "duration": 102,
    "start_time": "2024-01-17T12:23:53.834Z"
   },
   {
    "duration": 69,
    "start_time": "2024-01-17T12:23:53.937Z"
   },
   {
    "duration": 5,
    "start_time": "2024-01-17T12:23:54.009Z"
   },
   {
    "duration": 410,
    "start_time": "2024-01-17T12:25:59.836Z"
   },
   {
    "duration": 185,
    "start_time": "2024-01-17T12:26:00.248Z"
   },
   {
    "duration": 106,
    "start_time": "2024-01-17T12:26:00.435Z"
   },
   {
    "duration": 58,
    "start_time": "2024-01-17T12:26:00.552Z"
   },
   {
    "duration": 83,
    "start_time": "2024-01-17T12:26:00.611Z"
   },
   {
    "duration": 0,
    "start_time": "2024-01-17T12:26:00.696Z"
   },
   {
    "duration": 390,
    "start_time": "2024-01-17T12:28:45.662Z"
   },
   {
    "duration": 199,
    "start_time": "2024-01-17T12:28:46.054Z"
   },
   {
    "duration": 107,
    "start_time": "2024-01-17T12:28:46.254Z"
   },
   {
    "duration": 60,
    "start_time": "2024-01-17T12:28:46.362Z"
   },
   {
    "duration": 65,
    "start_time": "2024-01-17T12:28:55.738Z"
   },
   {
    "duration": 15,
    "start_time": "2024-01-17T12:30:37.718Z"
   },
   {
    "duration": 58,
    "start_time": "2024-01-17T12:34:21.429Z"
   },
   {
    "duration": 59,
    "start_time": "2024-01-17T12:34:40.839Z"
   },
   {
    "duration": 65,
    "start_time": "2024-01-17T12:36:11.991Z"
   },
   {
    "duration": 10,
    "start_time": "2024-01-17T12:36:20.177Z"
   },
   {
    "duration": 9,
    "start_time": "2024-01-17T12:36:33.584Z"
   },
   {
    "duration": 7,
    "start_time": "2024-01-17T12:41:28.779Z"
   },
   {
    "duration": 2,
    "start_time": "2024-01-17T12:42:01.810Z"
   },
   {
    "duration": 8,
    "start_time": "2024-01-17T12:42:07.410Z"
   },
   {
    "duration": 2,
    "start_time": "2024-01-17T12:44:16.577Z"
   },
   {
    "duration": 6,
    "start_time": "2024-01-17T12:44:46.343Z"
   },
   {
    "duration": 2,
    "start_time": "2024-01-17T12:44:52.216Z"
   },
   {
    "duration": 7,
    "start_time": "2024-01-17T12:44:56.929Z"
   },
   {
    "duration": 3,
    "start_time": "2024-01-17T12:46:07.662Z"
   },
   {
    "duration": 3,
    "start_time": "2024-01-17T12:46:42.698Z"
   },
   {
    "duration": 3,
    "start_time": "2024-01-17T12:47:09.626Z"
   },
   {
    "duration": 3,
    "start_time": "2024-01-17T12:47:29.385Z"
   },
   {
    "duration": 4,
    "start_time": "2024-01-17T12:47:33.637Z"
   },
   {
    "duration": 8,
    "start_time": "2024-01-17T12:48:41.202Z"
   },
   {
    "duration": 8,
    "start_time": "2024-01-17T12:48:54.216Z"
   },
   {
    "duration": 11,
    "start_time": "2024-01-17T12:49:10.027Z"
   },
   {
    "duration": 8,
    "start_time": "2024-01-17T12:49:51.362Z"
   },
   {
    "duration": 9,
    "start_time": "2024-01-17T12:50:31.517Z"
   },
   {
    "duration": 8,
    "start_time": "2024-01-17T12:51:12.640Z"
   },
   {
    "duration": 7,
    "start_time": "2024-01-17T12:51:16.239Z"
   },
   {
    "duration": 7,
    "start_time": "2024-01-17T12:51:23.544Z"
   },
   {
    "duration": 95,
    "start_time": "2024-01-17T12:51:52.528Z"
   },
   {
    "duration": 7,
    "start_time": "2024-01-17T12:51:58.718Z"
   },
   {
    "duration": 3,
    "start_time": "2024-01-17T12:53:23.047Z"
   },
   {
    "duration": 8,
    "start_time": "2024-01-17T12:53:30.349Z"
   },
   {
    "duration": 3,
    "start_time": "2024-01-17T12:53:46.921Z"
   },
   {
    "duration": 1589,
    "start_time": "2024-01-17T12:55:10.338Z"
   },
   {
    "duration": 1438,
    "start_time": "2024-01-17T12:55:22.893Z"
   },
   {
    "duration": 301,
    "start_time": "2024-01-17T12:55:36.562Z"
   },
   {
    "duration": 304,
    "start_time": "2024-01-17T12:55:56.193Z"
   },
   {
    "duration": 11,
    "start_time": "2024-01-17T12:56:13.077Z"
   },
   {
    "duration": 8,
    "start_time": "2024-01-17T12:56:30.491Z"
   },
   {
    "duration": 7,
    "start_time": "2024-01-17T12:56:34.666Z"
   },
   {
    "duration": 9,
    "start_time": "2024-01-17T12:57:01.976Z"
   },
   {
    "duration": 6,
    "start_time": "2024-01-17T12:57:05.410Z"
   },
   {
    "duration": 6,
    "start_time": "2024-01-17T12:57:11.495Z"
   },
   {
    "duration": 6,
    "start_time": "2024-01-17T12:57:30.206Z"
   },
   {
    "duration": 3,
    "start_time": "2024-01-17T12:58:50.232Z"
   },
   {
    "duration": 4,
    "start_time": "2024-01-17T12:58:54.490Z"
   },
   {
    "duration": 6,
    "start_time": "2024-01-17T13:02:43.311Z"
   },
   {
    "duration": 4,
    "start_time": "2024-01-17T13:03:13.979Z"
   },
   {
    "duration": 4,
    "start_time": "2024-01-17T13:03:18.380Z"
   },
   {
    "duration": 4,
    "start_time": "2024-01-17T13:03:38.587Z"
   },
   {
    "duration": 3,
    "start_time": "2024-01-17T13:03:43.944Z"
   },
   {
    "duration": 3,
    "start_time": "2024-01-17T13:03:49.113Z"
   },
   {
    "duration": 4,
    "start_time": "2024-01-17T13:03:55.568Z"
   },
   {
    "duration": 2,
    "start_time": "2024-01-17T13:04:08.471Z"
   },
   {
    "duration": 4,
    "start_time": "2024-01-17T13:04:15.628Z"
   },
   {
    "duration": 6,
    "start_time": "2024-01-17T13:05:53.016Z"
   },
   {
    "duration": 4,
    "start_time": "2024-01-17T13:06:06.224Z"
   },
   {
    "duration": 168,
    "start_time": "2024-01-17T13:06:22.110Z"
   },
   {
    "duration": 4,
    "start_time": "2024-01-17T13:06:33.680Z"
   },
   {
    "duration": 5,
    "start_time": "2024-01-17T13:06:47.141Z"
   },
   {
    "duration": 6,
    "start_time": "2024-01-17T13:07:15.648Z"
   },
   {
    "duration": 115,
    "start_time": "2024-01-17T13:07:36.418Z"
   },
   {
    "duration": 5,
    "start_time": "2024-01-17T13:07:43.097Z"
   },
   {
    "duration": 3,
    "start_time": "2024-01-17T13:08:01.388Z"
   },
   {
    "duration": 6,
    "start_time": "2024-01-17T13:08:25.530Z"
   },
   {
    "duration": 3,
    "start_time": "2024-01-17T13:08:50.563Z"
   },
   {
    "duration": 6,
    "start_time": "2024-01-17T13:10:12.682Z"
   },
   {
    "duration": 5,
    "start_time": "2024-01-17T13:10:58.698Z"
   },
   {
    "duration": 5,
    "start_time": "2024-01-17T13:11:06.093Z"
   },
   {
    "duration": 6,
    "start_time": "2024-01-17T13:11:24.756Z"
   },
   {
    "duration": 4,
    "start_time": "2024-01-17T13:11:48.115Z"
   },
   {
    "duration": 103,
    "start_time": "2024-01-17T13:12:18.557Z"
   },
   {
    "duration": 3,
    "start_time": "2024-01-17T13:12:33.623Z"
   },
   {
    "duration": 3,
    "start_time": "2024-01-17T13:12:54.676Z"
   },
   {
    "duration": 3,
    "start_time": "2024-01-17T13:15:54.808Z"
   },
   {
    "duration": 3,
    "start_time": "2024-01-17T13:16:12.031Z"
   },
   {
    "duration": 5,
    "start_time": "2024-01-17T13:16:22.419Z"
   },
   {
    "duration": 80,
    "start_time": "2024-01-17T13:16:33.193Z"
   },
   {
    "duration": 3,
    "start_time": "2024-01-17T13:16:48.558Z"
   },
   {
    "duration": 3,
    "start_time": "2024-01-17T13:18:06.700Z"
   },
   {
    "duration": 7,
    "start_time": "2024-01-17T13:18:25.446Z"
   },
   {
    "duration": 112,
    "start_time": "2024-01-17T13:18:33.712Z"
   },
   {
    "duration": 3,
    "start_time": "2024-01-17T13:18:36.183Z"
   },
   {
    "duration": 7,
    "start_time": "2024-01-17T13:18:45.841Z"
   },
   {
    "duration": 3,
    "start_time": "2024-01-17T13:18:53.762Z"
   },
   {
    "duration": 8,
    "start_time": "2024-01-17T13:19:20.976Z"
   },
   {
    "duration": 8,
    "start_time": "2024-01-17T13:19:35.136Z"
   },
   {
    "duration": 7,
    "start_time": "2024-01-17T13:19:44.059Z"
   },
   {
    "duration": 7,
    "start_time": "2024-01-17T13:20:03.838Z"
   },
   {
    "duration": 6,
    "start_time": "2024-01-17T13:20:20.331Z"
   },
   {
    "duration": 6,
    "start_time": "2024-01-17T13:21:38.838Z"
   },
   {
    "duration": 4,
    "start_time": "2024-01-17T13:21:49.913Z"
   },
   {
    "duration": 4,
    "start_time": "2024-01-17T13:22:41.889Z"
   },
   {
    "duration": 1393,
    "start_time": "2024-01-17T13:23:37.065Z"
   },
   {
    "duration": 25,
    "start_time": "2024-01-17T13:23:45.339Z"
   },
   {
    "duration": 1431,
    "start_time": "2024-01-17T13:23:48.777Z"
   },
   {
    "duration": 28,
    "start_time": "2024-01-17T13:23:51.865Z"
   },
   {
    "duration": 22,
    "start_time": "2024-01-17T13:24:01.524Z"
   },
   {
    "duration": 129,
    "start_time": "2024-01-17T13:24:04.268Z"
   },
   {
    "duration": 30,
    "start_time": "2024-01-17T13:24:05.122Z"
   },
   {
    "duration": 461,
    "start_time": "2024-01-17T13:24:09.427Z"
   },
   {
    "duration": 10,
    "start_time": "2024-01-17T13:24:21.060Z"
   },
   {
    "duration": 399,
    "start_time": "2024-01-17T13:24:32.646Z"
   },
   {
    "duration": 181,
    "start_time": "2024-01-17T13:24:33.046Z"
   },
   {
    "duration": 104,
    "start_time": "2024-01-17T13:24:33.229Z"
   },
   {
    "duration": 23,
    "start_time": "2024-01-17T13:24:33.335Z"
   },
   {
    "duration": 302,
    "start_time": "2024-01-17T13:24:33.359Z"
   },
   {
    "duration": 408,
    "start_time": "2024-01-17T13:24:33.663Z"
   },
   {
    "duration": 3,
    "start_time": "2024-01-17T13:25:24.019Z"
   },
   {
    "duration": 1501,
    "start_time": "2024-01-17T13:25:50.130Z"
   },
   {
    "duration": 417,
    "start_time": "2024-01-17T13:25:56.336Z"
   },
   {
    "duration": 174,
    "start_time": "2024-01-17T13:25:56.754Z"
   },
   {
    "duration": 96,
    "start_time": "2024-01-17T13:25:56.929Z"
   },
   {
    "duration": 300,
    "start_time": "2024-01-17T13:25:57.027Z"
   },
   {
    "duration": 62,
    "start_time": "2024-01-17T13:26:58.981Z"
   },
   {
    "duration": 19,
    "start_time": "2024-01-17T13:27:22.249Z"
   },
   {
    "duration": 6,
    "start_time": "2024-01-17T13:27:28.619Z"
   },
   {
    "duration": 17,
    "start_time": "2024-01-17T13:27:33.314Z"
   },
   {
    "duration": 9,
    "start_time": "2024-01-17T13:27:40.154Z"
   },
   {
    "duration": 36,
    "start_time": "2024-01-17T13:28:04.155Z"
   },
   {
    "duration": 8,
    "start_time": "2024-01-17T13:28:06.818Z"
   },
   {
    "duration": 150,
    "start_time": "2024-01-17T13:28:23.446Z"
   },
   {
    "duration": 47,
    "start_time": "2024-01-17T13:28:30.100Z"
   },
   {
    "duration": 36,
    "start_time": "2024-01-17T13:28:33.584Z"
   },
   {
    "duration": 35,
    "start_time": "2024-01-17T13:28:48.937Z"
   },
   {
    "duration": 1920,
    "start_time": "2024-01-17T13:29:02.802Z"
   },
   {
    "duration": 399,
    "start_time": "2024-01-17T13:29:09.469Z"
   },
   {
    "duration": 202,
    "start_time": "2024-01-17T13:29:09.870Z"
   },
   {
    "duration": 108,
    "start_time": "2024-01-17T13:29:10.074Z"
   },
   {
    "duration": 373,
    "start_time": "2024-01-17T13:29:10.183Z"
   },
   {
    "duration": 8,
    "start_time": "2024-01-17T13:29:10.558Z"
   },
   {
    "duration": 1738,
    "start_time": "2024-01-17T13:30:41.901Z"
   },
   {
    "duration": 2051,
    "start_time": "2024-01-17T13:30:47.422Z"
   },
   {
    "duration": 380,
    "start_time": "2024-01-17T13:30:59.083Z"
   },
   {
    "duration": 192,
    "start_time": "2024-01-17T13:30:59.465Z"
   },
   {
    "duration": 113,
    "start_time": "2024-01-17T13:30:59.659Z"
   },
   {
    "duration": 379,
    "start_time": "2024-01-17T13:30:59.774Z"
   },
   {
    "duration": 2188,
    "start_time": "2024-01-17T13:32:01.052Z"
   },
   {
    "duration": 346,
    "start_time": "2024-01-17T13:32:07.909Z"
   },
   {
    "duration": 181,
    "start_time": "2024-01-17T13:32:08.257Z"
   },
   {
    "duration": 114,
    "start_time": "2024-01-17T13:32:08.440Z"
   },
   {
    "duration": 454,
    "start_time": "2024-01-17T13:32:08.555Z"
   },
   {
    "duration": 14544,
    "start_time": "2024-01-17T13:33:30.405Z"
   },
   {
    "duration": 146,
    "start_time": "2024-01-17T13:35:08.719Z"
   },
   {
    "duration": 365,
    "start_time": "2024-01-17T13:35:16.180Z"
   },
   {
    "duration": 178,
    "start_time": "2024-01-17T13:35:16.547Z"
   },
   {
    "duration": 105,
    "start_time": "2024-01-17T13:35:16.727Z"
   },
   {
    "duration": 14428,
    "start_time": "2024-01-17T13:35:16.834Z"
   },
   {
    "duration": 71,
    "start_time": "2024-01-17T13:35:53.913Z"
   },
   {
    "duration": 73,
    "start_time": "2024-01-17T13:36:40.325Z"
   },
   {
    "duration": 48,
    "start_time": "2024-01-17T13:36:57.829Z"
   },
   {
    "duration": 90,
    "start_time": "2024-01-17T13:39:26.309Z"
   },
   {
    "duration": 78,
    "start_time": "2024-01-17T13:39:53.926Z"
   },
   {
    "duration": 76,
    "start_time": "2024-01-17T13:39:58.253Z"
   },
   {
    "duration": 94,
    "start_time": "2024-01-17T13:41:08.225Z"
   },
   {
    "duration": 5,
    "start_time": "2024-01-17T13:42:05.013Z"
   },
   {
    "duration": 116,
    "start_time": "2024-01-17T13:43:28.426Z"
   },
   {
    "duration": 7,
    "start_time": "2024-01-17T13:45:08.970Z"
   },
   {
    "duration": 7,
    "start_time": "2024-01-17T13:45:11.715Z"
   },
   {
    "duration": 6,
    "start_time": "2024-01-17T13:45:16.663Z"
   },
   {
    "duration": 99,
    "start_time": "2024-01-17T13:45:21.105Z"
   },
   {
    "duration": 139,
    "start_time": "2024-01-17T13:45:33.734Z"
   },
   {
    "duration": 1659,
    "start_time": "2024-01-17T13:45:56.286Z"
   },
   {
    "duration": 426,
    "start_time": "2024-01-17T13:46:07.626Z"
   },
   {
    "duration": 185,
    "start_time": "2024-01-17T13:46:08.054Z"
   },
   {
    "duration": 112,
    "start_time": "2024-01-17T13:46:08.241Z"
   },
   {
    "duration": 14739,
    "start_time": "2024-01-17T13:46:08.354Z"
   },
   {
    "duration": 68,
    "start_time": "2024-01-17T13:46:23.095Z"
   },
   {
    "duration": 4,
    "start_time": "2024-01-17T13:47:49.741Z"
   },
   {
    "duration": 107,
    "start_time": "2024-01-17T13:48:18.690Z"
   },
   {
    "duration": 2,
    "start_time": "2024-01-17T13:48:27.309Z"
   },
   {
    "duration": 176,
    "start_time": "2024-01-17T13:48:27.313Z"
   },
   {
    "duration": 85,
    "start_time": "2024-01-17T13:48:27.490Z"
   },
   {
    "duration": 14722,
    "start_time": "2024-01-17T13:48:27.577Z"
   },
   {
    "duration": 3,
    "start_time": "2024-01-17T13:48:42.302Z"
   },
   {
    "duration": 151,
    "start_time": "2024-01-17T13:49:02.592Z"
   },
   {
    "duration": 3,
    "start_time": "2024-01-17T13:49:04.873Z"
   },
   {
    "duration": 176,
    "start_time": "2024-01-17T13:49:04.877Z"
   },
   {
    "duration": 140,
    "start_time": "2024-01-17T13:49:05.054Z"
   },
   {
    "duration": 14612,
    "start_time": "2024-01-17T13:49:05.197Z"
   },
   {
    "duration": 4,
    "start_time": "2024-01-17T13:49:19.810Z"
   },
   {
    "duration": 17,
    "start_time": "2024-01-17T13:53:49.393Z"
   },
   {
    "duration": 2328,
    "start_time": "2024-01-17T13:54:54.940Z"
   },
   {
    "duration": 2,
    "start_time": "2024-01-17T13:54:58.735Z"
   },
   {
    "duration": 179,
    "start_time": "2024-01-17T13:54:58.738Z"
   },
   {
    "duration": 120,
    "start_time": "2024-01-17T13:54:58.918Z"
   },
   {
    "duration": 14574,
    "start_time": "2024-01-17T13:54:59.052Z"
   },
   {
    "duration": 25,
    "start_time": "2024-01-17T13:55:13.628Z"
   },
   {
    "duration": 5,
    "start_time": "2024-01-17T13:55:13.655Z"
   },
   {
    "duration": 5,
    "start_time": "2024-01-17T13:55:26.932Z"
   },
   {
    "duration": 7,
    "start_time": "2024-01-17T13:55:59.608Z"
   },
   {
    "duration": 43,
    "start_time": "2024-01-17T13:56:01.696Z"
   },
   {
    "duration": 29,
    "start_time": "2024-01-17T13:59:04.650Z"
   },
   {
    "duration": 26,
    "start_time": "2024-01-17T13:59:16.987Z"
   },
   {
    "duration": 2,
    "start_time": "2024-01-17T13:59:55.373Z"
   },
   {
    "duration": 175,
    "start_time": "2024-01-17T13:59:55.377Z"
   },
   {
    "duration": 119,
    "start_time": "2024-01-17T13:59:55.553Z"
   },
   {
    "duration": 15974,
    "start_time": "2024-01-17T13:59:55.673Z"
   },
   {
    "duration": 0,
    "start_time": "2024-01-17T14:00:11.648Z"
   },
   {
    "duration": 0,
    "start_time": "2024-01-17T14:00:11.649Z"
   },
   {
    "duration": 0,
    "start_time": "2024-01-17T14:00:11.650Z"
   },
   {
    "duration": 1324,
    "start_time": "2024-01-17T14:00:34.378Z"
   },
   {
    "duration": 2,
    "start_time": "2024-01-17T14:00:39.074Z"
   },
   {
    "duration": 176,
    "start_time": "2024-01-17T14:00:39.078Z"
   },
   {
    "duration": 132,
    "start_time": "2024-01-17T14:00:39.256Z"
   },
   {
    "duration": 15098,
    "start_time": "2024-01-17T14:00:39.390Z"
   },
   {
    "duration": 42,
    "start_time": "2024-01-17T14:00:54.489Z"
   },
   {
    "duration": 22,
    "start_time": "2024-01-17T14:00:54.532Z"
   },
   {
    "duration": 26,
    "start_time": "2024-01-17T14:00:54.555Z"
   },
   {
    "duration": 28,
    "start_time": "2024-01-17T14:01:21.468Z"
   },
   {
    "duration": 88,
    "start_time": "2024-01-17T14:02:06.458Z"
   },
   {
    "duration": 5,
    "start_time": "2024-01-17T14:02:09.243Z"
   },
   {
    "duration": 4,
    "start_time": "2024-01-17T14:02:20.910Z"
   },
   {
    "duration": 5,
    "start_time": "2024-01-17T14:02:31.190Z"
   },
   {
    "duration": 13,
    "start_time": "2024-01-17T14:02:53.866Z"
   },
   {
    "duration": 2,
    "start_time": "2024-01-17T14:03:59.150Z"
   },
   {
    "duration": 163,
    "start_time": "2024-01-17T14:03:59.154Z"
   },
   {
    "duration": 147,
    "start_time": "2024-01-17T14:03:59.319Z"
   },
   {
    "duration": 14862,
    "start_time": "2024-01-17T14:03:59.468Z"
   },
   {
    "duration": 49,
    "start_time": "2024-01-17T14:04:14.331Z"
   },
   {
    "duration": 6,
    "start_time": "2024-01-17T14:04:14.382Z"
   },
   {
    "duration": 35,
    "start_time": "2024-01-17T14:04:14.389Z"
   },
   {
    "duration": 5,
    "start_time": "2024-01-17T14:04:14.425Z"
   },
   {
    "duration": 24,
    "start_time": "2024-01-17T14:04:14.432Z"
   },
   {
    "duration": 6,
    "start_time": "2024-01-17T14:04:14.458Z"
   },
   {
    "duration": 12,
    "start_time": "2024-01-17T14:04:37.156Z"
   },
   {
    "duration": 46,
    "start_time": "2024-01-17T14:05:59.434Z"
   },
   {
    "duration": 47,
    "start_time": "2024-01-17T14:06:21.638Z"
   },
   {
    "duration": 85,
    "start_time": "2024-01-17T14:08:15.970Z"
   },
   {
    "duration": 48,
    "start_time": "2024-01-17T14:08:33.769Z"
   },
   {
    "duration": 51,
    "start_time": "2024-01-17T14:10:10.551Z"
   },
   {
    "duration": 10,
    "start_time": "2024-01-17T14:10:52.013Z"
   },
   {
    "duration": 91,
    "start_time": "2024-01-17T14:11:16.111Z"
   },
   {
    "duration": 40,
    "start_time": "2024-01-17T14:11:22.025Z"
   },
   {
    "duration": 48,
    "start_time": "2024-01-17T14:11:29.979Z"
   },
   {
    "duration": 573,
    "start_time": "2024-01-17T14:11:48.261Z"
   },
   {
    "duration": 346,
    "start_time": "2024-01-17T14:13:31.310Z"
   },
   {
    "duration": 971,
    "start_time": "2024-01-17T14:13:54.190Z"
   },
   {
    "duration": 50,
    "start_time": "2024-01-17T14:14:16.616Z"
   },
   {
    "duration": 49,
    "start_time": "2024-01-17T14:16:00.277Z"
   },
   {
    "duration": 92,
    "start_time": "2024-01-17T14:16:26.214Z"
   },
   {
    "duration": 49,
    "start_time": "2024-01-17T14:17:10.647Z"
   },
   {
    "duration": 46,
    "start_time": "2024-01-17T14:17:45.775Z"
   },
   {
    "duration": 48,
    "start_time": "2024-01-17T14:17:58.854Z"
   },
   {
    "duration": 45,
    "start_time": "2024-01-17T14:18:13.451Z"
   },
   {
    "duration": 47,
    "start_time": "2024-01-17T14:19:04.811Z"
   },
   {
    "duration": 3,
    "start_time": "2024-01-17T14:19:20.688Z"
   },
   {
    "duration": 191,
    "start_time": "2024-01-17T14:19:24.820Z"
   },
   {
    "duration": 9,
    "start_time": "2024-01-17T14:19:51.461Z"
   },
   {
    "duration": 183,
    "start_time": "2024-01-17T14:20:18.321Z"
   },
   {
    "duration": 182,
    "start_time": "2024-01-17T14:20:34.084Z"
   },
   {
    "duration": 179,
    "start_time": "2024-01-17T14:21:08.185Z"
   },
   {
    "duration": 190,
    "start_time": "2024-01-17T14:22:05.143Z"
   },
   {
    "duration": 184,
    "start_time": "2024-01-17T14:22:18.869Z"
   },
   {
    "duration": 49,
    "start_time": "2024-01-17T14:22:58.548Z"
   },
   {
    "duration": 188,
    "start_time": "2024-01-17T14:23:07.293Z"
   },
   {
    "duration": 193,
    "start_time": "2024-01-17T14:23:13.313Z"
   },
   {
    "duration": 12,
    "start_time": "2024-01-17T14:24:17.885Z"
   },
   {
    "duration": 23,
    "start_time": "2024-01-17T14:24:24.253Z"
   },
   {
    "duration": 8,
    "start_time": "2024-01-17T14:24:44.026Z"
   },
   {
    "duration": 51,
    "start_time": "2024-01-17T14:29:53.518Z"
   },
   {
    "duration": 2,
    "start_time": "2024-01-17T14:30:26.862Z"
   },
   {
    "duration": 210,
    "start_time": "2024-01-17T14:30:32.083Z"
   },
   {
    "duration": 223,
    "start_time": "2024-01-17T14:30:40.050Z"
   },
   {
    "duration": 234,
    "start_time": "2024-01-17T14:30:48.014Z"
   },
   {
    "duration": 4,
    "start_time": "2024-01-17T14:31:09.711Z"
   },
   {
    "duration": 308,
    "start_time": "2024-01-17T14:31:28.538Z"
   },
   {
    "duration": 281,
    "start_time": "2024-01-17T14:32:54.984Z"
   },
   {
    "duration": 266,
    "start_time": "2024-01-17T14:33:07.127Z"
   },
   {
    "duration": 223,
    "start_time": "2024-01-17T14:33:58.783Z"
   },
   {
    "duration": 194,
    "start_time": "2024-01-17T14:34:09.576Z"
   },
   {
    "duration": 9,
    "start_time": "2024-01-17T14:40:21.446Z"
   },
   {
    "duration": 10,
    "start_time": "2024-01-17T14:41:05.891Z"
   },
   {
    "duration": 55,
    "start_time": "2024-01-17T14:41:56.132Z"
   },
   {
    "duration": 59,
    "start_time": "2024-01-17T14:42:00.822Z"
   },
   {
    "duration": 110,
    "start_time": "2024-01-17T14:43:30.285Z"
   },
   {
    "duration": 9,
    "start_time": "2024-01-17T14:44:07.119Z"
   },
   {
    "duration": 9,
    "start_time": "2024-01-17T14:44:45.629Z"
   },
   {
    "duration": 148,
    "start_time": "2024-01-17T14:45:28.809Z"
   },
   {
    "duration": 139,
    "start_time": "2024-01-17T14:46:06.190Z"
   },
   {
    "duration": 132,
    "start_time": "2024-01-17T14:46:17.579Z"
   },
   {
    "duration": 148,
    "start_time": "2024-01-17T14:46:49.265Z"
   },
   {
    "duration": 166,
    "start_time": "2024-01-17T14:46:58.404Z"
   },
   {
    "duration": 266,
    "start_time": "2024-01-17T14:47:48.573Z"
   },
   {
    "duration": 8,
    "start_time": "2024-01-17T14:48:52.637Z"
   },
   {
    "duration": 5,
    "start_time": "2024-01-17T14:49:10.620Z"
   },
   {
    "duration": 4,
    "start_time": "2024-01-17T14:49:19.705Z"
   },
   {
    "duration": 5,
    "start_time": "2024-01-17T14:49:35.580Z"
   },
   {
    "duration": 13,
    "start_time": "2024-01-17T14:49:41.894Z"
   },
   {
    "duration": 8,
    "start_time": "2024-01-17T14:50:02.733Z"
   },
   {
    "duration": 5,
    "start_time": "2024-01-17T14:50:09.336Z"
   },
   {
    "duration": 12,
    "start_time": "2024-01-17T14:50:16.154Z"
   },
   {
    "duration": 12,
    "start_time": "2024-01-17T14:50:22.535Z"
   },
   {
    "duration": 10,
    "start_time": "2024-01-17T14:50:35.995Z"
   },
   {
    "duration": 1362,
    "start_time": "2024-01-17T14:51:04.242Z"
   },
   {
    "duration": 138,
    "start_time": "2024-01-17T14:51:18.079Z"
   },
   {
    "duration": 137,
    "start_time": "2024-01-17T14:51:31.758Z"
   },
   {
    "duration": 179,
    "start_time": "2024-01-17T14:52:11.142Z"
   },
   {
    "duration": 59,
    "start_time": "2024-01-17T14:52:34.070Z"
   },
   {
    "duration": 97,
    "start_time": "2024-01-17T14:53:24.736Z"
   },
   {
    "duration": 128,
    "start_time": "2024-01-17T14:53:33.990Z"
   },
   {
    "duration": 146,
    "start_time": "2024-01-17T14:53:40.314Z"
   },
   {
    "duration": 159,
    "start_time": "2024-01-17T14:53:54.707Z"
   },
   {
    "duration": 170,
    "start_time": "2024-01-17T14:56:24.054Z"
   },
   {
    "duration": 128,
    "start_time": "2024-01-17T14:56:36.169Z"
   },
   {
    "duration": 3,
    "start_time": "2024-01-17T14:56:40.096Z"
   },
   {
    "duration": 4,
    "start_time": "2024-01-17T14:58:07.723Z"
   },
   {
    "duration": 141,
    "start_time": "2024-01-17T14:58:24.299Z"
   },
   {
    "duration": 4,
    "start_time": "2024-01-17T14:58:44.145Z"
   },
   {
    "duration": 88,
    "start_time": "2024-01-17T14:59:03.837Z"
   },
   {
    "duration": 16,
    "start_time": "2024-01-17T14:59:14.241Z"
   },
   {
    "duration": 4,
    "start_time": "2024-01-17T14:59:17.840Z"
   },
   {
    "duration": 16,
    "start_time": "2024-01-17T14:59:25.948Z"
   },
   {
    "duration": 72,
    "start_time": "2024-01-17T14:59:40.541Z"
   },
   {
    "duration": 202,
    "start_time": "2024-01-17T14:59:45.799Z"
   },
   {
    "duration": 254,
    "start_time": "2024-01-17T15:01:26.794Z"
   },
   {
    "duration": 16,
    "start_time": "2024-01-17T15:02:11.263Z"
   },
   {
    "duration": 5,
    "start_time": "2024-01-17T15:02:50.617Z"
   },
   {
    "duration": 9,
    "start_time": "2024-01-17T15:04:22.569Z"
   },
   {
    "duration": 148,
    "start_time": "2024-01-17T15:05:30.900Z"
   },
   {
    "duration": 204,
    "start_time": "2024-01-17T15:05:50.819Z"
   },
   {
    "duration": 323,
    "start_time": "2024-01-17T15:06:03.419Z"
   },
   {
    "duration": 131,
    "start_time": "2024-01-17T15:06:08.028Z"
   },
   {
    "duration": 198,
    "start_time": "2024-01-17T15:06:31.596Z"
   },
   {
    "duration": 196,
    "start_time": "2024-01-17T15:07:12.243Z"
   },
   {
    "duration": 177,
    "start_time": "2024-01-17T15:07:32.972Z"
   },
   {
    "duration": 196,
    "start_time": "2024-01-17T15:08:48.564Z"
   },
   {
    "duration": 279,
    "start_time": "2024-01-17T15:09:06.543Z"
   },
   {
    "duration": 179,
    "start_time": "2024-01-17T15:09:19.476Z"
   },
   {
    "duration": 192,
    "start_time": "2024-01-17T15:09:31.648Z"
   },
   {
    "duration": 99,
    "start_time": "2024-01-17T15:09:39.729Z"
   },
   {
    "duration": 176,
    "start_time": "2024-01-17T15:09:42.781Z"
   },
   {
    "duration": 121,
    "start_time": "2024-01-17T15:09:46.289Z"
   },
   {
    "duration": 180,
    "start_time": "2024-01-17T15:09:49.989Z"
   },
   {
    "duration": 109,
    "start_time": "2024-01-17T15:11:18.722Z"
   },
   {
    "duration": 179,
    "start_time": "2024-01-17T15:11:35.791Z"
   },
   {
    "duration": 180,
    "start_time": "2024-01-17T15:11:53.230Z"
   },
   {
    "duration": 9,
    "start_time": "2024-01-17T15:12:23.406Z"
   },
   {
    "duration": 9,
    "start_time": "2024-01-17T15:12:27.711Z"
   },
   {
    "duration": 8,
    "start_time": "2024-01-17T15:12:34.190Z"
   },
   {
    "duration": 194,
    "start_time": "2024-01-17T15:12:41.162Z"
   },
   {
    "duration": 218,
    "start_time": "2024-01-17T15:12:49.334Z"
   },
   {
    "duration": 196,
    "start_time": "2024-01-17T15:12:59.508Z"
   },
   {
    "duration": 196,
    "start_time": "2024-01-17T15:13:41.620Z"
   },
   {
    "duration": 208,
    "start_time": "2024-01-17T15:13:56.773Z"
   },
   {
    "duration": 215,
    "start_time": "2024-01-17T15:14:04.167Z"
   },
   {
    "duration": 197,
    "start_time": "2024-01-17T15:14:21.328Z"
   },
   {
    "duration": 241,
    "start_time": "2024-01-17T15:14:28.343Z"
   },
   {
    "duration": 252,
    "start_time": "2024-01-17T15:14:34.723Z"
   },
   {
    "duration": 413,
    "start_time": "2024-01-17T15:15:09.072Z"
   },
   {
    "duration": 282,
    "start_time": "2024-01-17T15:15:44.149Z"
   },
   {
    "duration": 326,
    "start_time": "2024-01-17T15:15:47.692Z"
   },
   {
    "duration": 221,
    "start_time": "2024-01-17T15:16:26.225Z"
   },
   {
    "duration": 473,
    "start_time": "2024-01-17T15:16:43.035Z"
   },
   {
    "duration": 309,
    "start_time": "2024-01-17T15:17:08.073Z"
   },
   {
    "duration": 287,
    "start_time": "2024-01-17T15:17:31.898Z"
   },
   {
    "duration": 335,
    "start_time": "2024-01-17T15:17:34.926Z"
   },
   {
    "duration": 337,
    "start_time": "2024-01-17T15:17:38.167Z"
   },
   {
    "duration": 399,
    "start_time": "2024-01-17T15:18:02.819Z"
   },
   {
    "duration": 395,
    "start_time": "2024-01-17T15:18:10.928Z"
   },
   {
    "duration": 333,
    "start_time": "2024-01-17T15:18:27.273Z"
   },
   {
    "duration": 362,
    "start_time": "2024-01-17T15:18:43.696Z"
   },
   {
    "duration": 383,
    "start_time": "2024-01-17T15:18:46.824Z"
   },
   {
    "duration": 54,
    "start_time": "2024-01-17T15:19:24.811Z"
   },
   {
    "duration": 335,
    "start_time": "2024-01-17T15:19:27.705Z"
   },
   {
    "duration": 5,
    "start_time": "2024-01-17T15:20:26.795Z"
   },
   {
    "duration": 9,
    "start_time": "2024-01-17T15:20:34.255Z"
   },
   {
    "duration": 16,
    "start_time": "2024-01-17T15:21:33.773Z"
   },
   {
    "duration": 4,
    "start_time": "2024-01-17T15:21:52.578Z"
   },
   {
    "duration": 12,
    "start_time": "2024-01-17T15:21:57.196Z"
   },
   {
    "duration": 158,
    "start_time": "2024-01-17T15:22:06.799Z"
   },
   {
    "duration": 511,
    "start_time": "2024-01-17T15:22:25.926Z"
   },
   {
    "duration": 6,
    "start_time": "2024-01-17T15:22:29.640Z"
   },
   {
    "duration": 10,
    "start_time": "2024-01-17T15:22:34.597Z"
   },
   {
    "duration": 4,
    "start_time": "2024-01-17T15:22:42.408Z"
   },
   {
    "duration": 7,
    "start_time": "2024-01-17T15:22:58.363Z"
   },
   {
    "duration": 11,
    "start_time": "2024-01-17T15:23:12.993Z"
   },
   {
    "duration": 4,
    "start_time": "2024-01-17T15:23:43.827Z"
   },
   {
    "duration": 3,
    "start_time": "2024-01-17T15:24:02.180Z"
   },
   {
    "duration": 12,
    "start_time": "2024-01-17T15:24:04.575Z"
   },
   {
    "duration": 6,
    "start_time": "2024-01-17T15:24:39.662Z"
   },
   {
    "duration": 7,
    "start_time": "2024-01-17T15:24:53.760Z"
   },
   {
    "duration": 12,
    "start_time": "2024-01-17T15:25:04.888Z"
   },
   {
    "duration": 7,
    "start_time": "2024-01-17T15:25:11.023Z"
   },
   {
    "duration": 5,
    "start_time": "2024-01-17T15:25:27.769Z"
   },
   {
    "duration": 7,
    "start_time": "2024-01-17T15:25:33.181Z"
   },
   {
    "duration": 7,
    "start_time": "2024-01-17T15:25:46.946Z"
   },
   {
    "duration": 403,
    "start_time": "2024-01-17T15:26:09.322Z"
   },
   {
    "duration": 826,
    "start_time": "2024-01-18T08:34:47.052Z"
   },
   {
    "duration": 717,
    "start_time": "2024-01-18T08:34:47.882Z"
   },
   {
    "duration": 150,
    "start_time": "2024-01-18T08:34:48.600Z"
   },
   {
    "duration": 15107,
    "start_time": "2024-01-18T08:34:48.759Z"
   },
   {
    "duration": 46,
    "start_time": "2024-01-18T08:35:03.868Z"
   },
   {
    "duration": 6,
    "start_time": "2024-01-18T08:35:03.916Z"
   },
   {
    "duration": 53,
    "start_time": "2024-01-18T08:35:03.924Z"
   },
   {
    "duration": 5,
    "start_time": "2024-01-18T08:35:03.978Z"
   },
   {
    "duration": 15,
    "start_time": "2024-01-18T08:35:03.984Z"
   },
   {
    "duration": 46,
    "start_time": "2024-01-18T08:35:04.001Z"
   },
   {
    "duration": 246,
    "start_time": "2024-01-18T08:35:04.049Z"
   },
   {
    "duration": 0,
    "start_time": "2024-01-18T08:35:04.296Z"
   },
   {
    "duration": 0,
    "start_time": "2024-01-18T08:35:04.298Z"
   },
   {
    "duration": 0,
    "start_time": "2024-01-18T08:35:04.299Z"
   },
   {
    "duration": 403,
    "start_time": "2024-01-18T08:36:09.506Z"
   },
   {
    "duration": 355,
    "start_time": "2024-01-18T08:36:29.380Z"
   },
   {
    "duration": 6,
    "start_time": "2024-01-18T08:36:37.497Z"
   },
   {
    "duration": 409,
    "start_time": "2024-01-18T08:36:48.660Z"
   },
   {
    "duration": 384,
    "start_time": "2024-01-18T08:39:50.486Z"
   },
   {
    "duration": 292,
    "start_time": "2024-01-18T08:40:02.399Z"
   },
   {
    "duration": 378,
    "start_time": "2024-01-18T08:40:17.294Z"
   },
   {
    "duration": 416,
    "start_time": "2024-01-18T08:40:37.262Z"
   },
   {
    "duration": 317,
    "start_time": "2024-01-18T08:40:39.942Z"
   },
   {
    "duration": 500,
    "start_time": "2024-01-18T08:40:50.526Z"
   },
   {
    "duration": 395,
    "start_time": "2024-01-18T08:40:58.616Z"
   },
   {
    "duration": 343,
    "start_time": "2024-01-18T08:41:04.088Z"
   },
   {
    "duration": 361,
    "start_time": "2024-01-18T08:41:07.588Z"
   },
   {
    "duration": 307,
    "start_time": "2024-01-18T08:41:19.173Z"
   },
   {
    "duration": 367,
    "start_time": "2024-01-18T08:41:29.579Z"
   },
   {
    "duration": 360,
    "start_time": "2024-01-18T08:41:39.146Z"
   },
   {
    "duration": 423,
    "start_time": "2024-01-18T08:41:53.931Z"
   },
   {
    "duration": 456,
    "start_time": "2024-01-18T08:42:08.829Z"
   },
   {
    "duration": 355,
    "start_time": "2024-01-18T08:42:13.125Z"
   },
   {
    "duration": 367,
    "start_time": "2024-01-18T08:42:19.104Z"
   },
   {
    "duration": 303,
    "start_time": "2024-01-18T08:42:24.783Z"
   },
   {
    "duration": 528,
    "start_time": "2024-01-18T08:42:30.739Z"
   },
   {
    "duration": 415,
    "start_time": "2024-01-18T08:42:41.098Z"
   },
   {
    "duration": 3,
    "start_time": "2024-01-18T08:48:59.043Z"
   },
   {
    "duration": 8,
    "start_time": "2024-01-18T08:49:20.047Z"
   },
   {
    "duration": 8,
    "start_time": "2024-01-18T08:49:40.220Z"
   },
   {
    "duration": 8,
    "start_time": "2024-01-18T08:49:50.103Z"
   },
   {
    "duration": 7,
    "start_time": "2024-01-18T08:49:57.548Z"
   },
   {
    "duration": 7,
    "start_time": "2024-01-18T08:50:41.310Z"
   },
   {
    "duration": 1623,
    "start_time": "2024-01-18T08:54:00.734Z"
   },
   {
    "duration": 3,
    "start_time": "2024-01-18T08:54:09.085Z"
   },
   {
    "duration": 172,
    "start_time": "2024-01-18T08:54:09.090Z"
   },
   {
    "duration": 133,
    "start_time": "2024-01-18T08:54:09.263Z"
   },
   {
    "duration": 16253,
    "start_time": "2024-01-18T08:54:09.398Z"
   },
   {
    "duration": 0,
    "start_time": "2024-01-18T08:54:25.652Z"
   },
   {
    "duration": 0,
    "start_time": "2024-01-18T08:54:25.654Z"
   },
   {
    "duration": 0,
    "start_time": "2024-01-18T08:54:25.655Z"
   },
   {
    "duration": 0,
    "start_time": "2024-01-18T08:54:25.656Z"
   },
   {
    "duration": 0,
    "start_time": "2024-01-18T08:54:25.657Z"
   },
   {
    "duration": 0,
    "start_time": "2024-01-18T08:54:25.658Z"
   },
   {
    "duration": 0,
    "start_time": "2024-01-18T08:54:25.659Z"
   },
   {
    "duration": 0,
    "start_time": "2024-01-18T08:54:25.660Z"
   },
   {
    "duration": 0,
    "start_time": "2024-01-18T08:54:25.661Z"
   },
   {
    "duration": 3,
    "start_time": "2024-01-18T08:55:27.845Z"
   },
   {
    "duration": 172,
    "start_time": "2024-01-18T08:55:27.852Z"
   },
   {
    "duration": 138,
    "start_time": "2024-01-18T08:55:28.025Z"
   },
   {
    "duration": 14826,
    "start_time": "2024-01-18T08:55:28.164Z"
   },
   {
    "duration": 43,
    "start_time": "2024-01-18T08:55:42.992Z"
   },
   {
    "duration": 23,
    "start_time": "2024-01-18T08:55:43.037Z"
   },
   {
    "duration": 27,
    "start_time": "2024-01-18T08:55:43.062Z"
   },
   {
    "duration": 4,
    "start_time": "2024-01-18T08:55:43.091Z"
   },
   {
    "duration": 8,
    "start_time": "2024-01-18T08:55:43.096Z"
   },
   {
    "duration": 70,
    "start_time": "2024-01-18T08:55:43.106Z"
   },
   {
    "duration": 415,
    "start_time": "2024-01-18T08:55:43.178Z"
   },
   {
    "duration": 4,
    "start_time": "2024-01-18T08:55:43.594Z"
   },
   {
    "duration": 25,
    "start_time": "2024-01-18T08:55:43.600Z"
   },
   {
    "duration": 103,
    "start_time": "2024-01-18T08:56:57.761Z"
   },
   {
    "duration": 103,
    "start_time": "2024-01-18T08:57:02.909Z"
   },
   {
    "duration": 10,
    "start_time": "2024-01-18T08:58:10.176Z"
   },
   {
    "duration": 5,
    "start_time": "2024-01-18T08:59:05.028Z"
   },
   {
    "duration": 1618,
    "start_time": "2024-01-18T08:59:31.077Z"
   },
   {
    "duration": 3,
    "start_time": "2024-01-18T08:59:34.174Z"
   },
   {
    "duration": 166,
    "start_time": "2024-01-18T08:59:34.182Z"
   },
   {
    "duration": 131,
    "start_time": "2024-01-18T08:59:34.349Z"
   },
   {
    "duration": 16699,
    "start_time": "2024-01-18T08:59:34.482Z"
   },
   {
    "duration": 58,
    "start_time": "2024-01-18T08:59:51.183Z"
   },
   {
    "duration": 20,
    "start_time": "2024-01-18T08:59:51.244Z"
   },
   {
    "duration": 60,
    "start_time": "2024-01-18T08:59:51.266Z"
   },
   {
    "duration": 18,
    "start_time": "2024-01-18T08:59:51.328Z"
   },
   {
    "duration": 37,
    "start_time": "2024-01-18T08:59:51.347Z"
   },
   {
    "duration": 92,
    "start_time": "2024-01-18T08:59:51.385Z"
   },
   {
    "duration": 385,
    "start_time": "2024-01-18T08:59:51.479Z"
   },
   {
    "duration": 3,
    "start_time": "2024-01-18T08:59:51.865Z"
   },
   {
    "duration": 448,
    "start_time": "2024-01-18T08:59:51.870Z"
   },
   {
    "duration": 10,
    "start_time": "2024-01-18T09:00:22.263Z"
   },
   {
    "duration": 24,
    "start_time": "2024-01-18T09:01:06.067Z"
   },
   {
    "duration": 37,
    "start_time": "2024-01-18T09:01:10.439Z"
   },
   {
    "duration": 7,
    "start_time": "2024-01-18T09:02:09.523Z"
   },
   {
    "duration": 59,
    "start_time": "2024-01-18T09:02:52.208Z"
   },
   {
    "duration": 59,
    "start_time": "2024-01-18T09:02:56.700Z"
   },
   {
    "duration": 66,
    "start_time": "2024-01-18T09:03:19.567Z"
   },
   {
    "duration": 73,
    "start_time": "2024-01-18T09:05:10.171Z"
   },
   {
    "duration": 482,
    "start_time": "2024-01-18T09:06:33.848Z"
   },
   {
    "duration": 419,
    "start_time": "2024-01-18T09:06:59.569Z"
   },
   {
    "duration": 439,
    "start_time": "2024-01-18T09:07:28.335Z"
   },
   {
    "duration": 409,
    "start_time": "2024-01-18T09:07:41.375Z"
   },
   {
    "duration": 429,
    "start_time": "2024-01-18T09:08:13.105Z"
   },
   {
    "duration": 432,
    "start_time": "2024-01-18T09:09:24.411Z"
   },
   {
    "duration": 493,
    "start_time": "2024-01-18T09:09:47.375Z"
   },
   {
    "duration": 413,
    "start_time": "2024-01-18T09:10:11.830Z"
   },
   {
    "duration": 359,
    "start_time": "2024-01-18T09:10:19.005Z"
   },
   {
    "duration": 383,
    "start_time": "2024-01-18T09:10:30.376Z"
   },
   {
    "duration": 429,
    "start_time": "2024-01-18T09:10:46.131Z"
   },
   {
    "duration": 382,
    "start_time": "2024-01-18T09:10:54.564Z"
   },
   {
    "duration": 386,
    "start_time": "2024-01-18T09:11:00.276Z"
   },
   {
    "duration": 392,
    "start_time": "2024-01-18T09:11:33.671Z"
   },
   {
    "duration": 378,
    "start_time": "2024-01-18T09:12:12.486Z"
   },
   {
    "duration": 510,
    "start_time": "2024-01-18T09:14:10.437Z"
   },
   {
    "duration": 111,
    "start_time": "2024-01-18T09:14:29.575Z"
   },
   {
    "duration": 416,
    "start_time": "2024-01-18T09:14:35.956Z"
   },
   {
    "duration": 424,
    "start_time": "2024-01-18T09:14:50.218Z"
   },
   {
    "duration": 281,
    "start_time": "2024-01-18T09:15:34.623Z"
   },
   {
    "duration": 11,
    "start_time": "2024-01-18T09:17:17.087Z"
   },
   {
    "duration": 14,
    "start_time": "2024-01-18T09:18:30.493Z"
   },
   {
    "duration": 107,
    "start_time": "2024-01-18T09:19:45.535Z"
   },
   {
    "duration": 14,
    "start_time": "2024-01-18T09:20:24.430Z"
   },
   {
    "duration": 12,
    "start_time": "2024-01-18T09:20:38.760Z"
   },
   {
    "duration": 119,
    "start_time": "2024-01-18T09:21:00.419Z"
   },
   {
    "duration": 99,
    "start_time": "2024-01-18T09:21:03.671Z"
   },
   {
    "duration": 13,
    "start_time": "2024-01-18T09:21:12.483Z"
   },
   {
    "duration": 12,
    "start_time": "2024-01-18T09:21:18.944Z"
   },
   {
    "duration": 13,
    "start_time": "2024-01-18T09:21:24.675Z"
   },
   {
    "duration": 96,
    "start_time": "2024-01-18T09:22:21.849Z"
   },
   {
    "duration": 87,
    "start_time": "2024-01-18T09:22:26.639Z"
   },
   {
    "duration": 86,
    "start_time": "2024-01-18T09:22:29.591Z"
   },
   {
    "duration": 88,
    "start_time": "2024-01-18T09:22:37.098Z"
   },
   {
    "duration": 4,
    "start_time": "2024-01-18T09:22:57.392Z"
   },
   {
    "duration": 101,
    "start_time": "2024-01-18T09:23:01.360Z"
   },
   {
    "duration": 132,
    "start_time": "2024-01-18T09:23:18.028Z"
   },
   {
    "duration": 102,
    "start_time": "2024-01-18T09:24:00.758Z"
   },
   {
    "duration": 86,
    "start_time": "2024-01-18T09:24:04.939Z"
   },
   {
    "duration": 24,
    "start_time": "2024-01-18T09:24:40.745Z"
   },
   {
    "duration": 69,
    "start_time": "2024-01-18T09:25:01.348Z"
   },
   {
    "duration": 27,
    "start_time": "2024-01-18T09:25:23.919Z"
   },
   {
    "duration": 25,
    "start_time": "2024-01-18T09:25:33.816Z"
   },
   {
    "duration": 26,
    "start_time": "2024-01-18T09:25:47.410Z"
   },
   {
    "duration": 24,
    "start_time": "2024-01-18T09:25:50.639Z"
   },
   {
    "duration": 24,
    "start_time": "2024-01-18T09:25:58.031Z"
   },
   {
    "duration": 24,
    "start_time": "2024-01-18T09:26:00.533Z"
   },
   {
    "duration": 43,
    "start_time": "2024-01-18T09:26:56.370Z"
   },
   {
    "duration": 52,
    "start_time": "2024-01-18T09:27:06.003Z"
   },
   {
    "duration": 63,
    "start_time": "2024-01-18T09:27:16.548Z"
   },
   {
    "duration": 67,
    "start_time": "2024-01-18T09:27:44.795Z"
   },
   {
    "duration": 63,
    "start_time": "2024-01-18T09:27:55.185Z"
   },
   {
    "duration": 62,
    "start_time": "2024-01-18T09:28:03.344Z"
   },
   {
    "duration": 66,
    "start_time": "2024-01-18T09:28:08.049Z"
   },
   {
    "duration": 65,
    "start_time": "2024-01-18T09:28:10.130Z"
   },
   {
    "duration": 64,
    "start_time": "2024-01-18T09:28:13.525Z"
   },
   {
    "duration": 69,
    "start_time": "2024-01-18T09:28:26.348Z"
   },
   {
    "duration": 64,
    "start_time": "2024-01-18T09:29:18.259Z"
   },
   {
    "duration": 64,
    "start_time": "2024-01-18T09:29:28.031Z"
   },
   {
    "duration": 156,
    "start_time": "2024-01-18T09:31:10.074Z"
   },
   {
    "duration": 11,
    "start_time": "2024-01-18T09:31:44.795Z"
   },
   {
    "duration": 10,
    "start_time": "2024-01-18T09:32:35.402Z"
   },
   {
    "duration": 53,
    "start_time": "2024-01-18T09:32:48.696Z"
   },
   {
    "duration": 44,
    "start_time": "2024-01-18T09:33:19.615Z"
   },
   {
    "duration": 11,
    "start_time": "2024-01-18T09:33:31.854Z"
   },
   {
    "duration": 15,
    "start_time": "2024-01-18T09:33:45.662Z"
   },
   {
    "duration": 280,
    "start_time": "2024-01-18T09:37:34.216Z"
   },
   {
    "duration": 293,
    "start_time": "2024-01-18T09:38:12.754Z"
   },
   {
    "duration": 7,
    "start_time": "2024-01-18T09:38:29.716Z"
   },
   {
    "duration": 28,
    "start_time": "2024-01-18T10:08:00.660Z"
   },
   {
    "duration": 11,
    "start_time": "2024-01-18T10:12:29.375Z"
   },
   {
    "duration": 6,
    "start_time": "2024-01-18T10:15:23.762Z"
   },
   {
    "duration": 19,
    "start_time": "2024-01-18T10:15:32.685Z"
   },
   {
    "duration": 13,
    "start_time": "2024-01-18T10:17:40.528Z"
   },
   {
    "duration": 30,
    "start_time": "2024-01-18T10:18:00.283Z"
   },
   {
    "duration": 30,
    "start_time": "2024-01-18T10:18:30.374Z"
   },
   {
    "duration": 29,
    "start_time": "2024-01-18T10:18:39.078Z"
   },
   {
    "duration": 29,
    "start_time": "2024-01-18T10:18:57.497Z"
   },
   {
    "duration": 32,
    "start_time": "2024-01-18T10:22:35.263Z"
   },
   {
    "duration": 37,
    "start_time": "2024-01-18T10:22:54.509Z"
   },
   {
    "duration": 10,
    "start_time": "2024-01-18T10:23:55.505Z"
   },
   {
    "duration": 37,
    "start_time": "2024-01-18T10:24:07.793Z"
   },
   {
    "duration": 97,
    "start_time": "2024-01-18T10:24:23.631Z"
   },
   {
    "duration": 12,
    "start_time": "2024-01-18T10:24:28.430Z"
   },
   {
    "duration": 30,
    "start_time": "2024-01-18T10:27:40.906Z"
   },
   {
    "duration": 72,
    "start_time": "2024-01-18T10:28:24.388Z"
   },
   {
    "duration": 79,
    "start_time": "2024-01-18T10:28:49.535Z"
   },
   {
    "duration": 94,
    "start_time": "2024-01-18T10:28:59.421Z"
   },
   {
    "duration": 79,
    "start_time": "2024-01-18T10:29:27.433Z"
   },
   {
    "duration": 80,
    "start_time": "2024-01-18T10:29:34.983Z"
   },
   {
    "duration": 29,
    "start_time": "2024-01-18T10:29:40.329Z"
   },
   {
    "duration": 34,
    "start_time": "2024-01-18T10:52:06.129Z"
   },
   {
    "duration": 41,
    "start_time": "2024-01-18T10:52:32.010Z"
   },
   {
    "duration": 81,
    "start_time": "2024-01-18T10:52:52.976Z"
   },
   {
    "duration": 88,
    "start_time": "2024-01-18T10:53:51.958Z"
   },
   {
    "duration": 80,
    "start_time": "2024-01-18T10:54:18.376Z"
   },
   {
    "duration": 83,
    "start_time": "2024-01-18T10:55:38.540Z"
   },
   {
    "duration": 82,
    "start_time": "2024-01-18T10:56:04.669Z"
   },
   {
    "duration": 79,
    "start_time": "2024-01-18T10:56:21.272Z"
   },
   {
    "duration": 12,
    "start_time": "2024-01-18T11:02:49.198Z"
   },
   {
    "duration": 12,
    "start_time": "2024-01-18T11:03:13.771Z"
   },
   {
    "duration": 12,
    "start_time": "2024-01-18T11:03:22.124Z"
   },
   {
    "duration": 14,
    "start_time": "2024-01-18T11:04:10.475Z"
   },
   {
    "duration": 7,
    "start_time": "2024-01-18T11:04:22.371Z"
   },
   {
    "duration": 10,
    "start_time": "2024-01-18T11:04:49.395Z"
   },
   {
    "duration": 11,
    "start_time": "2024-01-18T11:04:56.145Z"
   },
   {
    "duration": 10,
    "start_time": "2024-01-18T11:05:19.424Z"
   },
   {
    "duration": 8,
    "start_time": "2024-01-18T11:05:27.352Z"
   },
   {
    "duration": 5,
    "start_time": "2024-01-18T11:06:12.775Z"
   },
   {
    "duration": 15,
    "start_time": "2024-01-18T11:06:19.369Z"
   },
   {
    "duration": 10,
    "start_time": "2024-01-18T11:06:51.057Z"
   },
   {
    "duration": 18715,
    "start_time": "2024-01-18T11:07:04.760Z"
   },
   {
    "duration": 18753,
    "start_time": "2024-01-18T11:08:01.606Z"
   },
   {
    "duration": 18609,
    "start_time": "2024-01-18T11:08:27.078Z"
   },
   {
    "duration": 18358,
    "start_time": "2024-01-18T11:09:08.792Z"
   },
   {
    "duration": 18401,
    "start_time": "2024-01-18T11:09:39.343Z"
   },
   {
    "duration": 18443,
    "start_time": "2024-01-18T11:10:14.790Z"
   },
   {
    "duration": 54,
    "start_time": "2024-01-18T11:11:19.166Z"
   },
   {
    "duration": 6,
    "start_time": "2024-01-18T11:11:34.424Z"
   },
   {
    "duration": 298,
    "start_time": "2024-01-18T11:11:38.908Z"
   },
   {
    "duration": 4,
    "start_time": "2024-01-18T11:12:02.291Z"
   },
   {
    "duration": 20122,
    "start_time": "2024-01-18T11:12:32.940Z"
   },
   {
    "duration": 4,
    "start_time": "2024-01-18T11:13:44.214Z"
   },
   {
    "duration": 5,
    "start_time": "2024-01-18T11:13:47.592Z"
   },
   {
    "duration": 6,
    "start_time": "2024-01-18T11:14:07.309Z"
   },
   {
    "duration": 7,
    "start_time": "2024-01-18T11:14:23.204Z"
   },
   {
    "duration": 7,
    "start_time": "2024-01-18T11:15:00.180Z"
   },
   {
    "duration": 9,
    "start_time": "2024-01-18T11:15:05.482Z"
   },
   {
    "duration": 6,
    "start_time": "2024-01-18T11:15:18.242Z"
   },
   {
    "duration": 20745,
    "start_time": "2024-01-18T11:15:50.859Z"
   },
   {
    "duration": 20982,
    "start_time": "2024-01-18T11:16:54.461Z"
   },
   {
    "duration": 18,
    "start_time": "2024-01-18T11:17:32.721Z"
   },
   {
    "duration": 20916,
    "start_time": "2024-01-18T11:17:40.120Z"
   },
   {
    "duration": 18896,
    "start_time": "2024-01-18T11:18:01.038Z"
   },
   {
    "duration": 19056,
    "start_time": "2024-01-18T11:18:23.588Z"
   },
   {
    "duration": 13,
    "start_time": "2024-01-18T11:18:53.365Z"
   },
   {
    "duration": 20,
    "start_time": "2024-01-18T11:19:06.082Z"
   },
   {
    "duration": 18985,
    "start_time": "2024-01-18T11:19:12.827Z"
   },
   {
    "duration": 16,
    "start_time": "2024-01-18T11:21:40.118Z"
   },
   {
    "duration": 16,
    "start_time": "2024-01-18T11:22:25.546Z"
   },
   {
    "duration": 3524,
    "start_time": "2024-01-18T11:22:53.629Z"
   },
   {
    "duration": 102946,
    "start_time": "2024-01-18T11:23:33.840Z"
   },
   {
    "duration": 442,
    "start_time": "2024-01-18T11:25:41.368Z"
   },
   {
    "duration": 3592,
    "start_time": "2024-01-18T11:26:00.873Z"
   },
   {
    "duration": 3799,
    "start_time": "2024-01-18T11:26:22.113Z"
   },
   {
    "duration": 20,
    "start_time": "2024-01-18T11:27:02.623Z"
   },
   {
    "duration": 19662,
    "start_time": "2024-01-18T11:27:44.702Z"
   },
   {
    "duration": 3751,
    "start_time": "2024-01-18T11:28:35.365Z"
   },
   {
    "duration": 9,
    "start_time": "2024-01-18T11:29:08.776Z"
   },
   {
    "duration": 11,
    "start_time": "2024-01-18T11:29:28.301Z"
   },
   {
    "duration": 7,
    "start_time": "2024-01-18T11:30:18.153Z"
   },
   {
    "duration": 8,
    "start_time": "2024-01-18T11:30:35.771Z"
   },
   {
    "duration": 8,
    "start_time": "2024-01-18T11:30:41.534Z"
   },
   {
    "duration": 25325,
    "start_time": "2024-01-18T11:32:11.162Z"
   },
   {
    "duration": 24802,
    "start_time": "2024-01-18T11:32:48.698Z"
   },
   {
    "duration": 25443,
    "start_time": "2024-01-18T11:33:26.479Z"
   },
   {
    "duration": 23784,
    "start_time": "2024-01-18T11:34:12.462Z"
   },
   {
    "duration": 24929,
    "start_time": "2024-01-18T11:35:07.264Z"
   },
   {
    "duration": 10,
    "start_time": "2024-01-18T11:35:43.723Z"
   },
   {
    "duration": 21570,
    "start_time": "2024-01-18T11:36:18.861Z"
   },
   {
    "duration": 115970,
    "start_time": "2024-01-18T11:37:06.069Z"
   },
   {
    "duration": 0,
    "start_time": "2024-01-18T11:39:02.041Z"
   },
   {
    "duration": 930,
    "start_time": "2024-01-18T11:39:04.441Z"
   },
   {
    "duration": 865,
    "start_time": "2024-01-18T11:39:18.695Z"
   },
   {
    "duration": 7,
    "start_time": "2024-01-18T11:39:32.271Z"
   },
   {
    "duration": 11,
    "start_time": "2024-01-18T11:39:40.915Z"
   },
   {
    "duration": 10,
    "start_time": "2024-01-18T11:40:01.579Z"
   },
   {
    "duration": 9,
    "start_time": "2024-01-18T11:40:06.367Z"
   },
   {
    "duration": 946,
    "start_time": "2024-01-18T11:40:13.928Z"
   },
   {
    "duration": 4,
    "start_time": "2024-01-18T11:40:23.376Z"
   },
   {
    "duration": 3,
    "start_time": "2024-01-18T11:40:28.556Z"
   },
   {
    "duration": 6,
    "start_time": "2024-01-18T11:40:45.805Z"
   },
   {
    "duration": 916,
    "start_time": "2024-01-18T11:41:03.068Z"
   },
   {
    "duration": 11,
    "start_time": "2024-01-18T11:41:12.013Z"
   },
   {
    "duration": 10,
    "start_time": "2024-01-18T11:41:15.897Z"
   },
   {
    "duration": 642,
    "start_time": "2024-01-18T11:46:16.464Z"
   },
   {
    "duration": 181,
    "start_time": "2024-01-18T11:46:17.108Z"
   },
   {
    "duration": 170,
    "start_time": "2024-01-18T11:46:17.291Z"
   },
   {
    "duration": 16075,
    "start_time": "2024-01-18T11:46:17.463Z"
   },
   {
    "duration": 72,
    "start_time": "2024-01-18T11:46:33.540Z"
   },
   {
    "duration": 7,
    "start_time": "2024-01-18T11:46:33.613Z"
   },
   {
    "duration": 85,
    "start_time": "2024-01-18T11:46:33.621Z"
   },
   {
    "duration": 23,
    "start_time": "2024-01-18T11:46:33.708Z"
   },
   {
    "duration": 28,
    "start_time": "2024-01-18T11:46:33.732Z"
   },
   {
    "duration": 92,
    "start_time": "2024-01-18T11:46:33.761Z"
   },
   {
    "duration": 311,
    "start_time": "2024-01-18T11:46:33.855Z"
   },
   {
    "duration": 35,
    "start_time": "2024-01-18T11:46:34.167Z"
   },
   {
    "duration": 173,
    "start_time": "2024-01-18T11:46:34.204Z"
   },
   {
    "duration": 17,
    "start_time": "2024-01-18T11:46:34.380Z"
   },
   {
    "duration": 54,
    "start_time": "2024-01-18T11:46:34.399Z"
   },
   {
    "duration": 21,
    "start_time": "2024-01-18T11:46:34.455Z"
   },
   {
    "duration": 131,
    "start_time": "2024-01-18T11:46:34.477Z"
   },
   {
    "duration": 7,
    "start_time": "2024-01-18T11:46:34.610Z"
   },
   {
    "duration": 24006,
    "start_time": "2024-01-18T11:46:34.619Z"
   },
   {
    "duration": 10,
    "start_time": "2024-01-18T11:46:58.627Z"
   },
   {
    "duration": 0,
    "start_time": "2024-01-18T11:52:02.094Z"
   },
   {
    "duration": 16,
    "start_time": "2024-01-18T11:52:08.023Z"
   },
   {
    "duration": 18472,
    "start_time": "2024-01-18T11:52:35.407Z"
   },
   {
    "duration": 18412,
    "start_time": "2024-01-18T11:53:10.354Z"
   },
   {
    "duration": 18119,
    "start_time": "2024-01-18T11:54:05.054Z"
   },
   {
    "duration": 18347,
    "start_time": "2024-01-18T11:54:41.374Z"
   },
   {
    "duration": 0,
    "start_time": "2024-01-18T11:54:59.723Z"
   },
   {
    "duration": 18677,
    "start_time": "2024-01-18T11:55:08.679Z"
   },
   {
    "duration": 12,
    "start_time": "2024-01-18T11:55:30.615Z"
   },
   {
    "duration": 9,
    "start_time": "2024-01-18T11:55:36.431Z"
   },
   {
    "duration": 12,
    "start_time": "2024-01-18T11:55:39.351Z"
   },
   {
    "duration": 6,
    "start_time": "2024-01-18T11:55:56.755Z"
   },
   {
    "duration": 7,
    "start_time": "2024-01-18T11:56:08.138Z"
   },
   {
    "duration": 8,
    "start_time": "2024-01-18T11:56:35.052Z"
   },
   {
    "duration": 7,
    "start_time": "2024-01-18T11:56:44.526Z"
   },
   {
    "duration": 8,
    "start_time": "2024-01-18T11:56:48.520Z"
   },
   {
    "duration": 9,
    "start_time": "2024-01-18T11:57:22.495Z"
   },
   {
    "duration": 10,
    "start_time": "2024-01-18T11:57:27.470Z"
   },
   {
    "duration": 7,
    "start_time": "2024-01-18T11:57:45.608Z"
   },
   {
    "duration": 18248,
    "start_time": "2024-01-18T11:59:40.007Z"
   },
   {
    "duration": 7,
    "start_time": "2024-01-18T12:01:04.079Z"
   },
   {
    "duration": 12,
    "start_time": "2024-01-18T12:01:33.675Z"
   },
   {
    "duration": 7,
    "start_time": "2024-01-18T12:01:37.976Z"
   },
   {
    "duration": 18483,
    "start_time": "2024-01-18T12:02:36.464Z"
   },
   {
    "duration": 10,
    "start_time": "2024-01-18T12:02:54.949Z"
   },
   {
    "duration": 7,
    "start_time": "2024-01-18T12:04:03.538Z"
   },
   {
    "duration": 11,
    "start_time": "2024-01-18T12:20:04.918Z"
   },
   {
    "duration": 1445,
    "start_time": "2024-01-18T12:20:35.206Z"
   },
   {
    "duration": 1438,
    "start_time": "2024-01-18T12:20:39.135Z"
   },
   {
    "duration": 1420,
    "start_time": "2024-01-18T12:20:43.028Z"
   },
   {
    "duration": 10,
    "start_time": "2024-01-18T12:22:17.388Z"
   },
   {
    "duration": 1473,
    "start_time": "2024-01-18T12:22:43.292Z"
   },
   {
    "duration": 10,
    "start_time": "2024-01-18T12:23:21.620Z"
   },
   {
    "duration": 418,
    "start_time": "2024-01-18T12:23:32.412Z"
   },
   {
    "duration": 3,
    "start_time": "2024-01-18T12:23:47.230Z"
   },
   {
    "duration": 10,
    "start_time": "2024-01-18T12:23:51.381Z"
   },
   {
    "duration": 1485,
    "start_time": "2024-01-18T12:23:59.559Z"
   },
   {
    "duration": 1626,
    "start_time": "2024-01-18T12:24:14.674Z"
   },
   {
    "duration": 11,
    "start_time": "2024-01-18T12:24:27.197Z"
   },
   {
    "duration": 1469,
    "start_time": "2024-01-18T12:26:55.986Z"
   },
   {
    "duration": 1456,
    "start_time": "2024-01-18T12:27:17.335Z"
   },
   {
    "duration": 9,
    "start_time": "2024-01-18T12:27:34.474Z"
   },
   {
    "duration": 7,
    "start_time": "2024-01-18T12:27:52.725Z"
   },
   {
    "duration": 5,
    "start_time": "2024-01-18T12:28:06.109Z"
   },
   {
    "duration": 118,
    "start_time": "2024-01-18T12:28:28.848Z"
   },
   {
    "duration": 106,
    "start_time": "2024-01-18T12:28:49.096Z"
   },
   {
    "duration": 13,
    "start_time": "2024-01-18T12:29:26.355Z"
   },
   {
    "duration": 11,
    "start_time": "2024-01-18T12:29:36.132Z"
   },
   {
    "duration": 7,
    "start_time": "2024-01-18T12:29:39.627Z"
   },
   {
    "duration": 8,
    "start_time": "2024-01-18T12:29:44.610Z"
   },
   {
    "duration": 7,
    "start_time": "2024-01-18T12:30:08.226Z"
   },
   {
    "duration": 7,
    "start_time": "2024-01-18T12:30:21.212Z"
   },
   {
    "duration": 7,
    "start_time": "2024-01-18T12:30:37.354Z"
   },
   {
    "duration": 1517,
    "start_time": "2024-01-18T12:32:53.871Z"
   },
   {
    "duration": 6,
    "start_time": "2024-01-18T12:33:19.372Z"
   },
   {
    "duration": 8,
    "start_time": "2024-01-18T12:34:00.047Z"
   },
   {
    "duration": 8,
    "start_time": "2024-01-18T12:34:28.652Z"
   },
   {
    "duration": 7,
    "start_time": "2024-01-18T12:34:33.814Z"
   },
   {
    "duration": 8,
    "start_time": "2024-01-18T12:34:36.409Z"
   },
   {
    "duration": 8,
    "start_time": "2024-01-18T12:34:46.659Z"
   },
   {
    "duration": 9,
    "start_time": "2024-01-18T12:34:53.407Z"
   },
   {
    "duration": 26,
    "start_time": "2024-01-18T12:35:10.405Z"
   },
   {
    "duration": 57,
    "start_time": "2024-01-18T12:35:21.848Z"
   },
   {
    "duration": 24,
    "start_time": "2024-01-18T12:35:29.034Z"
   },
   {
    "duration": 25,
    "start_time": "2024-01-18T12:35:40.241Z"
   },
   {
    "duration": 15,
    "start_time": "2024-01-18T12:36:42.566Z"
   },
   {
    "duration": 15,
    "start_time": "2024-01-18T12:36:47.784Z"
   },
   {
    "duration": 10,
    "start_time": "2024-01-18T12:36:56.580Z"
   },
   {
    "duration": 10,
    "start_time": "2024-01-18T12:37:04.716Z"
   },
   {
    "duration": 11,
    "start_time": "2024-01-18T12:38:02.288Z"
   },
   {
    "duration": 12,
    "start_time": "2024-01-18T12:38:07.142Z"
   },
   {
    "duration": 17,
    "start_time": "2024-01-18T12:38:18.519Z"
   },
   {
    "duration": 15,
    "start_time": "2024-01-18T12:38:56.144Z"
   },
   {
    "duration": 21,
    "start_time": "2024-01-18T12:39:38.023Z"
   },
   {
    "duration": 3,
    "start_time": "2024-01-18T12:40:03.895Z"
   },
   {
    "duration": 14,
    "start_time": "2024-01-18T12:40:13.022Z"
   },
   {
    "duration": 8,
    "start_time": "2024-01-18T12:40:28.169Z"
   },
   {
    "duration": 10,
    "start_time": "2024-01-18T12:40:33.600Z"
   },
   {
    "duration": 11,
    "start_time": "2024-01-18T12:41:11.240Z"
   },
   {
    "duration": 9,
    "start_time": "2024-01-18T12:41:14.460Z"
   },
   {
    "duration": 13,
    "start_time": "2024-01-18T12:41:37.099Z"
   },
   {
    "duration": 10,
    "start_time": "2024-01-18T12:41:40.485Z"
   },
   {
    "duration": 18,
    "start_time": "2024-01-18T12:42:03.609Z"
   },
   {
    "duration": 9,
    "start_time": "2024-01-18T12:42:06.526Z"
   },
   {
    "duration": 633,
    "start_time": "2024-01-18T12:42:32.627Z"
   },
   {
    "duration": 188,
    "start_time": "2024-01-18T12:42:33.262Z"
   },
   {
    "duration": 165,
    "start_time": "2024-01-18T12:42:33.451Z"
   },
   {
    "duration": 15950,
    "start_time": "2024-01-18T12:42:33.618Z"
   },
   {
    "duration": 66,
    "start_time": "2024-01-18T12:42:49.570Z"
   },
   {
    "duration": 26,
    "start_time": "2024-01-18T12:42:49.638Z"
   },
   {
    "duration": 31,
    "start_time": "2024-01-18T12:42:49.665Z"
   },
   {
    "duration": 20,
    "start_time": "2024-01-18T12:42:49.697Z"
   },
   {
    "duration": 43,
    "start_time": "2024-01-18T12:42:49.718Z"
   },
   {
    "duration": 66,
    "start_time": "2024-01-18T12:42:49.763Z"
   },
   {
    "duration": 320,
    "start_time": "2024-01-18T12:42:49.831Z"
   },
   {
    "duration": 41,
    "start_time": "2024-01-18T12:42:50.153Z"
   },
   {
    "duration": 169,
    "start_time": "2024-01-18T12:42:50.196Z"
   },
   {
    "duration": 15,
    "start_time": "2024-01-18T12:42:50.367Z"
   },
   {
    "duration": 24,
    "start_time": "2024-01-18T12:42:50.383Z"
   },
   {
    "duration": 18,
    "start_time": "2024-01-18T12:42:50.408Z"
   },
   {
    "duration": 148,
    "start_time": "2024-01-18T12:42:50.428Z"
   },
   {
    "duration": 18564,
    "start_time": "2024-01-18T12:42:50.578Z"
   },
   {
    "duration": 8,
    "start_time": "2024-01-18T12:43:09.143Z"
   },
   {
    "duration": 1529,
    "start_time": "2024-01-18T12:43:09.153Z"
   },
   {
    "duration": 16,
    "start_time": "2024-01-18T12:43:10.683Z"
   },
   {
    "duration": 1519,
    "start_time": "2024-01-18T12:43:40.891Z"
   },
   {
    "duration": 10,
    "start_time": "2024-01-18T12:46:50.079Z"
   },
   {
    "duration": 10,
    "start_time": "2024-01-18T12:47:09.924Z"
   },
   {
    "duration": 4,
    "start_time": "2024-01-18T12:47:35.851Z"
   },
   {
    "duration": 4,
    "start_time": "2024-01-18T12:47:41.197Z"
   },
   {
    "duration": 4,
    "start_time": "2024-01-18T12:48:18.477Z"
   },
   {
    "duration": 4,
    "start_time": "2024-01-18T12:49:21.793Z"
   },
   {
    "duration": 4,
    "start_time": "2024-01-18T12:49:45.717Z"
   },
   {
    "duration": 6,
    "start_time": "2024-01-18T12:50:04.565Z"
   },
   {
    "duration": 13,
    "start_time": "2024-01-18T12:51:10.245Z"
   },
   {
    "duration": 8,
    "start_time": "2024-01-18T12:51:19.287Z"
   },
   {
    "duration": 8,
    "start_time": "2024-01-18T12:51:26.316Z"
   },
   {
    "duration": 6,
    "start_time": "2024-01-18T12:53:54.638Z"
   },
   {
    "duration": 8,
    "start_time": "2024-01-18T12:54:12.166Z"
   },
   {
    "duration": 6,
    "start_time": "2024-01-18T12:54:47.118Z"
   },
   {
    "duration": 12,
    "start_time": "2024-01-18T12:55:30.407Z"
   },
   {
    "duration": 5,
    "start_time": "2024-01-18T12:57:04.103Z"
   },
   {
    "duration": 8,
    "start_time": "2024-01-18T12:57:37.707Z"
   },
   {
    "duration": 5,
    "start_time": "2024-01-18T13:17:39.723Z"
   },
   {
    "duration": 11,
    "start_time": "2024-01-18T13:20:59.010Z"
   },
   {
    "duration": 31,
    "start_time": "2024-01-18T13:22:24.333Z"
   },
   {
    "duration": 76,
    "start_time": "2024-01-18T13:22:38.876Z"
   },
   {
    "duration": 12,
    "start_time": "2024-01-18T13:22:47.190Z"
   },
   {
    "duration": 55,
    "start_time": "2024-01-18T13:22:55.358Z"
   },
   {
    "duration": 11,
    "start_time": "2024-01-18T13:25:58.897Z"
   },
   {
    "duration": 15,
    "start_time": "2024-01-18T13:26:21.996Z"
   },
   {
    "duration": 57,
    "start_time": "2024-01-18T13:26:46.570Z"
   },
   {
    "duration": 71,
    "start_time": "2024-01-18T13:29:04.372Z"
   },
   {
    "duration": 11,
    "start_time": "2024-01-18T13:29:12.334Z"
   },
   {
    "duration": 410,
    "start_time": "2024-01-18T13:33:09.970Z"
   },
   {
    "duration": 26,
    "start_time": "2024-01-18T13:35:24.461Z"
   },
   {
    "duration": 1689,
    "start_time": "2024-01-18T13:35:39.801Z"
   },
   {
    "duration": 20,
    "start_time": "2024-01-18T13:35:44.185Z"
   },
   {
    "duration": 5550,
    "start_time": "2024-01-18T13:40:09.432Z"
   },
   {
    "duration": 5798,
    "start_time": "2024-01-18T13:41:59.738Z"
   },
   {
    "duration": 30,
    "start_time": "2024-01-18T13:43:44.617Z"
   },
   {
    "duration": 5653,
    "start_time": "2024-01-18T13:43:47.113Z"
   },
   {
    "duration": 0,
    "start_time": "2024-01-18T13:43:52.768Z"
   },
   {
    "duration": 5,
    "start_time": "2024-01-18T13:43:54.904Z"
   },
   {
    "duration": 3,
    "start_time": "2024-01-18T13:46:11.771Z"
   },
   {
    "duration": 8,
    "start_time": "2024-01-18T13:46:26.169Z"
   },
   {
    "duration": 25,
    "start_time": "2024-01-18T13:48:35.267Z"
   },
   {
    "duration": 3,
    "start_time": "2024-01-18T13:49:13.185Z"
   },
   {
    "duration": 25,
    "start_time": "2024-01-18T13:49:32.455Z"
   },
   {
    "duration": 30,
    "start_time": "2024-01-18T13:50:04.393Z"
   },
   {
    "duration": 30,
    "start_time": "2024-01-18T13:51:07.534Z"
   },
   {
    "duration": 26,
    "start_time": "2024-01-18T13:51:58.977Z"
   },
   {
    "duration": 47,
    "start_time": "2024-01-18T13:52:33.487Z"
   },
   {
    "duration": 71,
    "start_time": "2024-01-18T13:54:22.841Z"
   },
   {
    "duration": 74,
    "start_time": "2024-01-18T13:54:35.364Z"
   },
   {
    "duration": 4,
    "start_time": "2024-01-18T13:58:44.727Z"
   },
   {
    "duration": 3,
    "start_time": "2024-01-18T13:58:54.696Z"
   },
   {
    "duration": 3,
    "start_time": "2024-01-18T14:00:49.601Z"
   },
   {
    "duration": 6,
    "start_time": "2024-01-18T14:04:04.999Z"
   },
   {
    "duration": 7,
    "start_time": "2024-01-18T14:04:09.663Z"
   },
   {
    "duration": 8,
    "start_time": "2024-01-18T14:04:37.184Z"
   },
   {
    "duration": 8,
    "start_time": "2024-01-18T14:05:01.187Z"
   },
   {
    "duration": 75,
    "start_time": "2024-01-18T14:09:48.802Z"
   },
   {
    "duration": 102,
    "start_time": "2024-01-18T14:13:56.202Z"
   },
   {
    "duration": 128,
    "start_time": "2024-01-18T14:15:25.812Z"
   },
   {
    "duration": 108,
    "start_time": "2024-01-18T14:15:31.116Z"
   },
   {
    "duration": 6,
    "start_time": "2024-01-18T14:15:42.655Z"
   },
   {
    "duration": 67,
    "start_time": "2024-01-18T14:16:19.094Z"
   },
   {
    "duration": 264,
    "start_time": "2024-01-18T14:18:27.548Z"
   },
   {
    "duration": 5,
    "start_time": "2024-01-18T14:21:18.587Z"
   },
   {
    "duration": 249,
    "start_time": "2024-01-18T14:21:19.342Z"
   },
   {
    "duration": 5,
    "start_time": "2024-01-18T14:21:42.332Z"
   },
   {
    "duration": 262,
    "start_time": "2024-01-18T14:21:43.162Z"
   },
   {
    "duration": 5,
    "start_time": "2024-01-18T14:22:00.751Z"
   },
   {
    "duration": 269,
    "start_time": "2024-01-18T14:22:02.181Z"
   },
   {
    "duration": 6,
    "start_time": "2024-01-18T14:23:00.607Z"
   },
   {
    "duration": 257,
    "start_time": "2024-01-18T14:23:01.383Z"
   },
   {
    "duration": 6,
    "start_time": "2024-01-18T14:23:22.494Z"
   },
   {
    "duration": 249,
    "start_time": "2024-01-18T14:23:23.197Z"
   },
   {
    "duration": 6,
    "start_time": "2024-01-18T14:23:44.663Z"
   },
   {
    "duration": 244,
    "start_time": "2024-01-18T14:23:45.138Z"
   },
   {
    "duration": 5,
    "start_time": "2024-01-18T14:23:55.685Z"
   },
   {
    "duration": 241,
    "start_time": "2024-01-18T14:23:56.131Z"
   },
   {
    "duration": 493,
    "start_time": "2024-01-18T14:25:22.287Z"
   },
   {
    "duration": 488,
    "start_time": "2024-01-18T14:26:19.461Z"
   },
   {
    "duration": 489,
    "start_time": "2024-01-18T14:26:39.154Z"
   },
   {
    "duration": 492,
    "start_time": "2024-01-18T14:26:50.802Z"
   },
   {
    "duration": 505,
    "start_time": "2024-01-18T14:29:10.821Z"
   },
   {
    "duration": 6,
    "start_time": "2024-01-18T14:29:41.534Z"
   },
   {
    "duration": 6,
    "start_time": "2024-01-18T14:29:47.620Z"
   },
   {
    "duration": 241,
    "start_time": "2024-01-18T14:29:49.467Z"
   },
   {
    "duration": 6,
    "start_time": "2024-01-18T14:30:03.597Z"
   },
   {
    "duration": 272,
    "start_time": "2024-01-18T14:30:04.047Z"
   },
   {
    "duration": 480,
    "start_time": "2024-01-18T14:30:08.044Z"
   },
   {
    "duration": 493,
    "start_time": "2024-01-18T14:31:28.736Z"
   },
   {
    "duration": 474,
    "start_time": "2024-01-18T14:31:57.042Z"
   },
   {
    "duration": 261,
    "start_time": "2024-01-18T14:32:26.010Z"
   },
   {
    "duration": 271,
    "start_time": "2024-01-18T14:32:31.081Z"
   },
   {
    "duration": 74,
    "start_time": "2024-01-18T14:35:02.697Z"
   },
   {
    "duration": 258,
    "start_time": "2024-01-18T14:36:04.191Z"
   },
   {
    "duration": 6,
    "start_time": "2024-01-18T14:37:01.403Z"
   },
   {
    "duration": 297,
    "start_time": "2024-01-18T14:37:01.963Z"
   },
   {
    "duration": 509,
    "start_time": "2024-01-18T14:37:06.636Z"
   },
   {
    "duration": 275,
    "start_time": "2024-01-18T14:37:09.233Z"
   },
   {
    "duration": 7,
    "start_time": "2024-01-18T14:37:43.254Z"
   },
   {
    "duration": 269,
    "start_time": "2024-01-18T14:37:43.865Z"
   },
   {
    "duration": 520,
    "start_time": "2024-01-18T14:37:45.902Z"
   },
   {
    "duration": 320,
    "start_time": "2024-01-18T14:37:46.549Z"
   },
   {
    "duration": 788,
    "start_time": "2024-01-18T14:38:42.107Z"
   },
   {
    "duration": 282,
    "start_time": "2024-01-18T14:39:01.259Z"
   },
   {
    "duration": 778,
    "start_time": "2024-01-18T14:39:48.489Z"
   },
   {
    "duration": 826,
    "start_time": "2024-01-18T15:01:01.622Z"
   },
   {
    "duration": 258,
    "start_time": "2024-01-18T15:01:36.178Z"
   },
   {
    "duration": 3,
    "start_time": "2024-01-18T15:06:47.996Z"
   },
   {
    "duration": 14,
    "start_time": "2024-01-18T15:07:37.559Z"
   },
   {
    "duration": 4,
    "start_time": "2024-01-18T15:08:12.796Z"
   },
   {
    "duration": 4,
    "start_time": "2024-01-18T15:08:17.529Z"
   },
   {
    "duration": 4,
    "start_time": "2024-01-18T15:08:29.527Z"
   },
   {
    "duration": 4,
    "start_time": "2024-01-18T15:08:56.921Z"
   },
   {
    "duration": 7,
    "start_time": "2024-01-18T15:09:29.002Z"
   },
   {
    "duration": 9,
    "start_time": "2024-01-18T15:11:18.476Z"
   },
   {
    "duration": 9,
    "start_time": "2024-01-18T15:11:58.960Z"
   },
   {
    "duration": 7,
    "start_time": "2024-01-18T15:12:12.709Z"
   },
   {
    "duration": 10,
    "start_time": "2024-01-18T15:13:11.908Z"
   },
   {
    "duration": 10,
    "start_time": "2024-01-18T15:13:25.673Z"
   },
   {
    "duration": 7,
    "start_time": "2024-01-18T15:13:34.848Z"
   },
   {
    "duration": 8,
    "start_time": "2024-01-18T15:14:03.476Z"
   },
   {
    "duration": 54,
    "start_time": "2024-01-18T18:25:23.349Z"
   },
   {
    "duration": 1425,
    "start_time": "2024-01-18T18:25:26.600Z"
   },
   {
    "duration": 753,
    "start_time": "2024-01-18T18:25:28.029Z"
   },
   {
    "duration": 336,
    "start_time": "2024-01-18T18:25:28.784Z"
   },
   {
    "duration": 19600,
    "start_time": "2024-01-18T18:25:29.122Z"
   },
   {
    "duration": 92,
    "start_time": "2024-01-18T18:25:48.723Z"
   },
   {
    "duration": 7,
    "start_time": "2024-01-18T18:25:48.817Z"
   },
   {
    "duration": 31,
    "start_time": "2024-01-18T18:25:48.825Z"
   },
   {
    "duration": 49,
    "start_time": "2024-01-18T18:25:48.857Z"
   },
   {
    "duration": 21,
    "start_time": "2024-01-18T18:25:48.908Z"
   },
   {
    "duration": 94,
    "start_time": "2024-01-18T18:25:48.932Z"
   },
   {
    "duration": 378,
    "start_time": "2024-01-18T18:25:49.027Z"
   },
   {
    "duration": 47,
    "start_time": "2024-01-18T18:25:49.407Z"
   },
   {
    "duration": 212,
    "start_time": "2024-01-18T18:25:49.456Z"
   },
   {
    "duration": 25,
    "start_time": "2024-01-18T18:25:49.670Z"
   },
   {
    "duration": 27,
    "start_time": "2024-01-18T18:25:49.697Z"
   },
   {
    "duration": 13,
    "start_time": "2024-01-18T18:25:49.725Z"
   },
   {
    "duration": 128,
    "start_time": "2024-01-18T18:25:49.739Z"
   },
   {
    "duration": 20540,
    "start_time": "2024-01-18T18:25:49.868Z"
   },
   {
    "duration": 8,
    "start_time": "2024-01-18T18:26:10.410Z"
   },
   {
    "duration": 1787,
    "start_time": "2024-01-18T18:26:10.419Z"
   },
   {
    "duration": 19,
    "start_time": "2024-01-18T18:26:12.208Z"
   },
   {
    "duration": 8,
    "start_time": "2024-01-18T18:26:12.229Z"
   },
   {
    "duration": 5,
    "start_time": "2024-01-18T18:26:12.238Z"
   },
   {
    "duration": 89,
    "start_time": "2024-01-18T18:26:12.245Z"
   },
   {
    "duration": 6,
    "start_time": "2024-01-18T18:26:12.336Z"
   },
   {
    "duration": 11,
    "start_time": "2024-01-18T18:26:12.344Z"
   },
   {
    "duration": 340,
    "start_time": "2024-01-18T18:26:12.356Z"
   },
   {
    "duration": 918,
    "start_time": "2024-01-18T18:26:12.699Z"
   },
   {
    "duration": 9,
    "start_time": "2024-01-18T18:31:57.799Z"
   },
   {
    "duration": 147,
    "start_time": "2024-01-18T18:35:09.469Z"
   },
   {
    "duration": 91,
    "start_time": "2024-01-18T18:35:23.325Z"
   },
   {
    "duration": 97,
    "start_time": "2024-01-18T18:36:17.204Z"
   },
   {
    "duration": 92,
    "start_time": "2024-01-18T18:37:45.031Z"
   },
   {
    "duration": 91,
    "start_time": "2024-01-18T18:38:35.335Z"
   },
   {
    "duration": 96,
    "start_time": "2024-01-18T18:40:43.427Z"
   },
   {
    "duration": 89,
    "start_time": "2024-01-18T18:42:41.035Z"
   },
   {
    "duration": 100,
    "start_time": "2024-01-18T18:42:49.481Z"
   },
   {
    "duration": 97,
    "start_time": "2024-01-18T18:43:51.070Z"
   },
   {
    "duration": 91,
    "start_time": "2024-01-18T18:44:13.112Z"
   },
   {
    "duration": 100,
    "start_time": "2024-01-18T18:45:22.907Z"
   },
   {
    "duration": 15,
    "start_time": "2024-01-18T18:45:37.262Z"
   },
   {
    "duration": 93,
    "start_time": "2024-01-18T18:45:41.901Z"
   },
   {
    "duration": 92,
    "start_time": "2024-01-18T18:45:49.474Z"
   },
   {
    "duration": 113,
    "start_time": "2024-01-18T18:46:48.753Z"
   },
   {
    "duration": 94,
    "start_time": "2024-01-18T18:48:06.672Z"
   },
   {
    "duration": 4,
    "start_time": "2024-01-18T18:48:48.214Z"
   },
   {
    "duration": 8,
    "start_time": "2024-01-18T18:48:51.308Z"
   },
   {
    "duration": 4,
    "start_time": "2024-01-18T18:48:55.714Z"
   },
   {
    "duration": 8,
    "start_time": "2024-01-18T18:48:58.768Z"
   },
   {
    "duration": 97,
    "start_time": "2024-01-18T18:49:45.319Z"
   },
   {
    "duration": 2,
    "start_time": "2024-01-18T18:50:03.963Z"
   },
   {
    "duration": 11,
    "start_time": "2024-01-18T18:50:20.242Z"
   },
   {
    "duration": 8,
    "start_time": "2024-01-18T18:50:26.387Z"
   },
   {
    "duration": 101,
    "start_time": "2024-01-18T18:51:39.353Z"
   },
   {
    "duration": 8,
    "start_time": "2024-01-18T18:52:01.697Z"
   },
   {
    "duration": 4,
    "start_time": "2024-01-18T18:52:05.639Z"
   },
   {
    "duration": 93,
    "start_time": "2024-01-18T18:52:15.193Z"
   },
   {
    "duration": 97,
    "start_time": "2024-01-18T18:52:21.057Z"
   },
   {
    "duration": 88,
    "start_time": "2024-01-18T18:53:42.876Z"
   },
   {
    "duration": 1843,
    "start_time": "2024-01-18T18:55:26.543Z"
   },
   {
    "duration": 1785,
    "start_time": "2024-01-18T18:55:42.893Z"
   },
   {
    "duration": 118,
    "start_time": "2024-01-18T18:56:11.269Z"
   },
   {
    "duration": 133,
    "start_time": "2024-01-18T18:56:24.427Z"
   },
   {
    "duration": 128,
    "start_time": "2024-01-18T18:56:44.037Z"
   },
   {
    "duration": 105,
    "start_time": "2024-01-18T18:56:49.845Z"
   },
   {
    "duration": 122,
    "start_time": "2024-01-18T18:57:05.176Z"
   },
   {
    "duration": 133,
    "start_time": "2024-01-18T18:57:13.037Z"
   },
   {
    "duration": 124,
    "start_time": "2024-01-18T18:57:19.648Z"
   },
   {
    "duration": 142,
    "start_time": "2024-01-18T18:58:23.541Z"
   },
   {
    "duration": 123,
    "start_time": "2024-01-18T19:01:28.996Z"
   },
   {
    "duration": 100,
    "start_time": "2024-01-18T19:04:42.702Z"
   },
   {
    "duration": 13,
    "start_time": "2024-01-18T19:05:23.321Z"
   },
   {
    "duration": 5,
    "start_time": "2024-01-18T19:05:56.079Z"
   },
   {
    "duration": 35,
    "start_time": "2024-01-18T19:06:12.614Z"
   },
   {
    "duration": 496,
    "start_time": "2024-01-18T19:06:59.330Z"
   },
   {
    "duration": 441,
    "start_time": "2024-01-18T19:07:33.990Z"
   },
   {
    "duration": 456,
    "start_time": "2024-01-18T19:07:57.358Z"
   },
   {
    "duration": 3,
    "start_time": "2024-01-18T19:08:06.205Z"
   },
   {
    "duration": 123,
    "start_time": "2024-01-18T19:12:45.617Z"
   },
   {
    "duration": 125,
    "start_time": "2024-01-18T19:13:19.199Z"
   },
   {
    "duration": 96,
    "start_time": "2024-01-18T19:13:56.461Z"
   },
   {
    "duration": 3,
    "start_time": "2024-01-18T19:13:59.812Z"
   },
   {
    "duration": 8,
    "start_time": "2024-01-18T19:14:10.001Z"
   },
   {
    "duration": 2,
    "start_time": "2024-01-18T19:14:16.725Z"
   },
   {
    "duration": 2,
    "start_time": "2024-01-18T19:14:27.041Z"
   },
   {
    "duration": 3,
    "start_time": "2024-01-18T19:14:38.824Z"
   },
   {
    "duration": 9,
    "start_time": "2024-01-18T19:14:46.797Z"
   },
   {
    "duration": 3,
    "start_time": "2024-01-18T19:14:50.509Z"
   },
   {
    "duration": 3,
    "start_time": "2024-01-18T19:14:54.046Z"
   },
   {
    "duration": 3,
    "start_time": "2024-01-18T19:15:19.522Z"
   },
   {
    "duration": 4,
    "start_time": "2024-01-18T19:15:24.613Z"
   },
   {
    "duration": 3,
    "start_time": "2024-01-18T19:15:39.726Z"
   },
   {
    "duration": 4,
    "start_time": "2024-01-18T19:15:48.151Z"
   },
   {
    "duration": 431,
    "start_time": "2024-01-18T19:16:09.988Z"
   },
   {
    "duration": 3,
    "start_time": "2024-01-18T19:16:36.516Z"
   },
   {
    "duration": 7,
    "start_time": "2024-01-18T19:21:20.618Z"
   },
   {
    "duration": 482,
    "start_time": "2024-01-18T19:21:30.192Z"
   },
   {
    "duration": 426,
    "start_time": "2024-01-18T19:21:59.133Z"
   },
   {
    "duration": 688,
    "start_time": "2024-01-18T19:23:12.513Z"
   },
   {
    "duration": 882,
    "start_time": "2024-01-18T19:24:01.118Z"
   },
   {
    "duration": 97,
    "start_time": "2024-01-18T19:25:18.761Z"
   },
   {
    "duration": 900,
    "start_time": "2024-01-18T19:26:08.987Z"
   },
   {
    "duration": 885,
    "start_time": "2024-01-18T19:26:35.200Z"
   },
   {
    "duration": 128,
    "start_time": "2024-01-18T19:27:12.595Z"
   },
   {
    "duration": 885,
    "start_time": "2024-01-18T19:27:56.993Z"
   },
   {
    "duration": 6,
    "start_time": "2024-01-18T19:30:21.371Z"
   },
   {
    "duration": 9,
    "start_time": "2024-01-18T19:30:28.966Z"
   },
   {
    "duration": 33,
    "start_time": "2024-01-18T19:32:06.386Z"
   },
   {
    "duration": 38,
    "start_time": "2024-01-18T19:32:10.302Z"
   },
   {
    "duration": 60,
    "start_time": "2024-01-18T19:34:08.097Z"
   },
   {
    "duration": 63,
    "start_time": "2024-01-18T19:34:13.436Z"
   },
   {
    "duration": 82,
    "start_time": "2024-01-18T19:34:46.889Z"
   },
   {
    "duration": 3,
    "start_time": "2024-01-18T19:36:07.740Z"
   },
   {
    "duration": 5,
    "start_time": "2024-01-18T19:36:12.339Z"
   },
   {
    "duration": 891,
    "start_time": "2024-01-18T19:38:06.147Z"
   },
   {
    "duration": 10,
    "start_time": "2024-01-18T19:41:45.665Z"
   },
   {
    "duration": 8,
    "start_time": "2024-01-18T19:42:16.530Z"
   },
   {
    "duration": 8,
    "start_time": "2024-01-18T19:42:38.367Z"
   },
   {
    "duration": 7,
    "start_time": "2024-01-18T19:43:22.267Z"
   },
   {
    "duration": 6,
    "start_time": "2024-01-18T19:43:48.278Z"
   },
   {
    "duration": 8,
    "start_time": "2024-01-18T19:44:48.109Z"
   },
   {
    "duration": 10,
    "start_time": "2024-01-18T19:45:38.569Z"
   },
   {
    "duration": 6,
    "start_time": "2024-01-18T19:46:14.815Z"
   },
   {
    "duration": 3,
    "start_time": "2024-01-18T19:46:47.765Z"
   },
   {
    "duration": 7,
    "start_time": "2024-01-18T19:47:13.114Z"
   },
   {
    "duration": 13,
    "start_time": "2024-01-18T19:48:05.150Z"
   },
   {
    "duration": 8,
    "start_time": "2024-01-18T19:51:29.765Z"
   },
   {
    "duration": 3,
    "start_time": "2024-01-18T19:52:03.990Z"
   },
   {
    "duration": 3,
    "start_time": "2024-01-18T19:52:20.849Z"
   },
   {
    "duration": 4,
    "start_time": "2024-01-18T19:53:22.413Z"
   },
   {
    "duration": 14,
    "start_time": "2024-01-18T19:54:16.213Z"
   },
   {
    "duration": 18,
    "start_time": "2024-01-18T19:54:42.841Z"
   },
   {
    "duration": 23,
    "start_time": "2024-01-18T19:55:41.633Z"
   },
   {
    "duration": 19,
    "start_time": "2024-01-18T19:59:30.367Z"
   },
   {
    "duration": 24,
    "start_time": "2024-01-18T19:59:47.331Z"
   },
   {
    "duration": 19,
    "start_time": "2024-01-18T20:00:01.943Z"
   },
   {
    "duration": 18,
    "start_time": "2024-01-18T20:07:32.760Z"
   },
   {
    "duration": 15,
    "start_time": "2024-01-18T20:09:15.700Z"
   },
   {
    "duration": 15,
    "start_time": "2024-01-18T20:09:22.184Z"
   },
   {
    "duration": 18,
    "start_time": "2024-01-18T20:09:31.460Z"
   },
   {
    "duration": 2736,
    "start_time": "2024-01-18T20:15:43.561Z"
   },
   {
    "duration": 2688,
    "start_time": "2024-01-18T20:16:04.974Z"
   },
   {
    "duration": 2704,
    "start_time": "2024-01-18T20:19:15.204Z"
   },
   {
    "duration": 380,
    "start_time": "2024-01-18T20:22:05.688Z"
   },
   {
    "duration": 2674,
    "start_time": "2024-01-18T20:22:25.527Z"
   },
   {
    "duration": 2718,
    "start_time": "2024-01-18T20:23:21.586Z"
   },
   {
    "duration": 2728,
    "start_time": "2024-01-18T20:23:44.081Z"
   },
   {
    "duration": 2738,
    "start_time": "2024-01-18T20:23:54.830Z"
   },
   {
    "duration": 2719,
    "start_time": "2024-01-18T20:24:49.895Z"
   },
   {
    "duration": 2711,
    "start_time": "2024-01-18T20:25:21.264Z"
   },
   {
    "duration": 2700,
    "start_time": "2024-01-18T20:25:55.487Z"
   },
   {
    "duration": 20,
    "start_time": "2024-01-18T20:27:13.465Z"
   },
   {
    "duration": 355,
    "start_time": "2024-01-18T20:27:27.918Z"
   },
   {
    "duration": 129,
    "start_time": "2024-01-18T20:27:47.353Z"
   },
   {
    "duration": 136,
    "start_time": "2024-01-18T20:28:10.811Z"
   },
   {
    "duration": 139,
    "start_time": "2024-01-18T20:28:18.387Z"
   },
   {
    "duration": 8,
    "start_time": "2024-01-18T20:29:03.765Z"
   },
   {
    "duration": 127,
    "start_time": "2024-01-18T20:29:08.092Z"
   },
   {
    "duration": 131,
    "start_time": "2024-01-18T20:30:15.241Z"
   },
   {
    "duration": 13,
    "start_time": "2024-01-19T09:28:27.351Z"
   },
   {
    "duration": 47,
    "start_time": "2024-01-19T09:28:47.855Z"
   },
   {
    "duration": 1202,
    "start_time": "2024-01-19T09:28:53.793Z"
   },
   {
    "duration": 490,
    "start_time": "2024-01-19T09:28:54.997Z"
   },
   {
    "duration": 146,
    "start_time": "2024-01-19T09:28:55.489Z"
   },
   {
    "duration": 16375,
    "start_time": "2024-01-19T09:28:55.644Z"
   },
   {
    "duration": 70,
    "start_time": "2024-01-19T09:29:12.021Z"
   },
   {
    "duration": 8,
    "start_time": "2024-01-19T09:29:12.092Z"
   },
   {
    "duration": 62,
    "start_time": "2024-01-19T09:29:12.101Z"
   },
   {
    "duration": 52,
    "start_time": "2024-01-19T09:29:12.165Z"
   },
   {
    "duration": 49,
    "start_time": "2024-01-19T09:29:12.218Z"
   },
   {
    "duration": 88,
    "start_time": "2024-01-19T09:29:12.268Z"
   },
   {
    "duration": 295,
    "start_time": "2024-01-19T09:29:12.357Z"
   },
   {
    "duration": 29,
    "start_time": "2024-01-19T09:29:12.653Z"
   },
   {
    "duration": 164,
    "start_time": "2024-01-19T09:29:12.683Z"
   },
   {
    "duration": 21,
    "start_time": "2024-01-19T09:29:12.850Z"
   },
   {
    "duration": 65,
    "start_time": "2024-01-19T09:29:12.873Z"
   },
   {
    "duration": 49,
    "start_time": "2024-01-19T09:29:12.939Z"
   },
   {
    "duration": 129,
    "start_time": "2024-01-19T09:29:12.990Z"
   },
   {
    "duration": 16941,
    "start_time": "2024-01-19T09:29:13.121Z"
   },
   {
    "duration": 7,
    "start_time": "2024-01-19T09:29:30.063Z"
   },
   {
    "duration": 1686,
    "start_time": "2024-01-19T09:29:30.071Z"
   },
   {
    "duration": 14,
    "start_time": "2024-01-19T09:29:31.759Z"
   },
   {
    "duration": 22,
    "start_time": "2024-01-19T09:29:31.774Z"
   },
   {
    "duration": 37,
    "start_time": "2024-01-19T09:29:31.798Z"
   },
   {
    "duration": 84,
    "start_time": "2024-01-19T09:29:31.836Z"
   },
   {
    "duration": 2,
    "start_time": "2024-01-19T09:29:31.922Z"
   },
   {
    "duration": 49,
    "start_time": "2024-01-19T09:29:31.925Z"
   },
   {
    "duration": 214,
    "start_time": "2024-01-19T09:29:31.976Z"
   },
   {
    "duration": 115,
    "start_time": "2024-01-19T09:29:32.191Z"
   },
   {
    "duration": 10,
    "start_time": "2024-01-19T09:29:32.307Z"
   },
   {
    "duration": 8,
    "start_time": "2024-01-19T09:30:53.128Z"
   },
   {
    "duration": 773,
    "start_time": "2024-01-19T09:31:30.173Z"
   },
   {
    "duration": 748,
    "start_time": "2024-01-19T09:32:14.537Z"
   },
   {
    "duration": 11,
    "start_time": "2024-01-19T09:33:38.558Z"
   },
   {
    "duration": 1101,
    "start_time": "2024-01-19T09:33:52.515Z"
   },
   {
    "duration": 382,
    "start_time": "2024-01-19T09:34:10.321Z"
   },
   {
    "duration": 360,
    "start_time": "2024-01-19T09:34:22.408Z"
   },
   {
    "duration": 329,
    "start_time": "2024-01-19T09:34:35.430Z"
   },
   {
    "duration": 768,
    "start_time": "2024-01-19T09:34:50.031Z"
   },
   {
    "duration": 736,
    "start_time": "2024-01-19T09:34:57.434Z"
   },
   {
    "duration": 708,
    "start_time": "2024-01-19T09:35:09.391Z"
   },
   {
    "duration": 16,
    "start_time": "2024-01-19T09:38:00.287Z"
   },
   {
    "duration": 24,
    "start_time": "2024-01-19T09:38:17.194Z"
   },
   {
    "duration": 23,
    "start_time": "2024-01-19T09:38:31.757Z"
   },
   {
    "duration": 647,
    "start_time": "2024-01-19T09:38:38.353Z"
   },
   {
    "duration": 23,
    "start_time": "2024-01-19T09:38:42.322Z"
   },
   {
    "duration": 7,
    "start_time": "2024-01-19T09:41:13.371Z"
   },
   {
    "duration": 77,
    "start_time": "2024-01-19T09:41:18.826Z"
   },
   {
    "duration": 12,
    "start_time": "2024-01-19T09:41:31.537Z"
   },
   {
    "duration": 8,
    "start_time": "2024-01-19T09:50:11.982Z"
   },
   {
    "duration": 95,
    "start_time": "2024-01-19T09:50:20.557Z"
   },
   {
    "duration": 107,
    "start_time": "2024-01-19T09:50:35.606Z"
   },
   {
    "duration": 97,
    "start_time": "2024-01-19T09:51:05.048Z"
   },
   {
    "duration": 102,
    "start_time": "2024-01-19T09:51:53.358Z"
   },
   {
    "duration": 10,
    "start_time": "2024-01-19T09:51:56.682Z"
   },
   {
    "duration": 67,
    "start_time": "2024-01-19T09:52:02.460Z"
   },
   {
    "duration": 3,
    "start_time": "2024-01-19T09:52:31.355Z"
   },
   {
    "duration": 3,
    "start_time": "2024-01-19T09:52:35.613Z"
   },
   {
    "duration": 87,
    "start_time": "2024-01-19T09:52:46.877Z"
   },
   {
    "duration": 91,
    "start_time": "2024-01-19T09:53:05.435Z"
   },
   {
    "duration": 7,
    "start_time": "2024-01-19T09:56:24.550Z"
   },
   {
    "duration": 4,
    "start_time": "2024-01-19T09:56:33.483Z"
   },
   {
    "duration": 4,
    "start_time": "2024-01-19T09:56:41.015Z"
   },
   {
    "duration": 4,
    "start_time": "2024-01-19T09:56:48.386Z"
   },
   {
    "duration": 4,
    "start_time": "2024-01-19T09:56:53.016Z"
   },
   {
    "duration": 3,
    "start_time": "2024-01-19T09:57:05.039Z"
   },
   {
    "duration": 311,
    "start_time": "2024-01-19T09:57:25.104Z"
   },
   {
    "duration": 3,
    "start_time": "2024-01-19T09:57:36.611Z"
   },
   {
    "duration": 3,
    "start_time": "2024-01-19T09:57:44.318Z"
   },
   {
    "duration": 333,
    "start_time": "2024-01-19T09:57:55.664Z"
   },
   {
    "duration": 8,
    "start_time": "2024-01-19T09:59:13.289Z"
   },
   {
    "duration": 4,
    "start_time": "2024-01-19T09:59:24.697Z"
   },
   {
    "duration": 4,
    "start_time": "2024-01-19T09:59:29.457Z"
   },
   {
    "duration": 3,
    "start_time": "2024-01-19T09:59:53.827Z"
   },
   {
    "duration": 7,
    "start_time": "2024-01-19T10:00:05.334Z"
   },
   {
    "duration": 8,
    "start_time": "2024-01-19T10:00:22.592Z"
   },
   {
    "duration": 3,
    "start_time": "2024-01-19T10:00:33.163Z"
   },
   {
    "duration": 5,
    "start_time": "2024-01-19T10:00:38.994Z"
   },
   {
    "duration": 4,
    "start_time": "2024-01-19T10:00:50.908Z"
   },
   {
    "duration": 8,
    "start_time": "2024-01-19T10:02:44.022Z"
   },
   {
    "duration": 7,
    "start_time": "2024-01-19T10:02:55.711Z"
   },
   {
    "duration": 6,
    "start_time": "2024-01-19T10:02:58.802Z"
   },
   {
    "duration": 55,
    "start_time": "2024-01-19T10:03:01.332Z"
   },
   {
    "duration": 65,
    "start_time": "2024-01-19T10:03:10.761Z"
   },
   {
    "duration": 91,
    "start_time": "2024-01-19T10:06:26.185Z"
   },
   {
    "duration": 5,
    "start_time": "2024-01-19T10:07:18.761Z"
   },
   {
    "duration": 82,
    "start_time": "2024-01-19T10:07:36.168Z"
   },
   {
    "duration": 5,
    "start_time": "2024-01-19T10:07:41.361Z"
   },
   {
    "duration": 74,
    "start_time": "2024-01-19T10:08:03.095Z"
   },
   {
    "duration": 6,
    "start_time": "2024-01-19T10:09:56.542Z"
   },
   {
    "duration": 115,
    "start_time": "2024-01-19T10:09:58.237Z"
   },
   {
    "duration": 397,
    "start_time": "2024-01-19T10:10:31.985Z"
   },
   {
    "duration": 7,
    "start_time": "2024-01-19T10:10:46.826Z"
   },
   {
    "duration": 363,
    "start_time": "2024-01-19T10:10:49.170Z"
   },
   {
    "duration": 7,
    "start_time": "2024-01-19T10:11:00.452Z"
   },
   {
    "duration": 381,
    "start_time": "2024-01-19T10:11:02.698Z"
   },
   {
    "duration": 95,
    "start_time": "2024-01-19T10:11:36.064Z"
   },
   {
    "duration": 7,
    "start_time": "2024-01-19T10:11:42.694Z"
   },
   {
    "duration": 379,
    "start_time": "2024-01-19T10:11:46.493Z"
   },
   {
    "duration": 7,
    "start_time": "2024-01-19T10:12:33.024Z"
   },
   {
    "duration": 379,
    "start_time": "2024-01-19T10:12:35.481Z"
   },
   {
    "duration": 8,
    "start_time": "2024-01-19T10:13:00.753Z"
   },
   {
    "duration": 382,
    "start_time": "2024-01-19T10:13:03.247Z"
   },
   {
    "duration": 104,
    "start_time": "2024-01-19T10:13:04.944Z"
   },
   {
    "duration": 11,
    "start_time": "2024-01-19T10:13:38.432Z"
   },
   {
    "duration": 10,
    "start_time": "2024-01-19T10:14:31.864Z"
   },
   {
    "duration": 8,
    "start_time": "2024-01-19T10:14:51.639Z"
   },
   {
    "duration": 102,
    "start_time": "2024-01-19T10:14:53.791Z"
   },
   {
    "duration": 6,
    "start_time": "2024-01-19T10:15:14.849Z"
   },
   {
    "duration": 66,
    "start_time": "2024-01-19T10:15:49.443Z"
   },
   {
    "duration": 77,
    "start_time": "2024-01-19T10:19:32.882Z"
   },
   {
    "duration": 81,
    "start_time": "2024-01-19T10:19:47.208Z"
   },
   {
    "duration": 75,
    "start_time": "2024-01-19T10:20:14.163Z"
   },
   {
    "duration": 80,
    "start_time": "2024-01-19T10:20:35.118Z"
   },
   {
    "duration": 71,
    "start_time": "2024-01-19T10:20:46.845Z"
   },
   {
    "duration": 82,
    "start_time": "2024-01-19T10:21:05.554Z"
   },
   {
    "duration": 4,
    "start_time": "2024-01-19T10:21:33.818Z"
   },
   {
    "duration": 26,
    "start_time": "2024-01-19T10:21:43.569Z"
   },
   {
    "duration": 3,
    "start_time": "2024-01-19T10:22:24.379Z"
   },
   {
    "duration": 4,
    "start_time": "2024-01-19T10:22:35.999Z"
   },
   {
    "duration": 38,
    "start_time": "2024-01-19T10:25:55.414Z"
   },
   {
    "duration": 68,
    "start_time": "2024-01-19T10:29:14.004Z"
   },
   {
    "duration": 110,
    "start_time": "2024-01-19T10:29:33.385Z"
   },
   {
    "duration": 69,
    "start_time": "2024-01-19T10:31:19.919Z"
   },
   {
    "duration": 72,
    "start_time": "2024-01-19T10:31:42.754Z"
   },
   {
    "duration": 77,
    "start_time": "2024-01-19T10:32:05.267Z"
   },
   {
    "duration": 3,
    "start_time": "2024-01-19T10:32:18.262Z"
   },
   {
    "duration": 3,
    "start_time": "2024-01-19T10:32:20.562Z"
   },
   {
    "duration": 4,
    "start_time": "2024-01-19T10:32:27.819Z"
   },
   {
    "duration": 4,
    "start_time": "2024-01-19T10:32:29.846Z"
   },
   {
    "duration": 4,
    "start_time": "2024-01-19T10:32:36.949Z"
   },
   {
    "duration": 4,
    "start_time": "2024-01-19T10:32:46.945Z"
   },
   {
    "duration": 4,
    "start_time": "2024-01-19T10:32:52.982Z"
   },
   {
    "duration": 3,
    "start_time": "2024-01-19T10:33:00.563Z"
   },
   {
    "duration": 4,
    "start_time": "2024-01-19T10:33:05.333Z"
   },
   {
    "duration": 4,
    "start_time": "2024-01-19T10:33:13.102Z"
   },
   {
    "duration": 4,
    "start_time": "2024-01-19T10:33:22.595Z"
   },
   {
    "duration": 77,
    "start_time": "2024-01-19T10:33:39.672Z"
   },
   {
    "duration": 9,
    "start_time": "2024-01-19T10:36:25.662Z"
   },
   {
    "duration": 121,
    "start_time": "2024-01-19T10:36:29.563Z"
   },
   {
    "duration": 83,
    "start_time": "2024-01-19T10:38:16.445Z"
   },
   {
    "duration": 7,
    "start_time": "2024-01-19T10:38:47.401Z"
   },
   {
    "duration": 105,
    "start_time": "2024-01-19T10:38:48.511Z"
   },
   {
    "duration": 71,
    "start_time": "2024-01-19T10:39:08.363Z"
   },
   {
    "duration": 7,
    "start_time": "2024-01-19T10:40:31.036Z"
   },
   {
    "duration": 113,
    "start_time": "2024-01-19T10:40:31.979Z"
   },
   {
    "duration": 73,
    "start_time": "2024-01-19T10:40:52.862Z"
   },
   {
    "duration": 71,
    "start_time": "2024-01-19T10:41:19.673Z"
   },
   {
    "duration": 8,
    "start_time": "2024-01-19T10:41:24.228Z"
   },
   {
    "duration": 126,
    "start_time": "2024-01-19T10:41:24.798Z"
   },
   {
    "duration": 71,
    "start_time": "2024-01-19T10:41:52.458Z"
   },
   {
    "duration": 8,
    "start_time": "2024-01-19T10:41:59.137Z"
   },
   {
    "duration": 112,
    "start_time": "2024-01-19T10:42:00.374Z"
   },
   {
    "duration": 75,
    "start_time": "2024-01-19T10:42:29.855Z"
   },
   {
    "duration": 71,
    "start_time": "2024-01-19T10:42:33.678Z"
   },
   {
    "duration": 11,
    "start_time": "2024-01-19T10:42:50.180Z"
   },
   {
    "duration": 118,
    "start_time": "2024-01-19T10:42:50.811Z"
   },
   {
    "duration": 70,
    "start_time": "2024-01-19T10:43:40.629Z"
   },
   {
    "duration": 70,
    "start_time": "2024-01-19T10:43:53.854Z"
   },
   {
    "duration": 5,
    "start_time": "2024-01-19T10:43:59.627Z"
   },
   {
    "duration": 8,
    "start_time": "2024-01-19T10:44:52.765Z"
   },
   {
    "duration": 7,
    "start_time": "2024-01-19T10:45:14.929Z"
   },
   {
    "duration": 122,
    "start_time": "2024-01-19T10:45:16.368Z"
   },
   {
    "duration": 5,
    "start_time": "2024-01-19T10:45:25.653Z"
   },
   {
    "duration": 8,
    "start_time": "2024-01-19T10:45:53.926Z"
   },
   {
    "duration": 114,
    "start_time": "2024-01-19T10:45:54.623Z"
   },
   {
    "duration": 7,
    "start_time": "2024-01-19T10:47:45.009Z"
   },
   {
    "duration": 10,
    "start_time": "2024-01-19T10:48:29.426Z"
   },
   {
    "duration": 8,
    "start_time": "2024-01-19T10:48:46.077Z"
   },
   {
    "duration": 449,
    "start_time": "2024-01-19T10:49:15.425Z"
   },
   {
    "duration": 470,
    "start_time": "2024-01-19T10:50:07.088Z"
   },
   {
    "duration": 481,
    "start_time": "2024-01-19T10:50:22.250Z"
   },
   {
    "duration": 457,
    "start_time": "2024-01-19T10:50:29.379Z"
   },
   {
    "duration": 458,
    "start_time": "2024-01-19T10:50:43.327Z"
   },
   {
    "duration": 104,
    "start_time": "2024-01-19T10:50:49.173Z"
   },
   {
    "duration": 981,
    "start_time": "2024-01-19T10:51:19.399Z"
   },
   {
    "duration": 176,
    "start_time": "2024-01-19T10:51:20.382Z"
   },
   {
    "duration": 151,
    "start_time": "2024-01-19T10:51:20.559Z"
   },
   {
    "duration": 15787,
    "start_time": "2024-01-19T10:51:20.712Z"
   },
   {
    "duration": 68,
    "start_time": "2024-01-19T10:51:36.501Z"
   },
   {
    "duration": 7,
    "start_time": "2024-01-19T10:51:36.570Z"
   },
   {
    "duration": 45,
    "start_time": "2024-01-19T10:51:36.578Z"
   },
   {
    "duration": 20,
    "start_time": "2024-01-19T10:51:36.625Z"
   },
   {
    "duration": 62,
    "start_time": "2024-01-19T10:51:36.646Z"
   },
   {
    "duration": 96,
    "start_time": "2024-01-19T10:51:36.710Z"
   },
   {
    "duration": 286,
    "start_time": "2024-01-19T10:51:36.807Z"
   },
   {
    "duration": 30,
    "start_time": "2024-01-19T10:51:37.094Z"
   },
   {
    "duration": 168,
    "start_time": "2024-01-19T10:51:37.126Z"
   },
   {
    "duration": 14,
    "start_time": "2024-01-19T10:51:37.295Z"
   },
   {
    "duration": 108,
    "start_time": "2024-01-19T10:51:37.310Z"
   },
   {
    "duration": 37,
    "start_time": "2024-01-19T10:51:37.420Z"
   },
   {
    "duration": 119,
    "start_time": "2024-01-19T10:51:37.459Z"
   },
   {
    "duration": 17211,
    "start_time": "2024-01-19T10:51:37.580Z"
   },
   {
    "duration": 6,
    "start_time": "2024-01-19T10:51:54.792Z"
   },
   {
    "duration": 1484,
    "start_time": "2024-01-19T10:51:54.800Z"
   },
   {
    "duration": 14,
    "start_time": "2024-01-19T10:51:56.285Z"
   },
   {
    "duration": 25,
    "start_time": "2024-01-19T10:51:56.301Z"
   },
   {
    "duration": 45,
    "start_time": "2024-01-19T10:51:56.327Z"
   },
   {
    "duration": 65,
    "start_time": "2024-01-19T10:51:56.374Z"
   },
   {
    "duration": 7,
    "start_time": "2024-01-19T10:51:56.441Z"
   },
   {
    "duration": 108,
    "start_time": "2024-01-19T10:51:56.449Z"
   },
   {
    "duration": 0,
    "start_time": "2024-01-19T10:51:56.558Z"
   },
   {
    "duration": 0,
    "start_time": "2024-01-19T10:51:56.559Z"
   },
   {
    "duration": 7,
    "start_time": "2024-01-19T10:52:04.433Z"
   },
   {
    "duration": 88,
    "start_time": "2024-01-19T10:53:10.022Z"
   },
   {
    "duration": 6,
    "start_time": "2024-01-19T10:53:14.080Z"
   },
   {
    "duration": 425,
    "start_time": "2024-01-19T10:53:16.073Z"
   },
   {
    "duration": 1009,
    "start_time": "2024-01-19T10:53:21.770Z"
   },
   {
    "duration": 177,
    "start_time": "2024-01-19T10:53:22.781Z"
   },
   {
    "duration": 153,
    "start_time": "2024-01-19T10:53:22.959Z"
   },
   {
    "duration": 15787,
    "start_time": "2024-01-19T10:53:23.114Z"
   },
   {
    "duration": 73,
    "start_time": "2024-01-19T10:53:38.902Z"
   },
   {
    "duration": 7,
    "start_time": "2024-01-19T10:53:38.976Z"
   },
   {
    "duration": 53,
    "start_time": "2024-01-19T10:53:38.984Z"
   },
   {
    "duration": 19,
    "start_time": "2024-01-19T10:53:39.038Z"
   },
   {
    "duration": 38,
    "start_time": "2024-01-19T10:53:39.058Z"
   },
   {
    "duration": 85,
    "start_time": "2024-01-19T10:53:39.098Z"
   },
   {
    "duration": 330,
    "start_time": "2024-01-19T10:53:39.184Z"
   },
   {
    "duration": 36,
    "start_time": "2024-01-19T10:53:39.516Z"
   },
   {
    "duration": 154,
    "start_time": "2024-01-19T10:53:39.553Z"
   },
   {
    "duration": 13,
    "start_time": "2024-01-19T10:53:39.708Z"
   },
   {
    "duration": 49,
    "start_time": "2024-01-19T10:53:39.723Z"
   },
   {
    "duration": 33,
    "start_time": "2024-01-19T10:53:39.774Z"
   },
   {
    "duration": 119,
    "start_time": "2024-01-19T10:53:39.809Z"
   },
   {
    "duration": 16837,
    "start_time": "2024-01-19T10:53:39.929Z"
   },
   {
    "duration": 7,
    "start_time": "2024-01-19T10:53:56.767Z"
   },
   {
    "duration": 1643,
    "start_time": "2024-01-19T10:53:56.775Z"
   },
   {
    "duration": 13,
    "start_time": "2024-01-19T10:53:58.420Z"
   },
   {
    "duration": 49,
    "start_time": "2024-01-19T10:53:58.435Z"
   },
   {
    "duration": 17,
    "start_time": "2024-01-19T10:53:58.485Z"
   },
   {
    "duration": 47,
    "start_time": "2024-01-19T10:53:58.503Z"
   },
   {
    "duration": 6,
    "start_time": "2024-01-19T10:53:58.552Z"
   },
   {
    "duration": 589,
    "start_time": "2024-01-19T10:53:58.559Z"
   },
   {
    "duration": 490,
    "start_time": "2024-01-19T10:53:59.150Z"
   },
   {
    "duration": 501,
    "start_time": "2024-01-19T10:53:59.646Z"
   },
   {
    "duration": 1346,
    "start_time": "2024-01-19T10:54:23.824Z"
   },
   {
    "duration": 1441,
    "start_time": "2024-01-19T10:54:44.119Z"
   },
   {
    "duration": 1401,
    "start_time": "2024-01-19T10:55:11.454Z"
   },
   {
    "duration": 7,
    "start_time": "2024-01-19T11:06:30.302Z"
   },
   {
    "duration": 441,
    "start_time": "2024-01-19T11:06:33.753Z"
   },
   {
    "duration": 7,
    "start_time": "2024-01-19T11:06:42.973Z"
   },
   {
    "duration": 440,
    "start_time": "2024-01-19T11:06:43.620Z"
   },
   {
    "duration": 6,
    "start_time": "2024-01-19T11:06:51.254Z"
   },
   {
    "duration": 445,
    "start_time": "2024-01-19T11:06:51.936Z"
   },
   {
    "duration": 7,
    "start_time": "2024-01-19T11:07:54.275Z"
   },
   {
    "duration": 460,
    "start_time": "2024-01-19T11:07:54.910Z"
   },
   {
    "duration": 1421,
    "start_time": "2024-01-19T11:08:03.117Z"
   },
   {
    "duration": 7,
    "start_time": "2024-01-19T11:12:00.916Z"
   },
   {
    "duration": 122,
    "start_time": "2024-01-19T11:12:02.824Z"
   },
   {
    "duration": 7,
    "start_time": "2024-01-19T11:13:09.207Z"
   },
   {
    "duration": 454,
    "start_time": "2024-01-19T11:13:09.751Z"
   },
   {
    "duration": 7,
    "start_time": "2024-01-19T11:14:21.455Z"
   },
   {
    "duration": 471,
    "start_time": "2024-01-19T11:14:21.939Z"
   },
   {
    "duration": 7,
    "start_time": "2024-01-19T11:14:36.562Z"
   },
   {
    "duration": 3,
    "start_time": "2024-01-19T11:15:42.815Z"
   },
   {
    "duration": 3,
    "start_time": "2024-01-19T11:15:48.657Z"
   },
   {
    "duration": 8,
    "start_time": "2024-01-19T11:15:59.018Z"
   },
   {
    "duration": 4,
    "start_time": "2024-01-19T11:16:05.083Z"
   },
   {
    "duration": 9,
    "start_time": "2024-01-19T11:16:53.465Z"
   },
   {
    "duration": 4,
    "start_time": "2024-01-19T11:16:55.893Z"
   },
   {
    "duration": 4,
    "start_time": "2024-01-19T11:17:01.247Z"
   },
   {
    "duration": 2,
    "start_time": "2024-01-19T11:17:37.500Z"
   },
   {
    "duration": 4,
    "start_time": "2024-01-19T11:17:40.315Z"
   },
   {
    "duration": 7,
    "start_time": "2024-01-19T11:19:35.873Z"
   },
   {
    "duration": 457,
    "start_time": "2024-01-19T11:19:38.006Z"
   },
   {
    "duration": 3,
    "start_time": "2024-01-19T11:21:49.903Z"
   },
   {
    "duration": 5,
    "start_time": "2024-01-19T11:22:09.183Z"
   },
   {
    "duration": 3,
    "start_time": "2024-01-19T11:23:49.410Z"
   },
   {
    "duration": 7,
    "start_time": "2024-01-19T11:24:07.304Z"
   },
   {
    "duration": 7,
    "start_time": "2024-01-19T11:26:07.852Z"
   },
   {
    "duration": 7,
    "start_time": "2024-01-19T11:26:14.624Z"
   },
   {
    "duration": 3,
    "start_time": "2024-01-19T11:26:53.749Z"
   },
   {
    "duration": 7,
    "start_time": "2024-01-19T11:26:57.751Z"
   },
   {
    "duration": 3,
    "start_time": "2024-01-19T11:27:01.701Z"
   },
   {
    "duration": 3,
    "start_time": "2024-01-19T11:27:21.847Z"
   },
   {
    "duration": 3,
    "start_time": "2024-01-19T11:27:31.294Z"
   },
   {
    "duration": 3,
    "start_time": "2024-01-19T11:27:37.232Z"
   },
   {
    "duration": 8,
    "start_time": "2024-01-19T11:28:06.634Z"
   },
   {
    "duration": 102,
    "start_time": "2024-01-19T11:28:09.482Z"
   },
   {
    "duration": 7,
    "start_time": "2024-01-19T11:28:10.486Z"
   },
   {
    "duration": 3,
    "start_time": "2024-01-19T11:28:27.179Z"
   },
   {
    "duration": 10,
    "start_time": "2024-01-19T11:28:27.858Z"
   },
   {
    "duration": 14,
    "start_time": "2024-01-19T11:28:34.857Z"
   },
   {
    "duration": 18,
    "start_time": "2024-01-19T11:29:26.006Z"
   },
   {
    "duration": 3,
    "start_time": "2024-01-19T11:29:27.950Z"
   },
   {
    "duration": 19,
    "start_time": "2024-01-19T11:29:28.633Z"
   },
   {
    "duration": 16,
    "start_time": "2024-01-19T11:29:33.103Z"
   },
   {
    "duration": 4,
    "start_time": "2024-01-19T11:30:49.832Z"
   },
   {
    "duration": 21,
    "start_time": "2024-01-19T11:30:50.700Z"
   },
   {
    "duration": 3,
    "start_time": "2024-01-19T11:31:46.030Z"
   },
   {
    "duration": 4,
    "start_time": "2024-01-19T11:32:27.953Z"
   },
   {
    "duration": 11,
    "start_time": "2024-01-19T11:32:28.721Z"
   },
   {
    "duration": 3,
    "start_time": "2024-01-19T11:33:04.857Z"
   },
   {
    "duration": 16,
    "start_time": "2024-01-19T11:33:05.383Z"
   },
   {
    "duration": 4,
    "start_time": "2024-01-19T11:34:06.508Z"
   },
   {
    "duration": 13,
    "start_time": "2024-01-19T11:34:07.122Z"
   },
   {
    "duration": 4,
    "start_time": "2024-01-19T11:34:37.963Z"
   },
   {
    "duration": 13,
    "start_time": "2024-01-19T11:34:38.534Z"
   },
   {
    "duration": 4,
    "start_time": "2024-01-19T11:34:54.376Z"
   },
   {
    "duration": 15,
    "start_time": "2024-01-19T11:34:55.441Z"
   },
   {
    "duration": 19,
    "start_time": "2024-01-19T11:35:45.226Z"
   },
   {
    "duration": 98,
    "start_time": "2024-01-19T11:41:57.353Z"
   },
   {
    "duration": 5,
    "start_time": "2024-01-19T11:42:40.632Z"
   },
   {
    "duration": 89,
    "start_time": "2024-01-19T11:43:15.792Z"
   },
   {
    "duration": 5,
    "start_time": "2024-01-19T11:43:29.680Z"
   },
   {
    "duration": 311,
    "start_time": "2024-01-19T11:43:30.319Z"
   },
   {
    "duration": 6,
    "start_time": "2024-01-19T11:44:01.668Z"
   },
   {
    "duration": 346,
    "start_time": "2024-01-19T11:44:02.167Z"
   },
   {
    "duration": 6,
    "start_time": "2024-01-19T11:44:22.546Z"
   },
   {
    "duration": 264,
    "start_time": "2024-01-19T11:44:23.074Z"
   },
   {
    "duration": 10,
    "start_time": "2024-01-19T11:46:33.609Z"
   },
   {
    "duration": 274,
    "start_time": "2024-01-19T11:46:34.195Z"
   },
   {
    "duration": 6,
    "start_time": "2024-01-19T11:46:41.676Z"
   },
   {
    "duration": 252,
    "start_time": "2024-01-19T11:46:42.516Z"
   },
   {
    "duration": 9,
    "start_time": "2024-01-19T11:47:11.496Z"
   },
   {
    "duration": 244,
    "start_time": "2024-01-19T11:47:11.988Z"
   },
   {
    "duration": 7,
    "start_time": "2024-01-19T11:48:07.352Z"
   },
   {
    "duration": 81,
    "start_time": "2024-01-19T11:48:07.911Z"
   },
   {
    "duration": 37,
    "start_time": "2024-01-19T11:48:43.501Z"
   },
   {
    "duration": 30,
    "start_time": "2024-01-19T11:48:54.982Z"
   },
   {
    "duration": 6,
    "start_time": "2024-01-19T11:49:24.504Z"
   },
   {
    "duration": 78,
    "start_time": "2024-01-19T11:49:25.763Z"
   },
   {
    "duration": 1124,
    "start_time": "2024-01-19T11:49:46.278Z"
   },
   {
    "duration": 185,
    "start_time": "2024-01-19T11:49:47.403Z"
   },
   {
    "duration": 180,
    "start_time": "2024-01-19T11:49:47.590Z"
   },
   {
    "duration": 16129,
    "start_time": "2024-01-19T11:49:47.772Z"
   },
   {
    "duration": 72,
    "start_time": "2024-01-19T11:50:03.902Z"
   },
   {
    "duration": 9,
    "start_time": "2024-01-19T11:50:03.984Z"
   },
   {
    "duration": 51,
    "start_time": "2024-01-19T11:50:03.995Z"
   },
   {
    "duration": 20,
    "start_time": "2024-01-19T11:50:04.047Z"
   },
   {
    "duration": 36,
    "start_time": "2024-01-19T11:50:04.068Z"
   },
   {
    "duration": 71,
    "start_time": "2024-01-19T11:50:04.107Z"
   },
   {
    "duration": 320,
    "start_time": "2024-01-19T11:50:04.179Z"
   },
   {
    "duration": 31,
    "start_time": "2024-01-19T11:50:04.501Z"
   },
   {
    "duration": 159,
    "start_time": "2024-01-19T11:50:04.545Z"
   },
   {
    "duration": 14,
    "start_time": "2024-01-19T11:50:04.705Z"
   },
   {
    "duration": 37,
    "start_time": "2024-01-19T11:50:04.721Z"
   },
   {
    "duration": 12,
    "start_time": "2024-01-19T11:50:04.760Z"
   },
   {
    "duration": 107,
    "start_time": "2024-01-19T11:50:04.773Z"
   },
   {
    "duration": 18337,
    "start_time": "2024-01-19T11:50:04.881Z"
   },
   {
    "duration": 7,
    "start_time": "2024-01-19T11:50:23.220Z"
   },
   {
    "duration": 1523,
    "start_time": "2024-01-19T11:50:23.229Z"
   },
   {
    "duration": 16,
    "start_time": "2024-01-19T11:50:24.754Z"
   },
   {
    "duration": 19,
    "start_time": "2024-01-19T11:50:24.772Z"
   },
   {
    "duration": 27,
    "start_time": "2024-01-19T11:50:24.792Z"
   },
   {
    "duration": 113,
    "start_time": "2024-01-19T11:50:24.820Z"
   },
   {
    "duration": 8,
    "start_time": "2024-01-19T11:50:24.934Z"
   },
   {
    "duration": 581,
    "start_time": "2024-01-19T11:50:24.944Z"
   },
   {
    "duration": 1353,
    "start_time": "2024-01-19T11:50:25.526Z"
   },
   {
    "duration": 7,
    "start_time": "2024-01-19T11:50:26.882Z"
   },
   {
    "duration": 90,
    "start_time": "2024-01-19T11:50:26.890Z"
   },
   {
    "duration": 0,
    "start_time": "2024-01-19T11:50:26.982Z"
   },
   {
    "duration": 7,
    "start_time": "2024-01-19T11:50:40.593Z"
   },
   {
    "duration": 226,
    "start_time": "2024-01-19T11:50:41.198Z"
   },
   {
    "duration": 7,
    "start_time": "2024-01-19T11:50:57.295Z"
   },
   {
    "duration": 220,
    "start_time": "2024-01-19T11:50:57.812Z"
   },
   {
    "duration": 6,
    "start_time": "2024-01-19T11:51:34.927Z"
   },
   {
    "duration": 79,
    "start_time": "2024-01-19T11:51:35.494Z"
   },
   {
    "duration": 6,
    "start_time": "2024-01-19T11:51:46.862Z"
   },
   {
    "duration": 216,
    "start_time": "2024-01-19T11:51:47.274Z"
   },
   {
    "duration": 23,
    "start_time": "2024-01-19T11:51:57.976Z"
   },
   {
    "duration": 33,
    "start_time": "2024-01-19T11:52:10.403Z"
   },
   {
    "duration": 21,
    "start_time": "2024-01-19T11:52:19.927Z"
   },
   {
    "duration": 32,
    "start_time": "2024-01-19T11:52:33.195Z"
   },
   {
    "duration": 32,
    "start_time": "2024-01-19T11:52:53.317Z"
   },
   {
    "duration": 34,
    "start_time": "2024-01-19T11:52:58.351Z"
   },
   {
    "duration": 6,
    "start_time": "2024-01-19T11:53:59.044Z"
   },
   {
    "duration": 258,
    "start_time": "2024-01-19T11:53:59.795Z"
   },
   {
    "duration": 7,
    "start_time": "2024-01-19T11:56:05.638Z"
   },
   {
    "duration": 8,
    "start_time": "2024-01-19T11:56:05.862Z"
   },
   {
    "duration": 11,
    "start_time": "2024-01-19T11:56:16.985Z"
   },
   {
    "duration": 7,
    "start_time": "2024-01-19T11:56:30.342Z"
   },
   {
    "duration": 265,
    "start_time": "2024-01-19T11:56:30.896Z"
   },
   {
    "duration": 10,
    "start_time": "2024-01-19T11:56:50.510Z"
   },
   {
    "duration": 263,
    "start_time": "2024-01-19T11:56:51.020Z"
   },
   {
    "duration": 6,
    "start_time": "2024-01-19T11:58:58.136Z"
   },
   {
    "duration": 255,
    "start_time": "2024-01-19T11:59:00.854Z"
   },
   {
    "duration": 502,
    "start_time": "2024-01-19T11:59:10.487Z"
   },
   {
    "duration": 10,
    "start_time": "2024-01-19T12:00:11.067Z"
   },
   {
    "duration": 508,
    "start_time": "2024-01-19T12:00:12.034Z"
   },
   {
    "duration": 11,
    "start_time": "2024-01-19T12:02:02.876Z"
   },
   {
    "duration": 527,
    "start_time": "2024-01-19T12:02:03.526Z"
   },
   {
    "duration": 3,
    "start_time": "2024-01-19T12:02:34.878Z"
   },
   {
    "duration": 122,
    "start_time": "2024-01-19T12:02:45.897Z"
   },
   {
    "duration": 2,
    "start_time": "2024-01-19T12:02:51.683Z"
   },
   {
    "duration": 3,
    "start_time": "2024-01-19T12:03:09.412Z"
   },
   {
    "duration": 4,
    "start_time": "2024-01-19T12:03:26.687Z"
   },
   {
    "duration": 5,
    "start_time": "2024-01-19T12:03:49.012Z"
   },
   {
    "duration": 3,
    "start_time": "2024-01-19T12:04:08.274Z"
   },
   {
    "duration": 5,
    "start_time": "2024-01-19T12:04:08.969Z"
   },
   {
    "duration": 550,
    "start_time": "2024-01-19T12:04:38.380Z"
   },
   {
    "duration": 9,
    "start_time": "2024-01-19T12:04:39.048Z"
   },
   {
    "duration": 7,
    "start_time": "2024-01-19T12:04:58.394Z"
   },
   {
    "duration": 491,
    "start_time": "2024-01-19T12:04:58.908Z"
   },
   {
    "duration": 8,
    "start_time": "2024-01-19T12:05:31.357Z"
   },
   {
    "duration": 527,
    "start_time": "2024-01-19T12:05:32.125Z"
   },
   {
    "duration": 786,
    "start_time": "2024-01-19T12:06:32.434Z"
   },
   {
    "duration": 10,
    "start_time": "2024-01-19T12:07:28.395Z"
   },
   {
    "duration": 657,
    "start_time": "2024-01-19T12:07:29.022Z"
   },
   {
    "duration": 7,
    "start_time": "2024-01-19T12:07:38.170Z"
   },
   {
    "duration": 653,
    "start_time": "2024-01-19T12:07:38.789Z"
   },
   {
    "duration": 9,
    "start_time": "2024-01-19T12:08:28.985Z"
   },
   {
    "duration": 792,
    "start_time": "2024-01-19T12:08:29.579Z"
   },
   {
    "duration": 7,
    "start_time": "2024-01-19T12:12:19.162Z"
   },
   {
    "duration": 9,
    "start_time": "2024-01-19T12:12:42.086Z"
   },
   {
    "duration": 9,
    "start_time": "2024-01-19T12:13:05.628Z"
   },
   {
    "duration": 9,
    "start_time": "2024-01-19T12:15:23.440Z"
   },
   {
    "duration": 9,
    "start_time": "2024-01-19T12:15:33.518Z"
   },
   {
    "duration": 7,
    "start_time": "2024-01-19T12:15:39.271Z"
   },
   {
    "duration": 11,
    "start_time": "2024-01-19T12:15:42.619Z"
   },
   {
    "duration": 6,
    "start_time": "2024-01-19T12:15:53.923Z"
   },
   {
    "duration": 865,
    "start_time": "2024-01-19T12:15:54.553Z"
   },
   {
    "duration": 998,
    "start_time": "2024-01-19T12:16:54.919Z"
   },
   {
    "duration": 1106,
    "start_time": "2024-01-19T12:17:48.440Z"
   },
   {
    "duration": 153,
    "start_time": "2024-01-19T12:18:32.912Z"
   },
   {
    "duration": 1091,
    "start_time": "2024-01-19T12:18:33.607Z"
   },
   {
    "duration": 7,
    "start_time": "2024-01-19T12:19:00.468Z"
   },
   {
    "duration": 12,
    "start_time": "2024-01-19T12:19:01.113Z"
   },
   {
    "duration": 7,
    "start_time": "2024-01-19T12:19:35.020Z"
   },
   {
    "duration": 12,
    "start_time": "2024-01-19T12:19:35.634Z"
   },
   {
    "duration": 7,
    "start_time": "2024-01-19T12:19:53.619Z"
   },
   {
    "duration": 1177,
    "start_time": "2024-01-19T12:19:54.125Z"
   },
   {
    "duration": 7,
    "start_time": "2024-01-19T12:20:04.764Z"
   },
   {
    "duration": 1289,
    "start_time": "2024-01-19T12:20:05.440Z"
   },
   {
    "duration": 8,
    "start_time": "2024-01-19T12:20:50.679Z"
   },
   {
    "duration": 2,
    "start_time": "2024-01-19T12:20:56.632Z"
   },
   {
    "duration": 7,
    "start_time": "2024-01-19T12:21:18.312Z"
   },
   {
    "duration": 7,
    "start_time": "2024-01-19T12:21:26.373Z"
   },
   {
    "duration": 4,
    "start_time": "2024-01-19T12:21:29.528Z"
   },
   {
    "duration": 1295,
    "start_time": "2024-01-19T12:22:59.244Z"
   },
   {
    "duration": 914,
    "start_time": "2024-01-19T12:24:03.367Z"
   },
   {
    "duration": 1130,
    "start_time": "2024-01-19T12:24:07.744Z"
   },
   {
    "duration": 1121,
    "start_time": "2024-01-19T12:24:24.355Z"
   },
   {
    "duration": 1100,
    "start_time": "2024-01-19T12:24:39.804Z"
   },
   {
    "duration": 1090,
    "start_time": "2024-01-19T12:24:50.019Z"
   },
   {
    "duration": 1177,
    "start_time": "2024-01-19T12:25:12.687Z"
   },
   {
    "duration": 1046,
    "start_time": "2024-01-19T15:52:02.433Z"
   },
   {
    "duration": 174,
    "start_time": "2024-01-19T15:52:03.480Z"
   },
   {
    "duration": 154,
    "start_time": "2024-01-19T15:52:03.656Z"
   },
   {
    "duration": 15639,
    "start_time": "2024-01-19T15:52:03.811Z"
   },
   {
    "duration": 63,
    "start_time": "2024-01-19T15:52:19.452Z"
   },
   {
    "duration": 7,
    "start_time": "2024-01-19T15:52:19.516Z"
   },
   {
    "duration": 47,
    "start_time": "2024-01-19T15:52:19.524Z"
   },
   {
    "duration": 18,
    "start_time": "2024-01-19T15:52:19.572Z"
   },
   {
    "duration": 34,
    "start_time": "2024-01-19T15:52:19.591Z"
   },
   {
    "duration": 70,
    "start_time": "2024-01-19T15:52:19.627Z"
   },
   {
    "duration": 299,
    "start_time": "2024-01-19T15:52:19.698Z"
   },
   {
    "duration": 30,
    "start_time": "2024-01-19T15:52:19.999Z"
   },
   {
    "duration": 161,
    "start_time": "2024-01-19T15:52:20.031Z"
   },
   {
    "duration": 13,
    "start_time": "2024-01-19T15:52:20.195Z"
   },
   {
    "duration": 36,
    "start_time": "2024-01-19T15:52:20.209Z"
   },
   {
    "duration": 10,
    "start_time": "2024-01-19T15:52:20.247Z"
   },
   {
    "duration": 100,
    "start_time": "2024-01-19T15:52:20.259Z"
   },
   {
    "duration": 17773,
    "start_time": "2024-01-19T15:52:20.360Z"
   },
   {
    "duration": 12,
    "start_time": "2024-01-19T15:52:38.134Z"
   },
   {
    "duration": 1520,
    "start_time": "2024-01-19T15:52:38.147Z"
   },
   {
    "duration": 14,
    "start_time": "2024-01-19T15:52:39.669Z"
   },
   {
    "duration": 26,
    "start_time": "2024-01-19T15:52:39.684Z"
   },
   {
    "duration": 12,
    "start_time": "2024-01-19T15:52:39.711Z"
   },
   {
    "duration": 77,
    "start_time": "2024-01-19T15:52:39.724Z"
   },
   {
    "duration": 6,
    "start_time": "2024-01-19T15:52:39.802Z"
   },
   {
    "duration": 567,
    "start_time": "2024-01-19T15:52:39.809Z"
   },
   {
    "duration": 1343,
    "start_time": "2024-01-19T15:52:40.377Z"
   },
   {
    "duration": 7,
    "start_time": "2024-01-19T15:52:41.722Z"
   },
   {
    "duration": 1158,
    "start_time": "2024-01-19T15:52:41.730Z"
   },
   {
    "duration": 1100,
    "start_time": "2024-01-19T15:52:42.890Z"
   },
   {
    "duration": 1053,
    "start_time": "2024-01-19T15:52:43.992Z"
   },
   {
    "duration": 1125,
    "start_time": "2024-01-19T15:52:45.046Z"
   },
   {
    "duration": 8,
    "start_time": "2024-01-19T16:03:47.960Z"
   },
   {
    "duration": 1107,
    "start_time": "2024-01-19T16:03:51.216Z"
   },
   {
    "duration": 1052,
    "start_time": "2024-01-19T16:04:36.331Z"
   },
   {
    "duration": 1113,
    "start_time": "2024-01-19T16:04:39.281Z"
   },
   {
    "duration": 1045,
    "start_time": "2024-01-19T16:04:53.924Z"
   },
   {
    "duration": 8,
    "start_time": "2024-01-19T16:12:37.749Z"
   },
   {
    "duration": 1182,
    "start_time": "2024-01-19T16:12:38.363Z"
   },
   {
    "duration": 1364,
    "start_time": "2024-01-19T16:14:07.683Z"
   },
   {
    "duration": 10,
    "start_time": "2024-01-19T16:15:00.846Z"
   },
   {
    "duration": 1225,
    "start_time": "2024-01-19T16:15:02.484Z"
   },
   {
    "duration": 1137,
    "start_time": "2024-01-19T16:15:05.087Z"
   },
   {
    "duration": 1214,
    "start_time": "2024-01-19T16:15:07.991Z"
   },
   {
    "duration": 9,
    "start_time": "2024-01-19T16:16:23.612Z"
   },
   {
    "duration": 1219,
    "start_time": "2024-01-19T16:16:26.667Z"
   },
   {
    "duration": 1179,
    "start_time": "2024-01-19T16:16:31.267Z"
   },
   {
    "duration": 1179,
    "start_time": "2024-01-19T16:16:34.069Z"
   },
   {
    "duration": 8,
    "start_time": "2024-01-19T16:17:31.607Z"
   },
   {
    "duration": 1212,
    "start_time": "2024-01-19T16:17:33.886Z"
   },
   {
    "duration": 8,
    "start_time": "2024-01-19T16:18:47.378Z"
   },
   {
    "duration": 413,
    "start_time": "2024-01-19T16:18:49.969Z"
   },
   {
    "duration": 8,
    "start_time": "2024-01-19T16:19:18.794Z"
   },
   {
    "duration": 414,
    "start_time": "2024-01-19T16:19:20.772Z"
   },
   {
    "duration": 4,
    "start_time": "2024-01-19T16:19:42.106Z"
   },
   {
    "duration": 8,
    "start_time": "2024-01-19T16:19:46.854Z"
   },
   {
    "duration": 3,
    "start_time": "2024-01-19T16:19:53.285Z"
   },
   {
    "duration": 5,
    "start_time": "2024-01-19T16:19:56.750Z"
   },
   {
    "duration": 3,
    "start_time": "2024-01-19T16:20:02.112Z"
   },
   {
    "duration": 7,
    "start_time": "2024-01-19T16:20:41.096Z"
   },
   {
    "duration": 1185,
    "start_time": "2024-01-19T16:20:43.771Z"
   },
   {
    "duration": 8,
    "start_time": "2024-01-19T16:22:38.916Z"
   },
   {
    "duration": 1183,
    "start_time": "2024-01-19T16:22:41.858Z"
   },
   {
    "duration": 1304,
    "start_time": "2024-01-19T16:23:27.223Z"
   },
   {
    "duration": 3,
    "start_time": "2024-01-19T16:25:37.369Z"
   },
   {
    "duration": 11,
    "start_time": "2024-01-19T16:26:59.222Z"
   },
   {
    "duration": 1233,
    "start_time": "2024-01-19T16:27:01.908Z"
   },
   {
    "duration": 9,
    "start_time": "2024-01-19T16:27:29.983Z"
   },
   {
    "duration": 1205,
    "start_time": "2024-01-19T16:27:31.547Z"
   },
   {
    "duration": 9,
    "start_time": "2024-01-19T16:28:01.925Z"
   },
   {
    "duration": 1218,
    "start_time": "2024-01-19T16:28:04.110Z"
   },
   {
    "duration": 9,
    "start_time": "2024-01-19T16:28:59.097Z"
   },
   {
    "duration": 1185,
    "start_time": "2024-01-19T16:29:03.912Z"
   },
   {
    "duration": 9,
    "start_time": "2024-01-19T16:29:29.268Z"
   },
   {
    "duration": 9,
    "start_time": "2024-01-19T16:29:30.607Z"
   },
   {
    "duration": 1228,
    "start_time": "2024-01-19T16:29:31.062Z"
   },
   {
    "duration": 1197,
    "start_time": "2024-01-19T16:29:39.138Z"
   },
   {
    "duration": 8,
    "start_time": "2024-01-19T16:30:20.398Z"
   },
   {
    "duration": 1127,
    "start_time": "2024-01-19T16:30:22.387Z"
   },
   {
    "duration": 4,
    "start_time": "2024-01-19T16:30:43.375Z"
   },
   {
    "duration": 8,
    "start_time": "2024-01-19T16:30:44.873Z"
   },
   {
    "duration": 3,
    "start_time": "2024-01-19T16:30:45.394Z"
   },
   {
    "duration": 1183,
    "start_time": "2024-01-19T16:30:58.254Z"
   },
   {
    "duration": 1164,
    "start_time": "2024-01-19T16:31:13.263Z"
   },
   {
    "duration": 8,
    "start_time": "2024-01-19T16:32:25.593Z"
   },
   {
    "duration": 1048,
    "start_time": "2024-01-19T16:32:27.802Z"
   },
   {
    "duration": 8,
    "start_time": "2024-01-19T16:32:58.475Z"
   },
   {
    "duration": 1105,
    "start_time": "2024-01-19T16:33:00.482Z"
   },
   {
    "duration": 7,
    "start_time": "2024-01-19T16:33:16.048Z"
   },
   {
    "duration": 1065,
    "start_time": "2024-01-19T16:33:17.844Z"
   },
   {
    "duration": 7,
    "start_time": "2024-01-19T16:34:52.521Z"
   },
   {
    "duration": 7,
    "start_time": "2024-01-19T16:36:43.123Z"
   },
   {
    "duration": 356,
    "start_time": "2024-01-19T16:36:54.098Z"
   },
   {
    "duration": 7,
    "start_time": "2024-01-19T16:37:30.583Z"
   },
   {
    "duration": 372,
    "start_time": "2024-01-19T16:37:32.474Z"
   },
   {
    "duration": 7,
    "start_time": "2024-01-19T16:37:54.793Z"
   },
   {
    "duration": 374,
    "start_time": "2024-01-19T16:37:57.261Z"
   },
   {
    "duration": 8,
    "start_time": "2024-01-19T16:38:11.093Z"
   },
   {
    "duration": 360,
    "start_time": "2024-01-19T16:38:12.536Z"
   },
   {
    "duration": 6,
    "start_time": "2024-01-19T16:38:33.957Z"
   },
   {
    "duration": 372,
    "start_time": "2024-01-19T16:38:35.583Z"
   },
   {
    "duration": 8,
    "start_time": "2024-01-19T16:40:23.336Z"
   },
   {
    "duration": 383,
    "start_time": "2024-01-19T16:40:25.168Z"
   },
   {
    "duration": 86,
    "start_time": "2024-01-19T16:41:11.298Z"
   },
   {
    "duration": 6,
    "start_time": "2024-01-19T16:41:57.290Z"
   },
   {
    "duration": 362,
    "start_time": "2024-01-19T16:41:59.050Z"
   },
   {
    "duration": 8,
    "start_time": "2024-01-19T16:43:27.491Z"
   },
   {
    "duration": 367,
    "start_time": "2024-01-19T16:43:29.217Z"
   },
   {
    "duration": 8,
    "start_time": "2024-01-19T16:43:36.783Z"
   },
   {
    "duration": 372,
    "start_time": "2024-01-19T16:43:42.801Z"
   },
   {
    "duration": 7,
    "start_time": "2024-01-19T16:44:38.401Z"
   },
   {
    "duration": 368,
    "start_time": "2024-01-19T16:44:40.777Z"
   },
   {
    "duration": 373,
    "start_time": "2024-01-19T16:44:45.408Z"
   },
   {
    "duration": 370,
    "start_time": "2024-01-19T16:44:49.283Z"
   },
   {
    "duration": 385,
    "start_time": "2024-01-19T16:44:51.078Z"
   },
   {
    "duration": 1036,
    "start_time": "2024-01-19T16:45:08.348Z"
   },
   {
    "duration": 176,
    "start_time": "2024-01-19T16:45:09.385Z"
   },
   {
    "duration": 148,
    "start_time": "2024-01-19T16:45:09.562Z"
   },
   {
    "duration": 15393,
    "start_time": "2024-01-19T16:45:09.712Z"
   },
   {
    "duration": 68,
    "start_time": "2024-01-19T16:45:25.106Z"
   },
   {
    "duration": 6,
    "start_time": "2024-01-19T16:45:25.175Z"
   },
   {
    "duration": 26,
    "start_time": "2024-01-19T16:45:25.182Z"
   },
   {
    "duration": 38,
    "start_time": "2024-01-19T16:45:25.209Z"
   },
   {
    "duration": 33,
    "start_time": "2024-01-19T16:45:25.248Z"
   },
   {
    "duration": 68,
    "start_time": "2024-01-19T16:45:25.283Z"
   },
   {
    "duration": 293,
    "start_time": "2024-01-19T16:45:25.352Z"
   },
   {
    "duration": 30,
    "start_time": "2024-01-19T16:45:25.646Z"
   },
   {
    "duration": 152,
    "start_time": "2024-01-19T16:45:25.678Z"
   },
   {
    "duration": 17,
    "start_time": "2024-01-19T16:45:25.832Z"
   },
   {
    "duration": 46,
    "start_time": "2024-01-19T16:45:25.850Z"
   },
   {
    "duration": 25,
    "start_time": "2024-01-19T16:45:25.898Z"
   },
   {
    "duration": 100,
    "start_time": "2024-01-19T16:45:25.924Z"
   },
   {
    "duration": 17020,
    "start_time": "2024-01-19T16:45:26.026Z"
   },
   {
    "duration": 7,
    "start_time": "2024-01-19T16:45:43.047Z"
   },
   {
    "duration": 1507,
    "start_time": "2024-01-19T16:45:43.056Z"
   },
   {
    "duration": 14,
    "start_time": "2024-01-19T16:45:44.564Z"
   },
   {
    "duration": 5,
    "start_time": "2024-01-19T16:45:44.579Z"
   },
   {
    "duration": 4,
    "start_time": "2024-01-19T16:45:44.585Z"
   },
   {
    "duration": 66,
    "start_time": "2024-01-19T16:45:44.590Z"
   },
   {
    "duration": 7,
    "start_time": "2024-01-19T16:45:44.658Z"
   },
   {
    "duration": 463,
    "start_time": "2024-01-19T16:45:44.666Z"
   },
   {
    "duration": 383,
    "start_time": "2024-01-19T16:45:45.130Z"
   },
   {
    "duration": 384,
    "start_time": "2024-01-19T16:45:45.515Z"
   },
   {
    "duration": 394,
    "start_time": "2024-01-19T16:45:45.900Z"
   },
   {
    "duration": 8,
    "start_time": "2024-01-19T16:47:02.101Z"
   },
   {
    "duration": 366,
    "start_time": "2024-01-19T16:47:04.597Z"
   },
   {
    "duration": 368,
    "start_time": "2024-01-19T16:47:12.978Z"
   },
   {
    "duration": 390,
    "start_time": "2024-01-19T16:47:15.267Z"
   },
   {
    "duration": 394,
    "start_time": "2024-01-19T16:47:17.799Z"
   },
   {
    "duration": 369,
    "start_time": "2024-01-19T16:47:29.823Z"
   },
   {
    "duration": 8,
    "start_time": "2024-01-19T17:08:50.715Z"
   },
   {
    "duration": 3,
    "start_time": "2024-01-19T17:09:12.087Z"
   },
   {
    "duration": 4,
    "start_time": "2024-01-19T17:09:18.268Z"
   },
   {
    "duration": 394,
    "start_time": "2024-01-19T17:10:10.015Z"
   },
   {
    "duration": 360,
    "start_time": "2024-01-19T17:11:25.901Z"
   },
   {
    "duration": 380,
    "start_time": "2024-01-19T17:11:47.036Z"
   },
   {
    "duration": 379,
    "start_time": "2024-01-19T17:11:53.229Z"
   },
   {
    "duration": 394,
    "start_time": "2024-01-19T17:12:01.670Z"
   },
   {
    "duration": 4,
    "start_time": "2024-01-19T17:12:28.772Z"
   },
   {
    "duration": 395,
    "start_time": "2024-01-19T17:12:31.057Z"
   },
   {
    "duration": 394,
    "start_time": "2024-01-19T17:12:47.217Z"
   },
   {
    "duration": 378,
    "start_time": "2024-01-19T17:13:08.934Z"
   },
   {
    "duration": 376,
    "start_time": "2024-01-19T17:13:16.789Z"
   },
   {
    "duration": 3,
    "start_time": "2024-01-19T17:13:52.772Z"
   },
   {
    "duration": 384,
    "start_time": "2024-01-19T17:13:55.991Z"
   },
   {
    "duration": 3,
    "start_time": "2024-01-19T17:14:02.471Z"
   },
   {
    "duration": 434,
    "start_time": "2024-01-19T17:14:02.959Z"
   },
   {
    "duration": 11,
    "start_time": "2024-01-19T17:15:20.430Z"
   },
   {
    "duration": 1473,
    "start_time": "2024-01-19T17:16:17.207Z"
   },
   {
    "duration": 1011,
    "start_time": "2024-01-19T17:16:30.367Z"
   },
   {
    "duration": 187,
    "start_time": "2024-01-19T17:16:31.380Z"
   },
   {
    "duration": 151,
    "start_time": "2024-01-19T17:16:31.569Z"
   },
   {
    "duration": 15828,
    "start_time": "2024-01-19T17:16:31.721Z"
   },
   {
    "duration": 64,
    "start_time": "2024-01-19T17:16:47.551Z"
   },
   {
    "duration": 7,
    "start_time": "2024-01-19T17:16:47.616Z"
   },
   {
    "duration": 46,
    "start_time": "2024-01-19T17:16:47.624Z"
   },
   {
    "duration": 20,
    "start_time": "2024-01-19T17:16:47.671Z"
   },
   {
    "duration": 38,
    "start_time": "2024-01-19T17:16:47.692Z"
   },
   {
    "duration": 94,
    "start_time": "2024-01-19T17:16:47.731Z"
   },
   {
    "duration": 293,
    "start_time": "2024-01-19T17:16:47.826Z"
   },
   {
    "duration": 42,
    "start_time": "2024-01-19T17:16:48.121Z"
   },
   {
    "duration": 162,
    "start_time": "2024-01-19T17:16:48.165Z"
   },
   {
    "duration": 17,
    "start_time": "2024-01-19T17:16:48.330Z"
   },
   {
    "duration": 23,
    "start_time": "2024-01-19T17:16:48.348Z"
   },
   {
    "duration": 12,
    "start_time": "2024-01-19T17:16:48.373Z"
   },
   {
    "duration": 111,
    "start_time": "2024-01-19T17:16:48.387Z"
   },
   {
    "duration": 17189,
    "start_time": "2024-01-19T17:16:48.499Z"
   },
   {
    "duration": 8,
    "start_time": "2024-01-19T17:17:05.689Z"
   },
   {
    "duration": 1473,
    "start_time": "2024-01-19T17:17:05.699Z"
   },
   {
    "duration": 14,
    "start_time": "2024-01-19T17:17:07.175Z"
   },
   {
    "duration": 43,
    "start_time": "2024-01-19T17:17:07.191Z"
   },
   {
    "duration": 25,
    "start_time": "2024-01-19T17:17:07.236Z"
   },
   {
    "duration": 58,
    "start_time": "2024-01-19T17:17:07.263Z"
   },
   {
    "duration": 8,
    "start_time": "2024-01-19T17:17:07.323Z"
   },
   {
    "duration": 504,
    "start_time": "2024-01-19T17:17:07.332Z"
   },
   {
    "duration": 351,
    "start_time": "2024-01-19T17:17:07.837Z"
   },
   {
    "duration": 358,
    "start_time": "2024-01-19T17:17:08.189Z"
   },
   {
    "duration": 362,
    "start_time": "2024-01-19T17:17:08.548Z"
   },
   {
    "duration": 4,
    "start_time": "2024-01-19T17:17:08.911Z"
   },
   {
    "duration": 392,
    "start_time": "2024-01-19T17:17:08.917Z"
   },
   {
    "duration": 16,
    "start_time": "2024-01-19T17:17:20.350Z"
   },
   {
    "duration": 7,
    "start_time": "2024-01-19T17:17:21.553Z"
   },
   {
    "duration": 7,
    "start_time": "2024-01-19T17:18:05.013Z"
   },
   {
    "duration": 1050,
    "start_time": "2024-01-19T17:19:09.356Z"
   },
   {
    "duration": 180,
    "start_time": "2024-01-19T17:19:10.408Z"
   },
   {
    "duration": 162,
    "start_time": "2024-01-19T17:19:10.589Z"
   },
   {
    "duration": 16093,
    "start_time": "2024-01-19T17:19:10.752Z"
   },
   {
    "duration": 62,
    "start_time": "2024-01-19T17:19:26.847Z"
   },
   {
    "duration": 6,
    "start_time": "2024-01-19T17:19:26.911Z"
   },
   {
    "duration": 62,
    "start_time": "2024-01-19T17:19:26.919Z"
   },
   {
    "duration": 18,
    "start_time": "2024-01-19T17:19:26.983Z"
   },
   {
    "duration": 28,
    "start_time": "2024-01-19T17:19:27.003Z"
   },
   {
    "duration": 68,
    "start_time": "2024-01-19T17:19:27.032Z"
   },
   {
    "duration": 316,
    "start_time": "2024-01-19T17:19:27.102Z"
   },
   {
    "duration": 34,
    "start_time": "2024-01-19T17:19:27.420Z"
   },
   {
    "duration": 156,
    "start_time": "2024-01-19T17:19:27.455Z"
   },
   {
    "duration": 13,
    "start_time": "2024-01-19T17:19:27.614Z"
   },
   {
    "duration": 38,
    "start_time": "2024-01-19T17:19:27.629Z"
   },
   {
    "duration": 11,
    "start_time": "2024-01-19T17:19:27.669Z"
   },
   {
    "duration": 119,
    "start_time": "2024-01-19T17:19:27.681Z"
   },
   {
    "duration": 17907,
    "start_time": "2024-01-19T17:19:27.802Z"
   },
   {
    "duration": 8,
    "start_time": "2024-01-19T17:19:45.710Z"
   },
   {
    "duration": 1526,
    "start_time": "2024-01-19T17:19:45.720Z"
   },
   {
    "duration": 99,
    "start_time": "2024-01-19T17:19:47.247Z"
   },
   {
    "duration": 0,
    "start_time": "2024-01-19T17:19:47.348Z"
   },
   {
    "duration": 0,
    "start_time": "2024-01-19T17:19:47.349Z"
   },
   {
    "duration": 0,
    "start_time": "2024-01-19T17:19:47.350Z"
   },
   {
    "duration": 0,
    "start_time": "2024-01-19T17:19:47.352Z"
   },
   {
    "duration": 0,
    "start_time": "2024-01-19T17:19:47.353Z"
   },
   {
    "duration": 0,
    "start_time": "2024-01-19T17:19:47.354Z"
   },
   {
    "duration": 0,
    "start_time": "2024-01-19T17:19:47.355Z"
   },
   {
    "duration": 0,
    "start_time": "2024-01-19T17:19:47.356Z"
   },
   {
    "duration": 0,
    "start_time": "2024-01-19T17:19:47.358Z"
   },
   {
    "duration": 0,
    "start_time": "2024-01-19T17:19:47.359Z"
   },
   {
    "duration": 997,
    "start_time": "2024-01-19T17:22:03.297Z"
   },
   {
    "duration": 177,
    "start_time": "2024-01-19T17:22:04.296Z"
   },
   {
    "duration": 159,
    "start_time": "2024-01-19T17:22:04.475Z"
   },
   {
    "duration": 16720,
    "start_time": "2024-01-19T17:22:04.635Z"
   },
   {
    "duration": 62,
    "start_time": "2024-01-19T17:22:21.357Z"
   },
   {
    "duration": 6,
    "start_time": "2024-01-19T17:22:21.421Z"
   },
   {
    "duration": 48,
    "start_time": "2024-01-19T17:22:21.445Z"
   },
   {
    "duration": 19,
    "start_time": "2024-01-19T17:22:21.494Z"
   },
   {
    "duration": 22,
    "start_time": "2024-01-19T17:22:21.514Z"
   },
   {
    "duration": 61,
    "start_time": "2024-01-19T17:22:21.544Z"
   },
   {
    "duration": 326,
    "start_time": "2024-01-19T17:22:21.607Z"
   },
   {
    "duration": 38,
    "start_time": "2024-01-19T17:22:21.935Z"
   },
   {
    "duration": 159,
    "start_time": "2024-01-19T17:22:21.975Z"
   },
   {
    "duration": 14,
    "start_time": "2024-01-19T17:22:22.144Z"
   },
   {
    "duration": 42,
    "start_time": "2024-01-19T17:22:22.160Z"
   },
   {
    "duration": 25,
    "start_time": "2024-01-19T17:22:22.204Z"
   },
   {
    "duration": 102,
    "start_time": "2024-01-19T17:22:22.231Z"
   },
   {
    "duration": 17257,
    "start_time": "2024-01-19T17:22:22.335Z"
   },
   {
    "duration": 7,
    "start_time": "2024-01-19T17:22:39.593Z"
   },
   {
    "duration": 1447,
    "start_time": "2024-01-19T17:22:39.601Z"
   },
   {
    "duration": 13,
    "start_time": "2024-01-19T17:22:41.050Z"
   },
   {
    "duration": 31,
    "start_time": "2024-01-19T17:22:41.065Z"
   },
   {
    "duration": 108,
    "start_time": "2024-01-19T17:22:41.098Z"
   },
   {
    "duration": 0,
    "start_time": "2024-01-19T17:22:41.208Z"
   },
   {
    "duration": 0,
    "start_time": "2024-01-19T17:22:41.209Z"
   },
   {
    "duration": 0,
    "start_time": "2024-01-19T17:22:41.210Z"
   },
   {
    "duration": 0,
    "start_time": "2024-01-19T17:22:41.210Z"
   },
   {
    "duration": 0,
    "start_time": "2024-01-19T17:22:41.211Z"
   },
   {
    "duration": 0,
    "start_time": "2024-01-19T17:22:41.213Z"
   },
   {
    "duration": 0,
    "start_time": "2024-01-19T17:22:41.213Z"
   },
   {
    "duration": 0,
    "start_time": "2024-01-19T17:22:41.214Z"
   },
   {
    "duration": 83,
    "start_time": "2024-01-19T17:27:09.330Z"
   },
   {
    "duration": 4,
    "start_time": "2024-01-19T17:27:44.599Z"
   },
   {
    "duration": 1042,
    "start_time": "2024-01-19T17:27:58.349Z"
   },
   {
    "duration": 178,
    "start_time": "2024-01-19T17:27:59.393Z"
   },
   {
    "duration": 151,
    "start_time": "2024-01-19T17:27:59.572Z"
   },
   {
    "duration": 18030,
    "start_time": "2024-01-19T17:27:59.724Z"
   },
   {
    "duration": 67,
    "start_time": "2024-01-19T17:28:17.756Z"
   },
   {
    "duration": 25,
    "start_time": "2024-01-19T17:28:17.825Z"
   },
   {
    "duration": 30,
    "start_time": "2024-01-19T17:28:17.851Z"
   },
   {
    "duration": 20,
    "start_time": "2024-01-19T17:28:17.883Z"
   },
   {
    "duration": 42,
    "start_time": "2024-01-19T17:28:17.904Z"
   },
   {
    "duration": 58,
    "start_time": "2024-01-19T17:28:17.947Z"
   },
   {
    "duration": 311,
    "start_time": "2024-01-19T17:28:18.007Z"
   },
   {
    "duration": 40,
    "start_time": "2024-01-19T17:28:18.320Z"
   },
   {
    "duration": 153,
    "start_time": "2024-01-19T17:28:18.362Z"
   },
   {
    "duration": 13,
    "start_time": "2024-01-19T17:28:18.517Z"
   },
   {
    "duration": 33,
    "start_time": "2024-01-19T17:28:18.532Z"
   },
   {
    "duration": 11,
    "start_time": "2024-01-19T17:28:18.567Z"
   },
   {
    "duration": 88,
    "start_time": "2024-01-19T17:28:18.580Z"
   },
   {
    "duration": 16867,
    "start_time": "2024-01-19T17:28:18.670Z"
   },
   {
    "duration": 10,
    "start_time": "2024-01-19T17:28:35.538Z"
   },
   {
    "duration": 1415,
    "start_time": "2024-01-19T17:28:35.549Z"
   },
   {
    "duration": 17,
    "start_time": "2024-01-19T17:28:36.965Z"
   },
   {
    "duration": 26,
    "start_time": "2024-01-19T17:28:36.983Z"
   },
   {
    "duration": 23,
    "start_time": "2024-01-19T17:28:37.010Z"
   },
   {
    "duration": 69,
    "start_time": "2024-01-19T17:28:37.035Z"
   },
   {
    "duration": 8,
    "start_time": "2024-01-19T17:28:37.105Z"
   },
   {
    "duration": 472,
    "start_time": "2024-01-19T17:28:37.114Z"
   },
   {
    "duration": 364,
    "start_time": "2024-01-19T17:28:37.587Z"
   },
   {
    "duration": 366,
    "start_time": "2024-01-19T17:28:37.952Z"
   },
   {
    "duration": 385,
    "start_time": "2024-01-19T17:28:38.320Z"
   },
   {
    "duration": 5,
    "start_time": "2024-01-19T17:28:38.706Z"
   },
   {
    "duration": 394,
    "start_time": "2024-01-19T17:28:38.712Z"
   },
   {
    "duration": 400,
    "start_time": "2024-01-19T17:29:42.854Z"
   },
   {
    "duration": 369,
    "start_time": "2024-01-19T17:29:51.922Z"
   },
   {
    "duration": 1315,
    "start_time": "2024-01-19T20:18:12.221Z"
   },
   {
    "duration": 532,
    "start_time": "2024-01-19T20:18:13.538Z"
   },
   {
    "duration": 157,
    "start_time": "2024-01-19T20:18:14.071Z"
   },
   {
    "duration": 16461,
    "start_time": "2024-01-19T20:18:14.230Z"
   },
   {
    "duration": 76,
    "start_time": "2024-01-19T20:18:30.694Z"
   },
   {
    "duration": 8,
    "start_time": "2024-01-19T20:18:30.771Z"
   },
   {
    "duration": 92,
    "start_time": "2024-01-19T20:18:30.780Z"
   },
   {
    "duration": 40,
    "start_time": "2024-01-19T20:18:30.874Z"
   },
   {
    "duration": 65,
    "start_time": "2024-01-19T20:18:30.916Z"
   },
   {
    "duration": 110,
    "start_time": "2024-01-19T20:18:30.983Z"
   },
   {
    "duration": 321,
    "start_time": "2024-01-19T20:18:31.095Z"
   },
   {
    "duration": 34,
    "start_time": "2024-01-19T20:18:31.418Z"
   },
   {
    "duration": 166,
    "start_time": "2024-01-19T20:18:31.464Z"
   },
   {
    "duration": 15,
    "start_time": "2024-01-19T20:18:31.634Z"
   },
   {
    "duration": 42,
    "start_time": "2024-01-19T20:18:31.651Z"
   },
   {
    "duration": 19,
    "start_time": "2024-01-19T20:18:31.695Z"
   },
   {
    "duration": 107,
    "start_time": "2024-01-19T20:18:31.716Z"
   },
   {
    "duration": 18766,
    "start_time": "2024-01-19T20:18:31.824Z"
   },
   {
    "duration": 7,
    "start_time": "2024-01-19T20:18:50.592Z"
   },
   {
    "duration": 1581,
    "start_time": "2024-01-19T20:18:50.601Z"
   },
   {
    "duration": 15,
    "start_time": "2024-01-19T20:18:52.184Z"
   },
   {
    "duration": 6,
    "start_time": "2024-01-19T20:18:52.200Z"
   },
   {
    "duration": 4,
    "start_time": "2024-01-19T20:18:52.207Z"
   },
   {
    "duration": 80,
    "start_time": "2024-01-19T20:18:52.212Z"
   },
   {
    "duration": 8,
    "start_time": "2024-01-19T20:18:52.293Z"
   },
   {
    "duration": 476,
    "start_time": "2024-01-19T20:18:52.303Z"
   },
   {
    "duration": 394,
    "start_time": "2024-01-19T20:18:52.780Z"
   },
   {
    "duration": 373,
    "start_time": "2024-01-19T20:18:53.176Z"
   },
   {
    "duration": 393,
    "start_time": "2024-01-19T20:18:53.550Z"
   },
   {
    "duration": 4,
    "start_time": "2024-01-19T20:18:53.945Z"
   },
   {
    "duration": 404,
    "start_time": "2024-01-19T20:18:53.951Z"
   },
   {
    "duration": 371,
    "start_time": "2024-01-19T20:18:54.357Z"
   },
   {
    "duration": 400,
    "start_time": "2024-01-19T20:18:54.729Z"
   },
   {
    "duration": 7,
    "start_time": "2024-01-19T20:20:15.933Z"
   },
   {
    "duration": 384,
    "start_time": "2024-01-19T20:20:18.472Z"
   },
   {
    "duration": 355,
    "start_time": "2024-01-19T20:20:23.032Z"
   },
   {
    "duration": 355,
    "start_time": "2024-01-19T20:20:26.785Z"
   },
   {
    "duration": 391,
    "start_time": "2024-01-19T20:20:28.084Z"
   },
   {
    "duration": 399,
    "start_time": "2024-01-19T20:20:31.508Z"
   },
   {
    "duration": 4,
    "start_time": "2024-01-19T20:20:35.511Z"
   },
   {
    "duration": 355,
    "start_time": "2024-01-19T20:20:36.927Z"
   },
   {
    "duration": 363,
    "start_time": "2024-01-19T20:20:40.780Z"
   },
   {
    "duration": 398,
    "start_time": "2024-01-19T20:20:43.613Z"
   },
   {
    "duration": 48,
    "start_time": "2024-01-20T12:16:06.284Z"
   },
   {
    "duration": 1330,
    "start_time": "2024-01-20T12:16:10.900Z"
   },
   {
    "duration": 512,
    "start_time": "2024-01-20T12:16:12.232Z"
   },
   {
    "duration": 159,
    "start_time": "2024-01-20T12:16:12.745Z"
   },
   {
    "duration": 17411,
    "start_time": "2024-01-20T12:16:12.906Z"
   },
   {
    "duration": 68,
    "start_time": "2024-01-20T12:16:30.320Z"
   },
   {
    "duration": 12,
    "start_time": "2024-01-20T12:16:30.390Z"
   },
   {
    "duration": 122,
    "start_time": "2024-01-20T12:16:30.404Z"
   },
   {
    "duration": 72,
    "start_time": "2024-01-20T12:16:30.528Z"
   },
   {
    "duration": 106,
    "start_time": "2024-01-20T12:16:30.601Z"
   },
   {
    "duration": 116,
    "start_time": "2024-01-20T12:16:30.709Z"
   },
   {
    "duration": 438,
    "start_time": "2024-01-20T12:16:30.827Z"
   },
   {
    "duration": 31,
    "start_time": "2024-01-20T12:16:31.266Z"
   },
   {
    "duration": 255,
    "start_time": "2024-01-20T12:16:31.299Z"
   },
   {
    "duration": 15,
    "start_time": "2024-01-20T12:16:31.557Z"
   },
   {
    "duration": 231,
    "start_time": "2024-01-20T12:16:31.574Z"
   },
   {
    "duration": 136,
    "start_time": "2024-01-20T12:16:31.807Z"
   },
   {
    "duration": 156,
    "start_time": "2024-01-20T12:16:31.945Z"
   },
   {
    "duration": 17885,
    "start_time": "2024-01-20T12:16:32.103Z"
   },
   {
    "duration": 8,
    "start_time": "2024-01-20T12:16:49.990Z"
   },
   {
    "duration": 1574,
    "start_time": "2024-01-20T12:16:49.999Z"
   },
   {
    "duration": 17,
    "start_time": "2024-01-20T12:16:51.574Z"
   },
   {
    "duration": 6,
    "start_time": "2024-01-20T12:16:51.592Z"
   },
   {
    "duration": 22,
    "start_time": "2024-01-20T12:16:51.600Z"
   },
   {
    "duration": 76,
    "start_time": "2024-01-20T12:16:51.623Z"
   },
   {
    "duration": 9,
    "start_time": "2024-01-20T12:16:51.701Z"
   },
   {
    "duration": 531,
    "start_time": "2024-01-20T12:16:51.711Z"
   },
   {
    "duration": 410,
    "start_time": "2024-01-20T12:16:52.243Z"
   },
   {
    "duration": 425,
    "start_time": "2024-01-20T12:16:52.655Z"
   },
   {
    "duration": 439,
    "start_time": "2024-01-20T12:16:53.081Z"
   },
   {
    "duration": 3,
    "start_time": "2024-01-20T12:16:53.522Z"
   },
   {
    "duration": 407,
    "start_time": "2024-01-20T12:16:53.527Z"
   },
   {
    "duration": 434,
    "start_time": "2024-01-20T12:16:53.936Z"
   },
   {
    "duration": 453,
    "start_time": "2024-01-20T12:16:54.371Z"
   },
   {
    "duration": 27,
    "start_time": "2024-01-20T12:22:36.918Z"
   },
   {
    "duration": 38,
    "start_time": "2024-01-20T12:24:48.306Z"
   },
   {
    "duration": 79,
    "start_time": "2024-01-20T12:26:03.404Z"
   },
   {
    "duration": 72,
    "start_time": "2024-01-20T12:26:50.389Z"
   },
   {
    "duration": 83,
    "start_time": "2024-01-20T12:27:57.795Z"
   },
   {
    "duration": 72,
    "start_time": "2024-01-20T12:28:05.118Z"
   },
   {
    "duration": 83,
    "start_time": "2024-01-20T12:28:07.723Z"
   },
   {
    "duration": 39,
    "start_time": "2024-01-20T12:28:18.141Z"
   },
   {
    "duration": 56,
    "start_time": "2024-01-20T12:28:25.529Z"
   },
   {
    "duration": 58,
    "start_time": "2024-01-20T12:28:35.244Z"
   },
   {
    "duration": 1292,
    "start_time": "2024-01-20T12:29:46.514Z"
   },
   {
    "duration": 3,
    "start_time": "2024-01-20T12:29:51.902Z"
   },
   {
    "duration": 191,
    "start_time": "2024-01-20T12:29:51.907Z"
   },
   {
    "duration": 144,
    "start_time": "2024-01-20T12:29:52.099Z"
   },
   {
    "duration": 17709,
    "start_time": "2024-01-20T12:29:52.245Z"
   },
   {
    "duration": 75,
    "start_time": "2024-01-20T12:30:09.955Z"
   },
   {
    "duration": 9,
    "start_time": "2024-01-20T12:30:10.031Z"
   },
   {
    "duration": 34,
    "start_time": "2024-01-20T12:30:10.041Z"
   },
   {
    "duration": 74,
    "start_time": "2024-01-20T12:30:10.077Z"
   },
   {
    "duration": 79,
    "start_time": "2024-01-20T12:30:10.153Z"
   },
   {
    "duration": 347,
    "start_time": "2024-01-20T12:30:10.234Z"
   },
   {
    "duration": 38,
    "start_time": "2024-01-20T12:30:10.583Z"
   },
   {
    "duration": 173,
    "start_time": "2024-01-20T12:30:10.623Z"
   },
   {
    "duration": 24,
    "start_time": "2024-01-20T12:30:10.798Z"
   },
   {
    "duration": 27,
    "start_time": "2024-01-20T12:30:10.824Z"
   },
   {
    "duration": 32,
    "start_time": "2024-01-20T12:30:10.852Z"
   },
   {
    "duration": 101,
    "start_time": "2024-01-20T12:30:10.885Z"
   },
   {
    "duration": 19217,
    "start_time": "2024-01-20T12:30:10.988Z"
   },
   {
    "duration": 7,
    "start_time": "2024-01-20T12:30:30.207Z"
   },
   {
    "duration": 1566,
    "start_time": "2024-01-20T12:30:30.221Z"
   },
   {
    "duration": 18,
    "start_time": "2024-01-20T12:30:31.789Z"
   },
   {
    "duration": 41,
    "start_time": "2024-01-20T12:30:31.808Z"
   },
   {
    "duration": 144,
    "start_time": "2024-01-20T12:30:31.851Z"
   },
   {
    "duration": 86,
    "start_time": "2024-01-20T12:30:31.997Z"
   },
   {
    "duration": 8,
    "start_time": "2024-01-20T12:30:32.084Z"
   },
   {
    "duration": 479,
    "start_time": "2024-01-20T12:30:32.094Z"
   },
   {
    "duration": 420,
    "start_time": "2024-01-20T12:30:32.575Z"
   },
   {
    "duration": 457,
    "start_time": "2024-01-20T12:30:32.997Z"
   },
   {
    "duration": 465,
    "start_time": "2024-01-20T12:30:33.458Z"
   },
   {
    "duration": 3,
    "start_time": "2024-01-20T12:30:33.924Z"
   },
   {
    "duration": 411,
    "start_time": "2024-01-20T12:30:33.929Z"
   },
   {
    "duration": 420,
    "start_time": "2024-01-20T12:30:34.341Z"
   },
   {
    "duration": 426,
    "start_time": "2024-01-20T12:30:34.763Z"
   },
   {
    "duration": 1308,
    "start_time": "2024-01-20T12:32:04.080Z"
   },
   {
    "duration": 0,
    "start_time": "2024-01-20T12:32:05.390Z"
   },
   {
    "duration": 0,
    "start_time": "2024-01-20T12:32:05.391Z"
   },
   {
    "duration": 0,
    "start_time": "2024-01-20T12:32:05.392Z"
   },
   {
    "duration": 0,
    "start_time": "2024-01-20T12:32:05.393Z"
   },
   {
    "duration": 0,
    "start_time": "2024-01-20T12:32:05.394Z"
   },
   {
    "duration": 0,
    "start_time": "2024-01-20T12:32:05.395Z"
   },
   {
    "duration": 0,
    "start_time": "2024-01-20T12:32:05.396Z"
   },
   {
    "duration": 0,
    "start_time": "2024-01-20T12:32:05.397Z"
   },
   {
    "duration": 0,
    "start_time": "2024-01-20T12:32:05.398Z"
   },
   {
    "duration": 0,
    "start_time": "2024-01-20T12:32:05.399Z"
   },
   {
    "duration": 0,
    "start_time": "2024-01-20T12:32:05.401Z"
   },
   {
    "duration": 0,
    "start_time": "2024-01-20T12:32:05.401Z"
   },
   {
    "duration": 0,
    "start_time": "2024-01-20T12:32:05.402Z"
   },
   {
    "duration": 0,
    "start_time": "2024-01-20T12:32:05.403Z"
   },
   {
    "duration": 0,
    "start_time": "2024-01-20T12:32:05.404Z"
   },
   {
    "duration": 0,
    "start_time": "2024-01-20T12:32:05.405Z"
   },
   {
    "duration": 0,
    "start_time": "2024-01-20T12:32:05.406Z"
   },
   {
    "duration": 0,
    "start_time": "2024-01-20T12:32:05.407Z"
   },
   {
    "duration": 0,
    "start_time": "2024-01-20T12:32:05.408Z"
   },
   {
    "duration": 0,
    "start_time": "2024-01-20T12:32:05.409Z"
   },
   {
    "duration": 0,
    "start_time": "2024-01-20T12:32:05.410Z"
   },
   {
    "duration": 0,
    "start_time": "2024-01-20T12:32:05.410Z"
   },
   {
    "duration": 0,
    "start_time": "2024-01-20T12:32:05.411Z"
   },
   {
    "duration": 0,
    "start_time": "2024-01-20T12:32:05.412Z"
   },
   {
    "duration": 0,
    "start_time": "2024-01-20T12:32:05.413Z"
   },
   {
    "duration": 0,
    "start_time": "2024-01-20T12:32:05.415Z"
   },
   {
    "duration": 0,
    "start_time": "2024-01-20T12:32:05.416Z"
   },
   {
    "duration": 0,
    "start_time": "2024-01-20T12:32:05.417Z"
   },
   {
    "duration": 3,
    "start_time": "2024-01-20T12:32:23.238Z"
   },
   {
    "duration": 184,
    "start_time": "2024-01-20T12:32:23.244Z"
   },
   {
    "duration": 154,
    "start_time": "2024-01-20T12:32:23.430Z"
   },
   {
    "duration": 16413,
    "start_time": "2024-01-20T12:32:26.849Z"
   },
   {
    "duration": 16791,
    "start_time": "2024-01-20T12:33:07.708Z"
   },
   {
    "duration": 4,
    "start_time": "2024-01-20T12:33:51.785Z"
   },
   {
    "duration": 170,
    "start_time": "2024-01-20T12:33:51.791Z"
   },
   {
    "duration": 135,
    "start_time": "2024-01-20T12:33:51.963Z"
   },
   {
    "duration": 16492,
    "start_time": "2024-01-20T12:34:00.989Z"
   },
   {
    "duration": 3,
    "start_time": "2024-01-20T12:34:46.652Z"
   },
   {
    "duration": 184,
    "start_time": "2024-01-20T12:34:46.657Z"
   },
   {
    "duration": 150,
    "start_time": "2024-01-20T12:34:46.843Z"
   },
   {
    "duration": 15544,
    "start_time": "2024-01-20T12:34:49.041Z"
   },
   {
    "duration": 1349,
    "start_time": "2024-01-20T12:35:21.077Z"
   },
   {
    "duration": 0,
    "start_time": "2024-01-20T12:35:22.429Z"
   },
   {
    "duration": 0,
    "start_time": "2024-01-20T12:35:22.430Z"
   },
   {
    "duration": 0,
    "start_time": "2024-01-20T12:35:22.431Z"
   },
   {
    "duration": 0,
    "start_time": "2024-01-20T12:35:22.432Z"
   },
   {
    "duration": 0,
    "start_time": "2024-01-20T12:35:22.433Z"
   },
   {
    "duration": 0,
    "start_time": "2024-01-20T12:35:22.434Z"
   },
   {
    "duration": 0,
    "start_time": "2024-01-20T12:35:22.435Z"
   },
   {
    "duration": 0,
    "start_time": "2024-01-20T12:35:22.436Z"
   },
   {
    "duration": 0,
    "start_time": "2024-01-20T12:35:22.437Z"
   },
   {
    "duration": 0,
    "start_time": "2024-01-20T12:35:22.438Z"
   },
   {
    "duration": 0,
    "start_time": "2024-01-20T12:35:22.439Z"
   },
   {
    "duration": 0,
    "start_time": "2024-01-20T12:35:22.440Z"
   },
   {
    "duration": 0,
    "start_time": "2024-01-20T12:35:22.441Z"
   },
   {
    "duration": 0,
    "start_time": "2024-01-20T12:35:22.442Z"
   },
   {
    "duration": 0,
    "start_time": "2024-01-20T12:35:22.443Z"
   },
   {
    "duration": 0,
    "start_time": "2024-01-20T12:35:22.444Z"
   },
   {
    "duration": 0,
    "start_time": "2024-01-20T12:35:22.445Z"
   },
   {
    "duration": 0,
    "start_time": "2024-01-20T12:35:22.446Z"
   },
   {
    "duration": 0,
    "start_time": "2024-01-20T12:35:22.447Z"
   },
   {
    "duration": 0,
    "start_time": "2024-01-20T12:35:22.448Z"
   },
   {
    "duration": 0,
    "start_time": "2024-01-20T12:35:22.449Z"
   },
   {
    "duration": 0,
    "start_time": "2024-01-20T12:35:22.450Z"
   },
   {
    "duration": 0,
    "start_time": "2024-01-20T12:35:22.451Z"
   },
   {
    "duration": 0,
    "start_time": "2024-01-20T12:35:22.452Z"
   },
   {
    "duration": 0,
    "start_time": "2024-01-20T12:35:22.453Z"
   },
   {
    "duration": 0,
    "start_time": "2024-01-20T12:35:22.454Z"
   },
   {
    "duration": 0,
    "start_time": "2024-01-20T12:35:22.455Z"
   },
   {
    "duration": 0,
    "start_time": "2024-01-20T12:35:22.456Z"
   },
   {
    "duration": 3,
    "start_time": "2024-01-20T12:35:31.201Z"
   },
   {
    "duration": 211,
    "start_time": "2024-01-20T12:35:31.206Z"
   },
   {
    "duration": 133,
    "start_time": "2024-01-20T12:35:31.419Z"
   },
   {
    "duration": 16103,
    "start_time": "2024-01-20T12:35:31.554Z"
   },
   {
    "duration": 76,
    "start_time": "2024-01-20T12:35:47.659Z"
   },
   {
    "duration": 6,
    "start_time": "2024-01-20T12:35:47.736Z"
   },
   {
    "duration": 30,
    "start_time": "2024-01-20T12:35:47.744Z"
   },
   {
    "duration": 8,
    "start_time": "2024-01-20T12:35:47.775Z"
   },
   {
    "duration": 72,
    "start_time": "2024-01-20T12:35:47.785Z"
   },
   {
    "duration": 348,
    "start_time": "2024-01-20T12:35:47.859Z"
   },
   {
    "duration": 26,
    "start_time": "2024-01-20T12:35:48.209Z"
   },
   {
    "duration": 168,
    "start_time": "2024-01-20T12:35:48.237Z"
   },
   {
    "duration": 21,
    "start_time": "2024-01-20T12:35:48.406Z"
   },
   {
    "duration": 34,
    "start_time": "2024-01-20T12:35:48.430Z"
   },
   {
    "duration": 23,
    "start_time": "2024-01-20T12:35:48.465Z"
   },
   {
    "duration": 100,
    "start_time": "2024-01-20T12:35:48.489Z"
   },
   {
    "duration": 19188,
    "start_time": "2024-01-20T12:35:48.590Z"
   },
   {
    "duration": 7,
    "start_time": "2024-01-20T12:36:07.780Z"
   },
   {
    "duration": 68,
    "start_time": "2024-01-20T12:36:07.788Z"
   },
   {
    "duration": 13,
    "start_time": "2024-01-20T12:36:07.858Z"
   },
   {
    "duration": 6,
    "start_time": "2024-01-20T12:36:07.873Z"
   },
   {
    "duration": 4,
    "start_time": "2024-01-20T12:36:07.880Z"
   },
   {
    "duration": 79,
    "start_time": "2024-01-20T12:36:07.885Z"
   },
   {
    "duration": 8,
    "start_time": "2024-01-20T12:36:07.966Z"
   },
   {
    "duration": 409,
    "start_time": "2024-01-20T12:36:07.975Z"
   },
   {
    "duration": 379,
    "start_time": "2024-01-20T12:36:08.385Z"
   },
   {
    "duration": 368,
    "start_time": "2024-01-20T12:36:08.766Z"
   },
   {
    "duration": 422,
    "start_time": "2024-01-20T12:36:09.135Z"
   },
   {
    "duration": 3,
    "start_time": "2024-01-20T12:36:09.559Z"
   },
   {
    "duration": 425,
    "start_time": "2024-01-20T12:36:09.564Z"
   },
   {
    "duration": 374,
    "start_time": "2024-01-20T12:36:09.990Z"
   },
   {
    "duration": 412,
    "start_time": "2024-01-20T12:36:10.365Z"
   },
   {
    "duration": 9,
    "start_time": "2024-01-20T12:37:11.968Z"
   },
   {
    "duration": 15,
    "start_time": "2024-01-20T12:37:23.539Z"
   },
   {
    "duration": 9,
    "start_time": "2024-01-20T12:37:31.658Z"
   },
   {
    "duration": 59,
    "start_time": "2024-01-20T12:39:52.547Z"
   },
   {
    "duration": 3,
    "start_time": "2024-01-20T12:40:00.477Z"
   },
   {
    "duration": 261,
    "start_time": "2024-01-20T12:40:00.482Z"
   },
   {
    "duration": 145,
    "start_time": "2024-01-20T12:40:00.745Z"
   },
   {
    "duration": 16448,
    "start_time": "2024-01-20T12:40:00.892Z"
   },
   {
    "duration": 79,
    "start_time": "2024-01-20T12:40:17.342Z"
   },
   {
    "duration": 9,
    "start_time": "2024-01-20T12:40:17.423Z"
   },
   {
    "duration": 35,
    "start_time": "2024-01-20T12:40:17.434Z"
   },
   {
    "duration": 10,
    "start_time": "2024-01-20T12:40:17.470Z"
   },
   {
    "duration": 54,
    "start_time": "2024-01-20T12:40:22.755Z"
   },
   {
    "duration": 341,
    "start_time": "2024-01-20T12:40:42.084Z"
   },
   {
    "duration": 329,
    "start_time": "2024-01-20T12:42:20.728Z"
   },
   {
    "duration": 3,
    "start_time": "2024-01-20T12:42:25.006Z"
   },
   {
    "duration": 204,
    "start_time": "2024-01-20T12:42:25.011Z"
   },
   {
    "duration": 128,
    "start_time": "2024-01-20T12:42:25.217Z"
   },
   {
    "duration": 15989,
    "start_time": "2024-01-20T12:42:25.347Z"
   },
   {
    "duration": 83,
    "start_time": "2024-01-20T12:42:41.339Z"
   },
   {
    "duration": 7,
    "start_time": "2024-01-20T12:42:41.423Z"
   },
   {
    "duration": 62,
    "start_time": "2024-01-20T12:42:41.432Z"
   },
   {
    "duration": 9,
    "start_time": "2024-01-20T12:42:41.496Z"
   },
   {
    "duration": 65,
    "start_time": "2024-01-20T12:42:41.506Z"
   },
   {
    "duration": 329,
    "start_time": "2024-01-20T12:42:41.574Z"
   },
   {
    "duration": 462,
    "start_time": "2024-01-20T12:42:44.806Z"
   },
   {
    "duration": 345,
    "start_time": "2024-01-20T12:43:18.230Z"
   },
   {
    "duration": 5,
    "start_time": "2024-01-20T12:43:30.449Z"
   },
   {
    "duration": 10,
    "start_time": "2024-01-20T12:43:55.755Z"
   },
   {
    "duration": 8,
    "start_time": "2024-01-20T12:43:58.010Z"
   },
   {
    "duration": 7,
    "start_time": "2024-01-20T12:44:09.696Z"
   },
   {
    "duration": 12,
    "start_time": "2024-01-20T12:44:15.818Z"
   },
   {
    "duration": 8,
    "start_time": "2024-01-20T12:44:19.754Z"
   },
   {
    "duration": 12,
    "start_time": "2024-01-20T12:44:26.651Z"
   },
   {
    "duration": 7,
    "start_time": "2024-01-20T12:44:32.087Z"
   },
   {
    "duration": 13,
    "start_time": "2024-01-20T12:44:39.784Z"
   },
   {
    "duration": 11,
    "start_time": "2024-01-20T12:45:35.108Z"
   },
   {
    "duration": 316,
    "start_time": "2024-01-20T12:45:54.426Z"
   },
   {
    "duration": 20,
    "start_time": "2024-01-20T12:49:15.437Z"
   },
   {
    "duration": 24,
    "start_time": "2024-01-20T12:49:35.605Z"
   },
   {
    "duration": 254,
    "start_time": "2024-01-20T12:50:23.491Z"
   },
   {
    "duration": 162,
    "start_time": "2024-01-20T12:53:13.555Z"
   },
   {
    "duration": 12,
    "start_time": "2024-01-20T12:55:38.154Z"
   },
   {
    "duration": 15,
    "start_time": "2024-01-20T12:56:26.827Z"
   },
   {
    "duration": 33,
    "start_time": "2024-01-20T12:56:39.863Z"
   },
   {
    "duration": 34,
    "start_time": "2024-01-20T12:57:11.466Z"
   },
   {
    "duration": 2,
    "start_time": "2024-01-20T12:59:55.934Z"
   },
   {
    "duration": 197,
    "start_time": "2024-01-20T12:59:55.938Z"
   },
   {
    "duration": 129,
    "start_time": "2024-01-20T12:59:56.136Z"
   },
   {
    "duration": 15597,
    "start_time": "2024-01-20T12:59:56.266Z"
   },
   {
    "duration": 60,
    "start_time": "2024-01-20T13:00:14.280Z"
   },
   {
    "duration": 26,
    "start_time": "2024-01-20T13:00:46.872Z"
   },
   {
    "duration": 104,
    "start_time": "2024-01-20T13:05:24.119Z"
   },
   {
    "duration": 78,
    "start_time": "2024-01-20T13:05:56.559Z"
   },
   {
    "duration": 73,
    "start_time": "2024-01-20T13:06:31.085Z"
   },
   {
    "duration": 8,
    "start_time": "2024-01-20T13:09:15.890Z"
   },
   {
    "duration": 7,
    "start_time": "2024-01-20T13:09:19.060Z"
   },
   {
    "duration": 7,
    "start_time": "2024-01-20T13:09:21.887Z"
   },
   {
    "duration": 15,
    "start_time": "2024-01-20T13:09:23.722Z"
   },
   {
    "duration": 21208,
    "start_time": "2024-01-20T13:11:53.674Z"
   },
   {
    "duration": 7,
    "start_time": "2024-01-20T13:12:14.884Z"
   },
   {
    "duration": 62,
    "start_time": "2024-01-20T13:33:48.217Z"
   },
   {
    "duration": 21050,
    "start_time": "2024-01-20T13:35:04.906Z"
   },
   {
    "duration": 8,
    "start_time": "2024-01-20T13:35:25.957Z"
   },
   {
    "duration": 62,
    "start_time": "2024-01-20T13:35:30.091Z"
   },
   {
    "duration": 51,
    "start_time": "2024-01-20T13:35:39.738Z"
   },
   {
    "duration": 56,
    "start_time": "2024-01-20T13:35:46.674Z"
   },
   {
    "duration": 61,
    "start_time": "2024-01-20T13:35:54.310Z"
   },
   {
    "duration": 58,
    "start_time": "2024-01-20T13:36:05.917Z"
   },
   {
    "duration": 11,
    "start_time": "2024-01-20T13:40:44.154Z"
   },
   {
    "duration": 57,
    "start_time": "2024-01-20T13:41:40.767Z"
   },
   {
    "duration": 41,
    "start_time": "2024-01-20T13:42:08.136Z"
   },
   {
    "duration": 64,
    "start_time": "2024-01-20T13:47:23.572Z"
   },
   {
    "duration": 10,
    "start_time": "2024-01-20T13:47:41.136Z"
   },
   {
    "duration": 8,
    "start_time": "2024-01-20T13:48:05.915Z"
   },
   {
    "duration": 5,
    "start_time": "2024-01-20T13:48:20.282Z"
   },
   {
    "duration": 87,
    "start_time": "2024-01-20T13:48:50.052Z"
   },
   {
    "duration": 19,
    "start_time": "2024-01-20T13:49:05.828Z"
   },
   {
    "duration": 86,
    "start_time": "2024-01-20T13:49:06.504Z"
   },
   {
    "duration": 85,
    "start_time": "2024-01-20T13:49:17.117Z"
   },
   {
    "duration": 8,
    "start_time": "2024-01-20T13:49:24.435Z"
   },
   {
    "duration": 75,
    "start_time": "2024-01-20T13:49:37.401Z"
   },
   {
    "duration": 4,
    "start_time": "2024-01-20T13:49:45.689Z"
   },
   {
    "duration": 82,
    "start_time": "2024-01-20T13:49:51.143Z"
   },
   {
    "duration": 18,
    "start_time": "2024-01-20T13:50:18.376Z"
   },
   {
    "duration": 11,
    "start_time": "2024-01-20T13:50:20.507Z"
   },
   {
    "duration": 7,
    "start_time": "2024-01-20T13:50:21.176Z"
   },
   {
    "duration": 16,
    "start_time": "2024-01-20T13:50:55.636Z"
   },
   {
    "duration": 13,
    "start_time": "2024-01-20T13:51:10.467Z"
   },
   {
    "duration": 8,
    "start_time": "2024-01-20T13:51:16.874Z"
   },
   {
    "duration": 20,
    "start_time": "2024-01-20T13:51:57.983Z"
   },
   {
    "duration": 16,
    "start_time": "2024-01-20T13:52:29.849Z"
   },
   {
    "duration": 61,
    "start_time": "2024-01-20T13:52:50.790Z"
   },
   {
    "duration": 17,
    "start_time": "2024-01-20T13:52:51.536Z"
   },
   {
    "duration": 53,
    "start_time": "2024-01-20T13:52:56.674Z"
   },
   {
    "duration": 22,
    "start_time": "2024-01-20T13:52:57.727Z"
   },
   {
    "duration": 3,
    "start_time": "2024-01-20T13:56:23.136Z"
   },
   {
    "duration": 2,
    "start_time": "2024-01-20T14:26:44.881Z"
   },
   {
    "duration": 26,
    "start_time": "2024-01-20T14:27:26.264Z"
   },
   {
    "duration": 45,
    "start_time": "2024-01-20T14:27:40.314Z"
   },
   {
    "duration": 43,
    "start_time": "2024-01-20T14:27:47.152Z"
   },
   {
    "duration": 57,
    "start_time": "2024-01-20T14:27:58.751Z"
   },
   {
    "duration": 70,
    "start_time": "2024-01-20T14:28:39.166Z"
   },
   {
    "duration": 51,
    "start_time": "2024-01-20T14:29:55.907Z"
   },
   {
    "duration": 50,
    "start_time": "2024-01-20T14:30:06.009Z"
   },
   {
    "duration": 38,
    "start_time": "2024-01-20T14:30:13.847Z"
   },
   {
    "duration": 42,
    "start_time": "2024-01-20T14:30:17.187Z"
   },
   {
    "duration": 95,
    "start_time": "2024-01-20T14:30:20.501Z"
   },
   {
    "duration": 38,
    "start_time": "2024-01-20T14:30:22.651Z"
   },
   {
    "duration": 44,
    "start_time": "2024-01-20T14:30:25.319Z"
   },
   {
    "duration": 47,
    "start_time": "2024-01-20T14:30:29.324Z"
   },
   {
    "duration": 50,
    "start_time": "2024-01-20T14:30:36.824Z"
   },
   {
    "duration": 31,
    "start_time": "2024-01-20T14:31:08.648Z"
   },
   {
    "duration": 52,
    "start_time": "2024-01-20T14:31:53.300Z"
   },
   {
    "duration": 66,
    "start_time": "2024-01-20T14:32:00.477Z"
   },
   {
    "duration": 66,
    "start_time": "2024-01-20T14:32:16.416Z"
   },
   {
    "duration": 61,
    "start_time": "2024-01-20T14:32:45.028Z"
   },
   {
    "duration": 68,
    "start_time": "2024-01-20T14:33:09.257Z"
   },
   {
    "duration": 98,
    "start_time": "2024-01-20T14:35:05.804Z"
   },
   {
    "duration": 97,
    "start_time": "2024-01-20T14:35:17.671Z"
   },
   {
    "duration": 66,
    "start_time": "2024-01-20T14:43:05.519Z"
   },
   {
    "duration": 60,
    "start_time": "2024-01-20T14:43:51.751Z"
   },
   {
    "duration": 47,
    "start_time": "2024-01-20T14:44:18.251Z"
   },
   {
    "duration": 47,
    "start_time": "2024-01-20T14:44:22.736Z"
   },
   {
    "duration": 46,
    "start_time": "2024-01-20T14:44:45.671Z"
   },
   {
    "duration": 52,
    "start_time": "2024-01-20T14:44:54.259Z"
   },
   {
    "duration": 57,
    "start_time": "2024-01-20T14:45:50.073Z"
   },
   {
    "duration": 51,
    "start_time": "2024-01-20T14:45:51.752Z"
   },
   {
    "duration": 13,
    "start_time": "2024-01-20T14:49:44.644Z"
   },
   {
    "duration": 428,
    "start_time": "2024-01-20T14:49:45.850Z"
   },
   {
    "duration": 9,
    "start_time": "2024-01-20T14:56:44.792Z"
   },
   {
    "duration": 415,
    "start_time": "2024-01-20T14:56:45.560Z"
   },
   {
    "duration": 16,
    "start_time": "2024-01-20T14:57:13.017Z"
   },
   {
    "duration": 417,
    "start_time": "2024-01-20T14:57:15.168Z"
   },
   {
    "duration": 10,
    "start_time": "2024-01-20T14:58:30.813Z"
   },
   {
    "duration": 425,
    "start_time": "2024-01-20T14:58:31.478Z"
   },
   {
    "duration": 8,
    "start_time": "2024-01-20T14:59:16.341Z"
   },
   {
    "duration": 404,
    "start_time": "2024-01-20T14:59:16.865Z"
   },
   {
    "duration": 11,
    "start_time": "2024-01-20T15:01:17.931Z"
   },
   {
    "duration": 441,
    "start_time": "2024-01-20T15:01:18.556Z"
   },
   {
    "duration": 9,
    "start_time": "2024-01-20T15:02:52.252Z"
   },
   {
    "duration": 421,
    "start_time": "2024-01-20T15:02:52.936Z"
   },
   {
    "duration": 14,
    "start_time": "2024-01-20T15:03:14.726Z"
   },
   {
    "duration": 422,
    "start_time": "2024-01-20T15:03:15.190Z"
   },
   {
    "duration": 9,
    "start_time": "2024-01-20T15:04:24.098Z"
   },
   {
    "duration": 426,
    "start_time": "2024-01-20T15:04:24.710Z"
   },
   {
    "duration": 9,
    "start_time": "2024-01-20T15:05:11.368Z"
   },
   {
    "duration": 442,
    "start_time": "2024-01-20T15:05:11.819Z"
   },
   {
    "duration": 409,
    "start_time": "2024-01-20T15:05:14.595Z"
   },
   {
    "duration": 10,
    "start_time": "2024-01-20T15:06:06.874Z"
   },
   {
    "duration": 431,
    "start_time": "2024-01-20T15:06:07.376Z"
   },
   {
    "duration": 10,
    "start_time": "2024-01-20T15:06:23.095Z"
   },
   {
    "duration": 415,
    "start_time": "2024-01-20T15:06:23.615Z"
   },
   {
    "duration": 419,
    "start_time": "2024-01-20T15:10:19.060Z"
   },
   {
    "duration": 410,
    "start_time": "2024-01-20T15:10:22.691Z"
   },
   {
    "duration": 435,
    "start_time": "2024-01-20T15:10:26.249Z"
   },
   {
    "duration": 5,
    "start_time": "2024-01-20T15:20:22.047Z"
   },
   {
    "duration": 434,
    "start_time": "2024-01-20T15:20:24.763Z"
   },
   {
    "duration": 3,
    "start_time": "2024-01-20T15:20:30.386Z"
   },
   {
    "duration": 585,
    "start_time": "2024-01-20T15:20:30.935Z"
   },
   {
    "duration": 6,
    "start_time": "2024-01-20T15:21:02.332Z"
   },
   {
    "duration": 486,
    "start_time": "2024-01-20T15:21:03.196Z"
   },
   {
    "duration": 404,
    "start_time": "2024-01-20T15:21:16.237Z"
   },
   {
    "duration": 443,
    "start_time": "2024-01-20T15:21:18.838Z"
   },
   {
    "duration": 455,
    "start_time": "2024-01-20T15:21:21.334Z"
   },
   {
    "duration": 437,
    "start_time": "2024-01-20T15:21:36.748Z"
   },
   {
    "duration": 12,
    "start_time": "2024-01-20T15:23:53.221Z"
   },
   {
    "duration": 1201,
    "start_time": "2024-01-20T15:51:03.597Z"
   },
   {
    "duration": 201,
    "start_time": "2024-01-20T15:51:04.800Z"
   },
   {
    "duration": 179,
    "start_time": "2024-01-20T15:51:05.003Z"
   },
   {
    "duration": 18315,
    "start_time": "2024-01-20T15:51:05.183Z"
   },
   {
    "duration": 86,
    "start_time": "2024-01-20T15:51:23.501Z"
   },
   {
    "duration": 9,
    "start_time": "2024-01-20T15:51:23.589Z"
   },
   {
    "duration": 58,
    "start_time": "2024-01-20T15:51:23.599Z"
   },
   {
    "duration": 11,
    "start_time": "2024-01-20T15:51:23.659Z"
   },
   {
    "duration": 77,
    "start_time": "2024-01-20T15:51:23.672Z"
   },
   {
    "duration": 380,
    "start_time": "2024-01-20T15:51:23.751Z"
   },
   {
    "duration": 18,
    "start_time": "2024-01-20T15:51:24.133Z"
   },
   {
    "duration": 195,
    "start_time": "2024-01-20T15:51:24.152Z"
   },
   {
    "duration": 27,
    "start_time": "2024-01-20T15:51:24.349Z"
   },
   {
    "duration": 26,
    "start_time": "2024-01-20T15:51:24.378Z"
   },
   {
    "duration": 111,
    "start_time": "2024-01-20T15:51:24.406Z"
   },
   {
    "duration": 21294,
    "start_time": "2024-01-20T15:51:24.519Z"
   },
   {
    "duration": 10,
    "start_time": "2024-01-20T15:51:45.815Z"
   },
   {
    "duration": 80,
    "start_time": "2024-01-20T15:51:45.827Z"
   },
   {
    "duration": 35,
    "start_time": "2024-01-20T15:51:45.908Z"
   },
   {
    "duration": 5,
    "start_time": "2024-01-20T15:51:45.944Z"
   },
   {
    "duration": 75,
    "start_time": "2024-01-20T15:51:45.950Z"
   },
   {
    "duration": 14,
    "start_time": "2024-01-20T15:51:46.027Z"
   },
   {
    "duration": 567,
    "start_time": "2024-01-20T15:51:46.043Z"
   },
   {
    "duration": 436,
    "start_time": "2024-01-20T15:51:46.612Z"
   },
   {
    "duration": 447,
    "start_time": "2024-01-20T15:51:47.050Z"
   },
   {
    "duration": 476,
    "start_time": "2024-01-20T15:51:47.499Z"
   },
   {
    "duration": 5,
    "start_time": "2024-01-20T15:51:47.976Z"
   },
   {
    "duration": 628,
    "start_time": "2024-01-20T15:51:47.983Z"
   },
   {
    "duration": 496,
    "start_time": "2024-01-20T15:51:48.613Z"
   },
   {
    "duration": 449,
    "start_time": "2024-01-20T15:51:49.111Z"
   },
   {
    "duration": 497,
    "start_time": "2024-01-20T15:51:49.562Z"
   },
   {
    "duration": 77,
    "start_time": "2024-01-20T15:53:47.088Z"
   },
   {
    "duration": 4,
    "start_time": "2024-01-20T15:56:46.159Z"
   },
   {
    "duration": 1113,
    "start_time": "2024-01-20T16:02:50.294Z"
   },
   {
    "duration": 218,
    "start_time": "2024-01-20T16:02:51.409Z"
   },
   {
    "duration": 195,
    "start_time": "2024-01-20T16:02:51.629Z"
   },
   {
    "duration": 17701,
    "start_time": "2024-01-20T16:02:51.827Z"
   },
   {
    "duration": 67,
    "start_time": "2024-01-20T16:03:09.531Z"
   },
   {
    "duration": 22,
    "start_time": "2024-01-20T16:03:09.599Z"
   },
   {
    "duration": 44,
    "start_time": "2024-01-20T16:03:09.623Z"
   },
   {
    "duration": 9,
    "start_time": "2024-01-20T16:03:09.668Z"
   },
   {
    "duration": 98,
    "start_time": "2024-01-20T16:03:09.678Z"
   },
   {
    "duration": 387,
    "start_time": "2024-01-20T16:03:09.778Z"
   },
   {
    "duration": 17,
    "start_time": "2024-01-20T16:03:10.167Z"
   },
   {
    "duration": 195,
    "start_time": "2024-01-20T16:03:10.185Z"
   },
   {
    "duration": 41,
    "start_time": "2024-01-20T16:03:10.382Z"
   },
   {
    "duration": 31,
    "start_time": "2024-01-20T16:03:10.425Z"
   },
   {
    "duration": 96,
    "start_time": "2024-01-20T16:03:10.458Z"
   },
   {
    "duration": 21723,
    "start_time": "2024-01-20T16:03:10.556Z"
   },
   {
    "duration": 8,
    "start_time": "2024-01-20T16:03:32.280Z"
   },
   {
    "duration": 98,
    "start_time": "2024-01-20T16:03:32.289Z"
   },
   {
    "duration": 17,
    "start_time": "2024-01-20T16:03:32.389Z"
   },
   {
    "duration": 21,
    "start_time": "2024-01-20T16:03:32.407Z"
   },
   {
    "duration": 66,
    "start_time": "2024-01-20T16:03:32.430Z"
   },
   {
    "duration": 10,
    "start_time": "2024-01-20T16:03:32.497Z"
   },
   {
    "duration": 545,
    "start_time": "2024-01-20T16:03:32.508Z"
   },
   {
    "duration": 393,
    "start_time": "2024-01-20T16:03:33.054Z"
   },
   {
    "duration": 420,
    "start_time": "2024-01-20T16:03:33.448Z"
   },
   {
    "duration": 419,
    "start_time": "2024-01-20T16:03:33.870Z"
   },
   {
    "duration": 5,
    "start_time": "2024-01-20T16:03:34.290Z"
   },
   {
    "duration": 393,
    "start_time": "2024-01-20T16:03:34.299Z"
   },
   {
    "duration": 404,
    "start_time": "2024-01-20T16:03:34.694Z"
   },
   {
    "duration": 374,
    "start_time": "2024-01-20T16:03:35.099Z"
   },
   {
    "duration": 422,
    "start_time": "2024-01-20T16:03:35.475Z"
   },
   {
    "duration": 1123,
    "start_time": "2024-01-20T16:37:52.489Z"
   },
   {
    "duration": 206,
    "start_time": "2024-01-20T16:37:53.614Z"
   },
   {
    "duration": 156,
    "start_time": "2024-01-20T16:37:53.822Z"
   },
   {
    "duration": 15865,
    "start_time": "2024-01-20T16:37:53.980Z"
   },
   {
    "duration": 56,
    "start_time": "2024-01-20T16:38:09.847Z"
   },
   {
    "duration": 21,
    "start_time": "2024-01-20T16:38:09.904Z"
   },
   {
    "duration": 29,
    "start_time": "2024-01-20T16:38:09.926Z"
   },
   {
    "duration": 10,
    "start_time": "2024-01-20T16:38:09.956Z"
   },
   {
    "duration": 83,
    "start_time": "2024-01-20T16:38:09.967Z"
   },
   {
    "duration": 330,
    "start_time": "2024-01-20T16:38:10.054Z"
   },
   {
    "duration": 17,
    "start_time": "2024-01-20T16:38:10.386Z"
   },
   {
    "duration": 175,
    "start_time": "2024-01-20T16:38:10.405Z"
   },
   {
    "duration": 41,
    "start_time": "2024-01-20T16:38:10.582Z"
   },
   {
    "duration": 26,
    "start_time": "2024-01-20T16:38:10.624Z"
   },
   {
    "duration": 91,
    "start_time": "2024-01-20T16:38:10.651Z"
   },
   {
    "duration": 19466,
    "start_time": "2024-01-20T16:38:10.744Z"
   },
   {
    "duration": 9,
    "start_time": "2024-01-20T16:38:30.212Z"
   },
   {
    "duration": 102,
    "start_time": "2024-01-20T16:38:30.222Z"
   },
   {
    "duration": 17,
    "start_time": "2024-01-20T16:38:30.326Z"
   },
   {
    "duration": 46,
    "start_time": "2024-01-20T16:38:30.344Z"
   },
   {
    "duration": 90,
    "start_time": "2024-01-20T16:38:30.391Z"
   },
   {
    "duration": 9,
    "start_time": "2024-01-20T16:38:30.483Z"
   },
   {
    "duration": 528,
    "start_time": "2024-01-20T16:38:30.494Z"
   },
   {
    "duration": 382,
    "start_time": "2024-01-20T16:38:31.024Z"
   },
   {
    "duration": 392,
    "start_time": "2024-01-20T16:38:31.408Z"
   },
   {
    "duration": 411,
    "start_time": "2024-01-20T16:38:31.801Z"
   },
   {
    "duration": 9,
    "start_time": "2024-01-20T16:38:32.213Z"
   },
   {
    "duration": 386,
    "start_time": "2024-01-20T16:38:32.225Z"
   },
   {
    "duration": 382,
    "start_time": "2024-01-20T16:38:32.612Z"
   },
   {
    "duration": 388,
    "start_time": "2024-01-20T16:38:32.996Z"
   },
   {
    "duration": 422,
    "start_time": "2024-01-20T16:38:33.385Z"
   },
   {
    "duration": 199,
    "start_time": "2024-01-20T17:00:28.424Z"
   },
   {
    "duration": 8,
    "start_time": "2024-01-20T17:01:20.903Z"
   },
   {
    "duration": 4,
    "start_time": "2024-01-20T17:02:20.540Z"
   },
   {
    "duration": 3,
    "start_time": "2024-01-20T17:03:17.834Z"
   },
   {
    "duration": 1163,
    "start_time": "2024-01-20T17:03:36.021Z"
   },
   {
    "duration": 4,
    "start_time": "2024-01-20T17:03:48.757Z"
   },
   {
    "duration": 10,
    "start_time": "2024-01-20T17:04:07.145Z"
   },
   {
    "duration": 8,
    "start_time": "2024-01-20T17:05:36.983Z"
   },
   {
    "duration": 8,
    "start_time": "2024-01-20T17:05:50.691Z"
   },
   {
    "duration": 8,
    "start_time": "2024-01-20T17:05:54.393Z"
   },
   {
    "duration": 8,
    "start_time": "2024-01-20T17:05:58.552Z"
   },
   {
    "duration": 11,
    "start_time": "2024-01-20T17:06:05.430Z"
   },
   {
    "duration": 4,
    "start_time": "2024-01-20T17:06:22.043Z"
   },
   {
    "duration": 5,
    "start_time": "2024-01-20T17:06:24.832Z"
   },
   {
    "duration": 4,
    "start_time": "2024-01-20T17:06:45.357Z"
   },
   {
    "duration": 4,
    "start_time": "2024-01-20T17:07:04.587Z"
   },
   {
    "duration": 105,
    "start_time": "2024-01-20T17:13:13.432Z"
   },
   {
    "duration": 16,
    "start_time": "2024-01-20T17:13:16.073Z"
   },
   {
    "duration": 12,
    "start_time": "2024-01-20T17:13:20.991Z"
   },
   {
    "duration": 13,
    "start_time": "2024-01-20T17:13:25.245Z"
   },
   {
    "duration": 10,
    "start_time": "2024-01-20T17:13:28.874Z"
   },
   {
    "duration": 4,
    "start_time": "2024-01-20T17:14:23.180Z"
   },
   {
    "duration": 4,
    "start_time": "2024-01-20T17:14:27.161Z"
   },
   {
    "duration": 3,
    "start_time": "2024-01-20T17:14:32.554Z"
   },
   {
    "duration": 12,
    "start_time": "2024-01-20T17:29:31.739Z"
   },
   {
    "duration": 18,
    "start_time": "2024-01-20T17:32:49.741Z"
   },
   {
    "duration": 12,
    "start_time": "2024-01-20T17:32:58.808Z"
   },
   {
    "duration": 9,
    "start_time": "2024-01-20T17:34:35.413Z"
   },
   {
    "duration": 3,
    "start_time": "2024-01-20T17:35:40.487Z"
   },
   {
    "duration": 4,
    "start_time": "2024-01-20T17:35:53.093Z"
   },
   {
    "duration": 8,
    "start_time": "2024-01-20T17:36:04.574Z"
   },
   {
    "duration": 12,
    "start_time": "2024-01-20T17:36:50.102Z"
   },
   {
    "duration": 9,
    "start_time": "2024-01-20T17:36:55.974Z"
   },
   {
    "duration": 9,
    "start_time": "2024-01-20T17:39:19.166Z"
   },
   {
    "duration": 3,
    "start_time": "2024-01-20T17:39:31.995Z"
   },
   {
    "duration": 11,
    "start_time": "2024-01-20T17:40:49.104Z"
   },
   {
    "duration": 19,
    "start_time": "2024-01-20T17:40:58.032Z"
   },
   {
    "duration": 9,
    "start_time": "2024-01-20T17:41:45.347Z"
   },
   {
    "duration": 11,
    "start_time": "2024-01-20T17:42:04.748Z"
   },
   {
    "duration": 15,
    "start_time": "2024-01-20T17:42:18.456Z"
   },
   {
    "duration": 12,
    "start_time": "2024-01-20T17:42:27.789Z"
   },
   {
    "duration": 20,
    "start_time": "2024-01-20T17:42:51.742Z"
   },
   {
    "duration": 15,
    "start_time": "2024-01-20T17:43:35.285Z"
   },
   {
    "duration": 14,
    "start_time": "2024-01-20T17:43:41.859Z"
   },
   {
    "duration": 15,
    "start_time": "2024-01-20T17:45:08.959Z"
   },
   {
    "duration": 10,
    "start_time": "2024-01-20T17:45:23.876Z"
   },
   {
    "duration": 93,
    "start_time": "2024-01-20T17:46:44.416Z"
   },
   {
    "duration": 9,
    "start_time": "2024-01-20T17:46:46.788Z"
   },
   {
    "duration": 15,
    "start_time": "2024-01-20T17:49:37.868Z"
   },
   {
    "duration": 16,
    "start_time": "2024-01-20T17:49:53.990Z"
   },
   {
    "duration": 14,
    "start_time": "2024-01-20T17:54:05.373Z"
   },
   {
    "duration": 16,
    "start_time": "2024-01-20T17:54:40.280Z"
   },
   {
    "duration": 11,
    "start_time": "2024-01-20T17:56:01.403Z"
   },
   {
    "duration": 10,
    "start_time": "2024-01-20T17:56:20.873Z"
   },
   {
    "duration": 10,
    "start_time": "2024-01-20T17:56:53.160Z"
   },
   {
    "duration": 14,
    "start_time": "2024-01-20T17:59:23.715Z"
   },
   {
    "duration": 22,
    "start_time": "2024-01-20T18:00:06.923Z"
   },
   {
    "duration": 603,
    "start_time": "2024-01-20T18:00:13.905Z"
   },
   {
    "duration": 18,
    "start_time": "2024-01-20T18:01:53.554Z"
   },
   {
    "duration": 36,
    "start_time": "2024-01-20T18:02:00.065Z"
   },
   {
    "duration": 10381,
    "start_time": "2024-01-20T18:02:19.567Z"
   },
   {
    "duration": 46,
    "start_time": "2024-01-20T18:03:24.040Z"
   },
   {
    "duration": 57,
    "start_time": "2024-01-20T18:03:45.250Z"
   },
   {
    "duration": 11,
    "start_time": "2024-01-20T18:04:43.722Z"
   },
   {
    "duration": 4,
    "start_time": "2024-01-20T18:04:52.612Z"
   },
   {
    "duration": 4,
    "start_time": "2024-01-20T18:05:48.262Z"
   },
   {
    "duration": 51,
    "start_time": "2024-01-20T18:09:05.342Z"
   },
   {
    "duration": 5,
    "start_time": "2024-01-20T18:09:05.395Z"
   },
   {
    "duration": 6,
    "start_time": "2024-01-20T18:14:01.578Z"
   },
   {
    "duration": 12,
    "start_time": "2024-01-20T18:15:53.865Z"
   },
   {
    "duration": 0,
    "start_time": "2024-01-20T18:17:09.126Z"
   },
   {
    "duration": 9,
    "start_time": "2024-01-20T18:20:06.827Z"
   },
   {
    "duration": 30,
    "start_time": "2024-01-20T18:21:35.558Z"
   },
   {
    "duration": 29,
    "start_time": "2024-01-20T18:22:46.493Z"
   },
   {
    "duration": 38,
    "start_time": "2024-01-20T18:23:11.862Z"
   },
   {
    "duration": 41,
    "start_time": "2024-01-20T18:23:39.936Z"
   },
   {
    "duration": 48,
    "start_time": "2024-01-20T18:24:06.470Z"
   },
   {
    "duration": 3,
    "start_time": "2024-01-20T18:24:19.154Z"
   },
   {
    "duration": 88,
    "start_time": "2024-01-20T18:24:39.788Z"
   },
   {
    "duration": 82,
    "start_time": "2024-01-20T18:25:48.888Z"
   },
   {
    "duration": 75,
    "start_time": "2024-01-20T18:25:53.231Z"
   },
   {
    "duration": 1134,
    "start_time": "2024-01-20T18:26:39.446Z"
   },
   {
    "duration": 210,
    "start_time": "2024-01-20T18:26:40.582Z"
   },
   {
    "duration": 183,
    "start_time": "2024-01-20T18:26:40.793Z"
   },
   {
    "duration": 16991,
    "start_time": "2024-01-20T18:26:40.978Z"
   },
   {
    "duration": 66,
    "start_time": "2024-01-20T18:26:57.971Z"
   },
   {
    "duration": 6,
    "start_time": "2024-01-20T18:26:58.039Z"
   },
   {
    "duration": 27,
    "start_time": "2024-01-20T18:26:58.047Z"
   },
   {
    "duration": 9,
    "start_time": "2024-01-20T18:26:58.075Z"
   },
   {
    "duration": 97,
    "start_time": "2024-01-20T18:26:58.085Z"
   },
   {
    "duration": 362,
    "start_time": "2024-01-20T18:26:58.183Z"
   },
   {
    "duration": 17,
    "start_time": "2024-01-20T18:26:58.547Z"
   },
   {
    "duration": 207,
    "start_time": "2024-01-20T18:26:58.566Z"
   },
   {
    "duration": 28,
    "start_time": "2024-01-20T18:26:58.775Z"
   },
   {
    "duration": 36,
    "start_time": "2024-01-20T18:26:58.820Z"
   },
   {
    "duration": 91,
    "start_time": "2024-01-20T18:26:58.858Z"
   },
   {
    "duration": 20527,
    "start_time": "2024-01-20T18:26:58.951Z"
   },
   {
    "duration": 7,
    "start_time": "2024-01-20T18:27:19.479Z"
   },
   {
    "duration": 75,
    "start_time": "2024-01-20T18:27:19.487Z"
   },
   {
    "duration": 16,
    "start_time": "2024-01-20T18:27:19.563Z"
   },
   {
    "duration": 5,
    "start_time": "2024-01-20T18:27:19.581Z"
   },
   {
    "duration": 201,
    "start_time": "2024-01-20T18:27:19.587Z"
   },
   {
    "duration": 131,
    "start_time": "2024-01-20T18:27:19.790Z"
   },
   {
    "duration": 118,
    "start_time": "2024-01-20T18:27:19.923Z"
   },
   {
    "duration": 13,
    "start_time": "2024-01-20T18:27:20.042Z"
   },
   {
    "duration": 522,
    "start_time": "2024-01-20T18:27:20.056Z"
   },
   {
    "duration": 384,
    "start_time": "2024-01-20T18:27:20.579Z"
   },
   {
    "duration": 415,
    "start_time": "2024-01-20T18:27:20.964Z"
   },
   {
    "duration": 460,
    "start_time": "2024-01-20T18:27:21.381Z"
   },
   {
    "duration": 3,
    "start_time": "2024-01-20T18:27:21.843Z"
   },
   {
    "duration": 436,
    "start_time": "2024-01-20T18:27:21.847Z"
   },
   {
    "duration": 406,
    "start_time": "2024-01-20T18:27:22.284Z"
   },
   {
    "duration": 417,
    "start_time": "2024-01-20T18:27:22.691Z"
   },
   {
    "duration": 451,
    "start_time": "2024-01-20T18:27:23.109Z"
   },
   {
    "duration": 13,
    "start_time": "2024-01-20T18:34:13.786Z"
   },
   {
    "duration": 1127,
    "start_time": "2024-01-20T18:37:10.444Z"
   },
   {
    "duration": 199,
    "start_time": "2024-01-20T18:37:11.573Z"
   },
   {
    "duration": 180,
    "start_time": "2024-01-20T18:37:11.774Z"
   },
   {
    "duration": 16468,
    "start_time": "2024-01-20T18:37:11.955Z"
   },
   {
    "duration": 66,
    "start_time": "2024-01-20T18:37:28.426Z"
   },
   {
    "duration": 28,
    "start_time": "2024-01-20T18:37:28.494Z"
   },
   {
    "duration": 36,
    "start_time": "2024-01-20T18:37:28.524Z"
   },
   {
    "duration": 16,
    "start_time": "2024-01-20T18:37:28.562Z"
   },
   {
    "duration": 77,
    "start_time": "2024-01-20T18:37:28.580Z"
   },
   {
    "duration": 365,
    "start_time": "2024-01-20T18:37:28.659Z"
   },
   {
    "duration": 20,
    "start_time": "2024-01-20T18:37:29.026Z"
   },
   {
    "duration": 201,
    "start_time": "2024-01-20T18:37:29.047Z"
   },
   {
    "duration": 27,
    "start_time": "2024-01-20T18:37:29.250Z"
   },
   {
    "duration": 25,
    "start_time": "2024-01-20T18:37:29.280Z"
   },
   {
    "duration": 93,
    "start_time": "2024-01-20T18:37:29.306Z"
   },
   {
    "duration": 20798,
    "start_time": "2024-01-20T18:37:29.400Z"
   },
   {
    "duration": 9,
    "start_time": "2024-01-20T18:37:50.199Z"
   },
   {
    "duration": 77,
    "start_time": "2024-01-20T18:37:50.210Z"
   },
   {
    "duration": 33,
    "start_time": "2024-01-20T18:37:50.289Z"
   },
   {
    "duration": 5,
    "start_time": "2024-01-20T18:37:50.324Z"
   },
   {
    "duration": 159,
    "start_time": "2024-01-20T18:37:50.331Z"
   },
   {
    "duration": 144,
    "start_time": "2024-01-20T18:37:50.493Z"
   },
   {
    "duration": 135,
    "start_time": "2024-01-20T18:37:50.638Z"
   },
   {
    "duration": 11,
    "start_time": "2024-01-20T18:37:50.775Z"
   },
   {
    "duration": 551,
    "start_time": "2024-01-20T18:37:50.787Z"
   },
   {
    "duration": 438,
    "start_time": "2024-01-20T18:37:51.339Z"
   },
   {
    "duration": 434,
    "start_time": "2024-01-20T18:37:51.779Z"
   },
   {
    "duration": 441,
    "start_time": "2024-01-20T18:37:52.215Z"
   },
   {
    "duration": 3,
    "start_time": "2024-01-20T18:37:52.658Z"
   },
   {
    "duration": 409,
    "start_time": "2024-01-20T18:37:52.663Z"
   },
   {
    "duration": 446,
    "start_time": "2024-01-20T18:37:53.073Z"
   },
   {
    "duration": 424,
    "start_time": "2024-01-20T18:37:53.521Z"
   },
   {
    "duration": 431,
    "start_time": "2024-01-20T18:37:53.946Z"
   },
   {
    "duration": 49,
    "start_time": "2024-01-20T19:16:35.050Z"
   },
   {
    "duration": 1400,
    "start_time": "2024-01-21T06:49:45.158Z"
   },
   {
    "duration": 541,
    "start_time": "2024-01-21T06:49:46.561Z"
   },
   {
    "duration": 182,
    "start_time": "2024-01-21T06:49:47.104Z"
   },
   {
    "duration": 17290,
    "start_time": "2024-01-21T06:49:47.289Z"
   },
   {
    "duration": 59,
    "start_time": "2024-01-21T06:50:04.580Z"
   },
   {
    "duration": 8,
    "start_time": "2024-01-21T06:50:04.659Z"
   },
   {
    "duration": 34,
    "start_time": "2024-01-21T06:50:04.668Z"
   },
   {
    "duration": 10,
    "start_time": "2024-01-21T06:50:04.704Z"
   },
   {
    "duration": 82,
    "start_time": "2024-01-21T06:50:04.716Z"
   },
   {
    "duration": 355,
    "start_time": "2024-01-21T06:50:04.800Z"
   },
   {
    "duration": 20,
    "start_time": "2024-01-21T06:50:05.158Z"
   },
   {
    "duration": 188,
    "start_time": "2024-01-21T06:50:05.180Z"
   },
   {
    "duration": 31,
    "start_time": "2024-01-21T06:50:05.370Z"
   },
   {
    "duration": 28,
    "start_time": "2024-01-21T06:50:05.403Z"
   },
   {
    "duration": 99,
    "start_time": "2024-01-21T06:50:05.433Z"
   },
   {
    "duration": 23358,
    "start_time": "2024-01-21T06:50:05.534Z"
   },
   {
    "duration": 8,
    "start_time": "2024-01-21T06:50:28.893Z"
   },
   {
    "duration": 87,
    "start_time": "2024-01-21T06:50:28.902Z"
   },
   {
    "duration": 19,
    "start_time": "2024-01-21T06:50:28.991Z"
   },
   {
    "duration": 13,
    "start_time": "2024-01-21T06:50:29.011Z"
   },
   {
    "duration": 184,
    "start_time": "2024-01-21T06:50:29.026Z"
   },
   {
    "duration": 78,
    "start_time": "2024-01-21T06:50:29.213Z"
   },
   {
    "duration": 138,
    "start_time": "2024-01-21T06:50:29.293Z"
   },
   {
    "duration": 71,
    "start_time": "2024-01-21T06:50:29.432Z"
   },
   {
    "duration": 13,
    "start_time": "2024-01-21T06:50:29.505Z"
   },
   {
    "duration": 555,
    "start_time": "2024-01-21T06:50:29.519Z"
   },
   {
    "duration": 457,
    "start_time": "2024-01-21T06:50:30.075Z"
   },
   {
    "duration": 453,
    "start_time": "2024-01-21T06:50:30.535Z"
   },
   {
    "duration": 497,
    "start_time": "2024-01-21T06:50:30.989Z"
   },
   {
    "duration": 4,
    "start_time": "2024-01-21T06:50:31.487Z"
   },
   {
    "duration": 467,
    "start_time": "2024-01-21T06:50:31.493Z"
   },
   {
    "duration": 465,
    "start_time": "2024-01-21T06:50:31.962Z"
   },
   {
    "duration": 470,
    "start_time": "2024-01-21T06:50:32.429Z"
   },
   {
    "duration": 475,
    "start_time": "2024-01-21T06:50:32.901Z"
   },
   {
    "duration": 10,
    "start_time": "2024-01-21T06:53:10.648Z"
   },
   {
    "duration": 434,
    "start_time": "2024-01-21T06:53:11.431Z"
   }
  ],
  "kernelspec": {
   "display_name": "Python 3 (ipykernel)",
   "language": "python",
   "name": "python3"
  },
  "language_info": {
   "codemirror_mode": {
    "name": "ipython",
    "version": 3
   },
   "file_extension": ".py",
   "mimetype": "text/x-python",
   "name": "python",
   "nbconvert_exporter": "python",
   "pygments_lexer": "ipython3",
   "version": "3.9.5"
  },
  "toc": {
   "base_numbering": 1,
   "nav_menu": {},
   "number_sections": true,
   "sideBar": true,
   "skip_h1_title": true,
   "title_cell": "Table of Contents",
   "title_sidebar": "Contents",
   "toc_cell": false,
   "toc_position": {
    "height": "calc(100% - 180px)",
    "left": "10px",
    "top": "150px",
    "width": "266.708px"
   },
   "toc_section_display": true,
   "toc_window_display": false
  }
 },
 "nbformat": 4,
 "nbformat_minor": 4
}
