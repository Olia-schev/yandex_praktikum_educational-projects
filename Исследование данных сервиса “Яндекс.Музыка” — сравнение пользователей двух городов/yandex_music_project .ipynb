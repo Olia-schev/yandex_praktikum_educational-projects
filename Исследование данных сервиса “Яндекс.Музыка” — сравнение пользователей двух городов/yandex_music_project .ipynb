{
 "cells": [
  {
   "cell_type": "markdown",
   "id": "a402d448-de41-485b-a226-f3c046713784",
   "metadata": {},
   "source": [
    "# **Проект \"Музыка больших городов\"**"
   ]
  },
  {
   "cell_type": "markdown",
   "id": "9a8da31b-cb72-413d-9dd1-119155117c4a",
   "metadata": {},
   "source": [
    "# Обзор данных <a id='review'></a>"
   ]
  },
  {
   "cell_type": "markdown",
   "id": "3de077aa-7a33-4f92-91e3-4fc367e9e3bf",
   "metadata": {},
   "source": [
    "#### Импорт библиотек"
   ]
  },
  {
   "cell_type": "code",
   "execution_count": 1,
   "id": "ac073b3e-39ba-45ba-a9a9-8360d3bc7005",
   "metadata": {},
   "outputs": [],
   "source": [
    "import pandas as pd\n",
    "import numpy as np"
   ]
  },
  {
   "cell_type": "markdown",
   "id": "1b39c1dd-55b5-4762-a52f-7fdc4fca9fdb",
   "metadata": {},
   "source": [
    "#### Просмотр данных"
   ]
  },
  {
   "cell_type": "code",
   "execution_count": 2,
   "id": "0acfc62a-bbd7-4f7c-bedd-c330528a429c",
   "metadata": {},
   "outputs": [
    {
     "data": {
      "text/html": [
       "<div>\n",
       "<style scoped>\n",
       "    .dataframe tbody tr th:only-of-type {\n",
       "        vertical-align: middle;\n",
       "    }\n",
       "\n",
       "    .dataframe tbody tr th {\n",
       "        vertical-align: top;\n",
       "    }\n",
       "\n",
       "    .dataframe thead th {\n",
       "        text-align: right;\n",
       "    }\n",
       "</style>\n",
       "<table border=\"1\" class=\"dataframe\">\n",
       "  <thead>\n",
       "    <tr style=\"text-align: right;\">\n",
       "      <th></th>\n",
       "      <th>userID</th>\n",
       "      <th>Track</th>\n",
       "      <th>artist</th>\n",
       "      <th>genre</th>\n",
       "      <th>City</th>\n",
       "      <th>time</th>\n",
       "      <th>Day</th>\n",
       "    </tr>\n",
       "  </thead>\n",
       "  <tbody>\n",
       "    <tr>\n",
       "      <th>0</th>\n",
       "      <td>FFB692EC</td>\n",
       "      <td>Kamigata To Boots</td>\n",
       "      <td>The Mass Missile</td>\n",
       "      <td>rock</td>\n",
       "      <td>Saint-Petersburg</td>\n",
       "      <td>20:28:33</td>\n",
       "      <td>Wednesday</td>\n",
       "    </tr>\n",
       "    <tr>\n",
       "      <th>1</th>\n",
       "      <td>55204538</td>\n",
       "      <td>Delayed Because of Accident</td>\n",
       "      <td>Andreas Rönnberg</td>\n",
       "      <td>rock</td>\n",
       "      <td>Moscow</td>\n",
       "      <td>14:07:09</td>\n",
       "      <td>Friday</td>\n",
       "    </tr>\n",
       "    <tr>\n",
       "      <th>2</th>\n",
       "      <td>20EC38</td>\n",
       "      <td>Funiculì funiculà</td>\n",
       "      <td>Mario Lanza</td>\n",
       "      <td>pop</td>\n",
       "      <td>Saint-Petersburg</td>\n",
       "      <td>20:58:07</td>\n",
       "      <td>Wednesday</td>\n",
       "    </tr>\n",
       "    <tr>\n",
       "      <th>3</th>\n",
       "      <td>A3DD03C9</td>\n",
       "      <td>Dragons in the Sunset</td>\n",
       "      <td>Fire + Ice</td>\n",
       "      <td>folk</td>\n",
       "      <td>Saint-Petersburg</td>\n",
       "      <td>08:37:09</td>\n",
       "      <td>Monday</td>\n",
       "    </tr>\n",
       "    <tr>\n",
       "      <th>4</th>\n",
       "      <td>E2DC1FAE</td>\n",
       "      <td>Soul People</td>\n",
       "      <td>Space Echo</td>\n",
       "      <td>dance</td>\n",
       "      <td>Moscow</td>\n",
       "      <td>08:34:34</td>\n",
       "      <td>Monday</td>\n",
       "    </tr>\n",
       "    <tr>\n",
       "      <th>5</th>\n",
       "      <td>842029A1</td>\n",
       "      <td>Преданная</td>\n",
       "      <td>IMPERVTOR</td>\n",
       "      <td>rusrap</td>\n",
       "      <td>Saint-Petersburg</td>\n",
       "      <td>13:09:41</td>\n",
       "      <td>Friday</td>\n",
       "    </tr>\n",
       "    <tr>\n",
       "      <th>6</th>\n",
       "      <td>4CB90AA5</td>\n",
       "      <td>True</td>\n",
       "      <td>Roman Messer</td>\n",
       "      <td>dance</td>\n",
       "      <td>Moscow</td>\n",
       "      <td>13:00:07</td>\n",
       "      <td>Wednesday</td>\n",
       "    </tr>\n",
       "    <tr>\n",
       "      <th>7</th>\n",
       "      <td>F03E1C1F</td>\n",
       "      <td>Feeling This Way</td>\n",
       "      <td>Polina Griffith</td>\n",
       "      <td>dance</td>\n",
       "      <td>Moscow</td>\n",
       "      <td>20:47:49</td>\n",
       "      <td>Wednesday</td>\n",
       "    </tr>\n",
       "    <tr>\n",
       "      <th>8</th>\n",
       "      <td>8FA1D3BE</td>\n",
       "      <td>И вновь продолжается бой</td>\n",
       "      <td>NaN</td>\n",
       "      <td>ruspop</td>\n",
       "      <td>Moscow</td>\n",
       "      <td>09:17:40</td>\n",
       "      <td>Friday</td>\n",
       "    </tr>\n",
       "    <tr>\n",
       "      <th>9</th>\n",
       "      <td>E772D5C0</td>\n",
       "      <td>Pessimist</td>\n",
       "      <td>NaN</td>\n",
       "      <td>dance</td>\n",
       "      <td>Saint-Petersburg</td>\n",
       "      <td>21:20:49</td>\n",
       "      <td>Wednesday</td>\n",
       "    </tr>\n",
       "  </tbody>\n",
       "</table>\n",
       "</div>"
      ],
      "text/plain": [
       "     userID                        Track            artist   genre  \\\n",
       "0  FFB692EC            Kamigata To Boots  The Mass Missile    rock   \n",
       "1  55204538  Delayed Because of Accident  Andreas Rönnberg    rock   \n",
       "2    20EC38            Funiculì funiculà       Mario Lanza     pop   \n",
       "3  A3DD03C9        Dragons in the Sunset        Fire + Ice    folk   \n",
       "4  E2DC1FAE                  Soul People        Space Echo   dance   \n",
       "5  842029A1                    Преданная         IMPERVTOR  rusrap   \n",
       "6  4CB90AA5                         True      Roman Messer   dance   \n",
       "7  F03E1C1F             Feeling This Way   Polina Griffith   dance   \n",
       "8  8FA1D3BE     И вновь продолжается бой               NaN  ruspop   \n",
       "9  E772D5C0                    Pessimist               NaN   dance   \n",
       "\n",
       "             City        time        Day  \n",
       "0  Saint-Petersburg  20:28:33  Wednesday  \n",
       "1            Moscow  14:07:09     Friday  \n",
       "2  Saint-Petersburg  20:58:07  Wednesday  \n",
       "3  Saint-Petersburg  08:37:09     Monday  \n",
       "4            Moscow  08:34:34     Monday  \n",
       "5  Saint-Petersburg  13:09:41     Friday  \n",
       "6            Moscow  13:00:07  Wednesday  \n",
       "7            Moscow  20:47:49  Wednesday  \n",
       "8            Moscow  09:17:40     Friday  \n",
       "9  Saint-Petersburg  21:20:49  Wednesday  "
      ]
     },
     "execution_count": 2,
     "metadata": {},
     "output_type": "execute_result"
    }
   ],
   "source": [
    "df=pd.read_csv('yandex_music_project.csv')\n",
    "df.head(10)"
   ]
  },
  {
   "cell_type": "markdown",
   "id": "758006b1-2b16-4f57-80d9-d8ed3118bca3",
   "metadata": {},
   "source": [
    "#### Информация о файле"
   ]
  },
  {
   "cell_type": "code",
   "execution_count": 3,
   "id": "68d1c102-ea52-4ba6-b538-a284f50ec80d",
   "metadata": {},
   "outputs": [
    {
     "name": "stdout",
     "output_type": "stream",
     "text": [
      "<class 'pandas.core.frame.DataFrame'>\n",
      "RangeIndex: 65079 entries, 0 to 65078\n",
      "Data columns (total 7 columns):\n",
      " #   Column    Non-Null Count  Dtype \n",
      "---  ------    --------------  ----- \n",
      " 0     userID  65079 non-null  object\n",
      " 1   Track     63848 non-null  object\n",
      " 2   artist    57876 non-null  object\n",
      " 3   genre     63881 non-null  object\n",
      " 4     City    65079 non-null  object\n",
      " 5   time      65079 non-null  object\n",
      " 6   Day       65079 non-null  object\n",
      "dtypes: object(7)\n",
      "memory usage: 3.5+ MB\n"
     ]
    }
   ],
   "source": [
    "df.info()"
   ]
  },
  {
   "cell_type": "markdown",
   "id": "78b4c358-0b5f-458f-bf77-f61c64e8dc70",
   "metadata": {},
   "source": [
    "#### Подсчет уникальных значений в каждом столбце"
   ]
  },
  {
   "cell_type": "code",
   "execution_count": 4,
   "id": "39d83c74-18f0-49bc-910b-6dca6619a045",
   "metadata": {},
   "outputs": [
    {
     "data": {
      "text/html": [
       "<div>\n",
       "<style scoped>\n",
       "    .dataframe tbody tr th:only-of-type {\n",
       "        vertical-align: middle;\n",
       "    }\n",
       "\n",
       "    .dataframe tbody tr th {\n",
       "        vertical-align: top;\n",
       "    }\n",
       "\n",
       "    .dataframe thead th {\n",
       "        text-align: right;\n",
       "    }\n",
       "</style>\n",
       "<table border=\"1\" class=\"dataframe\">\n",
       "  <thead>\n",
       "    <tr style=\"text-align: right;\">\n",
       "      <th></th>\n",
       "      <th>userID</th>\n",
       "      <th>Track</th>\n",
       "      <th>artist</th>\n",
       "      <th>genre</th>\n",
       "      <th>City</th>\n",
       "      <th>time</th>\n",
       "      <th>Day</th>\n",
       "    </tr>\n",
       "  </thead>\n",
       "  <tbody>\n",
       "    <tr>\n",
       "      <th>0</th>\n",
       "      <td>41748</td>\n",
       "      <td>47246</td>\n",
       "      <td>43606</td>\n",
       "      <td>290</td>\n",
       "      <td>2</td>\n",
       "      <td>20392</td>\n",
       "      <td>3</td>\n",
       "    </tr>\n",
       "  </tbody>\n",
       "</table>\n",
       "</div>"
      ],
      "text/plain": [
       "     userID  Track  artist  genre    City     time  Day\n",
       "0     41748  47246   43606    290         2  20392    3"
      ]
     },
     "execution_count": 4,
     "metadata": {},
     "output_type": "execute_result"
    }
   ],
   "source": [
    "quantity=[]\n",
    "for col in df:\n",
    "    quantity.append(np.count_nonzero (df[col].unique()))\n",
    "data=[\n",
    "    quantity\n",
    "]\n",
    "columns=df.columns\n",
    "table_one=pd.DataFrame(data=data,columns=columns)\n",
    "table_one"
   ]
  },
  {
   "cell_type": "markdown",
   "id": "2f3960f6-3759-4007-a3ca-6227c30d2ab9",
   "metadata": {},
   "source": [
    "### Выводы\n",
    "\n",
    "- таблица состоит из `65077` строк, тип данных в каждом столбце: `object`\n",
    "- Каждая строка таблицы содержит данные об прослушиваемом треке. Колонки описывают саму композицию (`название трека`, `исполнитель`, `жанр`), `город`, в котором находился пользователь, `время прослушивания` и `день недели`; \n",
    "- Суммарное количество пользователей, данные о которых представлены в исследовании: `41748`;\n",
    "- Информация о прослушивании предоставлена только за три дня недели: `понедельник`, `среду` и `пятницу`;\n",
    "- В колонках `Track`, `artist` и `genre` присутствуют пропуски данных. Необходимо устранить пропуски и выяснить не повлияют ли отсутствующие значения на результаты исследования. \n"
   ]
  },
  {
   "cell_type": "markdown",
   "id": "c9b5a9a0-bdb0-43e3-8e03-fdea3c2764be",
   "metadata": {},
   "source": [
    "# Предобработка данных <a id='preprocessing'></a>"
   ]
  },
  {
   "cell_type": "markdown",
   "id": "867c905f-229b-4ee1-b601-cc199cb2fc2e",
   "metadata": {},
   "source": [
    "#### Исправление стиля заголовков столбцов"
   ]
  },
  {
   "cell_type": "code",
   "execution_count": 5,
   "id": "1a53b0c1-f6a3-4036-8679-bbb99e7df711",
   "metadata": {},
   "outputs": [
    {
     "data": {
      "text/plain": [
       "Index(['  userID', 'Track', 'artist', 'genre', '  City  ', 'time', 'Day'], dtype='object')"
      ]
     },
     "execution_count": 5,
     "metadata": {},
     "output_type": "execute_result"
    }
   ],
   "source": [
    "df.columns"
   ]
  },
  {
   "cell_type": "markdown",
   "id": "1623d234-e6a6-4510-ab7e-58e7602e5196",
   "metadata": {},
   "source": [
    "*Приведем наименования заголовков к единому стилю, используя \"змеиный регистр\" и прописные буквы:*"
   ]
  },
  {
   "cell_type": "code",
   "execution_count": 6,
   "id": "eded1403-03d7-411b-a879-43229915d6c9",
   "metadata": {},
   "outputs": [
    {
     "data": {
      "text/plain": [
       "Index(['user_id', 'track', 'artist', 'genre', 'city', 'time', 'day'], dtype='object')"
      ]
     },
     "execution_count": 6,
     "metadata": {},
     "output_type": "execute_result"
    }
   ],
   "source": [
    "df=df.rename(columns={'  userID':'user_id','Track':'track','  City  ':'city','Day':'day'})\n",
    "df.columns"
   ]
  },
  {
   "cell_type": "markdown",
   "id": "2bb18317-47ed-4c46-bbd5-de6b95efa723",
   "metadata": {},
   "source": [
    "#### Исключение пропусков в данных"
   ]
  },
  {
   "cell_type": "markdown",
   "id": "2bf5b141-6a5e-45c2-94ce-1bd0d05a71a9",
   "metadata": {},
   "source": [
    "*Проверим наличие пропусков в каждом столбце*"
   ]
  },
  {
   "cell_type": "code",
   "execution_count": 7,
   "id": "bcbbefbd-ae0f-4dff-a1de-e7588407d990",
   "metadata": {},
   "outputs": [
    {
     "data": {
      "text/plain": [
       "user_id       0\n",
       "track      1231\n",
       "artist     7203\n",
       "genre      1198\n",
       "city          0\n",
       "time          0\n",
       "day           0\n",
       "dtype: int64"
      ]
     },
     "execution_count": 7,
     "metadata": {},
     "output_type": "execute_result"
    }
   ],
   "source": [
    "df.isna().sum()"
   ]
  },
  {
   "cell_type": "markdown",
   "id": "948df6cf-d9fd-46df-91d7-b5282e426954",
   "metadata": {},
   "source": [
    "*Пропуски в столбцах `track` и `artist` не влияют на результаты исследования, заменим их явными обозначениями `unknown`.\n",
    "Наличие пропусков в столбце `genre` может исказить результаты исследования. Так как восстановить значения и установить причину пропусков в данном проекте невозможно заменим их явными обозначениями и оценим, насколько они повлияют на расчёты.* \n",
    "\n"
   ]
  },
  {
   "cell_type": "code",
   "execution_count": 8,
   "id": "9eea16e7-c209-4c23-af7c-3bd8763cbaf8",
   "metadata": {},
   "outputs": [
    {
     "data": {
      "text/plain": [
       "user_id    0\n",
       "track      0\n",
       "artist     0\n",
       "genre      0\n",
       "city       0\n",
       "time       0\n",
       "day        0\n",
       "dtype: int64"
      ]
     },
     "execution_count": 8,
     "metadata": {},
     "output_type": "execute_result"
    }
   ],
   "source": [
    "columns_to_replace=['track', 'artist','genre']\n",
    "for column in columns_to_replace:\n",
    "    df[column]=df[column].fillna('unknown')\n",
    "df.isna().sum()"
   ]
  },
  {
   "cell_type": "markdown",
   "id": "e2088e1e-a095-491a-b7d6-966cd30d86a8",
   "metadata": {},
   "source": [
    "#### Проверка данных на дубликаты"
   ]
  },
  {
   "cell_type": "markdown",
   "id": "94393326-8fb4-4460-accc-c830dea0fdf0",
   "metadata": {},
   "source": [
    "*Посчитаем количество явных дубликатов в таблице*"
   ]
  },
  {
   "cell_type": "code",
   "execution_count": 9,
   "id": "762ebd2a-44e6-40d6-bae2-10cc07c052f8",
   "metadata": {},
   "outputs": [
    {
     "name": "stdout",
     "output_type": "stream",
     "text": [
      "В исходных данных обнаружено 3826 дубликатов\n"
     ]
    }
   ],
   "source": [
    "duplicate=df.duplicated().sum()\n",
    "print('В исходных данных обнаружено',duplicate,'дубликатов')"
   ]
  },
  {
   "cell_type": "markdown",
   "id": "c4ea868c-4871-4c41-a44b-6a2714633d16",
   "metadata": {},
   "source": [
    "*Удалим все явные дубликаты из таблицы*"
   ]
  },
  {
   "cell_type": "code",
   "execution_count": 10,
   "id": "be008cc5-ec2c-44f4-bcde-233f6d21bc22",
   "metadata": {},
   "outputs": [
    {
     "name": "stdout",
     "output_type": "stream",
     "text": [
      "Явных дубликатов в таблице: 0\n"
     ]
    }
   ],
   "source": [
    "df=df.drop_duplicates()\n",
    "print('Явных дубликатов в таблице:',df.duplicated().sum())"
   ]
  },
  {
   "cell_type": "markdown",
   "id": "c7ad8cc5-4cb3-43c6-bf64-b84979c40af0",
   "metadata": {},
   "source": [
    " *Для дальнейшего исследования проверим наличие неявных дубликатов в столбце с названием жанров (`genre`)*"
   ]
  },
  {
   "cell_type": "code",
   "execution_count": 11,
   "id": "17448eb4-ab0f-4c86-a1b6-33d47bfb6c2b",
   "metadata": {},
   "outputs": [
    {
     "data": {
      "text/plain": [
       "array(['acid', 'acoustic', 'action', 'adult', 'africa', 'afrikaans',\n",
       "       'alternative', 'alternativepunk', 'ambient', 'americana',\n",
       "       'animated', 'anime', 'arabesk', 'arabic', 'arena',\n",
       "       'argentinetango', 'art', 'audiobook', 'author', 'avantgarde',\n",
       "       'axé', 'baile', 'balkan', 'beats', 'bigroom', 'black', 'bluegrass',\n",
       "       'blues', 'bollywood', 'bossa', 'brazilian', 'breakbeat', 'breaks',\n",
       "       'broadway', 'cantautori', 'cantopop', 'canzone', 'caribbean',\n",
       "       'caucasian', 'celtic', 'chamber', 'chanson', 'children', 'chill',\n",
       "       'chinese', 'choral', 'christian', 'christmas', 'classical',\n",
       "       'classicmetal', 'club', 'colombian', 'comedy', 'conjazz',\n",
       "       'contemporary', 'country', 'cuban', 'dance', 'dancehall',\n",
       "       'dancepop', 'dark', 'death', 'deep', 'deutschrock', 'deutschspr',\n",
       "       'dirty', 'disco', 'dnb', 'documentary', 'downbeat', 'downtempo',\n",
       "       'drum', 'dub', 'dubstep', 'eastern', 'easy', 'electronic',\n",
       "       'electropop', 'emo', 'entehno', 'epicmetal', 'estrada', 'ethnic',\n",
       "       'eurofolk', 'european', 'experimental', 'extrememetal', 'fado',\n",
       "       'fairytail', 'film', 'fitness', 'flamenco', 'folk', 'folklore',\n",
       "       'folkmetal', 'folkrock', 'folktronica', 'forró', 'frankreich',\n",
       "       'französisch', 'french', 'funk', 'future', 'gangsta', 'garage',\n",
       "       'german', 'ghazal', 'gitarre', 'glitch', 'gospel', 'gothic',\n",
       "       'grime', 'grunge', 'gypsy', 'handsup', \"hard'n'heavy\", 'hardcore',\n",
       "       'hardstyle', 'hardtechno', 'hip', 'hip-hop', 'hiphop',\n",
       "       'historisch', 'holiday', 'hop', 'horror', 'house', 'hymn', 'idm',\n",
       "       'independent', 'indian', 'indie', 'indipop', 'industrial',\n",
       "       'inspirational', 'instrumental', 'international', 'irish', 'jam',\n",
       "       'japanese', 'jazz', 'jewish', 'jpop', 'jungle', 'k-pop',\n",
       "       'karadeniz', 'karaoke', 'kayokyoku', 'korean', 'laiko', 'latin',\n",
       "       'latino', 'leftfield', 'local', 'lounge', 'loungeelectronic',\n",
       "       'lovers', 'malaysian', 'mandopop', 'marschmusik', 'meditative',\n",
       "       'mediterranean', 'melodic', 'metal', 'metalcore', 'mexican',\n",
       "       'middle', 'minimal', 'miscellaneous', 'modern', 'mood', 'mpb',\n",
       "       'muslim', 'native', 'neoklassik', 'neue', 'new', 'newage',\n",
       "       'newwave', 'nu', 'nujazz', 'numetal', 'oceania', 'old', 'opera',\n",
       "       'orchestral', 'other', 'piano', 'podcasts', 'pop', 'popdance',\n",
       "       'popelectronic', 'popeurodance', 'poprussian', 'post',\n",
       "       'posthardcore', 'postrock', 'power', 'progmetal', 'progressive',\n",
       "       'psychedelic', 'punjabi', 'punk', 'quebecois', 'ragga', 'ram',\n",
       "       'rancheras', 'rap', 'rave', 'reggae', 'reggaeton', 'regional',\n",
       "       'relax', 'religious', 'retro', 'rhythm', 'rnb', 'rnr', 'rock',\n",
       "       'rockabilly', 'rockalternative', 'rockindie', 'rockother',\n",
       "       'romance', 'roots', 'ruspop', 'rusrap', 'rusrock', 'russian',\n",
       "       'salsa', 'samba', 'scenic', 'schlager', 'self', 'sertanejo',\n",
       "       'shanson', 'shoegazing', 'showtunes', 'singer', 'ska', 'skarock',\n",
       "       'slow', 'smooth', 'soft', 'soul', 'soulful', 'sound', 'soundtrack',\n",
       "       'southern', 'specialty', 'speech', 'spiritual', 'sport',\n",
       "       'stonerrock', 'surf', 'swing', 'synthpop', 'synthrock',\n",
       "       'sängerportrait', 'tango', 'tanzorchester', 'taraftar', 'tatar',\n",
       "       'tech', 'techno', 'teen', 'thrash', 'top', 'traditional',\n",
       "       'tradjazz', 'trance', 'tribal', 'trip', 'triphop', 'tropical',\n",
       "       'türk', 'türkçe', 'ukrrock', 'unknown', 'urban', 'uzbek',\n",
       "       'variété', 'vi', 'videogame', 'vocal', 'western', 'world',\n",
       "       'worldbeat', 'ïîï', 'электроника'], dtype=object)"
      ]
     },
     "execution_count": 11,
     "metadata": {},
     "output_type": "execute_result"
    }
   ],
   "source": [
    "list_one = df['genre'].sort_values().unique()\n",
    "list_one\n"
   ]
  },
  {
   "cell_type": "markdown",
   "id": "21698137-c953-4001-9a57-2414b09e9264",
   "metadata": {},
   "source": [
    "*заменим значение `электроника` на `electronic`*"
   ]
  },
  {
   "cell_type": "code",
   "execution_count": 12,
   "id": "f516c926-3dee-4971-87dc-dcac97a9a848",
   "metadata": {},
   "outputs": [],
   "source": [
    "df['genre']=df['genre'].replace('электроника','electronic')"
   ]
  },
  {
   "cell_type": "code",
   "execution_count": 13,
   "id": "9234fa23-ec94-42f4-a0d7-b59b15412946",
   "metadata": {},
   "outputs": [
    {
     "name": "stdout",
     "output_type": "stream",
     "text": [
      "a : acid acoustic action adult africa afrikaans alternative alternativepunk ambient americana animated anime arabesk arabic arena argentinetango art audiobook author avantgarde axé \n",
      "\n",
      "b : baile balkan beats bigroom black bluegrass blues bollywood bossa brazilian breakbeat breaks broadway \n",
      "\n",
      "c : cantautori cantopop canzone caribbean caucasian celtic chamber chanson children chill chinese choral christian christmas classical classicmetal club colombian comedy conjazz contemporary country cuban \n",
      "\n",
      "d : dance dancehall dancepop dark death deep deutschrock deutschspr dirty disco dnb documentary downbeat downtempo drum dub dubstep \n",
      "\n",
      "e : eastern easy electronic electropop emo entehno epicmetal estrada ethnic eurofolk european experimental extrememetal \n",
      "\n",
      "f : fado fairytail film fitness flamenco folk folklore folkmetal folkrock folktronica forró frankreich französisch french funk future \n",
      "\n",
      "g : gangsta garage german ghazal gitarre glitch gospel gothic grime grunge gypsy \n",
      "\n",
      "h : handsup hard'n'heavy hardcore hardstyle hardtechno hip hip-hop hiphop historisch holiday hop horror house hymn \n",
      "\n",
      "i : idm independent indian indie indipop industrial inspirational instrumental international irish \n",
      "\n",
      "j : jam japanese jazz jewish jpop jungle \n",
      "\n",
      "k : k-pop karadeniz karaoke kayokyoku korean \n",
      "\n",
      "l : laiko latin latino leftfield local lounge loungeelectronic lovers \n",
      "\n",
      "m : malaysian mandopop marschmusik meditative mediterranean melodic metal metalcore mexican middle minimal miscellaneous modern mood mpb muslim \n",
      "\n",
      "n : native neoklassik neue new newage newwave nu nujazz numetal \n",
      "\n",
      "o : oceania old opera orchestral other \n",
      "\n",
      "p : piano podcasts pop popdance popelectronic popeurodance poprussian post posthardcore postrock power progmetal progressive psychedelic punjabi punk \n",
      "\n",
      "q : quebecois \n",
      "\n",
      "r : ragga ram rancheras rap rave reggae reggaeton regional relax religious retro rhythm rnb rnr rock rockabilly rockalternative rockindie rockother romance roots ruspop rusrap rusrock russian \n",
      "\n",
      "s : salsa samba scenic schlager self sertanejo shanson shoegazing showtunes singer ska skarock slow smooth soft soul soulful sound soundtrack southern specialty speech spiritual sport stonerrock surf swing synthpop synthrock sängerportrait \n",
      "\n",
      "t : tango tanzorchester taraftar tatar tech techno teen thrash top traditional tradjazz trance tribal trip triphop tropical türk türkçe \n",
      "\n",
      "u : ukrrock unknown urban uzbek \n",
      "\n",
      "v : variété vi videogame vocal \n",
      "\n",
      "w : western world worldbeat \n",
      "\n",
      "x : \n",
      "\n",
      "y : \n",
      "\n",
      "z : \n",
      "\n"
     ]
    }
   ],
   "source": [
    "#для наглядности выведем на экран список жанров разбитый по алфавиту \n",
    "alphabet = [chr(i) for i in range(97, 123)]\n",
    "list_one=df['genre'].sort_values().unique().tolist()\n",
    "\n",
    "for i in alphabet:\n",
    "    print(i, ':',*filter(lambda x: x.startswith(i), list_one),'\\n')"
   ]
  },
  {
   "cell_type": "markdown",
   "id": "167510e3-cd92-4c4d-b28b-86c2bbcfb295",
   "metadata": {},
   "source": [
    "*Просмотрим список и найдем неявные дубликаты названий жанров. Это могут быть названия с ошибками или альтернативные названия того же жанра. \n",
    "В данном датасете обнаружены неявные дубликаты жанра `hiphop`:*\n",
    "* `hip` \n",
    "* `hip-hop` \n",
    "* `hop`\n",
    "  \n",
    "Заменим каждое значение из списка дубликатов на верное:\n"
   ]
  },
  {
   "cell_type": "code",
   "execution_count": 14,
   "id": "134ca045-63f3-44b6-8da2-23d64bbe2dd6",
   "metadata": {},
   "outputs": [
    {
     "name": "stdout",
     "output_type": "stream",
     "text": [
      "handsup hard'n'heavy hardcore hardstyle hardtechno hiphop historisch holiday horror house hymn\n"
     ]
    }
   ],
   "source": [
    "drop_genre_name=['hip', 'hop','hip-hop']\n",
    "new_genre_name='hiphop'\n",
    "df['genre']=df['genre'].replace(drop_genre_name,new_genre_name)\n",
    "\n",
    "#Проверка замены неявных дубликатов hiphop\n",
    "list_one=df['genre'].sort_values().unique().tolist()\n",
    "print(*filter(lambda x: x.startswith('h'), list_one))"
   ]
  },
  {
   "cell_type": "markdown",
   "id": "e5de1640-c0e2-428e-b6e6-3656377e1877",
   "metadata": {},
   "source": [
    "### Выводы\n",
    "Входе предобработки:\n",
    "- Были обнаружены нарушения в стиле заголовков. Исправлено: наименования заголовков приведены к единому стилю.\n",
    "- Были выявлены, пропуски в столбцах  `track`,  `artist` и  `genre`. Произведена замена пропусков явными обозначениями `unknown`\n",
    "- Удалены явные и неявные дубликаты."
   ]
  },
  {
   "cell_type": "markdown",
   "id": "67c8623e-65af-46b1-94ec-5923ef286461",
   "metadata": {},
   "source": [
    "# Исследовательский анализ данных <a id='analysis'></a>"
   ]
  },
  {
   "cell_type": "markdown",
   "id": "c73c4fe2-258e-46a0-adc8-13d79ff1739d",
   "metadata": {},
   "source": [
    "#### Проверка первой гипотезы\n",
    "Первая гипотеза утверждает, что `активность пользователей в Москве и Санкт-Петербурге зависит от дня недели и для каждого города это проявляется по-разному`.\n",
    "Для проверки гипотезы посчитаем прослушивания для заданного дня и запишем результаты расчетов в таблицу:\n"
   ]
  },
  {
   "cell_type": "code",
   "execution_count": 15,
   "id": "6ad7eb53-260e-46c8-862f-d5b921b8cea0",
   "metadata": {},
   "outputs": [
    {
     "name": "stdout",
     "output_type": "stream",
     "text": [
      "               city  monday  wednesday  friday\n",
      "0            Moscow   15740      11056   15945\n",
      "1  Saint-Petersburg    5614       7003    5895\n"
     ]
    }
   ],
   "source": [
    "def number_tracks(day, city):\n",
    "    track_list=df[df['day']==day]['user_id']\n",
    "    track_list=track_list[df['city']==city]\n",
    "    track_list_count=track_list.count()             \n",
    "    return track_list_count\n",
    "\n",
    "data = [\n",
    "    ['Moscow',number_tracks('Monday', 'Moscow'),number_tracks('Wednesday', 'Moscow'),number_tracks('Friday', 'Moscow')],\n",
    "    ['Saint-Petersburg',number_tracks('Monday', 'Saint-Petersburg'),number_tracks('Wednesday', 'Saint-Petersburg'),number_tracks('Friday', 'Saint-Petersburg')],\n",
    "  ]\n",
    "columns=['city', 'monday', 'wednesday', 'friday']\n",
    "table_two= pd.DataFrame(data=data,columns=columns) \n",
    "print(table_two)"
   ]
  },
  {
   "cell_type": "markdown",
   "id": "0eaa177f-f593-46d1-baae-4dbe55a940ff",
   "metadata": {},
   "source": [
    "### Выводы\n",
    "Из таблицы видно, что\n",
    "- В Москве пик прослушиваний приходится на понедельник и пятницу, а в среду заметен спад.\n",
    "- В Петербурге, наоборот, больше слушают музыку по средам. Активность в понедельник и пятницу здесь почти в равной мере уступает среде.\n",
    "\n",
    "Значит, данные говорят в пользу первой гипотезы, активность пользователей в Москве и Санкт-Петербурге действительно проявляется по-разному и зависит от дня недели."
   ]
  },
  {
   "cell_type": "markdown",
   "id": "d277fe9d-283e-4822-a4d3-291240cc90e6",
   "metadata": {},
   "source": [
    "#### Проверка второй гипотезы\n",
    "Согласно второй гипотезе `утром в понедельник и в пятницу вечером в Москве преобладают одни жанры музыки, а в Петербурге — другие`. Для подтверждения или опровержения данного утверждения выведем количество прослушиваний каждого жанра в утренние и вечерние часы понедельника и пятницы для двух городов:\n"
   ]
  },
  {
   "cell_type": "code",
   "execution_count": 16,
   "id": "45574bb1-aced-4467-a7e0-396ced05f1f4",
   "metadata": {},
   "outputs": [
    {
     "name": "stdout",
     "output_type": "stream",
     "text": [
      "Прослушивание музыки в Москве\n",
      "\n",
      "Понедельник 07:00-11:00\n",
      "\n",
      "genre\n",
      "pop            781\n",
      "dance          549\n",
      "electronic     480\n",
      "rock           474\n",
      "hiphop         286\n",
      "ruspop         186\n",
      "world          181\n",
      "rusrap         175\n",
      "alternative    164\n",
      "unknown        161\n",
      "Name: genre, dtype: int64\n",
      "\n",
      "Пятница 17:00-23:00\n",
      "\n",
      "genre\n",
      "pop            713\n",
      "rock           517\n",
      "dance          495\n",
      "electronic     482\n",
      "hiphop         273\n",
      "world          208\n",
      "ruspop         170\n",
      "alternative    163\n",
      "classical      163\n",
      "rusrap         142\n",
      "Name: genre, dtype: int64\n",
      "\n",
      "Прослушивание музыки в Санкт-Петербурге\n",
      "\n",
      "Понедельник 07:00-11:00\n",
      "\n",
      "genre\n",
      "pop            218\n",
      "dance          182\n",
      "rock           162\n",
      "electronic     147\n",
      "hiphop          80\n",
      "ruspop          64\n",
      "alternative     58\n",
      "rusrap          55\n",
      "jazz            44\n",
      "classical       40\n",
      "Name: genre, dtype: int64\n",
      "\n",
      "Пятница 17:00-23:00\n",
      "\n",
      "genre\n",
      "pop            256\n",
      "electronic     216\n",
      "rock           216\n",
      "dance          210\n",
      "hiphop          97\n",
      "alternative     63\n",
      "jazz            61\n",
      "classical       60\n",
      "rusrap          59\n",
      "world           54\n",
      "Name: genre, dtype: int64\n"
     ]
    }
   ],
   "source": [
    "moscow_general=df[df['city']=='Moscow']\n",
    "spb_general=df[df['city']=='Saint-Petersburg']\n",
    "\n",
    "def genre_weekday(df, day, time1, time2):\n",
    "    genre_df=df[df['day']==day]\n",
    "    genre_df=genre_df[genre_df['time']>time1]\n",
    "    genre_df=genre_df[genre_df['time']<time2]\n",
    "    genre_df_grouped = genre_df.groupby('genre')['genre'].count()\n",
    "    genre_df_sorted = genre_df_grouped.sort_values(ascending=False)\n",
    "    return genre_df_sorted[:10]\n",
    "\n",
    "morning=['07:00', '11:00']\n",
    "day=['07:00', '11:00']\n",
    "evening=['17:00', '23:00']\n",
    "print('Прослушивание музыки в Москве',\n",
    "             'Понедельник 07:00-11:00',genre_weekday(moscow_general, 'Monday', morning[0], morning[1]),\n",
    "              'Пятница 17:00-23:00',genre_weekday(moscow_general, 'Friday', evening[0],evening[1]),\n",
    "'Прослушивание музыки в Санкт-Петербурге',\n",
    "      'Понедельник 07:00-11:00',genre_weekday(spb_general, 'Monday', morning[0], morning[1]),\n",
    "      'Пятница 17:00-23:00',genre_weekday(spb_general, 'Friday', evening[0],evening[1]),sep='\\n'*2)"
   ]
  },
  {
   "cell_type": "markdown",
   "id": "8b1e1746-a939-4f3d-9654-4599c51b220b",
   "metadata": {},
   "source": [
    "### Выводы\n",
    "* В Санкт-Петербурге и Москве в понедельник утром и пятницу вечером слушают похожую музыку.\n",
    "* Наибольшее количество пользователей (более 10%) слушают `популярную музыку`,`танцевальную`, `электронику` и `рок`. \n",
    "* В топ-10 жанров по Санкт-Петербургу вошли также `джаз` и `классика`, а по Москве -  `world`.\n",
    "* В Москве пропущенных значений оказалось так много, что значение `unknown` заняло десятое место среди самых популярных жанров. Значит, пропущенные значения занимают существенную долю в данных и угрожают достоверности исследования.\n",
    "\n",
    "Таким образом, вторая гипотеза подтвердилась лишь частично:\n",
    "* Пользователи слушают похожую музыку в начале недели и в конце.\n",
    "* Разница между Москвой и Петербургом не слишком выражена. В Москве чаще слушают музыку жанра world, в Петербурге — джаз.\n",
    "\n",
    "Однако пропуски в данных ставят под сомнение этот результат. В Москве их так много, что рейтинг топ-10 мог бы выглядеть иначе, если бы не утерянные  данные о жанрах."
   ]
  },
  {
   "cell_type": "markdown",
   "id": "b6dc53d1-4db6-41ed-9a4d-41d8b4990df1",
   "metadata": {},
   "source": [
    "#### Проверка третьей гипотезы\n",
    "`Москва и Петербург предпочитают разные жанры музыки. В Москве чаще слушают поп-музыку, в Петербурге — русский рэп.`\n",
    "Для проверки данной гипотезы посчитаем количество прослушивания треков каждого жанра и выведем топ-10 жанров для Москвы и Санкт-Петербурга"
   ]
  },
  {
   "cell_type": "code",
   "execution_count": 17,
   "id": "e8dbfd7a-9653-40f2-afb1-b9af44841eaf",
   "metadata": {},
   "outputs": [
    {
     "name": "stdout",
     "output_type": "stream",
     "text": [
      "Москва\n",
      "\n",
      "genre\n",
      "pop            5892\n",
      "dance          4435\n",
      "rock           3965\n",
      "electronic     3786\n",
      "hiphop         2096\n",
      "classical      1616\n",
      "world          1432\n",
      "alternative    1379\n",
      "ruspop         1372\n",
      "rusrap         1161\n",
      "Name: genre, dtype: int64\n",
      "\n",
      "Санкт-Петербург\n",
      "\n",
      "genre\n",
      "pop            2431\n",
      "dance          1932\n",
      "rock           1879\n",
      "electronic     1737\n",
      "hiphop          960\n",
      "alternative     649\n",
      "classical       646\n",
      "rusrap          564\n",
      "ruspop          538\n",
      "world           515\n",
      "Name: genre, dtype: int64\n"
     ]
    }
   ],
   "source": [
    "moscow_genres=moscow_general.groupby('genre')['genre'].count()\n",
    "moscow_genres=moscow_genres.sort_values(ascending=False)\n",
    "\n",
    "\n",
    "spb_genres=spb_general.groupby('genre')['genre'].count()\n",
    "spb_genres=spb_genres.sort_values(ascending=False)\n",
    "\n",
    "print('Москва',moscow_genres[:10],\n",
    "      'Санкт-Петербург',spb_genres[:10],sep='\\n'*2)"
   ]
  },
  {
   "cell_type": "markdown",
   "id": "a10e3bca-7e7b-403a-94a9-f3153479ba75",
   "metadata": {},
   "source": [
    "### Выводы\n",
    "Гипотеза частично подтвердилась:\n",
    "* Поп-музыка — самый популярный жанр в Москве, как и предполагала гипотеза. Более того, в топ-10 жанров встречается близкий жанр — русская популярная музыка.\n",
    "* Вопреки ожиданиям, рэп одинаково популярен в Москве и Петербурге."
   ]
  },
  {
   "cell_type": "markdown",
   "id": "3170f136-8403-409c-ac38-577abd5e5bbe",
   "metadata": {},
   "source": [
    "## Итоги исследования <a id='results'></a>"
   ]
  },
  {
   "cell_type": "markdown",
   "id": "89aa814e-7bc9-4155-b898-4b956c8634d8",
   "metadata": {},
   "source": [
    "Мы проверили три гипотезы и установили:\n",
    "\n",
    " **1** День недели по-разному влияет на активность пользователей в Москве и Петербурге.\n",
    "\n",
    "   Первая гипотеза полностью подтвердилась.\n",
    "\n",
    " **2** Музыкальные предпочтения не сильно меняются в течение недели — будь то Москва или Петербург. Небольшие различия заметны в начале недели, по понедельникам:\n",
    "* в Москве слушают музыку жанра “world”,\n",
    "* в Петербурге — джаз и классику.\n",
    "\n",
    " Таким образом, вторая гипотеза подтвердилась лишь отчасти. Этот результат мог оказаться иным, если бы не пропуски в данных.\n",
    "\n",
    " **3** Во вкусах пользователей Москвы и Петербурга больше общего, чем различий. Вопреки ожиданиям, предпочтения жанров в Петербурге напоминают московские.\n",
    "\n",
    "   Третья гипотеза не подтвердилась. Если различия в предпочтениях и существуют, на основной массе пользователей они незаметны."
   ]
  }
 ],
 "metadata": {
  "kernelspec": {
   "display_name": "Python 3 (ipykernel)",
   "language": "python",
   "name": "python3"
  },
  "language_info": {
   "codemirror_mode": {
    "name": "ipython",
    "version": 3
   },
   "file_extension": ".py",
   "mimetype": "text/x-python",
   "name": "python",
   "nbconvert_exporter": "python",
   "pygments_lexer": "ipython3",
   "version": "3.9.5"
  },
  "toc-showmarkdowntxt": false
 },
 "nbformat": 4,
 "nbformat_minor": 5
}
