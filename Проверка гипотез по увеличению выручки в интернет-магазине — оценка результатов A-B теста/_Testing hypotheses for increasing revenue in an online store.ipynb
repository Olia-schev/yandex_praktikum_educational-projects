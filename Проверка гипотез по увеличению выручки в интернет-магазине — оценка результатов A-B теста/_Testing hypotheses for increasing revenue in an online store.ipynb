{
 "cells": [
  {
   "cell_type": "markdown",
   "metadata": {},
   "source": [
    "# Проверка гипотез по увеличению выручки в интернет-магазине — оценка результатов A/B теста\n",
    "\n",
    "# Описание проекта"
   ]
  },
  {
   "cell_type": "markdown",
   "metadata": {},
   "source": [
    "**Задачи проекта**\n",
    "- Приоритизация  гипотез, для выбора гипотезы, которую следует проверить в первую очередь. \n",
    "- Анализ результатов A/B теста:\n",
    "    - Анализ кумулятивной выручки и среднего чека по группам (A-контрольная, B-тестовая)\n",
    "    - Анализ относительного изменения кумулятивного  среднего чека и кумулятивного среднего количества заказов на посетителя по группам\n",
    "    - Анализ аномалий и оценка их влияния на результаты A/B теста\n",
    "    - Проверка статистических гипотез о равенстве среднего количества заказов на посетителя между группами и равенстве среднего чека заказа между группами критерием Манна-Уитни\n",
    "\n",
    "**Цель проекта**\n",
    "\n",
    "Вывод об эффективности изменений тестовой группы относительно контрольной\n"
   ]
  },
  {
   "cell_type": "markdown",
   "metadata": {},
   "source": [
    "**Структура проекта**\n",
    "- [Приоритизация гипотез;](#hypothesis)  \n",
    "- [Предобработка данных;](#preprocessing)\n",
    "- [Анализ A/B-теста;](#A/B-test)\n",
    "- [Анализ выбросов;](#emissions)\n",
    "- [Оценка влияния аномалий на результаты A/B теста;](#analysis)\n",
    "- [Выводы и предположения](#results)"
   ]
  },
  {
   "cell_type": "markdown",
   "metadata": {},
   "source": [
    "**Импорт необходимых библиотек**"
   ]
  },
  {
   "cell_type": "code",
   "execution_count": 1,
   "metadata": {},
   "outputs": [],
   "source": [
    "import pandas as pd\n",
    "from datetime import datetime\n",
    "from matplotlib import pyplot as plt\n",
    "import numpy as np\n",
    "from scipy import stats as st\n",
    "import scipy.stats as stats\n",
    "import datetime as dt"
   ]
  },
  {
   "cell_type": "markdown",
   "metadata": {},
   "source": [
    "## Приоритизация гипотез \n",
    "<a id='hypothesis'></a>"
   ]
  },
  {
   "cell_type": "markdown",
   "metadata": {},
   "source": [
    "В нашем распоряжении 9 гипотез для увеличения выручки интернет-магазина и 4 компоненты, оцененные по 10-бальной шкале (Reach,Impact,Confidence и Efforts). Для приоритезации гипотез будем использовать фреймворки ICE и RICE.\n",
    "\n",
    "Файл `/datasets/hypothesis.csv`\n",
    "* `Hypothesis` — краткое описание гипотезы;\n",
    "* `Reach` — охват пользователей по 10-балльной шкале;\n",
    "* `Impact` — влияние на пользователей по 10-балльной шкале;\n",
    "* `Confidence` — уверенность в гипотезе по 10-балльной шкале;\n",
    "* `Efforts` — затраты ресурсов на проверку гипотезы по 10-балльной шкале. Чем больше значение Efforts, тем дороже проверка гипотезы."
   ]
  },
  {
   "cell_type": "code",
   "execution_count": 2,
   "metadata": {
    "scrolled": true,
    "tags": []
   },
   "outputs": [
    {
     "data": {
      "text/html": [
       "<div>\n",
       "<style scoped>\n",
       "    .dataframe tbody tr th:only-of-type {\n",
       "        vertical-align: middle;\n",
       "    }\n",
       "\n",
       "    .dataframe tbody tr th {\n",
       "        vertical-align: top;\n",
       "    }\n",
       "\n",
       "    .dataframe thead th {\n",
       "        text-align: right;\n",
       "    }\n",
       "</style>\n",
       "<table border=\"1\" class=\"dataframe\">\n",
       "  <thead>\n",
       "    <tr style=\"text-align: right;\">\n",
       "      <th></th>\n",
       "      <th>Hypothesis</th>\n",
       "      <th>Reach</th>\n",
       "      <th>Impact</th>\n",
       "      <th>Confidence</th>\n",
       "      <th>Efforts</th>\n",
       "    </tr>\n",
       "  </thead>\n",
       "  <tbody>\n",
       "    <tr>\n",
       "      <th>0</th>\n",
       "      <td>Добавить два новых канала привлечения трафика, что позволит привлекать на 30% больше пользователей</td>\n",
       "      <td>3</td>\n",
       "      <td>10</td>\n",
       "      <td>8</td>\n",
       "      <td>6</td>\n",
       "    </tr>\n",
       "    <tr>\n",
       "      <th>1</th>\n",
       "      <td>Запустить собственную службу доставки, что сократит срок доставки заказов</td>\n",
       "      <td>2</td>\n",
       "      <td>5</td>\n",
       "      <td>4</td>\n",
       "      <td>10</td>\n",
       "    </tr>\n",
       "    <tr>\n",
       "      <th>2</th>\n",
       "      <td>Добавить блоки рекомендаций товаров на сайт интернет магазина, чтобы повысить конверсию и средний чек заказа</td>\n",
       "      <td>8</td>\n",
       "      <td>3</td>\n",
       "      <td>7</td>\n",
       "      <td>3</td>\n",
       "    </tr>\n",
       "    <tr>\n",
       "      <th>3</th>\n",
       "      <td>Изменить структура категорий, что увеличит конверсию, т.к. пользователи быстрее найдут нужный товар</td>\n",
       "      <td>8</td>\n",
       "      <td>3</td>\n",
       "      <td>3</td>\n",
       "      <td>8</td>\n",
       "    </tr>\n",
       "    <tr>\n",
       "      <th>4</th>\n",
       "      <td>Изменить цвет фона главной страницы, чтобы увеличить вовлеченность пользователей</td>\n",
       "      <td>3</td>\n",
       "      <td>1</td>\n",
       "      <td>1</td>\n",
       "      <td>1</td>\n",
       "    </tr>\n",
       "    <tr>\n",
       "      <th>5</th>\n",
       "      <td>Добавить страницу отзывов клиентов о магазине, что позволит увеличить количество заказов</td>\n",
       "      <td>3</td>\n",
       "      <td>2</td>\n",
       "      <td>2</td>\n",
       "      <td>3</td>\n",
       "    </tr>\n",
       "    <tr>\n",
       "      <th>6</th>\n",
       "      <td>Показать на главной странице баннеры с актуальными акциями и распродажами, чтобы увеличить конверсию</td>\n",
       "      <td>5</td>\n",
       "      <td>3</td>\n",
       "      <td>8</td>\n",
       "      <td>3</td>\n",
       "    </tr>\n",
       "    <tr>\n",
       "      <th>7</th>\n",
       "      <td>Добавить форму подписки на все основные страницы, чтобы собрать базу клиентов для email-рассылок</td>\n",
       "      <td>10</td>\n",
       "      <td>7</td>\n",
       "      <td>8</td>\n",
       "      <td>5</td>\n",
       "    </tr>\n",
       "    <tr>\n",
       "      <th>8</th>\n",
       "      <td>Запустить акцию, дающую скидку на товар в день рождения</td>\n",
       "      <td>1</td>\n",
       "      <td>9</td>\n",
       "      <td>9</td>\n",
       "      <td>5</td>\n",
       "    </tr>\n",
       "  </tbody>\n",
       "</table>\n",
       "</div>"
      ],
      "text/plain": [
       "                                                                                                     Hypothesis  \\\n",
       "0            Добавить два новых канала привлечения трафика, что позволит привлекать на 30% больше пользователей   \n",
       "1                                     Запустить собственную службу доставки, что сократит срок доставки заказов   \n",
       "2  Добавить блоки рекомендаций товаров на сайт интернет магазина, чтобы повысить конверсию и средний чек заказа   \n",
       "3           Изменить структура категорий, что увеличит конверсию, т.к. пользователи быстрее найдут нужный товар   \n",
       "4                              Изменить цвет фона главной страницы, чтобы увеличить вовлеченность пользователей   \n",
       "5                      Добавить страницу отзывов клиентов о магазине, что позволит увеличить количество заказов   \n",
       "6          Показать на главной странице баннеры с актуальными акциями и распродажами, чтобы увеличить конверсию   \n",
       "7              Добавить форму подписки на все основные страницы, чтобы собрать базу клиентов для email-рассылок   \n",
       "8                                                       Запустить акцию, дающую скидку на товар в день рождения   \n",
       "\n",
       "   Reach  Impact  Confidence  Efforts  \n",
       "0      3      10           8        6  \n",
       "1      2       5           4       10  \n",
       "2      8       3           7        3  \n",
       "3      8       3           3        8  \n",
       "4      3       1           1        1  \n",
       "5      3       2           2        3  \n",
       "6      5       3           8        3  \n",
       "7     10       7           8        5  \n",
       "8      1       9           9        5  "
      ]
     },
     "execution_count": 2,
     "metadata": {},
     "output_type": "execute_result"
    }
   ],
   "source": [
    "pd.set_option('display.max_colwidth', None)\n",
    "hypothesis = pd.read_csv('hypothesis.csv')\n",
    "hypothesis"
   ]
  },
  {
   "cell_type": "markdown",
   "metadata": {
    "tags": []
   },
   "source": [
    "### ICE"
   ]
  },
  {
   "cell_type": "markdown",
   "metadata": {},
   "source": [
    "Рассчитаем фреймворк ICE и отсортируем таблицу с гипотезами по убыванию значения ICE."
   ]
  },
  {
   "cell_type": "code",
   "execution_count": 3,
   "metadata": {},
   "outputs": [
    {
     "data": {
      "text/html": [
       "<div>\n",
       "<style scoped>\n",
       "    .dataframe tbody tr th:only-of-type {\n",
       "        vertical-align: middle;\n",
       "    }\n",
       "\n",
       "    .dataframe tbody tr th {\n",
       "        vertical-align: top;\n",
       "    }\n",
       "\n",
       "    .dataframe thead th {\n",
       "        text-align: right;\n",
       "    }\n",
       "</style>\n",
       "<table border=\"1\" class=\"dataframe\">\n",
       "  <thead>\n",
       "    <tr style=\"text-align: right;\">\n",
       "      <th></th>\n",
       "      <th>Hypothesis</th>\n",
       "      <th>Reach</th>\n",
       "      <th>Impact</th>\n",
       "      <th>Confidence</th>\n",
       "      <th>Efforts</th>\n",
       "      <th>ice_score</th>\n",
       "    </tr>\n",
       "  </thead>\n",
       "  <tbody>\n",
       "    <tr>\n",
       "      <th>8</th>\n",
       "      <td>Запустить акцию, дающую скидку на товар в день рождения</td>\n",
       "      <td>1</td>\n",
       "      <td>9</td>\n",
       "      <td>9</td>\n",
       "      <td>5</td>\n",
       "      <td>16.20</td>\n",
       "    </tr>\n",
       "    <tr>\n",
       "      <th>0</th>\n",
       "      <td>Добавить два новых канала привлечения трафика, что позволит привлекать на 30% больше пользователей</td>\n",
       "      <td>3</td>\n",
       "      <td>10</td>\n",
       "      <td>8</td>\n",
       "      <td>6</td>\n",
       "      <td>13.33</td>\n",
       "    </tr>\n",
       "    <tr>\n",
       "      <th>7</th>\n",
       "      <td>Добавить форму подписки на все основные страницы, чтобы собрать базу клиентов для email-рассылок</td>\n",
       "      <td>10</td>\n",
       "      <td>7</td>\n",
       "      <td>8</td>\n",
       "      <td>5</td>\n",
       "      <td>11.20</td>\n",
       "    </tr>\n",
       "    <tr>\n",
       "      <th>6</th>\n",
       "      <td>Показать на главной странице баннеры с актуальными акциями и распродажами, чтобы увеличить конверсию</td>\n",
       "      <td>5</td>\n",
       "      <td>3</td>\n",
       "      <td>8</td>\n",
       "      <td>3</td>\n",
       "      <td>8.00</td>\n",
       "    </tr>\n",
       "    <tr>\n",
       "      <th>2</th>\n",
       "      <td>Добавить блоки рекомендаций товаров на сайт интернет магазина, чтобы повысить конверсию и средний чек заказа</td>\n",
       "      <td>8</td>\n",
       "      <td>3</td>\n",
       "      <td>7</td>\n",
       "      <td>3</td>\n",
       "      <td>7.00</td>\n",
       "    </tr>\n",
       "    <tr>\n",
       "      <th>1</th>\n",
       "      <td>Запустить собственную службу доставки, что сократит срок доставки заказов</td>\n",
       "      <td>2</td>\n",
       "      <td>5</td>\n",
       "      <td>4</td>\n",
       "      <td>10</td>\n",
       "      <td>2.00</td>\n",
       "    </tr>\n",
       "    <tr>\n",
       "      <th>5</th>\n",
       "      <td>Добавить страницу отзывов клиентов о магазине, что позволит увеличить количество заказов</td>\n",
       "      <td>3</td>\n",
       "      <td>2</td>\n",
       "      <td>2</td>\n",
       "      <td>3</td>\n",
       "      <td>1.33</td>\n",
       "    </tr>\n",
       "    <tr>\n",
       "      <th>3</th>\n",
       "      <td>Изменить структура категорий, что увеличит конверсию, т.к. пользователи быстрее найдут нужный товар</td>\n",
       "      <td>8</td>\n",
       "      <td>3</td>\n",
       "      <td>3</td>\n",
       "      <td>8</td>\n",
       "      <td>1.12</td>\n",
       "    </tr>\n",
       "    <tr>\n",
       "      <th>4</th>\n",
       "      <td>Изменить цвет фона главной страницы, чтобы увеличить вовлеченность пользователей</td>\n",
       "      <td>3</td>\n",
       "      <td>1</td>\n",
       "      <td>1</td>\n",
       "      <td>1</td>\n",
       "      <td>1.00</td>\n",
       "    </tr>\n",
       "  </tbody>\n",
       "</table>\n",
       "</div>"
      ],
      "text/plain": [
       "                                                                                                     Hypothesis  \\\n",
       "8                                                       Запустить акцию, дающую скидку на товар в день рождения   \n",
       "0            Добавить два новых канала привлечения трафика, что позволит привлекать на 30% больше пользователей   \n",
       "7              Добавить форму подписки на все основные страницы, чтобы собрать базу клиентов для email-рассылок   \n",
       "6          Показать на главной странице баннеры с актуальными акциями и распродажами, чтобы увеличить конверсию   \n",
       "2  Добавить блоки рекомендаций товаров на сайт интернет магазина, чтобы повысить конверсию и средний чек заказа   \n",
       "1                                     Запустить собственную службу доставки, что сократит срок доставки заказов   \n",
       "5                      Добавить страницу отзывов клиентов о магазине, что позволит увеличить количество заказов   \n",
       "3           Изменить структура категорий, что увеличит конверсию, т.к. пользователи быстрее найдут нужный товар   \n",
       "4                              Изменить цвет фона главной страницы, чтобы увеличить вовлеченность пользователей   \n",
       "\n",
       "   Reach  Impact  Confidence  Efforts  ice_score  \n",
       "8      1       9           9        5      16.20  \n",
       "0      3      10           8        6      13.33  \n",
       "7     10       7           8        5      11.20  \n",
       "6      5       3           8        3       8.00  \n",
       "2      8       3           7        3       7.00  \n",
       "1      2       5           4       10       2.00  \n",
       "5      3       2           2        3       1.33  \n",
       "3      8       3           3        8       1.12  \n",
       "4      3       1           1        1       1.00  "
      ]
     },
     "execution_count": 3,
     "metadata": {},
     "output_type": "execute_result"
    }
   ],
   "source": [
    "hypothesis['ice_score'] = round(((hypothesis['Impact']*hypothesis['Confidence'])/hypothesis['Efforts']),2)\n",
    "hypothesis.sort_values('ice_score',ascending=False)"
   ]
  },
  {
   "cell_type": "markdown",
   "metadata": {},
   "source": [
    "Лидируют 3 гипотезы:\n",
    "- `Запустить акцию, дающую скидку на товар в день рождения`. \n",
    "\n",
    "- `Добавить два новых канала привлечения трафика, что позволит привлекать на 30% больше пользователей`, \n",
    "\n",
    "- `Добавить форму подписки на все основные страницы, чтобы собрать базу клиентов для email-рассылок`\n",
    "\n",
    "У гипотез высокие показатели Impact и Confidence их стоит проверить в первую очередь, так как они имеют высокую значимость для продукта."
   ]
  },
  {
   "cell_type": "markdown",
   "metadata": {},
   "source": [
    "### RICE"
   ]
  },
  {
   "cell_type": "markdown",
   "metadata": {},
   "source": [
    "Расчитаем фреймворк RICE."
   ]
  },
  {
   "cell_type": "code",
   "execution_count": 4,
   "metadata": {},
   "outputs": [
    {
     "data": {
      "text/html": [
       "<div>\n",
       "<style scoped>\n",
       "    .dataframe tbody tr th:only-of-type {\n",
       "        vertical-align: middle;\n",
       "    }\n",
       "\n",
       "    .dataframe tbody tr th {\n",
       "        vertical-align: top;\n",
       "    }\n",
       "\n",
       "    .dataframe thead th {\n",
       "        text-align: right;\n",
       "    }\n",
       "</style>\n",
       "<table border=\"1\" class=\"dataframe\">\n",
       "  <thead>\n",
       "    <tr style=\"text-align: right;\">\n",
       "      <th></th>\n",
       "      <th>Hypothesis</th>\n",
       "      <th>Reach</th>\n",
       "      <th>Impact</th>\n",
       "      <th>Confidence</th>\n",
       "      <th>Efforts</th>\n",
       "      <th>ice_score</th>\n",
       "      <th>rice_score</th>\n",
       "    </tr>\n",
       "  </thead>\n",
       "  <tbody>\n",
       "    <tr>\n",
       "      <th>7</th>\n",
       "      <td>Добавить форму подписки на все основные страницы, чтобы собрать базу клиентов для email-рассылок</td>\n",
       "      <td>10</td>\n",
       "      <td>7</td>\n",
       "      <td>8</td>\n",
       "      <td>5</td>\n",
       "      <td>11.20</td>\n",
       "      <td>112.0</td>\n",
       "    </tr>\n",
       "    <tr>\n",
       "      <th>2</th>\n",
       "      <td>Добавить блоки рекомендаций товаров на сайт интернет магазина, чтобы повысить конверсию и средний чек заказа</td>\n",
       "      <td>8</td>\n",
       "      <td>3</td>\n",
       "      <td>7</td>\n",
       "      <td>3</td>\n",
       "      <td>7.00</td>\n",
       "      <td>56.0</td>\n",
       "    </tr>\n",
       "    <tr>\n",
       "      <th>0</th>\n",
       "      <td>Добавить два новых канала привлечения трафика, что позволит привлекать на 30% больше пользователей</td>\n",
       "      <td>3</td>\n",
       "      <td>10</td>\n",
       "      <td>8</td>\n",
       "      <td>6</td>\n",
       "      <td>13.33</td>\n",
       "      <td>40.0</td>\n",
       "    </tr>\n",
       "    <tr>\n",
       "      <th>6</th>\n",
       "      <td>Показать на главной странице баннеры с актуальными акциями и распродажами, чтобы увеличить конверсию</td>\n",
       "      <td>5</td>\n",
       "      <td>3</td>\n",
       "      <td>8</td>\n",
       "      <td>3</td>\n",
       "      <td>8.00</td>\n",
       "      <td>40.0</td>\n",
       "    </tr>\n",
       "    <tr>\n",
       "      <th>8</th>\n",
       "      <td>Запустить акцию, дающую скидку на товар в день рождения</td>\n",
       "      <td>1</td>\n",
       "      <td>9</td>\n",
       "      <td>9</td>\n",
       "      <td>5</td>\n",
       "      <td>16.20</td>\n",
       "      <td>16.2</td>\n",
       "    </tr>\n",
       "    <tr>\n",
       "      <th>3</th>\n",
       "      <td>Изменить структура категорий, что увеличит конверсию, т.к. пользователи быстрее найдут нужный товар</td>\n",
       "      <td>8</td>\n",
       "      <td>3</td>\n",
       "      <td>3</td>\n",
       "      <td>8</td>\n",
       "      <td>1.12</td>\n",
       "      <td>9.0</td>\n",
       "    </tr>\n",
       "    <tr>\n",
       "      <th>1</th>\n",
       "      <td>Запустить собственную службу доставки, что сократит срок доставки заказов</td>\n",
       "      <td>2</td>\n",
       "      <td>5</td>\n",
       "      <td>4</td>\n",
       "      <td>10</td>\n",
       "      <td>2.00</td>\n",
       "      <td>4.0</td>\n",
       "    </tr>\n",
       "    <tr>\n",
       "      <th>5</th>\n",
       "      <td>Добавить страницу отзывов клиентов о магазине, что позволит увеличить количество заказов</td>\n",
       "      <td>3</td>\n",
       "      <td>2</td>\n",
       "      <td>2</td>\n",
       "      <td>3</td>\n",
       "      <td>1.33</td>\n",
       "      <td>4.0</td>\n",
       "    </tr>\n",
       "    <tr>\n",
       "      <th>4</th>\n",
       "      <td>Изменить цвет фона главной страницы, чтобы увеличить вовлеченность пользователей</td>\n",
       "      <td>3</td>\n",
       "      <td>1</td>\n",
       "      <td>1</td>\n",
       "      <td>1</td>\n",
       "      <td>1.00</td>\n",
       "      <td>3.0</td>\n",
       "    </tr>\n",
       "  </tbody>\n",
       "</table>\n",
       "</div>"
      ],
      "text/plain": [
       "                                                                                                     Hypothesis  \\\n",
       "7              Добавить форму подписки на все основные страницы, чтобы собрать базу клиентов для email-рассылок   \n",
       "2  Добавить блоки рекомендаций товаров на сайт интернет магазина, чтобы повысить конверсию и средний чек заказа   \n",
       "0            Добавить два новых канала привлечения трафика, что позволит привлекать на 30% больше пользователей   \n",
       "6          Показать на главной странице баннеры с актуальными акциями и распродажами, чтобы увеличить конверсию   \n",
       "8                                                       Запустить акцию, дающую скидку на товар в день рождения   \n",
       "3           Изменить структура категорий, что увеличит конверсию, т.к. пользователи быстрее найдут нужный товар   \n",
       "1                                     Запустить собственную службу доставки, что сократит срок доставки заказов   \n",
       "5                      Добавить страницу отзывов клиентов о магазине, что позволит увеличить количество заказов   \n",
       "4                              Изменить цвет фона главной страницы, чтобы увеличить вовлеченность пользователей   \n",
       "\n",
       "   Reach  Impact  Confidence  Efforts  ice_score  rice_score  \n",
       "7     10       7           8        5      11.20       112.0  \n",
       "2      8       3           7        3       7.00        56.0  \n",
       "0      3      10           8        6      13.33        40.0  \n",
       "6      5       3           8        3       8.00        40.0  \n",
       "8      1       9           9        5      16.20        16.2  \n",
       "3      8       3           3        8       1.12         9.0  \n",
       "1      2       5           4       10       2.00         4.0  \n",
       "5      3       2           2        3       1.33         4.0  \n",
       "4      3       1           1        1       1.00         3.0  "
      ]
     },
     "execution_count": 4,
     "metadata": {},
     "output_type": "execute_result"
    }
   ],
   "source": [
    "hypothesis['rice_score'] = round((hypothesis['Reach']*hypothesis['Impact']*hypothesis['Confidence'])/hypothesis['Efforts'],2)\n",
    "hypothesis.sort_values('rice_score',ascending=False)"
   ]
  },
  {
   "cell_type": "markdown",
   "metadata": {},
   "source": [
    "По результатам расчета RICE лидируют 2 гипотезы: \n",
    "- `Добавить форму подписки на все основные страницы, чтобы собрать базу клиентов для email-рассылок` \n",
    "- `Добавить блоки рекомендаций товаров на сайт интернет магазина, чтобы повысить конверсию и средний чек заказа`. \n",
    "\n",
    "Данные задачи повлияют на большое количество пользователей, за счет параметра Reach, их RISE выше остальных.\n",
    "\n",
    "Гипотезы:  `Добавить два новых канала привлечения трафика, что позволит привлекать на 30% больше пользователей`\tи `Показать на главной странице баннеры с актуальными акциями и распродажами, чтобы увеличить конверсию` разделили 3 и 4 место. "
   ]
  },
  {
   "cell_type": "markdown",
   "metadata": {},
   "source": [
    "___\n",
    "**Вывод**\n",
    "\n",
    " - Приоритизация гипотез при применении RICE вместо ICE изменилась за счет учета параметра Reach, показывающего скольких пользователей затронет изменение. На первое место по приоритету вышли задачи, затрагивающие большее количество пользователей. \n",
    " - Далее будем тестировать гипотезу о том, что добавление формы подписки на все основные страницы увеличит количество заказов и средний чек \n",
    "___"
   ]
  },
  {
   "cell_type": "markdown",
   "metadata": {},
   "source": [
    "## Анализ A/B-теста \n",
    "<a id='A/B-test'></a>"
   ]
  },
  {
   "cell_type": "markdown",
   "metadata": {},
   "source": [
    "**Описание данных**\n",
    "\n",
    "Файл `/datasets/orders.csv`\n",
    "- `transactionId` — идентификатор заказа;\n",
    "- `visitorId` — идентификатор пользователя, совершившего заказ;\n",
    "- `date` — дата, когда был совершён заказ;\n",
    "- `revenue` — выручка заказа;\n",
    "- `group` — группа A/B-теста, в которую попал заказ.\n",
    "\n",
    "Файл `/datasets/visitors.csv` \n",
    "- `date` — дата;\n",
    "- `group` — группа A/B-теста;\n",
    "- `visitors` — количество пользователей в указанную дату в указанной группе A/B-теста"
   ]
  },
  {
   "cell_type": "code",
   "execution_count": 5,
   "metadata": {
    "scrolled": true
   },
   "outputs": [
    {
     "data": {
      "text/html": [
       "<div>\n",
       "<style scoped>\n",
       "    .dataframe tbody tr th:only-of-type {\n",
       "        vertical-align: middle;\n",
       "    }\n",
       "\n",
       "    .dataframe tbody tr th {\n",
       "        vertical-align: top;\n",
       "    }\n",
       "\n",
       "    .dataframe thead th {\n",
       "        text-align: right;\n",
       "    }\n",
       "</style>\n",
       "<table border=\"1\" class=\"dataframe\">\n",
       "  <thead>\n",
       "    <tr style=\"text-align: right;\">\n",
       "      <th></th>\n",
       "      <th>transactionId</th>\n",
       "      <th>visitorId</th>\n",
       "      <th>date</th>\n",
       "      <th>revenue</th>\n",
       "      <th>group</th>\n",
       "    </tr>\n",
       "  </thead>\n",
       "  <tbody>\n",
       "    <tr>\n",
       "      <th>0</th>\n",
       "      <td>3667963787</td>\n",
       "      <td>3312258926</td>\n",
       "      <td>2019-08-15</td>\n",
       "      <td>1650</td>\n",
       "      <td>B</td>\n",
       "    </tr>\n",
       "    <tr>\n",
       "      <th>1</th>\n",
       "      <td>2804400009</td>\n",
       "      <td>3642806036</td>\n",
       "      <td>2019-08-15</td>\n",
       "      <td>730</td>\n",
       "      <td>B</td>\n",
       "    </tr>\n",
       "    <tr>\n",
       "      <th>2</th>\n",
       "      <td>2961555356</td>\n",
       "      <td>4069496402</td>\n",
       "      <td>2019-08-15</td>\n",
       "      <td>400</td>\n",
       "      <td>A</td>\n",
       "    </tr>\n",
       "    <tr>\n",
       "      <th>3</th>\n",
       "      <td>3797467345</td>\n",
       "      <td>1196621759</td>\n",
       "      <td>2019-08-15</td>\n",
       "      <td>9759</td>\n",
       "      <td>B</td>\n",
       "    </tr>\n",
       "    <tr>\n",
       "      <th>4</th>\n",
       "      <td>2282983706</td>\n",
       "      <td>2322279887</td>\n",
       "      <td>2019-08-15</td>\n",
       "      <td>2308</td>\n",
       "      <td>B</td>\n",
       "    </tr>\n",
       "  </tbody>\n",
       "</table>\n",
       "</div>"
      ],
      "text/plain": [
       "   transactionId   visitorId        date  revenue group\n",
       "0     3667963787  3312258926  2019-08-15     1650     B\n",
       "1     2804400009  3642806036  2019-08-15      730     B\n",
       "2     2961555356  4069496402  2019-08-15      400     A\n",
       "3     3797467345  1196621759  2019-08-15     9759     B\n",
       "4     2282983706  2322279887  2019-08-15     2308     B"
      ]
     },
     "metadata": {},
     "output_type": "display_data"
    },
    {
     "data": {
      "text/html": [
       "<div>\n",
       "<style scoped>\n",
       "    .dataframe tbody tr th:only-of-type {\n",
       "        vertical-align: middle;\n",
       "    }\n",
       "\n",
       "    .dataframe tbody tr th {\n",
       "        vertical-align: top;\n",
       "    }\n",
       "\n",
       "    .dataframe thead th {\n",
       "        text-align: right;\n",
       "    }\n",
       "</style>\n",
       "<table border=\"1\" class=\"dataframe\">\n",
       "  <thead>\n",
       "    <tr style=\"text-align: right;\">\n",
       "      <th></th>\n",
       "      <th>date</th>\n",
       "      <th>group</th>\n",
       "      <th>visitors</th>\n",
       "    </tr>\n",
       "  </thead>\n",
       "  <tbody>\n",
       "    <tr>\n",
       "      <th>0</th>\n",
       "      <td>2019-08-01</td>\n",
       "      <td>A</td>\n",
       "      <td>719</td>\n",
       "    </tr>\n",
       "    <tr>\n",
       "      <th>1</th>\n",
       "      <td>2019-08-02</td>\n",
       "      <td>A</td>\n",
       "      <td>619</td>\n",
       "    </tr>\n",
       "    <tr>\n",
       "      <th>2</th>\n",
       "      <td>2019-08-03</td>\n",
       "      <td>A</td>\n",
       "      <td>507</td>\n",
       "    </tr>\n",
       "    <tr>\n",
       "      <th>3</th>\n",
       "      <td>2019-08-04</td>\n",
       "      <td>A</td>\n",
       "      <td>717</td>\n",
       "    </tr>\n",
       "    <tr>\n",
       "      <th>4</th>\n",
       "      <td>2019-08-05</td>\n",
       "      <td>A</td>\n",
       "      <td>756</td>\n",
       "    </tr>\n",
       "  </tbody>\n",
       "</table>\n",
       "</div>"
      ],
      "text/plain": [
       "         date group  visitors\n",
       "0  2019-08-01     A       719\n",
       "1  2019-08-02     A       619\n",
       "2  2019-08-03     A       507\n",
       "3  2019-08-04     A       717\n",
       "4  2019-08-05     A       756"
      ]
     },
     "execution_count": 5,
     "metadata": {},
     "output_type": "execute_result"
    }
   ],
   "source": [
    "orders = pd.read_csv('orders.csv')\n",
    "#orders['date'] = orders['date'].map(lambda x: dt.datetime.strptime(x, '%Y-%m-%d'))\n",
    "display(orders.head())\n",
    "visitors = pd.read_csv('visitors.csv')\n",
    "#visitors['date'] = visitors['date'].map(lambda x: dt.datetime.strptime(x, '%Y-%m-%d'))\n",
    "visitors.head()"
   ]
  },
  {
   "cell_type": "markdown",
   "metadata": {},
   "source": [
    "## Предобработка данных  \n",
    "<a id='preprocessing'></a>"
   ]
  },
  {
   "cell_type": "markdown",
   "metadata": {},
   "source": [
    "Проверим наличие дубликатов и пропусков в данных, а так посмотрим общую информацию о файлах. "
   ]
  },
  {
   "cell_type": "code",
   "execution_count": 6,
   "metadata": {},
   "outputs": [
    {
     "data": {
      "text/plain": [
       "'Дубликатов в файле:'"
      ]
     },
     "metadata": {},
     "output_type": "display_data"
    },
    {
     "data": {
      "text/plain": [
       "0"
      ]
     },
     "metadata": {},
     "output_type": "display_data"
    },
    {
     "data": {
      "text/plain": [
       "'Пропусков в данных:'"
      ]
     },
     "metadata": {},
     "output_type": "display_data"
    },
    {
     "data": {
      "text/plain": [
       "transactionId    0\n",
       "visitorId        0\n",
       "date             0\n",
       "revenue          0\n",
       "group            0\n",
       "dtype: int64"
      ]
     },
     "metadata": {},
     "output_type": "display_data"
    },
    {
     "name": "stdout",
     "output_type": "stream",
     "text": [
      "<class 'pandas.core.frame.DataFrame'>\n",
      "RangeIndex: 1197 entries, 0 to 1196\n",
      "Data columns (total 5 columns):\n",
      " #   Column         Non-Null Count  Dtype \n",
      "---  ------         --------------  ----- \n",
      " 0   transactionId  1197 non-null   int64 \n",
      " 1   visitorId      1197 non-null   int64 \n",
      " 2   date           1197 non-null   object\n",
      " 3   revenue        1197 non-null   int64 \n",
      " 4   group          1197 non-null   object\n",
      "dtypes: int64(3), object(2)\n",
      "memory usage: 46.9+ KB\n"
     ]
    },
    {
     "data": {
      "text/plain": [
       "None"
      ]
     },
     "metadata": {},
     "output_type": "display_data"
    }
   ],
   "source": [
    "display('Дубликатов в файле:',orders.duplicated().sum())\n",
    "display('Пропусков в данных:',orders.isna().sum())\n",
    "display(orders.info())"
   ]
  },
  {
   "cell_type": "code",
   "execution_count": 7,
   "metadata": {},
   "outputs": [
    {
     "data": {
      "text/plain": [
       "'Дубликатов в файле:'"
      ]
     },
     "metadata": {},
     "output_type": "display_data"
    },
    {
     "data": {
      "text/plain": [
       "0"
      ]
     },
     "metadata": {},
     "output_type": "display_data"
    },
    {
     "data": {
      "text/plain": [
       "'Пропусков в данных:'"
      ]
     },
     "metadata": {},
     "output_type": "display_data"
    },
    {
     "data": {
      "text/plain": [
       "date        0\n",
       "group       0\n",
       "visitors    0\n",
       "dtype: int64"
      ]
     },
     "metadata": {},
     "output_type": "display_data"
    },
    {
     "name": "stdout",
     "output_type": "stream",
     "text": [
      "<class 'pandas.core.frame.DataFrame'>\n",
      "RangeIndex: 62 entries, 0 to 61\n",
      "Data columns (total 3 columns):\n",
      " #   Column    Non-Null Count  Dtype \n",
      "---  ------    --------------  ----- \n",
      " 0   date      62 non-null     object\n",
      " 1   group     62 non-null     object\n",
      " 2   visitors  62 non-null     int64 \n",
      "dtypes: int64(1), object(2)\n",
      "memory usage: 1.6+ KB\n"
     ]
    },
    {
     "data": {
      "text/plain": [
       "None"
      ]
     },
     "metadata": {},
     "output_type": "display_data"
    }
   ],
   "source": [
    "display('Дубликатов в файле:',visitors.duplicated().sum())\n",
    "display('Пропусков в данных:',visitors.isna().sum())\n",
    "display(visitors.info())"
   ]
  },
  {
   "cell_type": "markdown",
   "metadata": {},
   "source": [
    "Дубликаты и пропуски в данных не обнаружены. Тип данных в столбцах с датами `object`. Приведем их к типу `datetime`"
   ]
  },
  {
   "cell_type": "code",
   "execution_count": 8,
   "metadata": {},
   "outputs": [
    {
     "data": {
      "text/plain": [
       "dtype('<M8[ns]')"
      ]
     },
     "metadata": {},
     "output_type": "display_data"
    },
    {
     "data": {
      "text/plain": [
       "dtype('<M8[ns]')"
      ]
     },
     "metadata": {},
     "output_type": "display_data"
    }
   ],
   "source": [
    "orders['date'] = orders['date'].map(lambda x: dt.datetime.strptime(x, '%Y-%m-%d'))\n",
    "display(orders['date'].dtype)\n",
    "visitors['date'] = visitors['date'].map(lambda x: dt.datetime.strptime(x, '%Y-%m-%d'))\n",
    "display(visitors['date'].dtype)"
   ]
  },
  {
   "cell_type": "markdown",
   "metadata": {},
   "source": [
    "Теперь типы данных соответствуют заявленным"
   ]
  },
  {
   "cell_type": "markdown",
   "metadata": {},
   "source": [
    "#### Функции для построения графиков"
   ]
  },
  {
   "cell_type": "code",
   "execution_count": 9,
   "metadata": {},
   "outputs": [],
   "source": [
    "# Функция для графиков кумулятивных данных по группам и графиков относительного изменения кумулятивных данных\n",
    "def chart_AB (type_chart,parameter,title,ylabel):\n",
    "    if type_chart == 'AB':\n",
    "        xa = cumulativeData.query('group == \"A\"')['date']\n",
    "        ya = cumulativeData.query('group == \"A\"')[parameter]\n",
    "        xb = cumulativeData.query('group == \"B\"')['date']\n",
    "        yb = cumulativeData.query('group == \"B\"')[parameter]\n",
    "        plt.figure(figsize=(20,8))\n",
    "        plt.plot(xa,ya,'o-',color='g',label = 'A')\n",
    "        plt.plot(xb,yb,'o-',label='B')\n",
    "        plt.grid()\n",
    "        plt.legend()\n",
    "        plt.xlabel(\"Дата\")\n",
    "        plt.ylabel(ylabel)\n",
    "        plt.xticks(rotation=90)\n",
    "        plt.title(title)\n",
    "        #plt.axis(scale)\n",
    "        plt.show()\n",
    "    elif type_chart == 'relative':\n",
    "        xa = cumulativeData.query('group == \"A\"')['date']\n",
    "        xb = cumulativeData.query('group == \"B\"')['date']\n",
    "        average_bill_B = (cumulativeData.query('group == \"B\"')[parameter]).reset_index(drop=True)\n",
    "        average_bill_A = cumulativeData.query('group == \"A\"')[parameter].reset_index(drop=True)\n",
    "        average_bill = average_bill_B/average_bill_A-1\n",
    "        plt.figure(figsize=(20,8))\n",
    "        plt.plot(xa,average_bill,'o-',color='r',label = 'A')\n",
    "        plt.grid()\n",
    "        plt.xlabel(\"Дата\")\n",
    "        plt.ylabel(ylabel)\n",
    "        plt.xticks(rotation=90)\n",
    "        plt.title(title)\n",
    "        plt.axhline(y=0, color='black', linestyle='--') \n",
    "        plt.show()        \n",
    "        "
   ]
  },
  {
   "cell_type": "markdown",
   "metadata": {},
   "source": [
    "### Кумулятивная выручка по группам\n",
    "\n",
    "Рассчитаем кумулятивную выручку и кумулятивное количество посетителей интернет-магазина по группам A И B и построим график кумулятивной выручки по группам."
   ]
  },
  {
   "cell_type": "code",
   "execution_count": 10,
   "metadata": {},
   "outputs": [
    {
     "data": {
      "text/html": [
       "<div>\n",
       "<style scoped>\n",
       "    .dataframe tbody tr th:only-of-type {\n",
       "        vertical-align: middle;\n",
       "    }\n",
       "\n",
       "    .dataframe tbody tr th {\n",
       "        vertical-align: top;\n",
       "    }\n",
       "\n",
       "    .dataframe thead th {\n",
       "        text-align: right;\n",
       "    }\n",
       "</style>\n",
       "<table border=\"1\" class=\"dataframe\">\n",
       "  <thead>\n",
       "    <tr style=\"text-align: right;\">\n",
       "      <th></th>\n",
       "      <th>date</th>\n",
       "      <th>group</th>\n",
       "      <th>orders</th>\n",
       "      <th>buyers</th>\n",
       "      <th>sum_revenue</th>\n",
       "      <th>sum_visitors</th>\n",
       "    </tr>\n",
       "  </thead>\n",
       "  <tbody>\n",
       "    <tr>\n",
       "      <th>0</th>\n",
       "      <td>2019-08-01</td>\n",
       "      <td>A</td>\n",
       "      <td>24</td>\n",
       "      <td>20</td>\n",
       "      <td>148579</td>\n",
       "      <td>719</td>\n",
       "    </tr>\n",
       "    <tr>\n",
       "      <th>1</th>\n",
       "      <td>2019-08-01</td>\n",
       "      <td>B</td>\n",
       "      <td>21</td>\n",
       "      <td>20</td>\n",
       "      <td>101217</td>\n",
       "      <td>713</td>\n",
       "    </tr>\n",
       "    <tr>\n",
       "      <th>2</th>\n",
       "      <td>2019-08-02</td>\n",
       "      <td>A</td>\n",
       "      <td>44</td>\n",
       "      <td>38</td>\n",
       "      <td>242401</td>\n",
       "      <td>1338</td>\n",
       "    </tr>\n",
       "    <tr>\n",
       "      <th>3</th>\n",
       "      <td>2019-08-02</td>\n",
       "      <td>B</td>\n",
       "      <td>45</td>\n",
       "      <td>43</td>\n",
       "      <td>266748</td>\n",
       "      <td>1294</td>\n",
       "    </tr>\n",
       "    <tr>\n",
       "      <th>4</th>\n",
       "      <td>2019-08-03</td>\n",
       "      <td>A</td>\n",
       "      <td>68</td>\n",
       "      <td>62</td>\n",
       "      <td>354874</td>\n",
       "      <td>1845</td>\n",
       "    </tr>\n",
       "  </tbody>\n",
       "</table>\n",
       "</div>"
      ],
      "text/plain": [
       "        date group  orders  buyers  sum_revenue  sum_visitors\n",
       "0 2019-08-01     A      24      20       148579           719\n",
       "1 2019-08-01     B      21      20       101217           713\n",
       "2 2019-08-02     A      44      38       242401          1338\n",
       "3 2019-08-02     B      45      43       266748          1294\n",
       "4 2019-08-03     A      68      62       354874          1845"
      ]
     },
     "execution_count": 10,
     "metadata": {},
     "output_type": "execute_result"
    }
   ],
   "source": [
    "#создадим массив уникальных пар дат и групп\n",
    "date_group = orders[['date','group']].drop_duplicates()\n",
    "\n",
    "\n",
    "#считаем кумулятивные данные выручки по группам\n",
    "revenue_grupp = date_group.apply(lambda x: orders[np.logical_and(orders['date']<=x['date'],\n",
    "                                                                 orders['group']==x['group'])]\\\n",
    "                                 .agg({'date':'max',\n",
    "                                       'group':'max',\n",
    "                                       'transactionId':'nunique',\n",
    "                                       'visitorId':'nunique',\n",
    "                                       'revenue':'sum'}),\n",
    "                                axis = 1).sort_values(by=['date','group'])\n",
    "revenue_grupp.columns = ['date','group','orders','buyers','sum_revenue']\n",
    "\n",
    "# получаем агрегированные кумулятивные данные по дням  о посетителях интернет-магазина \n",
    "visitor_grupp = date_group.apply(lambda x: visitors[np.logical_and(visitors['date'] <= x['date'],\n",
    "                                                                   visitors['group'] == x['group'])]\\\n",
    "                                 .agg({'date' : 'max', 'group' : 'max', 'visitors' : 'sum'}),\n",
    "                                 axis=1).sort_values(by=['date','group'])\n",
    "visitor_grupp.columns = ['date','group','sum_visitors']\n",
    "\n",
    "# объединяем кумулятивные данные в одной таблице \n",
    "cumulativeData = revenue_grupp.merge(visitor_grupp, left_on=['date', 'group'], right_on=['date', 'group'])\n",
    "\n",
    "\n",
    "cumulativeData.head()"
   ]
  },
  {
   "cell_type": "markdown",
   "metadata": {},
   "source": [
    "Проверим корректно ли был собран датафрейм с кумулятивными данными. Из начальных данных известно, что A/B тест проводился с 1.08.2019 по 31.08.2019, соответственно датафрейм должен иметь 62 строки для данных каждой из групп. Так же проверим наличие пропусков."
   ]
  },
  {
   "cell_type": "code",
   "execution_count": 11,
   "metadata": {},
   "outputs": [
    {
     "data": {
      "text/plain": [
       "'Строк в датафрейме: '"
      ]
     },
     "metadata": {},
     "output_type": "display_data"
    },
    {
     "data": {
      "text/plain": [
       "62"
      ]
     },
     "metadata": {},
     "output_type": "display_data"
    },
    {
     "data": {
      "text/plain": [
       "'Пропуски:'"
      ]
     },
     "metadata": {},
     "output_type": "display_data"
    },
    {
     "data": {
      "text/plain": [
       "date            0\n",
       "group           0\n",
       "orders          0\n",
       "buyers          0\n",
       "sum_revenue     0\n",
       "sum_visitors    0\n",
       "dtype: int64"
      ]
     },
     "metadata": {},
     "output_type": "display_data"
    },
    {
     "data": {
      "text/plain": [
       "'Минимальная дата:'"
      ]
     },
     "metadata": {},
     "output_type": "display_data"
    },
    {
     "data": {
      "text/plain": [
       "Timestamp('2019-08-01 00:00:00')"
      ]
     },
     "metadata": {},
     "output_type": "display_data"
    },
    {
     "data": {
      "text/plain": [
       "'Максимальная дата:'"
      ]
     },
     "metadata": {},
     "output_type": "display_data"
    },
    {
     "data": {
      "text/plain": [
       "Timestamp('2019-08-31 00:00:00')"
      ]
     },
     "metadata": {},
     "output_type": "display_data"
    }
   ],
   "source": [
    "display('Строк в датафрейме: ',cumulativeData.shape[0])\n",
    "display('Пропуски:',cumulativeData.isna().sum())\n",
    "display('Минимальная дата:',cumulativeData['date'].min(),'Максимальная дата:',cumulativeData['date'].max())"
   ]
  },
  {
   "cell_type": "markdown",
   "metadata": {},
   "source": [
    "Датафрейм собран корректно.\n",
    "Теперь построим график кумулятивной выруски по группам"
   ]
  },
  {
   "cell_type": "code",
   "execution_count": 12,
   "metadata": {},
   "outputs": [
    {
     "data": {
      "image/png": "[encoded data removed]",
      "text/plain": [
       "<Figure size 1440x576 with 1 Axes>"
      ]
     },
     "metadata": {
      "needs_background": "light"
     },
     "output_type": "display_data"
    }
   ],
   "source": [
    "chart_AB('AB','sum_revenue','График кумулятивной выручки по группам','Выручка (млн.руб.)')"
   ]
  },
  {
   "cell_type": "markdown",
   "metadata": {},
   "source": [
    "___\n",
    "**Вывод**\n",
    "*\tПо графику видно, что группа выручка группы B больше, чем у контрольной группы.\n",
    "* На 19-й день теста (19 августа) наблюдается резкий скачок и значения выручки группы B сильно отрывается от контрольной группы. Связано ли это с изменениями в продукте или с аномально дорогим заказом стоит выяснить. \n",
    "\n",
    "___"
   ]
  },
  {
   "cell_type": "markdown",
   "metadata": {},
   "source": [
    "### Кумулятивный средний чек по группам\n",
    "Построим график кумулятивного среднего чека по группам. "
   ]
  },
  {
   "cell_type": "code",
   "execution_count": 13,
   "metadata": {},
   "outputs": [
    {
     "data": {
      "image/png": "[encoded data removed]",
      "text/plain": [
       "<Figure size 1440x576 with 1 Axes>"
      ]
     },
     "metadata": {
      "needs_background": "light"
     },
     "output_type": "display_data"
    }
   ],
   "source": [
    "# Рассчет среднего чека\n",
    "cumulativeData['average_bill'] = round(cumulativeData['sum_revenue']/cumulativeData['orders'],2)\n",
    "\n",
    "chart_AB('AB','average_bill',\n",
    "        'График кумулятивного среднего чека по группам',\n",
    "        'Средний чек (руб.)')"
   ]
  },
  {
   "cell_type": "markdown",
   "metadata": {},
   "source": [
    "___\n",
    "**Вывод**\n",
    "* Кумулятивное значение среднего чека по группам не стабильно. \n",
    "* Так же наблюдается скачок значений группы B на 19-й день теста\n",
    "* Принимать решение по данной метрике рано, следует проанализировать аномально высокие значения. \n",
    "___"
   ]
  },
  {
   "cell_type": "markdown",
   "metadata": {},
   "source": [
    "### Относительное изменение кумулятивного среднего чека группы B к группе A\n",
    "Построим график относительного изменения кумулятивного среднего чека группы B к группе A. "
   ]
  },
  {
   "cell_type": "code",
   "execution_count": 14,
   "metadata": {},
   "outputs": [
    {
     "data": {
      "image/png": "[encoded data removed]",
      "text/plain": [
       "<Figure size 1440x576 with 1 Axes>"
      ]
     },
     "metadata": {
      "needs_background": "light"
     },
     "output_type": "display_data"
    }
   ],
   "source": [
    "chart_AB('relative','average_bill',\n",
    "         'График относительного изменения кумулятивного среднего чека группы B к группе A',\n",
    "         'Относительное изменение среднего чека (руб.)')"
   ]
  },
  {
   "cell_type": "markdown",
   "metadata": {},
   "source": [
    "____\n",
    "**Вывод**\n",
    "* Наблюдаются резкие изменения среднего чека в несколько дат: 6.08 и  19.08 \n",
    "\n",
    "* К 19-му дню теста прирост среднего чека группы   50%, а к концу теста значение снижается, это явно влияние аномально дорогих заказов.\n",
    "____"
   ]
  },
  {
   "cell_type": "markdown",
   "metadata": {},
   "source": [
    "### Кумулятивное среднее количество заказов на посетителя по группам\n",
    "Построим график кумулятивного среднего количества заказов на посетителя по группам. "
   ]
  },
  {
   "cell_type": "code",
   "execution_count": 15,
   "metadata": {},
   "outputs": [
    {
     "data": {
      "image/png": "[encoded data removed]",
      "text/plain": [
       "<Figure size 1440x576 with 1 Axes>"
      ]
     },
     "metadata": {
      "needs_background": "light"
     },
     "output_type": "display_data"
    }
   ],
   "source": [
    "# расчитаем количество заказов на посетителя\n",
    "cumulativeData['conversion'] = cumulativeData['orders']/cumulativeData['sum_visitors']\n",
    "\n",
    "chart_AB('AB','conversion',\n",
    "        'График среднего количества заказов на посетителя по группам',\n",
    "        'Среднее количество заказов')\n"
   ]
  },
  {
   "cell_type": "markdown",
   "metadata": {},
   "source": [
    "___\n",
    "**Вывод**\n",
    "* С 6-го дня теста наблюдается повышение среднего количества заказов в тестовой группе B\n",
    "* Наблюдаются отдельные пики на 10-й день и с 15-го по 17-й, что может быть связано с аномально высоким количеством заказов некоторых пользователей\n",
    "* В целом к концу теста наблюдается превышение значений среднего количества заказов у группы B и устойчивое колебание около одного значения.\n",
    "___"
   ]
  },
  {
   "cell_type": "markdown",
   "metadata": {},
   "source": [
    "### Относительное изменение кумулятивного среднего количества заказов на посетителя группы B к группе A\n",
    "* Постройте график относительного изменения кумулятивного среднего количества заказов на посетителя группы B к группе A. Сделайте выводы и предположения."
   ]
  },
  {
   "cell_type": "code",
   "execution_count": 16,
   "metadata": {},
   "outputs": [
    {
     "data": {
      "image/png": "[encoded data removed]",
      "text/plain": [
       "<Figure size 1440x576 with 1 Axes>"
      ]
     },
     "metadata": {
      "needs_background": "light"
     },
     "output_type": "display_data"
    }
   ],
   "source": [
    "chart_AB('relative','conversion',\n",
    "        'График относительного изменения кумулятивного среднего количества заказов на посетителя группы B к группе A',\n",
    "        'Относительное изменение кумулятивного среднего количества заказов')"
   ]
  },
  {
   "cell_type": "markdown",
   "metadata": {},
   "source": [
    "___\n",
    "**Вывод**\n",
    "* По графику видно, что группа B лидирует по метрике начиная с 6-го дня проведения теста\n",
    "* К концу месяца значения зафиксировались около 10-15% прироста \n",
    "___"
   ]
  },
  {
   "cell_type": "markdown",
   "metadata": {},
   "source": [
    "___\n",
    "**Предварительные выводы**\n",
    "* Тестовая группа B лидирует по количеству заказов, можно сказать, что после изменения в продукте пользователи стали более охотно покупать либо это влияние пользователей сделавших аномально большое количество заказов\n",
    "* По среднему чеку так же наблюдается явное влияние выбросов в виде очень дорогих заказов. Сделать предварительные выводы сложно, нужно исследовать аномальные значения \n",
    "\n",
    "___"
   ]
  },
  {
   "cell_type": "markdown",
   "metadata": {},
   "source": [
    "## Анализ выбросов \n",
    "<a id='emissions'></a>\n",
    "\n",
    "В предыдущих пунктах исследования было выявлено, что на метрики могут влиять пользователи с аномально большим количеством заказов и очень дорогие заказы. Проанализируем количество заказов по пользователям и стоимости заказов."
   ]
  },
  {
   "cell_type": "markdown",
   "metadata": {},
   "source": [
    "### Количество заказов по пользователям\n",
    "\n",
    "Построим гистограмму и  точечный график количества заказов по пользователям. "
   ]
  },
  {
   "cell_type": "code",
   "execution_count": 17,
   "metadata": {},
   "outputs": [
    {
     "data": {
      "image/png": "[encoded data removed]",
      "text/plain": [
       "<Figure size 1440x720 with 2 Axes>"
      ]
     },
     "metadata": {
      "needs_background": "light"
     },
     "output_type": "display_data"
    }
   ],
   "source": [
    "number_of_orders = orders.groupby('visitorId').agg({'transactionId':'count'})\n",
    "x_value = pd.Series(range(0,len(number_of_orders)))\n",
    "\n",
    "plt.figure(figsize=(20,10))\n",
    "plt.subplot(1,2,1)\n",
    "plt.hist(number_of_orders['transactionId'])\n",
    "plt.grid()\n",
    "plt.title('Гистограмма распределения количества заказов на одного пользователя')\n",
    "plt.xlabel(\"Количество заказов\")\n",
    "plt.ylabel('Частота')\n",
    "\n",
    "plt.subplot(1,2,2)\n",
    "plt.scatter(x_value, number_of_orders['transactionId']) \n",
    "plt.grid()\n",
    "plt.title('Точечная диаграмма числа заказов на одного пользователя')\n",
    "plt.xlabel(\"Пользователи\")\n",
    "plt.ylabel('Количество заказов')\n",
    "plt.show()"
   ]
  },
  {
   "cell_type": "markdown",
   "metadata": {},
   "source": [
    "По графикам видно, что преимущественное большинство пользователей совершает не более одного заказа. \n",
    "На точечном графике видно, что пользователей с 2-мя заказами тоже приличное количество. Чтобы оценить, включать ли в анализ пользователей с 2 и более заказами посчитаем 95-й и 99-й перцентили количества заказов на пользователя. "
   ]
  },
  {
   "cell_type": "code",
   "execution_count": 18,
   "metadata": {},
   "outputs": [
    {
     "data": {
      "text/plain": [
       "array([2., 4.])"
      ]
     },
     "execution_count": 18,
     "metadata": {},
     "output_type": "execute_result"
    }
   ],
   "source": [
    "np.percentile(number_of_orders['transactionId'], [95, 99])"
   ]
  },
  {
   "cell_type": "markdown",
   "metadata": {},
   "source": [
    "___\n",
    "**Вывод**\n",
    "\n",
    "* Не более 5% пользователей совершили по 2 заказа и более, и не более 1% совершили больше 4 заказов. \n",
    "* Для анализа возьмем пользователей 1 и 2 заказами, отсеяв 5% пользователей, заказывающих больше. \n",
    "____"
   ]
  },
  {
   "cell_type": "markdown",
   "metadata": {},
   "source": [
    "### Анализ стоимостей заказов\n",
    "\n",
    "Аналогично построим графики стоимостей заказов."
   ]
  },
  {
   "cell_type": "code",
   "execution_count": 19,
   "metadata": {},
   "outputs": [
    {
     "data": {
      "image/png": "[encoded data removed]",
      "text/plain": [
       "<Figure size 1440x720 with 2 Axes>"
      ]
     },
     "metadata": {
      "needs_background": "light"
     },
     "output_type": "display_data"
    }
   ],
   "source": [
    "x_values = pd.Series(range(0,len(orders['revenue'])))\n",
    "\n",
    "plt.figure(figsize=(20,10))\n",
    "plt.subplot(1,2,1)\n",
    "plt.hist(orders['revenue'])\n",
    "plt.grid()\n",
    "plt.title('Гистограмма распределения стоимостей заказов')\n",
    "plt.xlabel(\"Стоимость заказов\")\n",
    "plt.ylabel('Частота')\n",
    "\n",
    "plt.subplot(1,2,2)\n",
    "plt.scatter(x_values, orders['revenue']) \n",
    "plt.grid()\n",
    "plt.title('Точечная диаграмма стоимостей заказов')\n",
    "plt.xlabel('Пользователи')\n",
    "plt.ylabel('Стоимость заказов')\n",
    "plt.show()"
   ]
  },
  {
   "cell_type": "markdown",
   "metadata": {},
   "source": [
    "Видно, что пользователей со стоимостью заказов менее 100 000 руб преобладающее количество. Изменим масштаб точечного графика для более точной оценки"
   ]
  },
  {
   "cell_type": "code",
   "execution_count": 20,
   "metadata": {},
   "outputs": [
    {
     "data": {
      "image/png": "[encoded data removed]",
      "text/plain": [
       "<Figure size 720x720 with 1 Axes>"
      ]
     },
     "metadata": {
      "needs_background": "light"
     },
     "output_type": "display_data"
    }
   ],
   "source": [
    "plt.figure(figsize=(10,10))\n",
    "\n",
    "plt.scatter(x_values, orders['revenue']) \n",
    "plt.grid()\n",
    "plt.title('Точечная диаграмма стоимостей заказов')\n",
    "plt.xlabel('Пользователи')\n",
    "plt.ylabel('Стоимость заказов')\n",
    "plt.ylim(0,200000)\n",
    "plt.show()"
   ]
  },
  {
   "cell_type": "markdown",
   "metadata": {},
   "source": [
    "Основная масса пользователей совершает покупки в пределах 25 000 руб. Посчитаем 95-й и 99-й перцентили"
   ]
  },
  {
   "cell_type": "code",
   "execution_count": 21,
   "metadata": {},
   "outputs": [
    {
     "data": {
      "text/plain": [
       "array([28000. , 58233.2])"
      ]
     },
     "execution_count": 21,
     "metadata": {},
     "output_type": "execute_result"
    }
   ],
   "source": [
    "np.percentile(orders['revenue'], [95, 99])"
   ]
  },
  {
   "cell_type": "markdown",
   "metadata": {},
   "source": [
    "___\n",
    "**Вывод**\n",
    "\n",
    "* Не более 5% заказов превышали по стоимости 28 000 руб. Заказов дороже 58 233.2 руб в выборке не более 1 % \n",
    "* Для анализа возьмем заказы не дороже 28000 руб. \n",
    "____"
   ]
  },
  {
   "cell_type": "markdown",
   "metadata": {},
   "source": [
    "## Оценка влияния аномалий на результаты A/B теста \n",
    "<a id='analysis'></a>"
   ]
  },
  {
   "cell_type": "markdown",
   "metadata": {},
   "source": [
    "### «Сырые» данные\n",
    "#### Различие  в среднем количестве заказов на посетителя между группами \n",
    "\n",
    "Посчитаем статистическую значимость различий в среднем количестве заказов на посетителя между группами по «сырым» данным.\n",
    "\n",
    "В качестве `нулевой гипотезы` примем, что различий между группами A и B нет. `Альтернативная гипотеза` - есть статистически значимые различия  "
   ]
  },
  {
   "cell_type": "code",
   "execution_count": 22,
   "metadata": {},
   "outputs": [],
   "source": [
    "# создадим таблицы с количеством пользователей в указанную дату для групп А и В \n",
    "visitors_dateA = visitors[visitors['group'] == 'A'][['date', 'visitors']]\n",
    "visitors_dateA.columns = ['date', 'visitors_dateA']\n",
    "\n",
    "visitors_dateB = visitors[visitors['group'] == 'B'][['date', 'visitors']]\n",
    "visitors_dateB.columns = ['date', 'visitors_dateB']\n",
    "\n",
    "# количество заказов и суммарная выручка по  датам\n",
    "orders_dateA = (\n",
    "    orders[orders['group'] == 'A'][['date', 'transactionId', 'visitorId', 'revenue']]\n",
    "    .groupby('date', as_index=False)\n",
    "    .agg({'transactionId': pd.Series.nunique, 'revenue': 'sum'})\n",
    ")\n",
    "orders_dateA.columns = ['date', 'orders_dateA', 'revenue_dateA']\n",
    "\n",
    "orders_dateB = (\n",
    "    orders[orders['group'] == 'B'][['date', 'transactionId', 'visitorId', 'revenue']]\n",
    "    .groupby('date', as_index=False)\n",
    "    .agg({'transactionId': pd.Series.nunique, 'revenue': 'sum'})\n",
    ")\n",
    "orders_dateB.columns = ['date', 'orders_dateB', 'revenue_dateB']"
   ]
  },
  {
   "cell_type": "code",
   "execution_count": 23,
   "metadata": {},
   "outputs": [],
   "source": [
    "# Рассчет кумулятивных данных\n",
    "# Количество пользователей до выбранной даты включительно \n",
    "visitors_cummA = visitors_dateA.apply(lambda x: visitors_dateA[visitors_dateA['date'] <= x['date']].agg({'date': 'max',\n",
    "                                                                                                         'visitors_dateA': 'sum'}),axis=1,)\n",
    "visitors_cummA.columns = ['date', 'visitors_cummA']\n",
    "\n",
    "\n",
    "visitors_cummB = visitors_dateB.apply(lambda x: visitors_dateB[visitors_dateB['date'] <= x['date']].agg({'date': 'max',\n",
    "                                                                                                         'visitors_dateB': 'sum'}),axis=1,)\n",
    "visitors_cummB.columns = ['date', 'visitors_cummB']\n",
    "\n",
    "# Суммарное количество заказов и суммарная выручка до выбранной даты\n",
    "\n",
    "orders_cummA = orders_dateA.apply(lambda x: orders_dateA[orders_dateA['date'] <= x['date']].agg({'date': 'max',\n",
    "                                                                                                 'orders_dateA': 'sum',\n",
    "                                                                                                 'revenue_dateA': 'sum'}),axis=1).sort_values(by=['date'])\n",
    "orders_cummA.columns = ['date','orders_cummA','revenue_cummA',]\n",
    "\n",
    "\n",
    "orders_cummB = orders_dateB.apply(lambda x: orders_dateB[orders_dateB['date'] <= x['date']].agg({'date': 'max',\n",
    "                                                                                                 'orders_dateB': 'sum',\n",
    "                                                                                                 'revenue_dateB': 'sum'}),axis=1).sort_values(by=['date'])\n",
    "orders_cummB.columns = ['date','orders_cummB','revenue_cummB']"
   ]
  },
  {
   "cell_type": "code",
   "execution_count": 24,
   "metadata": {},
   "outputs": [
    {
     "data": {
      "text/html": [
       "<div>\n",
       "<style scoped>\n",
       "    .dataframe tbody tr th:only-of-type {\n",
       "        vertical-align: middle;\n",
       "    }\n",
       "\n",
       "    .dataframe tbody tr th {\n",
       "        vertical-align: top;\n",
       "    }\n",
       "\n",
       "    .dataframe thead th {\n",
       "        text-align: right;\n",
       "    }\n",
       "</style>\n",
       "<table border=\"1\" class=\"dataframe\">\n",
       "  <thead>\n",
       "    <tr style=\"text-align: right;\">\n",
       "      <th></th>\n",
       "      <th>date</th>\n",
       "      <th>orders_dateA</th>\n",
       "      <th>revenue_dateA</th>\n",
       "      <th>orders_dateB</th>\n",
       "      <th>revenue_dateB</th>\n",
       "      <th>orders_cummA</th>\n",
       "      <th>revenue_cummA</th>\n",
       "      <th>orders_cummB</th>\n",
       "      <th>revenue_cummB</th>\n",
       "      <th>visitors_dateA</th>\n",
       "      <th>visitors_dateB</th>\n",
       "      <th>visitors_cummA</th>\n",
       "      <th>visitors_cummB</th>\n",
       "    </tr>\n",
       "  </thead>\n",
       "  <tbody>\n",
       "    <tr>\n",
       "      <th>0</th>\n",
       "      <td>2019-08-01</td>\n",
       "      <td>24</td>\n",
       "      <td>148579</td>\n",
       "      <td>21</td>\n",
       "      <td>101217</td>\n",
       "      <td>24</td>\n",
       "      <td>148579</td>\n",
       "      <td>21</td>\n",
       "      <td>101217</td>\n",
       "      <td>719</td>\n",
       "      <td>713</td>\n",
       "      <td>719</td>\n",
       "      <td>713</td>\n",
       "    </tr>\n",
       "    <tr>\n",
       "      <th>1</th>\n",
       "      <td>2019-08-02</td>\n",
       "      <td>20</td>\n",
       "      <td>93822</td>\n",
       "      <td>24</td>\n",
       "      <td>165531</td>\n",
       "      <td>44</td>\n",
       "      <td>242401</td>\n",
       "      <td>45</td>\n",
       "      <td>266748</td>\n",
       "      <td>619</td>\n",
       "      <td>581</td>\n",
       "      <td>1338</td>\n",
       "      <td>1294</td>\n",
       "    </tr>\n",
       "    <tr>\n",
       "      <th>2</th>\n",
       "      <td>2019-08-03</td>\n",
       "      <td>24</td>\n",
       "      <td>112473</td>\n",
       "      <td>16</td>\n",
       "      <td>114248</td>\n",
       "      <td>68</td>\n",
       "      <td>354874</td>\n",
       "      <td>61</td>\n",
       "      <td>380996</td>\n",
       "      <td>507</td>\n",
       "      <td>509</td>\n",
       "      <td>1845</td>\n",
       "      <td>1803</td>\n",
       "    </tr>\n",
       "    <tr>\n",
       "      <th>3</th>\n",
       "      <td>2019-08-04</td>\n",
       "      <td>16</td>\n",
       "      <td>70825</td>\n",
       "      <td>17</td>\n",
       "      <td>108571</td>\n",
       "      <td>84</td>\n",
       "      <td>425699</td>\n",
       "      <td>78</td>\n",
       "      <td>489567</td>\n",
       "      <td>717</td>\n",
       "      <td>770</td>\n",
       "      <td>2562</td>\n",
       "      <td>2573</td>\n",
       "    </tr>\n",
       "    <tr>\n",
       "      <th>4</th>\n",
       "      <td>2019-08-05</td>\n",
       "      <td>25</td>\n",
       "      <td>124218</td>\n",
       "      <td>23</td>\n",
       "      <td>92428</td>\n",
       "      <td>109</td>\n",
       "      <td>549917</td>\n",
       "      <td>101</td>\n",
       "      <td>581995</td>\n",
       "      <td>756</td>\n",
       "      <td>707</td>\n",
       "      <td>3318</td>\n",
       "      <td>3280</td>\n",
       "    </tr>\n",
       "  </tbody>\n",
       "</table>\n",
       "</div>"
      ],
      "text/plain": [
       "        date  orders_dateA  revenue_dateA  orders_dateB  revenue_dateB  \\\n",
       "0 2019-08-01            24         148579            21         101217   \n",
       "1 2019-08-02            20          93822            24         165531   \n",
       "2 2019-08-03            24         112473            16         114248   \n",
       "3 2019-08-04            16          70825            17         108571   \n",
       "4 2019-08-05            25         124218            23          92428   \n",
       "\n",
       "   orders_cummA  revenue_cummA  orders_cummB  revenue_cummB  visitors_dateA  \\\n",
       "0            24         148579            21         101217             719   \n",
       "1            44         242401            45         266748             619   \n",
       "2            68         354874            61         380996             507   \n",
       "3            84         425699            78         489567             717   \n",
       "4           109         549917           101         581995             756   \n",
       "\n",
       "   visitors_dateB  visitors_cummA  visitors_cummB  \n",
       "0             713             719             713  \n",
       "1             581            1338            1294  \n",
       "2             509            1845            1803  \n",
       "3             770            2562            2573  \n",
       "4             707            3318            3280  "
      ]
     },
     "execution_count": 24,
     "metadata": {},
     "output_type": "execute_result"
    }
   ],
   "source": [
    "#Объединение таблиц\n",
    "data = (\n",
    "    orders_dateA.merge(\n",
    "        orders_dateB, left_on='date', right_on='date', how='left')\n",
    "    .merge(orders_cummA, left_on='date', right_on='date', how='left')\n",
    "    .merge(orders_cummB, left_on='date', right_on='date', how='left')\n",
    "    .merge(visitors_dateA, left_on='date', right_on='date', how='left')\n",
    "    .merge(visitors_dateB, left_on='date', right_on='date', how='left')\n",
    "    .merge(visitors_cummA, left_on='date', right_on='date', how='left')\n",
    "    .merge(visitors_cummB, left_on='date', right_on='date', how='left'))\n",
    "data.head()"
   ]
  },
  {
   "cell_type": "code",
   "execution_count": 25,
   "metadata": {},
   "outputs": [],
   "source": [
    "# Посчитаем число заказов по пользователям\n",
    "orders_usersA = (orders[orders['group'] == 'A'].groupby('visitorId',\n",
    "                                                        as_index=False).agg({'transactionId': pd.Series.nunique}))\n",
    "orders_usersA.columns = ['userId', 'orders']\n",
    "\n",
    "orders_usersB = (\n",
    "    orders[orders['group'] == 'B']\n",
    "    .groupby('visitorId', as_index=False)\n",
    "    .agg({'transactionId': pd.Series.nunique})\n",
    ")\n",
    "orders_usersB.columns = ['userId', 'orders'] "
   ]
  },
  {
   "cell_type": "code",
   "execution_count": 26,
   "metadata": {},
   "outputs": [],
   "source": [
    "# Добавим в таблицу с количеством заказов по пользователям нули, для пользователей, которые ничего не заказывали\n",
    "sampleA = pd.concat([orders_usersA['orders'],\n",
    "                     pd.Series(0,\n",
    "                               index=np.arange(data['visitors_dateA'].sum() - len(orders_usersA['orders'])),\n",
    "                               name='orders')],axis=0)\n",
    "\n",
    "sampleB = pd.concat([orders_usersB['orders'],\n",
    "                     pd.Series(0,\n",
    "                               index=np.arange(data['visitors_dateB'].sum() - len(orders_usersB['orders'])),\n",
    "                               name='orders')],axis=0)"
   ]
  },
  {
   "cell_type": "code",
   "execution_count": 27,
   "metadata": {},
   "outputs": [
    {
     "name": "stdout",
     "output_type": "stream",
     "text": [
      "p_value = 0.017 Отвергаем нулевую гипотезу, есть значимые различия в количестве заказов между группами\n",
      "Относительное различие в среднем между группами: 0.138\n"
     ]
    }
   ],
   "source": [
    "# p-value для сравнения среднего между группами.\n",
    "alpha = 0.05\n",
    "p_value_raw = round(stats.mannwhitneyu(sampleA, sampleB)[1],3)\n",
    "\n",
    "if p_value_raw < alpha:\n",
    "    print(f'p_value = {p_value_raw} Отвергаем нулевую гипотезу, есть значимые различия в количестве заказов между группами') \n",
    "         \n",
    "else:\n",
    "    print(f'p_value = {p_value_raw} Оснований отвергнуть нулевую гипотезу нет, значимых различий в количестве заказов между группами нет ')\n",
    "    \n",
    "# Относительное различие в среднем между группами. \n",
    "avg_raw = round(sampleB.mean() / sampleA.mean() - 1,3)\n",
    "print(f'Относительное различие в среднем между группами: {avg_raw}')"
   ]
  },
  {
   "cell_type": "code",
   "execution_count": null,
   "metadata": {},
   "outputs": [],
   "source": []
  },
  {
   "cell_type": "markdown",
   "metadata": {},
   "source": [
    "___\n",
    "**Вывод**\n",
    "* По сырым данным есть значимые различия в среднем количестве заказов между группами \n",
    "* Наблюдается относительный прирост в количестве заказов в группе B в 13,8%\n",
    "___"
   ]
  },
  {
   "cell_type": "markdown",
   "metadata": {},
   "source": [
    "####  Различия в среднем чеке заказа между группами по «сырым» данным\n",
    "Посчитаем статистическую значимость различий в среднем чеке заказа между группами по «сырым» данным. "
   ]
  },
  {
   "cell_type": "code",
   "execution_count": 28,
   "metadata": {},
   "outputs": [
    {
     "name": "stdout",
     "output_type": "stream",
     "text": [
      "p_value = 0.729 Оснований отвергнуть нулевую гипотезу нет, значимых различий в среднем чеке заказа между группами нет\n",
      "Относительный прирост среднего чека группы B: 0.259\n"
     ]
    }
   ],
   "source": [
    "#  p-value для сравнения средних чеков между группами.\n",
    "grouppA = orders[orders['group']=='A']['revenue']\n",
    "grouppB = orders[orders['group']=='B']['revenue']\n",
    "p_value_raw2 = round(stats.mannwhitneyu(grouppA, grouppB)[1] , 3)\n",
    "\n",
    "if p_value_raw2 < alpha:\n",
    "    print(f'p_value = {p_value_raw2} Отвергаем нулевую гипотезу, есть значимые различия в среднем чеке заказа между группами')\n",
    "else:\n",
    "    print(f'p_value = {p_value_raw2} Оснований отвергнуть нулевую гипотезу нет, значимых различий в среднем чеке заказа между группами нет')\n",
    "\n",
    "# Относительный прирост среднего чека группы B\n",
    "avg_raw2 = round(orders[orders['group']=='B']['revenue'].mean()/orders[orders['group']=='A']['revenue'].mean()-1,3)\n",
    "print(f'Относительный прирост среднего чека группы B: {avg_raw2}')\n"
   ]
  },
  {
   "cell_type": "markdown",
   "metadata": {},
   "source": [
    "___\n",
    "**Вывод**\n",
    "* По среднему чеку есть значимых различий между группами не наблюдается.\n",
    "* При этом относительный прирост среднего чека группы B аж 25,9%, что скорее всего так же связано с очень дорогими заказами \n",
    "\n",
    "____"
   ]
  },
  {
   "cell_type": "markdown",
   "metadata": {},
   "source": [
    "### «Очищенные» данные\n",
    "#### Различие  в среднем количестве заказов на посетителя между группами \n",
    "\n",
    "В качестве верхней границы количества заказов было принято 2, а по стоимости заказа 28 000 руб. Посчитаем какой процент пользователей был удален из данных. "
   ]
  },
  {
   "cell_type": "code",
   "execution_count": 29,
   "metadata": {},
   "outputs": [
    {
     "name": "stdout",
     "output_type": "stream",
     "text": [
      "1099    148427295\n",
      "18      199603092\n",
      "928     204675465\n",
      "23      237748145\n",
      "37      249864742\n",
      "dtype: int64\n",
      "Доля аномальных пользователей 7.18%\n"
     ]
    }
   ],
   "source": [
    "users_filter_count_orders = pd.concat([orders_usersA[orders_usersA['orders'] > 2]['userId'],\n",
    "                          orders_usersB[orders_usersB['orders'] > 2]['userId'],],axis=0,)\n",
    "users_filter_expensive_orders = orders[orders['revenue'] > 28000]['visitorId']\n",
    "abnormal_users = (pd.concat([users_filter_count_orders, users_filter_expensive_orders], axis=0).drop_duplicates().sort_values())\n",
    "all_users = orders['visitorId'].nunique()\n",
    "print(abnormal_users.head(5))\n",
    "print(f'Доля аномальных пользователей {abnormal_users.shape[0]/all_users:.2%}')"
   ]
  },
  {
   "cell_type": "markdown",
   "metadata": {},
   "source": [
    "Удалим из датасета 7,18% пользователей. "
   ]
  },
  {
   "cell_type": "code",
   "execution_count": 30,
   "metadata": {},
   "outputs": [],
   "source": [
    "sampleA_filter = pd.concat([orders_usersA[np.logical_not(orders_usersA['userId'].isin(abnormal_users))]['orders'],\n",
    "        pd.Series(0,\n",
    "                  index=np.arange(data['visitors_dateA'].sum() - len(orders_usersA['orders'])),\n",
    "                  name='orders')],axis=0)\n",
    "\n",
    "sampleB_filter = pd.concat([orders_usersB[np.logical_not(orders_usersB['userId'].isin(abnormal_users))]['orders'],\n",
    "                            pd.Series(0,\n",
    "                                      index=np.arange(data['visitors_dateB'].sum() - len(orders_usersB['orders'])),\n",
    "                                      name='orders')],axis=0)"
   ]
  },
  {
   "cell_type": "code",
   "execution_count": 31,
   "metadata": {},
   "outputs": [
    {
     "data": {
      "text/plain": [
       "'p_value = 0.013 Отвергаем нулевую гипотезу, есть значимые различия в среднем количестве заказов между группами'"
      ]
     },
     "metadata": {},
     "output_type": "display_data"
    },
    {
     "data": {
      "text/plain": [
       "'Относительное различие в среднем между группами: 0.173'"
      ]
     },
     "metadata": {},
     "output_type": "display_data"
    }
   ],
   "source": [
    "# p-value для сравнения среднего между группами.\n",
    "p_value_filter = round(stats.mannwhitneyu(sampleA_filter, sampleB_filter)[1],3)\n",
    "\n",
    "if p_value_filter < alpha:\n",
    "    display(f'p_value = {p_value_filter} Отвергаем нулевую гипотезу, есть значимые различия в среднем количестве заказов между группами')\n",
    "          \n",
    "else:\n",
    "    display(f'p_value = {p_value_filter} Оснований отвергнуть нулевую гипотезу нет, значимых различий в среднем количестве заказов между группами нет ')\n",
    "    \n",
    "# Относительное различие в среднем между группами. \n",
    "avg_filter = round(sampleB_filter.mean() / sampleA_filter.mean() - 1,3)\n",
    "display(f'Относительное различие в среднем между группами: {avg_filter}')"
   ]
  },
  {
   "cell_type": "markdown",
   "metadata": {},
   "source": [
    "___\n",
    "**Вывод**\n",
    "* По среднему количеству заказов на пользователя есть значимые различия между группами A И B\n",
    "* При этом относительный прирост среднего чека группы B аж 17,3%, группа B лидирует\n",
    "____"
   ]
  },
  {
   "cell_type": "markdown",
   "metadata": {},
   "source": [
    "#### Различия в среднем чеке заказа между группами \n",
    "Посчитайте статистическую значимость различий в среднем чеке заказа между группами по «очищенным» данным. "
   ]
  },
  {
   "cell_type": "code",
   "execution_count": 32,
   "metadata": {
    "scrolled": true
   },
   "outputs": [
    {
     "data": {
      "text/plain": [
       "'p_value = 0.738 Оснований отвергнуть нулевую гипотезу нет,значимых различий  в среднем чеке заказа  между группами нет'"
      ]
     },
     "metadata": {},
     "output_type": "display_data"
    },
    {
     "data": {
      "text/plain": [
       "'Относительный прирост среднего чека группы B: -0.02'"
      ]
     },
     "metadata": {},
     "output_type": "display_data"
    }
   ],
   "source": [
    "#  p-value для сравнения средних чеков между группами.\n",
    "grouppA_filter = orders[np.logical_and(orders['group'] == 'A',np.logical_not(orders['visitorId'].isin(abnormal_users)))]['revenue']\n",
    "grouppB_filter = orders[np.logical_and(orders['group'] == 'B',np.logical_not(orders['visitorId'].isin(abnormal_users)))]['revenue']\n",
    "p_value_filter2 = round(stats.mannwhitneyu(grouppA_filter, grouppB_filter)[1] , 3)\n",
    "\n",
    "if p_value_filter2 < alpha:\n",
    "    display(f'p_value = {p_value_filter2} Отвергаем нулевую гипотезу,есть значимые различия в среднем чеке заказа между группами ')\n",
    "else:\n",
    "    display(f'p_value = {p_value_filter2} Оснований отвергнуть нулевую гипотезу нет,значимых различий  в среднем чеке заказа  между группами нет') \n",
    "        \n",
    "\n",
    "# Относительный прирост среднего чека группы B\n",
    "B = orders[np.logical_and(orders['group'] == 'B',np.logical_not(orders['visitorId'].isin(abnormal_users)))]['revenue'].mean()\n",
    "A = orders[np.logical_and(orders['group'] == 'A',np.logical_not(orders['visitorId'].isin(abnormal_users)))]['revenue'].mean()\n",
    "avg_filter2 = round(B/A-1,3)\n",
    "                                                                                                                                     \n",
    "display(f'Относительный прирост среднего чека группы B: {avg_filter2}')\n"
   ]
  },
  {
   "cell_type": "markdown",
   "metadata": {},
   "source": [
    "___\n",
    "**Вывод**\n",
    "* По среднему чеку значимых различий между группами нет. \n",
    "* При этом группа B даже проигрывает, наблюдается убыль на 2%\n",
    "____\n",
    "        "
   ]
  },
  {
   "cell_type": "markdown",
   "metadata": {},
   "source": [
    "___\n",
    "\n",
    "**Общий вывод**\n",
    "* Было выявлено значительное влияние аномалий на метрики.\n",
    "* По Количеству заказов было выявлено, что группа B однозначно лидирует. После \"очистки\" данных от выбросов процент прироста увеличился на 3,5 ед. процента и составил 17,3%\n",
    "* По среднему чеку заказа после удаления аномалий выяснилось, что средний чек группы B уменьшился на 2% по отношению к контрольной группе, и значимых различий между группами не выявлено. \n",
    "\n",
    "___"
   ]
  },
  {
   "cell_type": "markdown",
   "metadata": {},
   "source": [
    "## Выводы и предположения. \n",
    "<a id='results'></a>\n",
    "* Входе A/B теста проверили гипотезу о том, что добавление формы подписки на все основные страницы увеличит количество заказов и средний чек \n",
    "* Решение по результатам теста - остановить тест, зафиксировать победу группы B. \n",
    "* Был зафиксирован рост количества заказов относительно группы A,а на средний чек проведение теста никак не повлияло, то есть пользователи продолжали в среднем столько же тратить денег на заказ, но стали заказывать больше, что приведет к росту выручки. "
   ]
  },
  {
   "cell_type": "code",
   "execution_count": null,
   "metadata": {},
   "outputs": [],
   "source": []
  }
 ],
 "metadata": {
  "ExecuteTimeLog": [
   {
    "duration": 1392,
    "start_time": "2024-01-12T13:26:37.173Z"
   },
   {
    "duration": 3,
    "start_time": "2024-01-12T13:27:54.346Z"
   },
   {
    "duration": 105,
    "start_time": "2024-01-12T13:28:38.233Z"
   },
   {
    "duration": 2,
    "start_time": "2024-01-12T13:28:41.838Z"
   },
   {
    "duration": 11,
    "start_time": "2024-01-12T13:28:43.449Z"
   },
   {
    "duration": 59,
    "start_time": "2024-01-12T13:28:51.880Z"
   },
   {
    "duration": 34,
    "start_time": "2024-01-12T13:28:56.987Z"
   },
   {
    "duration": 6,
    "start_time": "2024-01-12T13:32:45.148Z"
   },
   {
    "duration": 10,
    "start_time": "2024-01-12T13:32:49.792Z"
   },
   {
    "duration": 11,
    "start_time": "2024-01-12T13:33:17.450Z"
   },
   {
    "duration": 5,
    "start_time": "2024-01-12T13:35:10.936Z"
   },
   {
    "duration": 18,
    "start_time": "2024-01-12T13:35:18.470Z"
   },
   {
    "duration": 12,
    "start_time": "2024-01-12T13:35:31.056Z"
   },
   {
    "duration": 11,
    "start_time": "2024-01-12T13:35:38.346Z"
   },
   {
    "duration": 13,
    "start_time": "2024-01-12T13:35:57.249Z"
   },
   {
    "duration": 12,
    "start_time": "2024-01-12T13:36:29.731Z"
   },
   {
    "duration": 13,
    "start_time": "2024-01-12T13:36:33.922Z"
   },
   {
    "duration": 11,
    "start_time": "2024-01-12T13:38:38.794Z"
   },
   {
    "duration": 13,
    "start_time": "2024-01-12T13:38:59.253Z"
   },
   {
    "duration": 15,
    "start_time": "2024-01-12T13:39:49.768Z"
   },
   {
    "duration": 14,
    "start_time": "2024-01-12T13:39:53.574Z"
   },
   {
    "duration": 14,
    "start_time": "2024-01-12T13:39:57.568Z"
   },
   {
    "duration": 14,
    "start_time": "2024-01-12T13:40:21.197Z"
   },
   {
    "duration": 2,
    "start_time": "2024-01-12T13:44:04.062Z"
   },
   {
    "duration": 51,
    "start_time": "2024-01-12T13:44:04.066Z"
   },
   {
    "duration": 11,
    "start_time": "2024-01-12T13:44:04.119Z"
   },
   {
    "duration": 40,
    "start_time": "2024-01-12T13:44:04.132Z"
   },
   {
    "duration": 96,
    "start_time": "2024-01-12T13:46:09.165Z"
   },
   {
    "duration": 95,
    "start_time": "2024-01-12T13:46:14.003Z"
   },
   {
    "duration": 65,
    "start_time": "2024-01-12T13:46:30.664Z"
   },
   {
    "duration": 70,
    "start_time": "2024-01-12T13:46:40.266Z"
   },
   {
    "duration": 1283,
    "start_time": "2024-01-13T09:42:47.054Z"
   },
   {
    "duration": 76,
    "start_time": "2024-01-13T09:42:48.339Z"
   },
   {
    "duration": 18,
    "start_time": "2024-01-13T09:42:48.417Z"
   },
   {
    "duration": 12,
    "start_time": "2024-01-13T09:42:48.437Z"
   },
   {
    "duration": 147,
    "start_time": "2024-01-13T09:42:48.451Z"
   },
   {
    "duration": 136,
    "start_time": "2024-01-13T09:52:33.974Z"
   },
   {
    "duration": 121,
    "start_time": "2024-01-13T09:55:02.453Z"
   },
   {
    "duration": 6,
    "start_time": "2024-01-13T09:55:06.999Z"
   },
   {
    "duration": 6,
    "start_time": "2024-01-13T09:56:07.820Z"
   },
   {
    "duration": 11,
    "start_time": "2024-01-13T09:56:12.169Z"
   },
   {
    "duration": 10,
    "start_time": "2024-01-13T09:56:25.107Z"
   },
   {
    "duration": 144,
    "start_time": "2024-01-13T10:03:32.457Z"
   },
   {
    "duration": 158,
    "start_time": "2024-01-13T10:03:56.014Z"
   },
   {
    "duration": 145,
    "start_time": "2024-01-13T10:05:24.962Z"
   },
   {
    "duration": 160,
    "start_time": "2024-01-13T10:05:32.767Z"
   },
   {
    "duration": 143,
    "start_time": "2024-01-13T10:05:48.827Z"
   },
   {
    "duration": 127,
    "start_time": "2024-01-13T10:08:24.897Z"
   },
   {
    "duration": 83,
    "start_time": "2024-01-13T10:10:48.619Z"
   },
   {
    "duration": 244,
    "start_time": "2024-01-13T10:11:05.420Z"
   },
   {
    "duration": 277,
    "start_time": "2024-01-13T10:11:39.317Z"
   },
   {
    "duration": 432,
    "start_time": "2024-01-13T10:12:30.815Z"
   },
   {
    "duration": 307,
    "start_time": "2024-01-13T10:12:38.185Z"
   },
   {
    "duration": 337,
    "start_time": "2024-01-13T10:12:43.105Z"
   },
   {
    "duration": 297,
    "start_time": "2024-01-13T10:12:49.652Z"
   },
   {
    "duration": 301,
    "start_time": "2024-01-13T10:12:55.729Z"
   },
   {
    "duration": 304,
    "start_time": "2024-01-13T10:15:31.084Z"
   },
   {
    "duration": 310,
    "start_time": "2024-01-13T10:17:01.255Z"
   },
   {
    "duration": 312,
    "start_time": "2024-01-13T10:17:09.216Z"
   },
   {
    "duration": 310,
    "start_time": "2024-01-13T10:17:17.812Z"
   },
   {
    "duration": 261,
    "start_time": "2024-01-13T10:18:27.289Z"
   },
   {
    "duration": 157,
    "start_time": "2024-01-13T10:18:46.389Z"
   },
   {
    "duration": 302,
    "start_time": "2024-01-13T10:18:53.843Z"
   },
   {
    "duration": 164,
    "start_time": "2024-01-13T10:19:40.260Z"
   },
   {
    "duration": 255,
    "start_time": "2024-01-13T10:19:50.059Z"
   },
   {
    "duration": 300,
    "start_time": "2024-01-13T10:19:58.485Z"
   },
   {
    "duration": 84,
    "start_time": "2024-01-13T10:20:14.895Z"
   },
   {
    "duration": 298,
    "start_time": "2024-01-13T10:20:19.569Z"
   },
   {
    "duration": 284,
    "start_time": "2024-01-13T10:20:23.843Z"
   },
   {
    "duration": 275,
    "start_time": "2024-01-13T10:20:33.974Z"
   },
   {
    "duration": 305,
    "start_time": "2024-01-13T10:21:00.378Z"
   },
   {
    "duration": 299,
    "start_time": "2024-01-13T10:21:06.292Z"
   },
   {
    "duration": 205,
    "start_time": "2024-01-13T10:21:36.369Z"
   },
   {
    "duration": 19,
    "start_time": "2024-01-13T10:22:13.289Z"
   },
   {
    "duration": 312,
    "start_time": "2024-01-13T10:22:31.172Z"
   },
   {
    "duration": 330,
    "start_time": "2024-01-13T10:23:10.742Z"
   },
   {
    "duration": 455,
    "start_time": "2024-01-13T10:24:31.408Z"
   },
   {
    "duration": 313,
    "start_time": "2024-01-13T10:24:42.550Z"
   },
   {
    "duration": 304,
    "start_time": "2024-01-13T10:25:03.859Z"
   },
   {
    "duration": 281,
    "start_time": "2024-01-13T10:25:37.339Z"
   },
   {
    "duration": 280,
    "start_time": "2024-01-13T10:25:50.262Z"
   },
   {
    "duration": 302,
    "start_time": "2024-01-13T10:26:01.006Z"
   },
   {
    "duration": 275,
    "start_time": "2024-01-13T10:26:04.622Z"
   },
   {
    "duration": 228,
    "start_time": "2024-01-13T10:26:19.776Z"
   },
   {
    "duration": 226,
    "start_time": "2024-01-13T10:26:33.139Z"
   },
   {
    "duration": 230,
    "start_time": "2024-01-13T10:26:40.858Z"
   },
   {
    "duration": 200,
    "start_time": "2024-01-13T10:26:53.234Z"
   },
   {
    "duration": 421,
    "start_time": "2024-01-13T10:27:40.685Z"
   },
   {
    "duration": 317,
    "start_time": "2024-01-13T10:27:56.544Z"
   },
   {
    "duration": 333,
    "start_time": "2024-01-13T10:28:41.133Z"
   },
   {
    "duration": 325,
    "start_time": "2024-01-13T10:28:52.764Z"
   },
   {
    "duration": 343,
    "start_time": "2024-01-13T10:29:56.463Z"
   },
   {
    "duration": 332,
    "start_time": "2024-01-13T10:31:08.639Z"
   },
   {
    "duration": 330,
    "start_time": "2024-01-13T10:34:55.080Z"
   },
   {
    "duration": 345,
    "start_time": "2024-01-13T10:35:00.606Z"
   },
   {
    "duration": 333,
    "start_time": "2024-01-13T10:35:13.706Z"
   },
   {
    "duration": 339,
    "start_time": "2024-01-13T10:36:06.801Z"
   },
   {
    "duration": 331,
    "start_time": "2024-01-13T10:36:19.908Z"
   },
   {
    "duration": 437,
    "start_time": "2024-01-13T10:36:47.481Z"
   },
   {
    "duration": 118,
    "start_time": "2024-01-13T10:43:06.900Z"
   },
   {
    "duration": 107,
    "start_time": "2024-01-13T10:43:13.132Z"
   },
   {
    "duration": 153,
    "start_time": "2024-01-13T10:47:58.770Z"
   },
   {
    "duration": 104,
    "start_time": "2024-01-13T10:49:36.452Z"
   },
   {
    "duration": 76,
    "start_time": "2024-01-13T10:52:32.459Z"
   },
   {
    "duration": 156,
    "start_time": "2024-01-13T10:52:38.400Z"
   },
   {
    "duration": 108,
    "start_time": "2024-01-13T10:52:51.026Z"
   },
   {
    "duration": 6,
    "start_time": "2024-01-13T10:54:07.175Z"
   },
   {
    "duration": 14,
    "start_time": "2024-01-13T10:54:18.090Z"
   },
   {
    "duration": 10,
    "start_time": "2024-01-13T10:55:34.290Z"
   },
   {
    "duration": 7,
    "start_time": "2024-01-13T10:58:42.496Z"
   },
   {
    "duration": 13,
    "start_time": "2024-01-13T10:59:05.267Z"
   },
   {
    "duration": 12,
    "start_time": "2024-01-13T10:59:21.060Z"
   },
   {
    "duration": 335,
    "start_time": "2024-01-13T11:01:56.702Z"
   },
   {
    "duration": 340,
    "start_time": "2024-01-13T11:02:19.276Z"
   },
   {
    "duration": 343,
    "start_time": "2024-01-13T11:02:47.231Z"
   },
   {
    "duration": 343,
    "start_time": "2024-01-13T11:03:12.872Z"
   },
   {
    "duration": 334,
    "start_time": "2024-01-13T11:03:32.891Z"
   },
   {
    "duration": 331,
    "start_time": "2024-01-13T11:03:38.728Z"
   },
   {
    "duration": 2,
    "start_time": "2024-01-13T11:04:34.483Z"
   },
   {
    "duration": 2,
    "start_time": "2024-01-13T11:04:35.945Z"
   },
   {
    "duration": 11,
    "start_time": "2024-01-13T11:08:06.931Z"
   },
   {
    "duration": 1120,
    "start_time": "2024-01-13T11:08:16.490Z"
   },
   {
    "duration": 38,
    "start_time": "2024-01-13T11:08:17.612Z"
   },
   {
    "duration": 13,
    "start_time": "2024-01-13T11:08:17.652Z"
   },
   {
    "duration": 12,
    "start_time": "2024-01-13T11:08:17.667Z"
   },
   {
    "duration": 65,
    "start_time": "2024-01-13T11:08:17.681Z"
   },
   {
    "duration": 162,
    "start_time": "2024-01-13T11:08:17.748Z"
   },
   {
    "duration": 363,
    "start_time": "2024-01-13T11:08:17.912Z"
   },
   {
    "duration": 362,
    "start_time": "2024-01-13T11:08:18.277Z"
   },
   {
    "duration": 9,
    "start_time": "2024-01-13T11:08:18.640Z"
   },
   {
    "duration": 4,
    "start_time": "2024-01-13T11:08:18.651Z"
   },
   {
    "duration": 7,
    "start_time": "2024-01-13T11:08:18.656Z"
   },
   {
    "duration": 7,
    "start_time": "2024-01-13T11:09:25.829Z"
   },
   {
    "duration": 8,
    "start_time": "2024-01-13T11:09:34.726Z"
   },
   {
    "duration": 3,
    "start_time": "2024-01-13T11:14:26.207Z"
   },
   {
    "duration": 95,
    "start_time": "2024-01-13T11:14:38.582Z"
   },
   {
    "duration": 9,
    "start_time": "2024-01-13T11:15:08.243Z"
   },
   {
    "duration": 16,
    "start_time": "2024-01-13T11:15:14.108Z"
   },
   {
    "duration": 14,
    "start_time": "2024-01-13T11:15:32.431Z"
   },
   {
    "duration": 9,
    "start_time": "2024-01-13T11:15:55.406Z"
   },
   {
    "duration": 15,
    "start_time": "2024-01-13T11:16:26.150Z"
   },
   {
    "duration": 10,
    "start_time": "2024-01-13T11:17:40.229Z"
   },
   {
    "duration": 164,
    "start_time": "2024-01-13T11:20:17.041Z"
   },
   {
    "duration": 10,
    "start_time": "2024-01-13T11:20:37.186Z"
   },
   {
    "duration": 11,
    "start_time": "2024-01-13T11:21:16.789Z"
   },
   {
    "duration": 11,
    "start_time": "2024-01-13T11:21:21.659Z"
   },
   {
    "duration": 16,
    "start_time": "2024-01-13T11:21:40.052Z"
   },
   {
    "duration": 11,
    "start_time": "2024-01-13T11:21:57.165Z"
   },
   {
    "duration": 10,
    "start_time": "2024-01-13T11:22:05.215Z"
   },
   {
    "duration": 16,
    "start_time": "2024-01-13T11:22:21.853Z"
   },
   {
    "duration": 324,
    "start_time": "2024-01-13T11:22:29.443Z"
   },
   {
    "duration": 337,
    "start_time": "2024-01-13T11:23:14.861Z"
   },
   {
    "duration": 326,
    "start_time": "2024-01-13T11:23:21.049Z"
   },
   {
    "duration": 1048,
    "start_time": "2024-01-13T11:26:48.170Z"
   },
   {
    "duration": 35,
    "start_time": "2024-01-13T11:26:49.220Z"
   },
   {
    "duration": 13,
    "start_time": "2024-01-13T11:26:49.258Z"
   },
   {
    "duration": 12,
    "start_time": "2024-01-13T11:26:49.273Z"
   },
   {
    "duration": 60,
    "start_time": "2024-01-13T11:26:49.287Z"
   },
   {
    "duration": 157,
    "start_time": "2024-01-13T11:26:49.349Z"
   },
   {
    "duration": 379,
    "start_time": "2024-01-13T11:26:49.508Z"
   },
   {
    "duration": 429,
    "start_time": "2024-01-13T11:26:49.889Z"
   },
   {
    "duration": 344,
    "start_time": "2024-01-13T11:26:50.319Z"
   },
   {
    "duration": 2,
    "start_time": "2024-01-13T11:26:50.665Z"
   },
   {
    "duration": 3,
    "start_time": "2024-01-13T11:26:50.669Z"
   },
   {
    "duration": 12,
    "start_time": "2024-01-13T11:27:47.930Z"
   },
   {
    "duration": 463,
    "start_time": "2024-01-13T11:30:45.067Z"
   },
   {
    "duration": 11,
    "start_time": "2024-01-13T11:31:44.373Z"
   },
   {
    "duration": 258,
    "start_time": "2024-01-13T11:32:40.539Z"
   },
   {
    "duration": 258,
    "start_time": "2024-01-13T11:32:56.172Z"
   },
   {
    "duration": 1078,
    "start_time": "2024-01-13T11:33:17.752Z"
   },
   {
    "duration": 36,
    "start_time": "2024-01-13T11:33:18.832Z"
   },
   {
    "duration": 11,
    "start_time": "2024-01-13T11:33:18.870Z"
   },
   {
    "duration": 12,
    "start_time": "2024-01-13T11:33:18.883Z"
   },
   {
    "duration": 60,
    "start_time": "2024-01-13T11:33:18.896Z"
   },
   {
    "duration": 259,
    "start_time": "2024-01-13T11:33:18.957Z"
   },
   {
    "duration": 347,
    "start_time": "2024-01-13T11:33:19.217Z"
   },
   {
    "duration": 336,
    "start_time": "2024-01-13T11:33:19.566Z"
   },
   {
    "duration": 450,
    "start_time": "2024-01-13T11:33:19.904Z"
   },
   {
    "duration": 1272,
    "start_time": "2024-01-13T11:33:20.357Z"
   },
   {
    "duration": 0,
    "start_time": "2024-01-13T11:33:21.630Z"
   },
   {
    "duration": 2,
    "start_time": "2024-01-13T11:33:26.744Z"
   },
   {
    "duration": 346,
    "start_time": "2024-01-13T11:33:53.446Z"
   },
   {
    "duration": 356,
    "start_time": "2024-01-13T11:34:34.715Z"
   },
   {
    "duration": 437,
    "start_time": "2024-01-13T11:35:04.524Z"
   },
   {
    "duration": 1263,
    "start_time": "2024-01-13T11:35:17.640Z"
   },
   {
    "duration": 17,
    "start_time": "2024-01-13T11:35:26.430Z"
   },
   {
    "duration": 15,
    "start_time": "2024-01-13T11:35:40.806Z"
   },
   {
    "duration": 361,
    "start_time": "2024-01-13T11:38:11.202Z"
   },
   {
    "duration": 425,
    "start_time": "2024-01-13T11:39:50.293Z"
   },
   {
    "duration": 4,
    "start_time": "2024-01-13T11:43:21.819Z"
   },
   {
    "duration": 322,
    "start_time": "2024-01-13T11:43:46.149Z"
   },
   {
    "duration": 329,
    "start_time": "2024-01-13T11:44:10.402Z"
   },
   {
    "duration": 4,
    "start_time": "2024-01-13T11:45:16.716Z"
   },
   {
    "duration": 346,
    "start_time": "2024-01-13T11:45:36.869Z"
   },
   {
    "duration": 341,
    "start_time": "2024-01-13T11:46:34.697Z"
   },
   {
    "duration": 372,
    "start_time": "2024-01-13T11:48:22.131Z"
   },
   {
    "duration": 4,
    "start_time": "2024-01-13T11:49:45.938Z"
   },
   {
    "duration": 6,
    "start_time": "2024-01-13T11:53:26.396Z"
   },
   {
    "duration": 432,
    "start_time": "2024-01-13T11:54:15.139Z"
   },
   {
    "duration": 5,
    "start_time": "2024-01-13T11:55:35.106Z"
   },
   {
    "duration": 184,
    "start_time": "2024-01-13T11:55:48.955Z"
   },
   {
    "duration": 4,
    "start_time": "2024-01-13T11:56:00.819Z"
   },
   {
    "duration": 4,
    "start_time": "2024-01-13T11:56:02.489Z"
   },
   {
    "duration": 159,
    "start_time": "2024-01-13T11:56:06.886Z"
   },
   {
    "duration": 3,
    "start_time": "2024-01-13T11:56:48.063Z"
   },
   {
    "duration": 35,
    "start_time": "2024-01-13T11:56:48.069Z"
   },
   {
    "duration": 12,
    "start_time": "2024-01-13T11:56:48.105Z"
   },
   {
    "duration": 18,
    "start_time": "2024-01-13T11:56:48.119Z"
   },
   {
    "duration": 61,
    "start_time": "2024-01-13T11:56:48.139Z"
   },
   {
    "duration": 5,
    "start_time": "2024-01-13T11:56:48.202Z"
   },
   {
    "duration": 11,
    "start_time": "2024-01-13T11:56:48.208Z"
   },
   {
    "duration": 249,
    "start_time": "2024-01-13T11:56:48.221Z"
   },
   {
    "duration": 174,
    "start_time": "2024-01-13T11:56:48.472Z"
   },
   {
    "duration": 0,
    "start_time": "2024-01-13T11:56:48.648Z"
   },
   {
    "duration": 0,
    "start_time": "2024-01-13T11:56:48.649Z"
   },
   {
    "duration": 0,
    "start_time": "2024-01-13T11:56:48.650Z"
   },
   {
    "duration": 4,
    "start_time": "2024-01-13T11:58:06.373Z"
   },
   {
    "duration": 1215,
    "start_time": "2024-01-13T11:58:10.810Z"
   },
   {
    "duration": 1144,
    "start_time": "2024-01-13T11:58:17.247Z"
   },
   {
    "duration": 36,
    "start_time": "2024-01-13T11:58:18.394Z"
   },
   {
    "duration": 13,
    "start_time": "2024-01-13T11:58:18.431Z"
   },
   {
    "duration": 13,
    "start_time": "2024-01-13T11:58:18.445Z"
   },
   {
    "duration": 77,
    "start_time": "2024-01-13T11:58:18.461Z"
   },
   {
    "duration": 5,
    "start_time": "2024-01-13T11:58:18.539Z"
   },
   {
    "duration": 9,
    "start_time": "2024-01-13T11:58:18.545Z"
   },
   {
    "duration": 565,
    "start_time": "2024-01-13T11:58:18.555Z"
   },
   {
    "duration": 198,
    "start_time": "2024-01-13T11:58:19.121Z"
   },
   {
    "duration": 0,
    "start_time": "2024-01-13T11:58:19.320Z"
   },
   {
    "duration": 0,
    "start_time": "2024-01-13T11:58:19.322Z"
   },
   {
    "duration": 0,
    "start_time": "2024-01-13T11:58:19.323Z"
   },
   {
    "duration": 13,
    "start_time": "2024-01-13T11:58:21.686Z"
   },
   {
    "duration": 18,
    "start_time": "2024-01-13T11:58:31.143Z"
   },
   {
    "duration": 253,
    "start_time": "2024-01-13T11:58:46.745Z"
   },
   {
    "duration": 5,
    "start_time": "2024-01-13T11:59:02.335Z"
   },
   {
    "duration": 178,
    "start_time": "2024-01-13T11:59:44.065Z"
   },
   {
    "duration": 174,
    "start_time": "2024-01-13T12:00:28.517Z"
   },
   {
    "duration": 7,
    "start_time": "2024-01-13T12:00:44.077Z"
   },
   {
    "duration": 6,
    "start_time": "2024-01-13T12:01:11.157Z"
   },
   {
    "duration": 7,
    "start_time": "2024-01-13T12:01:17.701Z"
   },
   {
    "duration": 8,
    "start_time": "2024-01-13T12:01:21.131Z"
   },
   {
    "duration": 229,
    "start_time": "2024-01-13T12:01:34.443Z"
   },
   {
    "duration": 237,
    "start_time": "2024-01-13T12:02:14.230Z"
   },
   {
    "duration": 273,
    "start_time": "2024-01-13T12:02:33.658Z"
   },
   {
    "duration": 317,
    "start_time": "2024-01-13T12:02:48.537Z"
   },
   {
    "duration": 6,
    "start_time": "2024-01-13T12:03:48.252Z"
   },
   {
    "duration": 416,
    "start_time": "2024-01-13T12:04:13.834Z"
   },
   {
    "duration": 327,
    "start_time": "2024-01-13T12:04:50.104Z"
   },
   {
    "duration": 5,
    "start_time": "2024-01-13T12:05:04.605Z"
   },
   {
    "duration": 5,
    "start_time": "2024-01-13T12:05:05.076Z"
   },
   {
    "duration": 333,
    "start_time": "2024-01-13T12:05:19.416Z"
   },
   {
    "duration": 429,
    "start_time": "2024-01-13T12:05:24.334Z"
   },
   {
    "duration": 4,
    "start_time": "2024-01-13T12:05:35.960Z"
   },
   {
    "duration": 371,
    "start_time": "2024-01-13T12:05:41.214Z"
   },
   {
    "duration": 6,
    "start_time": "2024-01-13T12:09:21.838Z"
   },
   {
    "duration": 331,
    "start_time": "2024-01-13T12:09:34.945Z"
   },
   {
    "duration": 328,
    "start_time": "2024-01-13T12:09:44.016Z"
   },
   {
    "duration": 9,
    "start_time": "2024-01-13T12:09:54.500Z"
   },
   {
    "duration": 25,
    "start_time": "2024-01-13T12:10:07.762Z"
   },
   {
    "duration": 19,
    "start_time": "2024-01-13T12:10:15.827Z"
   },
   {
    "duration": 17,
    "start_time": "2024-01-13T12:10:33.397Z"
   },
   {
    "duration": 461,
    "start_time": "2024-01-13T12:11:14.343Z"
   },
   {
    "duration": 90,
    "start_time": "2024-01-13T12:11:36.789Z"
   },
   {
    "duration": 453,
    "start_time": "2024-01-13T12:11:45.504Z"
   },
   {
    "duration": 425,
    "start_time": "2024-01-13T12:11:50.723Z"
   },
   {
    "duration": 346,
    "start_time": "2024-01-13T12:12:02.307Z"
   },
   {
    "duration": 1096,
    "start_time": "2024-01-13T12:12:42.040Z"
   },
   {
    "duration": 35,
    "start_time": "2024-01-13T12:12:43.138Z"
   },
   {
    "duration": 12,
    "start_time": "2024-01-13T12:12:43.174Z"
   },
   {
    "duration": 12,
    "start_time": "2024-01-13T12:12:43.188Z"
   },
   {
    "duration": 67,
    "start_time": "2024-01-13T12:12:43.203Z"
   },
   {
    "duration": 7,
    "start_time": "2024-01-13T12:12:43.272Z"
   },
   {
    "duration": 264,
    "start_time": "2024-01-13T12:12:43.281Z"
   },
   {
    "duration": 367,
    "start_time": "2024-01-13T12:12:43.547Z"
   },
   {
    "duration": 365,
    "start_time": "2024-01-13T12:12:43.916Z"
   },
   {
    "duration": 470,
    "start_time": "2024-01-13T12:12:44.283Z"
   },
   {
    "duration": 396,
    "start_time": "2024-01-13T12:12:44.755Z"
   },
   {
    "duration": 2,
    "start_time": "2024-01-13T12:15:38.948Z"
   },
   {
    "duration": 3,
    "start_time": "2024-01-13T12:15:48.276Z"
   },
   {
    "duration": 491,
    "start_time": "2024-01-13T12:15:56.459Z"
   },
   {
    "duration": 7,
    "start_time": "2024-01-13T12:16:13.773Z"
   },
   {
    "duration": 445,
    "start_time": "2024-01-13T12:16:18.455Z"
   },
   {
    "duration": 1168,
    "start_time": "2024-01-13T12:41:49.843Z"
   },
   {
    "duration": 42,
    "start_time": "2024-01-13T12:41:51.013Z"
   },
   {
    "duration": 12,
    "start_time": "2024-01-13T12:41:51.057Z"
   },
   {
    "duration": 19,
    "start_time": "2024-01-13T12:41:51.071Z"
   },
   {
    "duration": 83,
    "start_time": "2024-01-13T12:41:51.091Z"
   },
   {
    "duration": 7,
    "start_time": "2024-01-13T12:41:51.175Z"
   },
   {
    "duration": 250,
    "start_time": "2024-01-13T12:41:51.183Z"
   },
   {
    "duration": 344,
    "start_time": "2024-01-13T12:41:51.435Z"
   },
   {
    "duration": 329,
    "start_time": "2024-01-13T12:41:51.781Z"
   },
   {
    "duration": 433,
    "start_time": "2024-01-13T12:41:52.114Z"
   },
   {
    "duration": 370,
    "start_time": "2024-01-13T12:41:52.548Z"
   },
   {
    "duration": 422,
    "start_time": "2024-01-13T12:41:52.920Z"
   },
   {
    "duration": 12,
    "start_time": "2024-01-13T12:42:14.052Z"
   },
   {
    "duration": 95,
    "start_time": "2024-01-13T12:43:31.821Z"
   },
   {
    "duration": 23,
    "start_time": "2024-01-13T12:47:13.712Z"
   },
   {
    "duration": 143,
    "start_time": "2024-01-13T12:48:45.753Z"
   },
   {
    "duration": 144,
    "start_time": "2024-01-13T12:49:09.666Z"
   },
   {
    "duration": 325,
    "start_time": "2024-01-13T12:49:19.757Z"
   },
   {
    "duration": 12,
    "start_time": "2024-01-13T12:50:37.292Z"
   },
   {
    "duration": 10,
    "start_time": "2024-01-13T12:52:20.152Z"
   },
   {
    "duration": 6,
    "start_time": "2024-01-13T12:54:01.302Z"
   },
   {
    "duration": 102,
    "start_time": "2024-01-13T12:55:59.305Z"
   },
   {
    "duration": 120,
    "start_time": "2024-01-13T12:56:10.016Z"
   },
   {
    "duration": 192,
    "start_time": "2024-01-13T12:56:16.098Z"
   },
   {
    "duration": 206,
    "start_time": "2024-01-13T12:56:24.697Z"
   },
   {
    "duration": 108,
    "start_time": "2024-01-13T12:56:30.699Z"
   },
   {
    "duration": 186,
    "start_time": "2024-01-13T12:56:38.204Z"
   },
   {
    "duration": 208,
    "start_time": "2024-01-13T12:56:47.702Z"
   },
   {
    "duration": 112,
    "start_time": "2024-01-13T12:57:04.374Z"
   },
   {
    "duration": 107,
    "start_time": "2024-01-13T12:57:24.469Z"
   },
   {
    "duration": 110,
    "start_time": "2024-01-13T12:57:28.160Z"
   },
   {
    "duration": 109,
    "start_time": "2024-01-13T12:58:07.778Z"
   },
   {
    "duration": 275,
    "start_time": "2024-01-13T12:58:20.126Z"
   },
   {
    "duration": 208,
    "start_time": "2024-01-13T12:58:28.487Z"
   },
   {
    "duration": 192,
    "start_time": "2024-01-13T12:58:39.660Z"
   },
   {
    "duration": 213,
    "start_time": "2024-01-13T12:59:18.098Z"
   },
   {
    "duration": 227,
    "start_time": "2024-01-13T12:59:47.251Z"
   },
   {
    "duration": 246,
    "start_time": "2024-01-13T12:59:51.792Z"
   },
   {
    "duration": 295,
    "start_time": "2024-01-13T13:01:33.945Z"
   },
   {
    "duration": 285,
    "start_time": "2024-01-13T13:01:46.230Z"
   },
   {
    "duration": 321,
    "start_time": "2024-01-13T13:02:44.960Z"
   },
   {
    "duration": 322,
    "start_time": "2024-01-13T13:03:32.282Z"
   },
   {
    "duration": 315,
    "start_time": "2024-01-13T13:04:49.473Z"
   },
   {
    "duration": 5,
    "start_time": "2024-01-13T13:05:41.308Z"
   },
   {
    "duration": 395,
    "start_time": "2024-01-13T13:07:17.459Z"
   },
   {
    "duration": 311,
    "start_time": "2024-01-13T13:08:34.453Z"
   },
   {
    "duration": 5,
    "start_time": "2024-01-13T13:09:15.851Z"
   },
   {
    "duration": 4,
    "start_time": "2024-01-13T13:09:21.257Z"
   },
   {
    "duration": 12,
    "start_time": "2024-01-13T13:09:59.955Z"
   },
   {
    "duration": 154,
    "start_time": "2024-01-13T13:11:06.801Z"
   },
   {
    "duration": 359,
    "start_time": "2024-01-13T13:12:44.025Z"
   },
   {
    "duration": 370,
    "start_time": "2024-01-13T13:13:11.908Z"
   },
   {
    "duration": 1140,
    "start_time": "2024-01-13T13:13:18.461Z"
   },
   {
    "duration": 42,
    "start_time": "2024-01-13T13:13:19.603Z"
   },
   {
    "duration": 13,
    "start_time": "2024-01-13T13:13:19.646Z"
   },
   {
    "duration": 11,
    "start_time": "2024-01-13T13:13:19.661Z"
   },
   {
    "duration": 65,
    "start_time": "2024-01-13T13:13:19.674Z"
   },
   {
    "duration": 7,
    "start_time": "2024-01-13T13:13:19.740Z"
   },
   {
    "duration": 283,
    "start_time": "2024-01-13T13:13:19.748Z"
   },
   {
    "duration": 367,
    "start_time": "2024-01-13T13:13:20.032Z"
   },
   {
    "duration": 377,
    "start_time": "2024-01-13T13:13:20.401Z"
   },
   {
    "duration": 474,
    "start_time": "2024-01-13T13:13:20.781Z"
   },
   {
    "duration": 429,
    "start_time": "2024-01-13T13:13:21.257Z"
   },
   {
    "duration": 485,
    "start_time": "2024-01-13T13:13:21.688Z"
   },
   {
    "duration": 321,
    "start_time": "2024-01-13T13:13:22.175Z"
   },
   {
    "duration": 5,
    "start_time": "2024-01-13T13:13:22.497Z"
   },
   {
    "duration": 391,
    "start_time": "2024-01-13T13:13:22.504Z"
   },
   {
    "duration": 423,
    "start_time": "2024-01-13T13:14:19.708Z"
   },
   {
    "duration": 4,
    "start_time": "2024-01-13T13:15:09.574Z"
   },
   {
    "duration": 345,
    "start_time": "2024-01-13T13:15:46.928Z"
   },
   {
    "duration": 152,
    "start_time": "2024-01-13T16:50:32.823Z"
   },
   {
    "duration": 142,
    "start_time": "2024-01-13T16:50:46.094Z"
   },
   {
    "duration": 184,
    "start_time": "2024-01-13T16:51:06.247Z"
   },
   {
    "duration": 13,
    "start_time": "2024-01-13T16:59:08.187Z"
   },
   {
    "duration": 12,
    "start_time": "2024-01-13T17:06:38.933Z"
   },
   {
    "duration": 25,
    "start_time": "2024-01-13T17:06:51.350Z"
   },
   {
    "duration": 30,
    "start_time": "2024-01-13T17:07:21.208Z"
   },
   {
    "duration": 33,
    "start_time": "2024-01-13T17:08:50.149Z"
   },
   {
    "duration": 23,
    "start_time": "2024-01-13T17:09:12.573Z"
   },
   {
    "duration": 108,
    "start_time": "2024-01-13T17:12:25.167Z"
   },
   {
    "duration": 24,
    "start_time": "2024-01-13T17:13:16.900Z"
   },
   {
    "duration": 24,
    "start_time": "2024-01-13T17:13:31.196Z"
   },
   {
    "duration": 12,
    "start_time": "2024-01-13T17:14:01.105Z"
   },
   {
    "duration": 5,
    "start_time": "2024-01-13T17:14:15.211Z"
   },
   {
    "duration": 7,
    "start_time": "2024-01-13T17:14:37.713Z"
   },
   {
    "duration": 13,
    "start_time": "2024-01-13T17:14:54.968Z"
   },
   {
    "duration": 23,
    "start_time": "2024-01-13T17:15:09.783Z"
   },
   {
    "duration": 9,
    "start_time": "2024-01-13T17:25:44.048Z"
   },
   {
    "duration": 12,
    "start_time": "2024-01-13T17:26:00.837Z"
   },
   {
    "duration": 22,
    "start_time": "2024-01-13T17:26:33.593Z"
   },
   {
    "duration": 12,
    "start_time": "2024-01-13T17:27:06.208Z"
   },
   {
    "duration": 13,
    "start_time": "2024-01-13T17:27:26.179Z"
   },
   {
    "duration": 17,
    "start_time": "2024-01-13T17:27:35.088Z"
   },
   {
    "duration": 12,
    "start_time": "2024-01-13T17:28:00.058Z"
   },
   {
    "duration": 10,
    "start_time": "2024-01-13T17:28:25.329Z"
   },
   {
    "duration": 13,
    "start_time": "2024-01-13T17:28:50.902Z"
   },
   {
    "duration": 1348,
    "start_time": "2024-01-13T17:29:15.122Z"
   },
   {
    "duration": 28,
    "start_time": "2024-01-13T17:29:21.565Z"
   },
   {
    "duration": 10,
    "start_time": "2024-01-13T17:29:31.150Z"
   },
   {
    "duration": 10,
    "start_time": "2024-01-13T17:33:18.824Z"
   },
   {
    "duration": 8,
    "start_time": "2024-01-13T17:33:32.239Z"
   },
   {
    "duration": 13,
    "start_time": "2024-01-13T17:34:55.132Z"
   },
   {
    "duration": 13,
    "start_time": "2024-01-13T17:35:15.791Z"
   },
   {
    "duration": 12,
    "start_time": "2024-01-13T17:35:46.849Z"
   },
   {
    "duration": 14,
    "start_time": "2024-01-13T17:36:58.403Z"
   },
   {
    "duration": 19,
    "start_time": "2024-01-13T17:40:28.066Z"
   },
   {
    "duration": 18,
    "start_time": "2024-01-13T17:41:16.589Z"
   },
   {
    "duration": 22,
    "start_time": "2024-01-13T17:42:23.806Z"
   },
   {
    "duration": 34,
    "start_time": "2024-01-13T17:42:50.141Z"
   },
   {
    "duration": 13,
    "start_time": "2024-01-13T17:43:34.690Z"
   },
   {
    "duration": 36,
    "start_time": "2024-01-13T17:50:14.904Z"
   },
   {
    "duration": 35,
    "start_time": "2024-01-13T17:50:47.784Z"
   },
   {
    "duration": 33,
    "start_time": "2024-01-13T17:52:53.062Z"
   },
   {
    "duration": 33,
    "start_time": "2024-01-13T17:53:50.661Z"
   },
   {
    "duration": 35,
    "start_time": "2024-01-13T17:54:35.736Z"
   },
   {
    "duration": 35,
    "start_time": "2024-01-13T17:56:41.106Z"
   },
   {
    "duration": 29,
    "start_time": "2024-01-13T17:57:22.438Z"
   },
   {
    "duration": 11,
    "start_time": "2024-01-13T17:58:19.308Z"
   },
   {
    "duration": 72,
    "start_time": "2024-01-13T17:58:44.749Z"
   },
   {
    "duration": 75,
    "start_time": "2024-01-13T17:58:48.090Z"
   },
   {
    "duration": 13,
    "start_time": "2024-01-13T17:58:50.877Z"
   },
   {
    "duration": 13,
    "start_time": "2024-01-13T17:58:55.085Z"
   },
   {
    "duration": 14,
    "start_time": "2024-01-13T17:59:01.269Z"
   },
   {
    "duration": 11,
    "start_time": "2024-01-13T18:03:59.700Z"
   },
   {
    "duration": 233,
    "start_time": "2024-01-13T18:04:49.936Z"
   },
   {
    "duration": 40,
    "start_time": "2024-01-13T18:04:59.269Z"
   },
   {
    "duration": 69,
    "start_time": "2024-01-13T18:08:35.073Z"
   },
   {
    "duration": 63,
    "start_time": "2024-01-13T18:08:42.296Z"
   },
   {
    "duration": 79,
    "start_time": "2024-01-13T18:08:55.288Z"
   },
   {
    "duration": 926,
    "start_time": "2024-01-13T18:09:08.993Z"
   },
   {
    "duration": 23,
    "start_time": "2024-01-13T18:09:48.724Z"
   },
   {
    "duration": 8,
    "start_time": "2024-01-13T18:09:54.423Z"
   },
   {
    "duration": 925,
    "start_time": "2024-01-13T18:10:32.742Z"
   },
   {
    "duration": 947,
    "start_time": "2024-01-13T18:12:32.301Z"
   },
   {
    "duration": 1304,
    "start_time": "2024-01-13T18:13:51.611Z"
   },
   {
    "duration": 15,
    "start_time": "2024-01-13T18:14:04.721Z"
   },
   {
    "duration": 5,
    "start_time": "2024-01-13T18:14:07.306Z"
   },
   {
    "duration": 16,
    "start_time": "2024-01-13T18:14:18.276Z"
   },
   {
    "duration": 16,
    "start_time": "2024-01-13T18:14:21.525Z"
   },
   {
    "duration": 5,
    "start_time": "2024-01-13T18:14:24.990Z"
   },
   {
    "duration": 17,
    "start_time": "2024-01-13T18:14:47.514Z"
   },
   {
    "duration": 5,
    "start_time": "2024-01-13T18:14:49.815Z"
   },
   {
    "duration": 11,
    "start_time": "2024-01-13T18:15:42.826Z"
   },
   {
    "duration": 1467,
    "start_time": "2024-01-13T18:17:49.695Z"
   },
   {
    "duration": 350,
    "start_time": "2024-01-13T18:18:05.520Z"
   },
   {
    "duration": 318,
    "start_time": "2024-01-13T18:18:35.082Z"
   },
   {
    "duration": 12,
    "start_time": "2024-01-13T18:19:21.658Z"
   },
   {
    "duration": 12,
    "start_time": "2024-01-13T18:19:32.754Z"
   },
   {
    "duration": 15,
    "start_time": "2024-01-13T18:22:57.304Z"
   },
   {
    "duration": 8,
    "start_time": "2024-01-13T18:23:26.771Z"
   },
   {
    "duration": 17,
    "start_time": "2024-01-13T18:23:30.813Z"
   },
   {
    "duration": 17,
    "start_time": "2024-01-13T18:24:59.225Z"
   },
   {
    "duration": 8,
    "start_time": "2024-01-13T18:25:05.215Z"
   },
   {
    "duration": 18,
    "start_time": "2024-01-13T18:25:42.870Z"
   },
   {
    "duration": 19,
    "start_time": "2024-01-13T18:25:44.812Z"
   },
   {
    "duration": 31,
    "start_time": "2024-01-13T18:26:11.397Z"
   },
   {
    "duration": 9,
    "start_time": "2024-01-13T18:28:39.922Z"
   },
   {
    "duration": 23,
    "start_time": "2024-01-13T18:28:51.731Z"
   },
   {
    "duration": 12,
    "start_time": "2024-01-13T18:29:04.949Z"
   },
   {
    "duration": 13,
    "start_time": "2024-01-13T18:34:12.777Z"
   },
   {
    "duration": 17,
    "start_time": "2024-01-13T18:35:12.897Z"
   },
   {
    "duration": 32,
    "start_time": "2024-01-13T18:35:44.058Z"
   },
   {
    "duration": 26,
    "start_time": "2024-01-13T18:35:47.053Z"
   },
   {
    "duration": 1086,
    "start_time": "2024-01-13T18:45:19.939Z"
   },
   {
    "duration": 35,
    "start_time": "2024-01-13T18:45:21.027Z"
   },
   {
    "duration": 13,
    "start_time": "2024-01-13T18:45:21.063Z"
   },
   {
    "duration": 12,
    "start_time": "2024-01-13T18:45:21.078Z"
   },
   {
    "duration": 62,
    "start_time": "2024-01-13T18:45:21.092Z"
   },
   {
    "duration": 6,
    "start_time": "2024-01-13T18:45:21.156Z"
   },
   {
    "duration": 259,
    "start_time": "2024-01-13T18:45:21.164Z"
   },
   {
    "duration": 356,
    "start_time": "2024-01-13T18:45:21.425Z"
   },
   {
    "duration": 354,
    "start_time": "2024-01-13T18:45:21.782Z"
   },
   {
    "duration": 443,
    "start_time": "2024-01-13T18:45:22.138Z"
   },
   {
    "duration": 396,
    "start_time": "2024-01-13T18:45:22.583Z"
   },
   {
    "duration": 462,
    "start_time": "2024-01-13T18:45:22.980Z"
   },
   {
    "duration": 297,
    "start_time": "2024-01-13T18:45:23.444Z"
   },
   {
    "duration": 5,
    "start_time": "2024-01-13T18:45:23.742Z"
   },
   {
    "duration": 412,
    "start_time": "2024-01-13T18:45:23.748Z"
   },
   {
    "duration": 261,
    "start_time": "2024-01-13T18:45:24.162Z"
   },
   {
    "duration": 5,
    "start_time": "2024-01-13T18:45:24.424Z"
   },
   {
    "duration": 26,
    "start_time": "2024-01-13T18:45:24.430Z"
   },
   {
    "duration": 16,
    "start_time": "2024-01-13T18:45:24.457Z"
   },
   {
    "duration": 47,
    "start_time": "2024-01-13T18:45:24.475Z"
   },
   {
    "duration": 13,
    "start_time": "2024-01-13T18:48:58.767Z"
   },
   {
    "duration": 70,
    "start_time": "2024-01-13T18:49:25.168Z"
   },
   {
    "duration": 74,
    "start_time": "2024-01-13T18:49:30.745Z"
   },
   {
    "duration": 7,
    "start_time": "2024-01-13T18:50:01.909Z"
   },
   {
    "duration": 10,
    "start_time": "2024-01-13T18:50:06.497Z"
   },
   {
    "duration": 10,
    "start_time": "2024-01-13T18:50:25.284Z"
   },
   {
    "duration": 10,
    "start_time": "2024-01-13T18:50:31.841Z"
   },
   {
    "duration": 8,
    "start_time": "2024-01-13T18:50:42.072Z"
   },
   {
    "duration": 10,
    "start_time": "2024-01-13T18:51:55.481Z"
   },
   {
    "duration": 9,
    "start_time": "2024-01-13T18:51:59.152Z"
   },
   {
    "duration": 9,
    "start_time": "2024-01-13T18:52:13.772Z"
   },
   {
    "duration": 10,
    "start_time": "2024-01-13T18:52:17.461Z"
   },
   {
    "duration": 99,
    "start_time": "2024-01-13T18:54:23.494Z"
   },
   {
    "duration": 14,
    "start_time": "2024-01-13T18:54:26.534Z"
   },
   {
    "duration": 15,
    "start_time": "2024-01-13T18:55:10.894Z"
   },
   {
    "duration": 18,
    "start_time": "2024-01-13T18:57:03.524Z"
   },
   {
    "duration": 13,
    "start_time": "2024-01-13T18:57:23.079Z"
   },
   {
    "duration": 13,
    "start_time": "2024-01-13T18:57:25.217Z"
   },
   {
    "duration": 1175,
    "start_time": "2024-01-13T18:57:26.146Z"
   },
   {
    "duration": 14,
    "start_time": "2024-01-13T18:57:33.821Z"
   },
   {
    "duration": 20,
    "start_time": "2024-01-13T18:57:41.189Z"
   },
   {
    "duration": 19,
    "start_time": "2024-01-13T18:57:45.126Z"
   },
   {
    "duration": 21,
    "start_time": "2024-01-13T18:58:20.501Z"
   },
   {
    "duration": 21,
    "start_time": "2024-01-13T19:00:06.676Z"
   },
   {
    "duration": 23,
    "start_time": "2024-01-13T19:00:25.111Z"
   },
   {
    "duration": 26,
    "start_time": "2024-01-13T19:01:52.805Z"
   },
   {
    "duration": 41,
    "start_time": "2024-01-13T19:03:35.693Z"
   },
   {
    "duration": 35,
    "start_time": "2024-01-13T19:05:26.562Z"
   },
   {
    "duration": 29,
    "start_time": "2024-01-13T19:05:58.655Z"
   },
   {
    "duration": 38,
    "start_time": "2024-01-13T19:05:59.303Z"
   },
   {
    "duration": 1318,
    "start_time": "2024-01-13T19:07:23.409Z"
   },
   {
    "duration": 1253,
    "start_time": "2024-01-13T19:07:32.074Z"
   },
   {
    "duration": 9,
    "start_time": "2024-01-13T19:08:17.586Z"
   },
   {
    "duration": 1228,
    "start_time": "2024-01-13T19:09:52.875Z"
   },
   {
    "duration": 1206,
    "start_time": "2024-01-13T19:10:47.198Z"
   },
   {
    "duration": 10,
    "start_time": "2024-01-13T19:10:55.079Z"
   },
   {
    "duration": 1157,
    "start_time": "2024-01-13T19:10:58.071Z"
   },
   {
    "duration": 30,
    "start_time": "2024-01-13T19:11:08.280Z"
   },
   {
    "duration": 1169,
    "start_time": "2024-01-13T19:11:11.132Z"
   },
   {
    "duration": 7,
    "start_time": "2024-01-13T19:11:21.813Z"
   },
   {
    "duration": 8,
    "start_time": "2024-01-13T19:11:27.546Z"
   },
   {
    "duration": 8,
    "start_time": "2024-01-13T19:11:31.014Z"
   },
   {
    "duration": 31,
    "start_time": "2024-01-13T19:12:06.796Z"
   },
   {
    "duration": 9,
    "start_time": "2024-01-13T19:12:09.392Z"
   },
   {
    "duration": 1164,
    "start_time": "2024-01-13T19:12:11.478Z"
   },
   {
    "duration": 40,
    "start_time": "2024-01-13T19:12:20.982Z"
   },
   {
    "duration": 8,
    "start_time": "2024-01-13T19:12:25.886Z"
   },
   {
    "duration": 13,
    "start_time": "2024-01-13T19:12:50.506Z"
   },
   {
    "duration": 21,
    "start_time": "2024-01-13T19:13:43.450Z"
   },
   {
    "duration": 3,
    "start_time": "2024-01-13T19:14:06.403Z"
   },
   {
    "duration": 34,
    "start_time": "2024-01-13T19:14:13.380Z"
   },
   {
    "duration": 10,
    "start_time": "2024-01-13T19:18:02.845Z"
   },
   {
    "duration": 1074,
    "start_time": "2024-01-13T19:19:06.335Z"
   },
   {
    "duration": 35,
    "start_time": "2024-01-13T19:19:07.410Z"
   },
   {
    "duration": 11,
    "start_time": "2024-01-13T19:19:07.447Z"
   },
   {
    "duration": 12,
    "start_time": "2024-01-13T19:19:07.459Z"
   },
   {
    "duration": 64,
    "start_time": "2024-01-13T19:19:07.472Z"
   },
   {
    "duration": 7,
    "start_time": "2024-01-13T19:19:07.537Z"
   },
   {
    "duration": 252,
    "start_time": "2024-01-13T19:19:07.546Z"
   },
   {
    "duration": 363,
    "start_time": "2024-01-13T19:19:07.799Z"
   },
   {
    "duration": 339,
    "start_time": "2024-01-13T19:19:08.164Z"
   },
   {
    "duration": 442,
    "start_time": "2024-01-13T19:19:08.505Z"
   },
   {
    "duration": 386,
    "start_time": "2024-01-13T19:19:08.949Z"
   },
   {
    "duration": 424,
    "start_time": "2024-01-13T19:19:09.336Z"
   },
   {
    "duration": 299,
    "start_time": "2024-01-13T19:19:09.762Z"
   },
   {
    "duration": 5,
    "start_time": "2024-01-13T19:19:10.062Z"
   },
   {
    "duration": 355,
    "start_time": "2024-01-13T19:19:10.068Z"
   },
   {
    "duration": 266,
    "start_time": "2024-01-13T19:19:10.425Z"
   },
   {
    "duration": 5,
    "start_time": "2024-01-13T19:19:10.692Z"
   },
   {
    "duration": 40,
    "start_time": "2024-01-13T19:19:10.699Z"
   },
   {
    "duration": 37,
    "start_time": "2024-01-13T19:19:10.741Z"
   },
   {
    "duration": 58,
    "start_time": "2024-01-13T19:19:10.780Z"
   },
   {
    "duration": 12,
    "start_time": "2024-01-13T19:19:10.840Z"
   },
   {
    "duration": 8,
    "start_time": "2024-01-13T19:22:53.176Z"
   },
   {
    "duration": 8,
    "start_time": "2024-01-13T19:23:26.474Z"
   },
   {
    "duration": 101,
    "start_time": "2024-01-13T19:23:27.051Z"
   },
   {
    "duration": 9,
    "start_time": "2024-01-13T19:23:31.993Z"
   },
   {
    "duration": 34,
    "start_time": "2024-01-13T19:23:36.956Z"
   },
   {
    "duration": 11,
    "start_time": "2024-01-13T19:23:42.073Z"
   },
   {
    "duration": 33,
    "start_time": "2024-01-13T19:26:33.988Z"
   },
   {
    "duration": 34,
    "start_time": "2024-01-13T19:26:51.703Z"
   },
   {
    "duration": 11,
    "start_time": "2024-01-13T19:26:58.958Z"
   },
   {
    "duration": 17,
    "start_time": "2024-01-13T19:27:28.144Z"
   },
   {
    "duration": 14,
    "start_time": "2024-01-13T19:28:44.570Z"
   },
   {
    "duration": 38,
    "start_time": "2024-01-13T19:29:01.058Z"
   },
   {
    "duration": 11,
    "start_time": "2024-01-13T19:29:03.912Z"
   },
   {
    "duration": 48,
    "start_time": "2024-01-13T19:30:20.849Z"
   },
   {
    "duration": 10,
    "start_time": "2024-01-13T19:31:51.732Z"
   },
   {
    "duration": 6,
    "start_time": "2024-01-13T19:42:18.441Z"
   },
   {
    "duration": 6,
    "start_time": "2024-01-13T19:42:33.756Z"
   },
   {
    "duration": 41,
    "start_time": "2024-01-13T19:43:29.900Z"
   },
   {
    "duration": 81,
    "start_time": "2024-01-13T19:44:25.481Z"
   },
   {
    "duration": 73,
    "start_time": "2024-01-13T19:45:12.054Z"
   },
   {
    "duration": 80,
    "start_time": "2024-01-13T19:45:26.210Z"
   },
   {
    "duration": 79,
    "start_time": "2024-01-13T19:45:41.019Z"
   },
   {
    "duration": 77,
    "start_time": "2024-01-13T19:46:21.156Z"
   },
   {
    "duration": 82,
    "start_time": "2024-01-13T19:46:42.461Z"
   },
   {
    "duration": 29,
    "start_time": "2024-01-13T19:47:07.017Z"
   },
   {
    "duration": 88,
    "start_time": "2024-01-13T19:47:24.251Z"
   },
   {
    "duration": 56,
    "start_time": "2024-01-13T19:47:41.170Z"
   },
   {
    "duration": 95,
    "start_time": "2024-01-13T19:47:52.520Z"
   },
   {
    "duration": 96,
    "start_time": "2024-01-13T19:48:04.332Z"
   },
   {
    "duration": 44,
    "start_time": "2024-01-13T19:52:09.255Z"
   },
   {
    "duration": 42,
    "start_time": "2024-01-13T19:52:23.418Z"
   },
   {
    "duration": 41,
    "start_time": "2024-01-13T19:52:26.907Z"
   },
   {
    "duration": 42,
    "start_time": "2024-01-13T19:53:09.374Z"
   },
   {
    "duration": 41,
    "start_time": "2024-01-13T19:53:17.753Z"
   },
   {
    "duration": 45,
    "start_time": "2024-01-13T19:54:11.318Z"
   },
   {
    "duration": 10,
    "start_time": "2024-01-13T19:55:18.046Z"
   },
   {
    "duration": 12,
    "start_time": "2024-01-13T19:55:59.827Z"
   },
   {
    "duration": 14,
    "start_time": "2024-01-13T19:56:31.141Z"
   },
   {
    "duration": 71,
    "start_time": "2024-01-13T19:58:01.799Z"
   },
   {
    "duration": 5,
    "start_time": "2024-01-13T19:58:10.811Z"
   },
   {
    "duration": 107,
    "start_time": "2024-01-13T19:58:15.053Z"
   },
   {
    "duration": 8,
    "start_time": "2024-01-13T19:58:33.360Z"
   },
   {
    "duration": 9,
    "start_time": "2024-01-13T19:59:39.984Z"
   },
   {
    "duration": 10,
    "start_time": "2024-01-13T19:59:43.176Z"
   },
   {
    "duration": 13,
    "start_time": "2024-01-13T20:02:41.159Z"
   },
   {
    "duration": 5,
    "start_time": "2024-01-13T20:04:52.942Z"
   },
   {
    "duration": 13,
    "start_time": "2024-01-13T20:05:00.089Z"
   },
   {
    "duration": 18,
    "start_time": "2024-01-13T20:06:28.121Z"
   },
   {
    "duration": 19,
    "start_time": "2024-01-13T20:07:34.360Z"
   },
   {
    "duration": 26,
    "start_time": "2024-01-13T20:07:37.485Z"
   },
   {
    "duration": 3,
    "start_time": "2024-01-13T20:08:08.523Z"
   },
   {
    "duration": 37,
    "start_time": "2024-01-13T20:08:08.528Z"
   },
   {
    "duration": 11,
    "start_time": "2024-01-13T20:08:08.566Z"
   },
   {
    "duration": 13,
    "start_time": "2024-01-13T20:08:08.579Z"
   },
   {
    "duration": 62,
    "start_time": "2024-01-13T20:08:08.593Z"
   },
   {
    "duration": 7,
    "start_time": "2024-01-13T20:08:08.656Z"
   },
   {
    "duration": 255,
    "start_time": "2024-01-13T20:08:08.665Z"
   },
   {
    "duration": 329,
    "start_time": "2024-01-13T20:08:08.922Z"
   },
   {
    "duration": 358,
    "start_time": "2024-01-13T20:08:09.253Z"
   },
   {
    "duration": 438,
    "start_time": "2024-01-13T20:08:09.613Z"
   },
   {
    "duration": 373,
    "start_time": "2024-01-13T20:08:10.053Z"
   },
   {
    "duration": 445,
    "start_time": "2024-01-13T20:08:10.428Z"
   },
   {
    "duration": 348,
    "start_time": "2024-01-13T20:08:10.875Z"
   },
   {
    "duration": 5,
    "start_time": "2024-01-13T20:08:11.224Z"
   },
   {
    "duration": 345,
    "start_time": "2024-01-13T20:08:11.231Z"
   },
   {
    "duration": 276,
    "start_time": "2024-01-13T20:08:11.577Z"
   },
   {
    "duration": 4,
    "start_time": "2024-01-13T20:08:11.855Z"
   },
   {
    "duration": 61,
    "start_time": "2024-01-13T20:08:11.861Z"
   },
   {
    "duration": 2,
    "start_time": "2024-01-13T20:08:11.924Z"
   },
   {
    "duration": 33,
    "start_time": "2024-01-13T20:08:11.927Z"
   },
   {
    "duration": 71,
    "start_time": "2024-01-13T20:08:11.961Z"
   },
   {
    "duration": 0,
    "start_time": "2024-01-13T20:08:12.033Z"
   },
   {
    "duration": 13,
    "start_time": "2024-01-13T20:11:23.823Z"
   },
   {
    "duration": 42,
    "start_time": "2024-01-13T20:16:29.357Z"
   },
   {
    "duration": 1079,
    "start_time": "2024-01-13T20:16:34.643Z"
   },
   {
    "duration": 36,
    "start_time": "2024-01-13T20:16:35.724Z"
   },
   {
    "duration": 12,
    "start_time": "2024-01-13T20:16:35.761Z"
   },
   {
    "duration": 14,
    "start_time": "2024-01-13T20:16:35.775Z"
   },
   {
    "duration": 74,
    "start_time": "2024-01-13T20:16:35.791Z"
   },
   {
    "duration": 7,
    "start_time": "2024-01-13T20:16:35.866Z"
   },
   {
    "duration": 261,
    "start_time": "2024-01-13T20:16:35.874Z"
   },
   {
    "duration": 346,
    "start_time": "2024-01-13T20:16:36.136Z"
   },
   {
    "duration": 342,
    "start_time": "2024-01-13T20:16:36.483Z"
   },
   {
    "duration": 413,
    "start_time": "2024-01-13T20:16:36.828Z"
   },
   {
    "duration": 380,
    "start_time": "2024-01-13T20:16:37.243Z"
   },
   {
    "duration": 416,
    "start_time": "2024-01-13T20:16:37.624Z"
   },
   {
    "duration": 327,
    "start_time": "2024-01-13T20:16:38.042Z"
   },
   {
    "duration": 5,
    "start_time": "2024-01-13T20:16:38.370Z"
   },
   {
    "duration": 333,
    "start_time": "2024-01-13T20:16:38.376Z"
   },
   {
    "duration": 255,
    "start_time": "2024-01-13T20:16:38.710Z"
   },
   {
    "duration": 5,
    "start_time": "2024-01-13T20:16:38.967Z"
   },
   {
    "duration": 62,
    "start_time": "2024-01-13T20:16:38.974Z"
   },
   {
    "duration": 2,
    "start_time": "2024-01-13T20:16:39.038Z"
   },
   {
    "duration": 89,
    "start_time": "2024-01-13T20:16:39.042Z"
   },
   {
    "duration": 0,
    "start_time": "2024-01-13T20:16:39.133Z"
   },
   {
    "duration": 13,
    "start_time": "2024-01-13T20:20:30.313Z"
   },
   {
    "duration": 8,
    "start_time": "2024-01-13T20:21:07.342Z"
   },
   {
    "duration": 8,
    "start_time": "2024-01-13T20:21:16.968Z"
   },
   {
    "duration": 5,
    "start_time": "2024-01-13T20:21:49.251Z"
   },
   {
    "duration": 5,
    "start_time": "2024-01-13T20:21:59.512Z"
   },
   {
    "duration": 40,
    "start_time": "2024-01-13T20:27:03.629Z"
   },
   {
    "duration": 41,
    "start_time": "2024-01-13T20:27:06.499Z"
   },
   {
    "duration": 11,
    "start_time": "2024-01-13T20:28:37.410Z"
   },
   {
    "duration": 93,
    "start_time": "2024-01-13T20:30:19.684Z"
   },
   {
    "duration": 12,
    "start_time": "2024-01-13T20:30:23.554Z"
   },
   {
    "duration": 15,
    "start_time": "2024-01-13T20:30:44.638Z"
   },
   {
    "duration": 7,
    "start_time": "2024-01-13T20:31:03.199Z"
   },
   {
    "duration": 6,
    "start_time": "2024-01-13T20:31:47.067Z"
   },
   {
    "duration": 72,
    "start_time": "2024-01-13T20:33:17.285Z"
   },
   {
    "duration": 14,
    "start_time": "2024-01-13T20:33:34.455Z"
   },
   {
    "duration": 11,
    "start_time": "2024-01-13T20:34:10.165Z"
   },
   {
    "duration": 16,
    "start_time": "2024-01-13T20:34:19.781Z"
   },
   {
    "duration": 70,
    "start_time": "2024-01-13T20:34:57.743Z"
   },
   {
    "duration": 15,
    "start_time": "2024-01-13T20:35:04.339Z"
   },
   {
    "duration": 1143,
    "start_time": "2024-01-13T20:35:30.879Z"
   },
   {
    "duration": 18,
    "start_time": "2024-01-13T20:35:52.801Z"
   },
   {
    "duration": 10,
    "start_time": "2024-01-13T20:36:27.559Z"
   },
   {
    "duration": 11,
    "start_time": "2024-01-13T20:36:42.559Z"
   },
   {
    "duration": 41,
    "start_time": "2024-01-13T20:38:38.034Z"
   },
   {
    "duration": 5,
    "start_time": "2024-01-13T20:40:00.742Z"
   },
   {
    "duration": 4,
    "start_time": "2024-01-13T20:40:08.945Z"
   },
   {
    "duration": 12,
    "start_time": "2024-01-13T20:45:01.523Z"
   },
   {
    "duration": 5,
    "start_time": "2024-01-13T20:45:41.300Z"
   },
   {
    "duration": 13,
    "start_time": "2024-01-13T20:45:46.953Z"
   },
   {
    "duration": 7,
    "start_time": "2024-01-13T20:48:20.861Z"
   },
   {
    "duration": 8,
    "start_time": "2024-01-13T20:48:49.525Z"
   },
   {
    "duration": 10,
    "start_time": "2024-01-13T20:49:21.525Z"
   },
   {
    "duration": 7,
    "start_time": "2024-01-13T20:49:24.300Z"
   },
   {
    "duration": 14,
    "start_time": "2024-01-13T20:49:36.984Z"
   },
   {
    "duration": 5,
    "start_time": "2024-01-13T20:49:49.195Z"
   },
   {
    "duration": 31,
    "start_time": "2024-01-13T20:50:24.557Z"
   },
   {
    "duration": 26,
    "start_time": "2024-01-13T20:50:54.308Z"
   },
   {
    "duration": 29,
    "start_time": "2024-01-13T20:51:57.075Z"
   },
   {
    "duration": 5,
    "start_time": "2024-01-13T20:52:06.685Z"
   },
   {
    "duration": 14,
    "start_time": "2024-01-13T20:52:11.205Z"
   },
   {
    "duration": 15,
    "start_time": "2024-01-13T20:53:13.991Z"
   },
   {
    "duration": 14,
    "start_time": "2024-01-13T20:53:29.801Z"
   },
   {
    "duration": 13,
    "start_time": "2024-01-13T20:55:51.788Z"
   },
   {
    "duration": 35,
    "start_time": "2024-01-13T20:56:48.460Z"
   },
   {
    "duration": 48,
    "start_time": "2024-01-14T10:46:04.487Z"
   },
   {
    "duration": 1381,
    "start_time": "2024-01-14T10:46:08.114Z"
   },
   {
    "duration": 69,
    "start_time": "2024-01-14T10:46:09.497Z"
   },
   {
    "duration": 13,
    "start_time": "2024-01-14T10:46:09.568Z"
   },
   {
    "duration": 12,
    "start_time": "2024-01-14T10:46:09.582Z"
   },
   {
    "duration": 141,
    "start_time": "2024-01-14T10:46:09.597Z"
   },
   {
    "duration": 8,
    "start_time": "2024-01-14T10:46:09.739Z"
   },
   {
    "duration": 267,
    "start_time": "2024-01-14T10:46:09.749Z"
   },
   {
    "duration": 352,
    "start_time": "2024-01-14T10:46:10.018Z"
   },
   {
    "duration": 355,
    "start_time": "2024-01-14T10:46:10.371Z"
   },
   {
    "duration": 509,
    "start_time": "2024-01-14T10:46:10.727Z"
   },
   {
    "duration": 560,
    "start_time": "2024-01-14T10:46:11.238Z"
   },
   {
    "duration": 844,
    "start_time": "2024-01-14T10:46:11.801Z"
   },
   {
    "duration": 467,
    "start_time": "2024-01-14T10:46:12.647Z"
   },
   {
    "duration": 5,
    "start_time": "2024-01-14T10:46:13.116Z"
   },
   {
    "duration": 340,
    "start_time": "2024-01-14T10:46:13.122Z"
   },
   {
    "duration": 263,
    "start_time": "2024-01-14T10:46:13.464Z"
   },
   {
    "duration": 15,
    "start_time": "2024-01-14T10:46:13.728Z"
   },
   {
    "duration": 61,
    "start_time": "2024-01-14T10:46:13.744Z"
   },
   {
    "duration": 12,
    "start_time": "2024-01-14T10:46:13.806Z"
   },
   {
    "duration": 31,
    "start_time": "2024-01-14T10:46:13.820Z"
   },
   {
    "duration": 14,
    "start_time": "2024-01-14T10:46:13.853Z"
   },
   {
    "duration": 37,
    "start_time": "2024-01-14T10:46:13.869Z"
   },
   {
    "duration": 35,
    "start_time": "2024-01-14T11:13:39.039Z"
   },
   {
    "duration": 186,
    "start_time": "2024-01-14T11:13:48.295Z"
   },
   {
    "duration": 24,
    "start_time": "2024-01-14T11:14:02.450Z"
   },
   {
    "duration": 44,
    "start_time": "2024-01-14T11:14:08.246Z"
   },
   {
    "duration": 27,
    "start_time": "2024-01-14T11:14:12.398Z"
   },
   {
    "duration": 12,
    "start_time": "2024-01-14T11:16:49.769Z"
   },
   {
    "duration": 153,
    "start_time": "2024-01-14T11:17:33.026Z"
   },
   {
    "duration": 11,
    "start_time": "2024-01-14T11:17:37.817Z"
   },
   {
    "duration": 9,
    "start_time": "2024-01-14T11:17:43.433Z"
   },
   {
    "duration": 11,
    "start_time": "2024-01-14T11:20:50.051Z"
   },
   {
    "duration": 4,
    "start_time": "2024-01-14T11:20:52.932Z"
   },
   {
    "duration": 5,
    "start_time": "2024-01-14T11:21:37.132Z"
   },
   {
    "duration": 6,
    "start_time": "2024-01-14T11:21:39.649Z"
   },
   {
    "duration": 1220,
    "start_time": "2024-01-14T11:21:56.255Z"
   },
   {
    "duration": 34,
    "start_time": "2024-01-14T11:21:57.477Z"
   },
   {
    "duration": 12,
    "start_time": "2024-01-14T11:21:57.513Z"
   },
   {
    "duration": 11,
    "start_time": "2024-01-14T11:21:57.527Z"
   },
   {
    "duration": 59,
    "start_time": "2024-01-14T11:21:57.540Z"
   },
   {
    "duration": 7,
    "start_time": "2024-01-14T11:21:57.600Z"
   },
   {
    "duration": 313,
    "start_time": "2024-01-14T11:21:57.608Z"
   },
   {
    "duration": 387,
    "start_time": "2024-01-14T11:21:57.923Z"
   },
   {
    "duration": 350,
    "start_time": "2024-01-14T11:21:58.311Z"
   },
   {
    "duration": 465,
    "start_time": "2024-01-14T11:21:58.663Z"
   },
   {
    "duration": 455,
    "start_time": "2024-01-14T11:21:59.130Z"
   },
   {
    "duration": 513,
    "start_time": "2024-01-14T11:21:59.586Z"
   },
   {
    "duration": 360,
    "start_time": "2024-01-14T11:22:00.100Z"
   },
   {
    "duration": 7,
    "start_time": "2024-01-14T11:22:00.463Z"
   },
   {
    "duration": 383,
    "start_time": "2024-01-14T11:22:00.472Z"
   },
   {
    "duration": 286,
    "start_time": "2024-01-14T11:22:00.857Z"
   },
   {
    "duration": 8,
    "start_time": "2024-01-14T11:22:01.147Z"
   },
   {
    "duration": 45,
    "start_time": "2024-01-14T11:22:01.159Z"
   },
   {
    "duration": 206,
    "start_time": "2024-01-14T11:22:01.205Z"
   },
   {
    "duration": 56,
    "start_time": "2024-01-14T11:22:01.413Z"
   },
   {
    "duration": 148,
    "start_time": "2024-01-14T11:22:01.471Z"
   },
   {
    "duration": 7,
    "start_time": "2024-01-14T11:22:01.620Z"
   },
   {
    "duration": 71,
    "start_time": "2024-01-14T11:22:01.629Z"
   },
   {
    "duration": 12,
    "start_time": "2024-01-14T11:22:01.702Z"
   },
   {
    "duration": 39,
    "start_time": "2024-01-14T11:22:01.715Z"
   },
   {
    "duration": 28,
    "start_time": "2024-01-14T11:22:01.761Z"
   },
   {
    "duration": 50,
    "start_time": "2024-01-14T11:22:01.791Z"
   },
   {
    "duration": 37,
    "start_time": "2024-01-14T11:23:02.433Z"
   },
   {
    "duration": 1716,
    "start_time": "2024-01-14T11:23:06.690Z"
   },
   {
    "duration": 170,
    "start_time": "2024-01-14T11:23:17.627Z"
   },
   {
    "duration": 6,
    "start_time": "2024-01-14T11:23:18.209Z"
   },
   {
    "duration": 33,
    "start_time": "2024-01-14T11:23:21.453Z"
   },
   {
    "duration": 4,
    "start_time": "2024-01-14T11:23:31.151Z"
   },
   {
    "duration": 63,
    "start_time": "2024-01-14T11:23:31.162Z"
   },
   {
    "duration": 48,
    "start_time": "2024-01-14T11:23:31.227Z"
   },
   {
    "duration": 36,
    "start_time": "2024-01-14T11:23:31.277Z"
   },
   {
    "duration": 76,
    "start_time": "2024-01-14T11:23:31.315Z"
   },
   {
    "duration": 7,
    "start_time": "2024-01-14T11:23:31.394Z"
   },
   {
    "duration": 283,
    "start_time": "2024-01-14T11:23:31.403Z"
   },
   {
    "duration": 351,
    "start_time": "2024-01-14T11:23:31.688Z"
   },
   {
    "duration": 351,
    "start_time": "2024-01-14T11:23:32.042Z"
   },
   {
    "duration": 512,
    "start_time": "2024-01-14T11:23:32.395Z"
   },
   {
    "duration": 366,
    "start_time": "2024-01-14T11:23:32.909Z"
   },
   {
    "duration": 453,
    "start_time": "2024-01-14T11:23:33.276Z"
   },
   {
    "duration": 391,
    "start_time": "2024-01-14T11:23:33.730Z"
   },
   {
    "duration": 5,
    "start_time": "2024-01-14T11:23:34.122Z"
   },
   {
    "duration": 383,
    "start_time": "2024-01-14T11:23:34.129Z"
   },
   {
    "duration": 206,
    "start_time": "2024-01-14T11:23:34.514Z"
   },
   {
    "duration": 5,
    "start_time": "2024-01-14T11:23:34.721Z"
   },
   {
    "duration": 49,
    "start_time": "2024-01-14T11:23:34.727Z"
   },
   {
    "duration": 183,
    "start_time": "2024-01-14T11:23:34.778Z"
   },
   {
    "duration": 28,
    "start_time": "2024-01-14T11:23:34.963Z"
   },
   {
    "duration": 140,
    "start_time": "2024-01-14T11:23:34.993Z"
   },
   {
    "duration": 8,
    "start_time": "2024-01-14T11:23:35.135Z"
   },
   {
    "duration": 40,
    "start_time": "2024-01-14T11:23:35.145Z"
   },
   {
    "duration": 13,
    "start_time": "2024-01-14T11:23:35.186Z"
   },
   {
    "duration": 47,
    "start_time": "2024-01-14T11:23:35.201Z"
   },
   {
    "duration": 19,
    "start_time": "2024-01-14T11:23:35.252Z"
   },
   {
    "duration": 38,
    "start_time": "2024-01-14T11:23:35.272Z"
   },
   {
    "duration": 29,
    "start_time": "2024-01-14T11:35:00.214Z"
   },
   {
    "duration": 26,
    "start_time": "2024-01-14T11:35:10.463Z"
   },
   {
    "duration": 43,
    "start_time": "2024-01-14T11:35:24.412Z"
   },
   {
    "duration": 25,
    "start_time": "2024-01-14T11:36:12.072Z"
   },
   {
    "duration": 26,
    "start_time": "2024-01-14T11:36:37.219Z"
   },
   {
    "duration": 25,
    "start_time": "2024-01-14T11:36:44.395Z"
   },
   {
    "duration": 11,
    "start_time": "2024-01-14T11:38:40.722Z"
   },
   {
    "duration": 16,
    "start_time": "2024-01-14T11:41:16.890Z"
   },
   {
    "duration": 10,
    "start_time": "2024-01-14T11:41:28.460Z"
   },
   {
    "duration": 10,
    "start_time": "2024-01-14T11:41:59.470Z"
   },
   {
    "duration": 26,
    "start_time": "2024-01-14T11:42:14.786Z"
   },
   {
    "duration": 10,
    "start_time": "2024-01-14T11:42:16.625Z"
   },
   {
    "duration": 10,
    "start_time": "2024-01-14T11:42:33.692Z"
   },
   {
    "duration": 12,
    "start_time": "2024-01-14T11:47:47.486Z"
   },
   {
    "duration": 1748,
    "start_time": "2024-01-14T11:48:40.844Z"
   },
   {
    "duration": 5,
    "start_time": "2024-01-14T11:48:55.889Z"
   },
   {
    "duration": 881,
    "start_time": "2024-01-14T11:49:42.378Z"
   },
   {
    "duration": 1028,
    "start_time": "2024-01-14T11:50:04.484Z"
   },
   {
    "duration": 996,
    "start_time": "2024-01-14T11:50:17.599Z"
   },
   {
    "duration": 15,
    "start_time": "2024-01-14T11:50:26.635Z"
   },
   {
    "duration": 14,
    "start_time": "2024-01-14T11:50:41.463Z"
   },
   {
    "duration": 1436,
    "start_time": "2024-01-14T11:52:22.920Z"
   },
   {
    "duration": 0,
    "start_time": "2024-01-14T11:52:24.358Z"
   },
   {
    "duration": 126,
    "start_time": "2024-01-14T11:52:46.498Z"
   },
   {
    "duration": 6,
    "start_time": "2024-01-14T11:52:47.157Z"
   },
   {
    "duration": 25,
    "start_time": "2024-01-14T11:52:52.204Z"
   },
   {
    "duration": 11,
    "start_time": "2024-01-14T11:53:05.700Z"
   },
   {
    "duration": 9,
    "start_time": "2024-01-14T11:53:19.204Z"
   },
   {
    "duration": 7,
    "start_time": "2024-01-14T11:54:56.157Z"
   },
   {
    "duration": 11,
    "start_time": "2024-01-14T11:54:57.978Z"
   },
   {
    "duration": 4,
    "start_time": "2024-01-14T11:55:17.274Z"
   },
   {
    "duration": 9,
    "start_time": "2024-01-14T11:55:57.257Z"
   },
   {
    "duration": 67,
    "start_time": "2024-01-14T11:57:28.394Z"
   },
   {
    "duration": 60,
    "start_time": "2024-01-14T11:58:05.408Z"
   },
   {
    "duration": 9,
    "start_time": "2024-01-14T11:59:16.562Z"
   },
   {
    "duration": 8,
    "start_time": "2024-01-14T11:59:26.578Z"
   },
   {
    "duration": 9,
    "start_time": "2024-01-14T11:59:37.851Z"
   },
   {
    "duration": 4,
    "start_time": "2024-01-14T11:59:47.862Z"
   },
   {
    "duration": 4,
    "start_time": "2024-01-14T11:59:53.612Z"
   },
   {
    "duration": 4,
    "start_time": "2024-01-14T11:59:58.146Z"
   },
   {
    "duration": 4,
    "start_time": "2024-01-14T12:00:01.934Z"
   },
   {
    "duration": 9,
    "start_time": "2024-01-14T12:00:16.852Z"
   },
   {
    "duration": 8,
    "start_time": "2024-01-14T12:00:44.720Z"
   },
   {
    "duration": 1351,
    "start_time": "2024-01-14T12:01:15.256Z"
   },
   {
    "duration": 11,
    "start_time": "2024-01-14T12:01:20.627Z"
   },
   {
    "duration": 12,
    "start_time": "2024-01-14T12:01:50.119Z"
   },
   {
    "duration": 8,
    "start_time": "2024-01-14T12:05:16.929Z"
   },
   {
    "duration": 7,
    "start_time": "2024-01-14T12:06:42.947Z"
   },
   {
    "duration": 8,
    "start_time": "2024-01-14T12:08:21.901Z"
   },
   {
    "duration": 25,
    "start_time": "2024-01-14T12:10:24.854Z"
   },
   {
    "duration": 11,
    "start_time": "2024-01-14T12:18:18.435Z"
   },
   {
    "duration": 97,
    "start_time": "2024-01-14T12:22:45.702Z"
   },
   {
    "duration": 1197,
    "start_time": "2024-01-14T12:23:03.116Z"
   },
   {
    "duration": 14,
    "start_time": "2024-01-14T12:23:38.367Z"
   },
   {
    "duration": 13,
    "start_time": "2024-01-14T12:24:26.245Z"
   },
   {
    "duration": 13,
    "start_time": "2024-01-14T12:24:45.025Z"
   },
   {
    "duration": 1116,
    "start_time": "2024-01-14T12:25:32.978Z"
   },
   {
    "duration": 33,
    "start_time": "2024-01-14T12:25:34.096Z"
   },
   {
    "duration": 12,
    "start_time": "2024-01-14T12:25:34.130Z"
   },
   {
    "duration": 16,
    "start_time": "2024-01-14T12:25:34.144Z"
   },
   {
    "duration": 60,
    "start_time": "2024-01-14T12:25:34.163Z"
   },
   {
    "duration": 7,
    "start_time": "2024-01-14T12:25:34.224Z"
   },
   {
    "duration": 256,
    "start_time": "2024-01-14T12:25:34.232Z"
   },
   {
    "duration": 383,
    "start_time": "2024-01-14T12:25:34.490Z"
   },
   {
    "duration": 371,
    "start_time": "2024-01-14T12:25:34.874Z"
   },
   {
    "duration": 434,
    "start_time": "2024-01-14T12:25:35.247Z"
   },
   {
    "duration": 379,
    "start_time": "2024-01-14T12:25:35.683Z"
   },
   {
    "duration": 432,
    "start_time": "2024-01-14T12:25:36.064Z"
   },
   {
    "duration": 298,
    "start_time": "2024-01-14T12:25:36.498Z"
   },
   {
    "duration": 5,
    "start_time": "2024-01-14T12:25:36.800Z"
   },
   {
    "duration": 327,
    "start_time": "2024-01-14T12:25:36.806Z"
   },
   {
    "duration": 258,
    "start_time": "2024-01-14T12:25:37.135Z"
   },
   {
    "duration": 5,
    "start_time": "2024-01-14T12:25:37.394Z"
   },
   {
    "duration": 26,
    "start_time": "2024-01-14T12:25:37.400Z"
   },
   {
    "duration": 183,
    "start_time": "2024-01-14T12:25:37.427Z"
   },
   {
    "duration": 36,
    "start_time": "2024-01-14T12:25:37.612Z"
   },
   {
    "duration": 148,
    "start_time": "2024-01-14T12:25:37.650Z"
   },
   {
    "duration": 7,
    "start_time": "2024-01-14T12:25:37.800Z"
   },
   {
    "duration": 36,
    "start_time": "2024-01-14T12:25:37.808Z"
   },
   {
    "duration": 10,
    "start_time": "2024-01-14T12:25:37.846Z"
   },
   {
    "duration": 8,
    "start_time": "2024-01-14T12:25:37.858Z"
   },
   {
    "duration": 14,
    "start_time": "2024-01-14T12:25:37.867Z"
   },
   {
    "duration": 31,
    "start_time": "2024-01-14T12:25:37.882Z"
   },
   {
    "duration": 13,
    "start_time": "2024-01-14T12:25:37.914Z"
   },
   {
    "duration": 1486,
    "start_time": "2024-01-15T11:22:00.557Z"
   },
   {
    "duration": 70,
    "start_time": "2024-01-15T11:22:02.045Z"
   },
   {
    "duration": 60,
    "start_time": "2024-01-15T11:22:02.116Z"
   },
   {
    "duration": 122,
    "start_time": "2024-01-15T11:22:02.178Z"
   },
   {
    "duration": 266,
    "start_time": "2024-01-15T11:22:02.302Z"
   },
   {
    "duration": 17,
    "start_time": "2024-01-15T11:22:02.570Z"
   },
   {
    "duration": 393,
    "start_time": "2024-01-15T11:22:02.589Z"
   },
   {
    "duration": 1018,
    "start_time": "2024-01-15T11:22:02.985Z"
   },
   {
    "duration": 933,
    "start_time": "2024-01-15T11:22:04.005Z"
   },
   {
    "duration": 534,
    "start_time": "2024-01-15T11:22:04.940Z"
   },
   {
    "duration": 418,
    "start_time": "2024-01-15T11:22:05.482Z"
   },
   {
    "duration": 462,
    "start_time": "2024-01-15T11:22:05.902Z"
   },
   {
    "duration": 336,
    "start_time": "2024-01-15T11:22:06.366Z"
   },
   {
    "duration": 5,
    "start_time": "2024-01-15T11:22:06.705Z"
   },
   {
    "duration": 376,
    "start_time": "2024-01-15T11:22:06.711Z"
   },
   {
    "duration": 275,
    "start_time": "2024-01-15T11:22:07.089Z"
   },
   {
    "duration": 4,
    "start_time": "2024-01-15T11:22:07.366Z"
   },
   {
    "duration": 32,
    "start_time": "2024-01-15T11:22:07.372Z"
   },
   {
    "duration": 215,
    "start_time": "2024-01-15T11:22:07.406Z"
   },
   {
    "duration": 69,
    "start_time": "2024-01-15T11:22:07.623Z"
   },
   {
    "duration": 192,
    "start_time": "2024-01-15T11:22:07.694Z"
   },
   {
    "duration": 6,
    "start_time": "2024-01-15T11:22:07.888Z"
   },
   {
    "duration": 58,
    "start_time": "2024-01-15T11:22:07.896Z"
   },
   {
    "duration": 35,
    "start_time": "2024-01-15T11:22:07.956Z"
   },
   {
    "duration": 34,
    "start_time": "2024-01-15T11:22:07.992Z"
   },
   {
    "duration": 45,
    "start_time": "2024-01-15T11:22:08.027Z"
   },
   {
    "duration": 66,
    "start_time": "2024-01-15T11:22:08.074Z"
   },
   {
    "duration": 16,
    "start_time": "2024-01-15T11:22:08.142Z"
   },
   {
    "duration": 31,
    "start_time": "2024-01-15T11:28:15.420Z"
   },
   {
    "duration": 12,
    "start_time": "2024-01-15T11:28:18.044Z"
   },
   {
    "duration": 13,
    "start_time": "2024-01-15T11:28:21.973Z"
   },
   {
    "duration": 14,
    "start_time": "2024-01-15T11:33:45.089Z"
   },
   {
    "duration": 3,
    "start_time": "2024-01-15T11:33:47.576Z"
   },
   {
    "duration": 36,
    "start_time": "2024-01-15T11:33:47.581Z"
   },
   {
    "duration": 13,
    "start_time": "2024-01-15T11:33:47.619Z"
   },
   {
    "duration": 19,
    "start_time": "2024-01-15T11:33:47.634Z"
   },
   {
    "duration": 71,
    "start_time": "2024-01-15T11:33:47.656Z"
   },
   {
    "duration": 8,
    "start_time": "2024-01-15T11:33:47.729Z"
   },
   {
    "duration": 279,
    "start_time": "2024-01-15T11:33:47.739Z"
   },
   {
    "duration": 376,
    "start_time": "2024-01-15T11:33:48.020Z"
   },
   {
    "duration": 373,
    "start_time": "2024-01-15T11:33:48.398Z"
   },
   {
    "duration": 461,
    "start_time": "2024-01-15T11:33:48.772Z"
   },
   {
    "duration": 402,
    "start_time": "2024-01-15T11:33:49.235Z"
   },
   {
    "duration": 494,
    "start_time": "2024-01-15T11:33:49.639Z"
   },
   {
    "duration": 339,
    "start_time": "2024-01-15T11:33:50.135Z"
   },
   {
    "duration": 5,
    "start_time": "2024-01-15T11:33:50.482Z"
   },
   {
    "duration": 502,
    "start_time": "2024-01-15T11:33:50.489Z"
   },
   {
    "duration": 400,
    "start_time": "2024-01-15T11:33:50.992Z"
   },
   {
    "duration": 5,
    "start_time": "2024-01-15T11:33:51.394Z"
   },
   {
    "duration": 27,
    "start_time": "2024-01-15T11:33:51.401Z"
   },
   {
    "duration": 335,
    "start_time": "2024-01-15T11:33:51.482Z"
   },
   {
    "duration": 85,
    "start_time": "2024-01-15T11:33:51.819Z"
   },
   {
    "duration": 282,
    "start_time": "2024-01-15T11:33:51.906Z"
   },
   {
    "duration": 6,
    "start_time": "2024-01-15T11:33:52.190Z"
   },
   {
    "duration": 90,
    "start_time": "2024-01-15T11:33:52.198Z"
   },
   {
    "duration": 12,
    "start_time": "2024-01-15T11:33:52.290Z"
   },
   {
    "duration": 14,
    "start_time": "2024-01-15T11:33:52.304Z"
   },
   {
    "duration": 39,
    "start_time": "2024-01-15T11:33:52.320Z"
   },
   {
    "duration": 36,
    "start_time": "2024-01-15T11:33:52.361Z"
   },
   {
    "duration": 16,
    "start_time": "2024-01-15T11:33:52.399Z"
   },
   {
    "duration": 4,
    "start_time": "2024-01-15T11:37:48.471Z"
   },
   {
    "duration": 43,
    "start_time": "2024-01-15T11:37:48.477Z"
   },
   {
    "duration": 976,
    "start_time": "2024-01-15T11:37:48.522Z"
   },
   {
    "duration": 0,
    "start_time": "2024-01-15T11:37:49.500Z"
   },
   {
    "duration": 0,
    "start_time": "2024-01-15T11:37:49.501Z"
   },
   {
    "duration": 0,
    "start_time": "2024-01-15T11:37:49.502Z"
   },
   {
    "duration": 0,
    "start_time": "2024-01-15T11:37:49.504Z"
   },
   {
    "duration": 0,
    "start_time": "2024-01-15T11:37:49.505Z"
   },
   {
    "duration": 0,
    "start_time": "2024-01-15T11:37:49.506Z"
   },
   {
    "duration": 0,
    "start_time": "2024-01-15T11:37:49.507Z"
   },
   {
    "duration": 0,
    "start_time": "2024-01-15T11:37:49.508Z"
   },
   {
    "duration": 0,
    "start_time": "2024-01-15T11:37:49.509Z"
   },
   {
    "duration": 0,
    "start_time": "2024-01-15T11:37:49.511Z"
   },
   {
    "duration": 0,
    "start_time": "2024-01-15T11:37:49.512Z"
   },
   {
    "duration": 0,
    "start_time": "2024-01-15T11:37:49.513Z"
   },
   {
    "duration": 0,
    "start_time": "2024-01-15T11:37:49.514Z"
   },
   {
    "duration": 0,
    "start_time": "2024-01-15T11:37:49.515Z"
   },
   {
    "duration": 0,
    "start_time": "2024-01-15T11:37:49.516Z"
   },
   {
    "duration": 0,
    "start_time": "2024-01-15T11:37:49.517Z"
   },
   {
    "duration": 0,
    "start_time": "2024-01-15T11:37:49.518Z"
   },
   {
    "duration": 0,
    "start_time": "2024-01-15T11:37:49.520Z"
   },
   {
    "duration": 0,
    "start_time": "2024-01-15T11:37:49.521Z"
   },
   {
    "duration": 0,
    "start_time": "2024-01-15T11:37:49.522Z"
   },
   {
    "duration": 0,
    "start_time": "2024-01-15T11:37:49.523Z"
   },
   {
    "duration": 0,
    "start_time": "2024-01-15T11:37:49.524Z"
   },
   {
    "duration": 0,
    "start_time": "2024-01-15T11:37:49.525Z"
   },
   {
    "duration": 0,
    "start_time": "2024-01-15T11:37:49.526Z"
   },
   {
    "duration": 0,
    "start_time": "2024-01-15T11:37:49.527Z"
   },
   {
    "duration": 0,
    "start_time": "2024-01-15T11:37:49.528Z"
   },
   {
    "duration": 4,
    "start_time": "2024-01-15T11:39:12.870Z"
   },
   {
    "duration": 9,
    "start_time": "2024-01-15T11:39:17.426Z"
   },
   {
    "duration": 4,
    "start_time": "2024-01-15T11:39:48.314Z"
   },
   {
    "duration": 6,
    "start_time": "2024-01-15T11:39:57.423Z"
   },
   {
    "duration": 10,
    "start_time": "2024-01-15T11:40:09.044Z"
   },
   {
    "duration": 5,
    "start_time": "2024-01-15T11:40:29.181Z"
   },
   {
    "duration": 111,
    "start_time": "2024-01-15T11:40:35.535Z"
   },
   {
    "duration": 10,
    "start_time": "2024-01-15T11:40:40.045Z"
   },
   {
    "duration": 3,
    "start_time": "2024-01-15T11:41:19.402Z"
   },
   {
    "duration": 3,
    "start_time": "2024-01-15T11:42:32.949Z"
   },
   {
    "duration": 4,
    "start_time": "2024-01-15T11:42:39.104Z"
   },
   {
    "duration": 104,
    "start_time": "2024-01-15T11:43:25.315Z"
   },
   {
    "duration": 83,
    "start_time": "2024-01-15T11:44:08.589Z"
   },
   {
    "duration": 70,
    "start_time": "2024-01-15T11:44:23.008Z"
   },
   {
    "duration": 94,
    "start_time": "2024-01-15T11:45:05.519Z"
   },
   {
    "duration": 210,
    "start_time": "2024-01-15T11:45:31.987Z"
   },
   {
    "duration": 73,
    "start_time": "2024-01-15T11:45:38.539Z"
   },
   {
    "duration": 114,
    "start_time": "2024-01-15T11:45:49.411Z"
   },
   {
    "duration": 86,
    "start_time": "2024-01-15T11:46:00.478Z"
   },
   {
    "duration": 9,
    "start_time": "2024-01-15T11:46:14.147Z"
   },
   {
    "duration": 15,
    "start_time": "2024-01-15T11:46:30.585Z"
   },
   {
    "duration": 17,
    "start_time": "2024-01-15T11:51:23.614Z"
   },
   {
    "duration": 10,
    "start_time": "2024-01-15T11:51:58.937Z"
   },
   {
    "duration": 16,
    "start_time": "2024-01-15T11:52:03.666Z"
   },
   {
    "duration": 17,
    "start_time": "2024-01-15T11:52:38.032Z"
   },
   {
    "duration": 14,
    "start_time": "2024-01-15T11:52:42.494Z"
   },
   {
    "duration": 11,
    "start_time": "2024-01-15T11:53:34.774Z"
   },
   {
    "duration": 3,
    "start_time": "2024-01-15T11:53:37.831Z"
   },
   {
    "duration": 34,
    "start_time": "2024-01-15T11:53:37.836Z"
   },
   {
    "duration": 14,
    "start_time": "2024-01-15T11:53:37.871Z"
   },
   {
    "duration": 20,
    "start_time": "2024-01-15T11:53:37.888Z"
   },
   {
    "duration": 64,
    "start_time": "2024-01-15T11:53:37.910Z"
   },
   {
    "duration": 7,
    "start_time": "2024-01-15T11:53:37.976Z"
   },
   {
    "duration": 285,
    "start_time": "2024-01-15T11:53:37.984Z"
   },
   {
    "duration": 481,
    "start_time": "2024-01-15T11:53:38.271Z"
   },
   {
    "duration": 392,
    "start_time": "2024-01-15T11:53:38.754Z"
   },
   {
    "duration": 771,
    "start_time": "2024-01-15T11:53:39.147Z"
   },
   {
    "duration": 794,
    "start_time": "2024-01-15T11:53:39.919Z"
   },
   {
    "duration": 543,
    "start_time": "2024-01-15T11:53:40.715Z"
   },
   {
    "duration": 314,
    "start_time": "2024-01-15T11:53:41.260Z"
   },
   {
    "duration": 7,
    "start_time": "2024-01-15T11:53:41.576Z"
   },
   {
    "duration": 369,
    "start_time": "2024-01-15T11:53:41.585Z"
   },
   {
    "duration": 196,
    "start_time": "2024-01-15T11:53:41.956Z"
   },
   {
    "duration": 5,
    "start_time": "2024-01-15T11:53:42.153Z"
   },
   {
    "duration": 41,
    "start_time": "2024-01-15T11:53:42.160Z"
   },
   {
    "duration": 193,
    "start_time": "2024-01-15T11:53:42.202Z"
   },
   {
    "duration": 33,
    "start_time": "2024-01-15T11:53:42.397Z"
   },
   {
    "duration": 163,
    "start_time": "2024-01-15T11:53:42.432Z"
   },
   {
    "duration": 6,
    "start_time": "2024-01-15T11:53:42.597Z"
   },
   {
    "duration": 35,
    "start_time": "2024-01-15T11:53:42.604Z"
   },
   {
    "duration": 14,
    "start_time": "2024-01-15T11:53:42.642Z"
   },
   {
    "duration": 27,
    "start_time": "2024-01-15T11:53:42.657Z"
   },
   {
    "duration": 30,
    "start_time": "2024-01-15T11:53:42.686Z"
   },
   {
    "duration": 35,
    "start_time": "2024-01-15T11:53:42.718Z"
   },
   {
    "duration": 15,
    "start_time": "2024-01-15T11:53:42.755Z"
   },
   {
    "duration": 268,
    "start_time": "2024-01-15T12:38:33.200Z"
   },
   {
    "duration": 8,
    "start_time": "2024-01-15T12:40:13.723Z"
   },
   {
    "duration": 13,
    "start_time": "2024-01-15T12:40:48.613Z"
   },
   {
    "duration": 13,
    "start_time": "2024-01-15T12:41:36.034Z"
   },
   {
    "duration": 16,
    "start_time": "2024-01-15T12:41:48.202Z"
   },
   {
    "duration": 11,
    "start_time": "2024-01-15T12:42:11.933Z"
   },
   {
    "duration": 10,
    "start_time": "2024-01-15T12:42:26.781Z"
   },
   {
    "duration": 9,
    "start_time": "2024-01-15T12:42:36.168Z"
   },
   {
    "duration": 10,
    "start_time": "2024-01-15T12:42:43.330Z"
   },
   {
    "duration": 16,
    "start_time": "2024-01-15T12:42:51.743Z"
   },
   {
    "duration": 17,
    "start_time": "2024-01-15T12:42:58.397Z"
   },
   {
    "duration": 9,
    "start_time": "2024-01-15T12:43:28.800Z"
   },
   {
    "duration": 8,
    "start_time": "2024-01-15T12:43:32.063Z"
   },
   {
    "duration": 10,
    "start_time": "2024-01-15T12:43:36.438Z"
   },
   {
    "duration": 8,
    "start_time": "2024-01-15T12:43:52.713Z"
   },
   {
    "duration": 12,
    "start_time": "2024-01-15T12:44:13.667Z"
   },
   {
    "duration": 1775,
    "start_time": "2024-01-15T13:21:32.826Z"
   },
   {
    "duration": 4,
    "start_time": "2024-01-15T13:21:53.429Z"
   },
   {
    "duration": 3332,
    "start_time": "2024-01-15T13:21:58.722Z"
   },
   {
    "duration": 1732,
    "start_time": "2024-01-15T13:22:03.516Z"
   },
   {
    "duration": 386,
    "start_time": "2024-01-15T13:22:13.912Z"
   },
   {
    "duration": 4,
    "start_time": "2024-01-15T13:22:33.149Z"
   },
   {
    "duration": 51,
    "start_time": "2024-01-15T13:22:33.155Z"
   },
   {
    "duration": 12,
    "start_time": "2024-01-15T13:22:33.208Z"
   },
   {
    "duration": 42,
    "start_time": "2024-01-15T13:22:33.222Z"
   },
   {
    "duration": 78,
    "start_time": "2024-01-15T13:22:33.266Z"
   },
   {
    "duration": 7,
    "start_time": "2024-01-15T13:22:33.346Z"
   },
   {
    "duration": 283,
    "start_time": "2024-01-15T13:22:33.355Z"
   },
   {
    "duration": 475,
    "start_time": "2024-01-15T13:22:33.640Z"
   },
   {
    "duration": 378,
    "start_time": "2024-01-15T13:22:34.118Z"
   },
   {
    "duration": 493,
    "start_time": "2024-01-15T13:22:34.497Z"
   },
   {
    "duration": 402,
    "start_time": "2024-01-15T13:22:34.992Z"
   },
   {
    "duration": 392,
    "start_time": "2024-01-15T13:22:35.395Z"
   },
   {
    "duration": 801,
    "start_time": "2024-01-15T13:22:35.789Z"
   },
   {
    "duration": 813,
    "start_time": "2024-01-15T13:22:36.592Z"
   },
   {
    "duration": 623,
    "start_time": "2024-01-15T13:22:37.407Z"
   },
   {
    "duration": 5,
    "start_time": "2024-01-15T13:22:38.082Z"
   },
   {
    "duration": 796,
    "start_time": "2024-01-15T13:22:38.089Z"
   },
   {
    "duration": 234,
    "start_time": "2024-01-15T13:22:38.887Z"
   },
   {
    "duration": 5,
    "start_time": "2024-01-15T13:22:39.123Z"
   },
   {
    "duration": 28,
    "start_time": "2024-01-15T13:22:39.130Z"
   },
   {
    "duration": 203,
    "start_time": "2024-01-15T13:22:39.160Z"
   },
   {
    "duration": 43,
    "start_time": "2024-01-15T13:22:39.364Z"
   },
   {
    "duration": 151,
    "start_time": "2024-01-15T13:22:39.409Z"
   },
   {
    "duration": 7,
    "start_time": "2024-01-15T13:22:39.563Z"
   },
   {
    "duration": 36,
    "start_time": "2024-01-15T13:22:39.571Z"
   },
   {
    "duration": 11,
    "start_time": "2024-01-15T13:22:39.609Z"
   },
   {
    "duration": 11,
    "start_time": "2024-01-15T13:22:39.622Z"
   },
   {
    "duration": 10,
    "start_time": "2024-01-15T13:22:39.634Z"
   },
   {
    "duration": 58,
    "start_time": "2024-01-15T13:22:39.646Z"
   },
   {
    "duration": 15,
    "start_time": "2024-01-15T13:22:39.705Z"
   },
   {
    "duration": 197,
    "start_time": "2024-01-15T13:24:11.796Z"
   },
   {
    "duration": 7,
    "start_time": "2024-01-15T13:24:23.910Z"
   },
   {
    "duration": 15,
    "start_time": "2024-01-15T13:25:22.958Z"
   },
   {
    "duration": 3,
    "start_time": "2024-01-15T13:25:47.306Z"
   },
   {
    "duration": 9,
    "start_time": "2024-01-15T13:25:52.870Z"
   },
   {
    "duration": 491,
    "start_time": "2024-01-15T13:25:57.513Z"
   },
   {
    "duration": 279,
    "start_time": "2024-01-15T13:27:23.188Z"
   },
   {
    "duration": 641,
    "start_time": "2024-01-15T13:27:44.299Z"
   },
   {
    "duration": 383,
    "start_time": "2024-01-15T13:27:47.337Z"
   },
   {
    "duration": 438,
    "start_time": "2024-01-15T13:27:57.176Z"
   },
   {
    "duration": 759,
    "start_time": "2024-01-15T13:28:03.134Z"
   },
   {
    "duration": 3,
    "start_time": "2024-01-15T13:28:12.624Z"
   },
   {
    "duration": 87,
    "start_time": "2024-01-15T13:28:12.628Z"
   },
   {
    "duration": 22,
    "start_time": "2024-01-15T13:28:12.717Z"
   },
   {
    "duration": 46,
    "start_time": "2024-01-15T13:28:12.741Z"
   },
   {
    "duration": 62,
    "start_time": "2024-01-15T13:28:12.789Z"
   },
   {
    "duration": 9,
    "start_time": "2024-01-15T13:28:12.852Z"
   },
   {
    "duration": 286,
    "start_time": "2024-01-15T13:28:12.862Z"
   },
   {
    "duration": 410,
    "start_time": "2024-01-15T13:28:13.149Z"
   },
   {
    "duration": 0,
    "start_time": "2024-01-15T13:28:13.562Z"
   },
   {
    "duration": 0,
    "start_time": "2024-01-15T13:28:13.563Z"
   },
   {
    "duration": 0,
    "start_time": "2024-01-15T13:28:13.564Z"
   },
   {
    "duration": 0,
    "start_time": "2024-01-15T13:28:13.565Z"
   },
   {
    "duration": 0,
    "start_time": "2024-01-15T13:28:13.566Z"
   },
   {
    "duration": 0,
    "start_time": "2024-01-15T13:28:13.567Z"
   },
   {
    "duration": 0,
    "start_time": "2024-01-15T13:28:13.568Z"
   },
   {
    "duration": 0,
    "start_time": "2024-01-15T13:28:13.582Z"
   },
   {
    "duration": 0,
    "start_time": "2024-01-15T13:28:13.583Z"
   },
   {
    "duration": 0,
    "start_time": "2024-01-15T13:28:13.584Z"
   },
   {
    "duration": 0,
    "start_time": "2024-01-15T13:28:13.585Z"
   },
   {
    "duration": 0,
    "start_time": "2024-01-15T13:28:13.586Z"
   },
   {
    "duration": 0,
    "start_time": "2024-01-15T13:28:13.587Z"
   },
   {
    "duration": 0,
    "start_time": "2024-01-15T13:28:13.588Z"
   },
   {
    "duration": 0,
    "start_time": "2024-01-15T13:28:13.589Z"
   },
   {
    "duration": 0,
    "start_time": "2024-01-15T13:28:13.590Z"
   },
   {
    "duration": 0,
    "start_time": "2024-01-15T13:28:13.591Z"
   },
   {
    "duration": 1,
    "start_time": "2024-01-15T13:28:13.592Z"
   },
   {
    "duration": 0,
    "start_time": "2024-01-15T13:28:13.593Z"
   },
   {
    "duration": 0,
    "start_time": "2024-01-15T13:28:13.595Z"
   },
   {
    "duration": 384,
    "start_time": "2024-01-15T13:43:24.698Z"
   },
   {
    "duration": 7,
    "start_time": "2024-01-15T13:43:41.593Z"
   },
   {
    "duration": 88,
    "start_time": "2024-01-15T13:44:15.824Z"
   },
   {
    "duration": 4,
    "start_time": "2024-01-15T13:44:19.333Z"
   },
   {
    "duration": 35,
    "start_time": "2024-01-15T13:44:19.339Z"
   },
   {
    "duration": 13,
    "start_time": "2024-01-15T13:44:19.376Z"
   },
   {
    "duration": 15,
    "start_time": "2024-01-15T13:44:19.392Z"
   },
   {
    "duration": 73,
    "start_time": "2024-01-15T13:44:19.409Z"
   },
   {
    "duration": 8,
    "start_time": "2024-01-15T13:44:19.483Z"
   },
   {
    "duration": 302,
    "start_time": "2024-01-15T13:44:19.492Z"
   },
   {
    "duration": 372,
    "start_time": "2024-01-15T13:44:19.796Z"
   },
   {
    "duration": 282,
    "start_time": "2024-01-15T13:44:20.171Z"
   },
   {
    "duration": 398,
    "start_time": "2024-01-15T13:44:20.455Z"
   },
   {
    "duration": 316,
    "start_time": "2024-01-15T13:44:20.855Z"
   },
   {
    "duration": 742,
    "start_time": "2024-01-15T13:44:21.172Z"
   },
   {
    "duration": 700,
    "start_time": "2024-01-15T13:44:21.916Z"
   },
   {
    "duration": 4,
    "start_time": "2024-01-15T13:44:22.618Z"
   },
   {
    "duration": 763,
    "start_time": "2024-01-15T13:44:22.624Z"
   },
   {
    "duration": 400,
    "start_time": "2024-01-15T13:44:23.389Z"
   },
   {
    "duration": 5,
    "start_time": "2024-01-15T13:44:23.790Z"
   },
   {
    "duration": 26,
    "start_time": "2024-01-15T13:44:23.796Z"
   },
   {
    "duration": 332,
    "start_time": "2024-01-15T13:44:23.881Z"
   },
   {
    "duration": 86,
    "start_time": "2024-01-15T13:44:24.214Z"
   },
   {
    "duration": 205,
    "start_time": "2024-01-15T13:44:24.301Z"
   },
   {
    "duration": 6,
    "start_time": "2024-01-15T13:44:24.508Z"
   },
   {
    "duration": 37,
    "start_time": "2024-01-15T13:44:24.516Z"
   },
   {
    "duration": 28,
    "start_time": "2024-01-15T13:44:24.557Z"
   },
   {
    "duration": 11,
    "start_time": "2024-01-15T13:44:24.588Z"
   },
   {
    "duration": 8,
    "start_time": "2024-01-15T13:44:24.601Z"
   },
   {
    "duration": 30,
    "start_time": "2024-01-15T13:44:24.611Z"
   },
   {
    "duration": 42,
    "start_time": "2024-01-15T13:44:24.643Z"
   },
   {
    "duration": 301,
    "start_time": "2024-01-15T13:44:54.073Z"
   },
   {
    "duration": 440,
    "start_time": "2024-01-15T13:45:38.129Z"
   },
   {
    "duration": 302,
    "start_time": "2024-01-15T13:46:02.364Z"
   },
   {
    "duration": 70,
    "start_time": "2024-01-15T13:46:12.495Z"
   },
   {
    "duration": 3,
    "start_time": "2024-01-15T13:46:14.695Z"
   },
   {
    "duration": 34,
    "start_time": "2024-01-15T13:46:14.700Z"
   },
   {
    "duration": 13,
    "start_time": "2024-01-15T13:46:14.736Z"
   },
   {
    "duration": 14,
    "start_time": "2024-01-15T13:46:14.751Z"
   },
   {
    "duration": 64,
    "start_time": "2024-01-15T13:46:14.767Z"
   },
   {
    "duration": 8,
    "start_time": "2024-01-15T13:46:14.833Z"
   },
   {
    "duration": 262,
    "start_time": "2024-01-15T13:46:14.842Z"
   },
   {
    "duration": 390,
    "start_time": "2024-01-15T13:46:15.105Z"
   },
   {
    "duration": 463,
    "start_time": "2024-01-15T13:46:15.497Z"
   },
   {
    "duration": 474,
    "start_time": "2024-01-15T13:46:15.962Z"
   },
   {
    "duration": 472,
    "start_time": "2024-01-15T13:46:16.438Z"
   },
   {
    "duration": 794,
    "start_time": "2024-01-15T13:46:16.912Z"
   },
   {
    "duration": 678,
    "start_time": "2024-01-15T13:46:17.708Z"
   },
   {
    "duration": 5,
    "start_time": "2024-01-15T13:46:18.387Z"
   },
   {
    "duration": 808,
    "start_time": "2024-01-15T13:46:18.393Z"
   },
   {
    "duration": 404,
    "start_time": "2024-01-15T13:46:19.203Z"
   },
   {
    "duration": 6,
    "start_time": "2024-01-15T13:46:19.609Z"
   },
   {
    "duration": 81,
    "start_time": "2024-01-15T13:46:19.617Z"
   },
   {
    "duration": 313,
    "start_time": "2024-01-15T13:46:19.700Z"
   },
   {
    "duration": 87,
    "start_time": "2024-01-15T13:46:20.015Z"
   },
   {
    "duration": 245,
    "start_time": "2024-01-15T13:46:20.105Z"
   },
   {
    "duration": 7,
    "start_time": "2024-01-15T13:46:20.352Z"
   },
   {
    "duration": 44,
    "start_time": "2024-01-15T13:46:20.361Z"
   },
   {
    "duration": 12,
    "start_time": "2024-01-15T13:46:20.407Z"
   },
   {
    "duration": 11,
    "start_time": "2024-01-15T13:46:20.420Z"
   },
   {
    "duration": 8,
    "start_time": "2024-01-15T13:46:20.432Z"
   },
   {
    "duration": 62,
    "start_time": "2024-01-15T13:46:20.441Z"
   },
   {
    "duration": 15,
    "start_time": "2024-01-15T13:46:20.504Z"
   },
   {
    "duration": 354,
    "start_time": "2024-01-15T14:16:04.454Z"
   },
   {
    "duration": 341,
    "start_time": "2024-01-15T14:16:14.456Z"
   },
   {
    "duration": 385,
    "start_time": "2024-01-15T14:17:59.680Z"
   },
   {
    "duration": 498,
    "start_time": "2024-01-15T14:18:12.413Z"
   },
   {
    "duration": 378,
    "start_time": "2024-01-15T14:18:20.363Z"
   },
   {
    "duration": 200,
    "start_time": "2024-01-15T14:18:39.816Z"
   },
   {
    "duration": 8,
    "start_time": "2024-01-15T14:20:13.177Z"
   },
   {
    "duration": 5,
    "start_time": "2024-01-15T14:20:27.105Z"
   },
   {
    "duration": 5,
    "start_time": "2024-01-15T14:20:58.510Z"
   },
   {
    "duration": 6,
    "start_time": "2024-01-15T14:21:05.199Z"
   },
   {
    "duration": 5,
    "start_time": "2024-01-15T14:21:12.159Z"
   },
   {
    "duration": 10,
    "start_time": "2024-01-15T14:28:04.094Z"
   },
   {
    "duration": 8,
    "start_time": "2024-01-15T14:28:07.723Z"
   },
   {
    "duration": 31,
    "start_time": "2024-01-15T14:28:07.858Z"
   },
   {
    "duration": 17,
    "start_time": "2024-01-15T14:28:11.960Z"
   },
   {
    "duration": 9,
    "start_time": "2024-01-15T14:29:39.169Z"
   },
   {
    "duration": 8,
    "start_time": "2024-01-15T14:29:41.752Z"
   },
   {
    "duration": 40,
    "start_time": "2024-01-15T14:29:42.719Z"
   },
   {
    "duration": 16,
    "start_time": "2024-01-15T14:29:45.664Z"
   },
   {
    "duration": 35,
    "start_time": "2024-01-15T14:30:30.620Z"
   },
   {
    "duration": 16,
    "start_time": "2024-01-15T14:30:46.932Z"
   },
   {
    "duration": 10,
    "start_time": "2024-01-15T14:31:54.478Z"
   },
   {
    "duration": 10,
    "start_time": "2024-01-15T14:31:59.944Z"
   },
   {
    "duration": 8,
    "start_time": "2024-01-15T14:32:02.437Z"
   },
   {
    "duration": 28,
    "start_time": "2024-01-15T14:32:03.780Z"
   },
   {
    "duration": 15,
    "start_time": "2024-01-15T14:32:05.989Z"
   },
   {
    "duration": 39,
    "start_time": "2024-01-15T14:32:12.889Z"
   },
   {
    "duration": 18,
    "start_time": "2024-01-15T14:32:15.049Z"
   },
   {
    "duration": 16,
    "start_time": "2024-01-15T14:33:12.481Z"
   },
   {
    "duration": 27,
    "start_time": "2024-01-15T14:33:34.685Z"
   },
   {
    "duration": 31,
    "start_time": "2024-01-15T16:21:59.888Z"
   },
   {
    "duration": 28,
    "start_time": "2024-01-15T16:22:26.082Z"
   },
   {
    "duration": 28,
    "start_time": "2024-01-15T16:22:40.289Z"
   },
   {
    "duration": 18,
    "start_time": "2024-01-15T16:23:34.012Z"
   },
   {
    "duration": 10,
    "start_time": "2024-01-15T16:52:37.836Z"
   },
   {
    "duration": 78,
    "start_time": "2024-01-15T16:56:45.668Z"
   },
   {
    "duration": 1289,
    "start_time": "2024-01-15T16:58:34.554Z"
   },
   {
    "duration": 36,
    "start_time": "2024-01-15T16:58:35.845Z"
   },
   {
    "duration": 15,
    "start_time": "2024-01-15T16:58:35.883Z"
   },
   {
    "duration": 16,
    "start_time": "2024-01-15T16:58:35.900Z"
   },
   {
    "duration": 62,
    "start_time": "2024-01-15T16:58:35.918Z"
   },
   {
    "duration": 8,
    "start_time": "2024-01-15T16:58:35.982Z"
   },
   {
    "duration": 314,
    "start_time": "2024-01-15T16:58:35.992Z"
   },
   {
    "duration": 394,
    "start_time": "2024-01-15T16:58:36.307Z"
   },
   {
    "duration": 386,
    "start_time": "2024-01-15T16:58:36.703Z"
   },
   {
    "duration": 455,
    "start_time": "2024-01-15T16:58:37.090Z"
   },
   {
    "duration": 414,
    "start_time": "2024-01-15T16:58:37.546Z"
   },
   {
    "duration": 471,
    "start_time": "2024-01-15T16:58:37.962Z"
   },
   {
    "duration": 327,
    "start_time": "2024-01-15T16:58:38.434Z"
   },
   {
    "duration": 5,
    "start_time": "2024-01-15T16:58:38.765Z"
   },
   {
    "duration": 368,
    "start_time": "2024-01-15T16:58:38.781Z"
   },
   {
    "duration": 283,
    "start_time": "2024-01-15T16:58:39.150Z"
   },
   {
    "duration": 5,
    "start_time": "2024-01-15T16:58:39.435Z"
   },
   {
    "duration": 41,
    "start_time": "2024-01-15T16:58:39.441Z"
   },
   {
    "duration": 171,
    "start_time": "2024-01-15T16:58:39.484Z"
   },
   {
    "duration": 42,
    "start_time": "2024-01-15T16:58:39.657Z"
   },
   {
    "duration": 151,
    "start_time": "2024-01-15T16:58:39.701Z"
   },
   {
    "duration": 28,
    "start_time": "2024-01-15T16:58:39.854Z"
   },
   {
    "duration": 28,
    "start_time": "2024-01-15T16:58:39.884Z"
   },
   {
    "duration": 11,
    "start_time": "2024-01-15T16:58:39.913Z"
   },
   {
    "duration": 9,
    "start_time": "2024-01-15T16:58:39.926Z"
   },
   {
    "duration": 8,
    "start_time": "2024-01-15T16:58:39.936Z"
   },
   {
    "duration": 38,
    "start_time": "2024-01-15T16:58:39.945Z"
   },
   {
    "duration": 16,
    "start_time": "2024-01-15T16:58:39.984Z"
   },
   {
    "duration": 9,
    "start_time": "2024-01-15T17:10:53.479Z"
   },
   {
    "duration": 111,
    "start_time": "2024-01-15T17:11:39.399Z"
   },
   {
    "duration": 12,
    "start_time": "2024-01-15T17:12:02.057Z"
   },
   {
    "duration": 40,
    "start_time": "2024-01-15T17:12:26.891Z"
   },
   {
    "duration": 44,
    "start_time": "2024-01-15T17:12:35.788Z"
   },
   {
    "duration": 11,
    "start_time": "2024-01-15T17:12:39.318Z"
   },
   {
    "duration": 162,
    "start_time": "2024-01-15T17:13:03.261Z"
   },
   {
    "duration": 19,
    "start_time": "2024-01-15T17:13:19.946Z"
   },
   {
    "duration": 179,
    "start_time": "2024-01-15T17:13:29.437Z"
   },
   {
    "duration": 296,
    "start_time": "2024-01-15T17:13:35.270Z"
   },
   {
    "duration": 153,
    "start_time": "2024-01-15T17:13:47.946Z"
   },
   {
    "duration": 8,
    "start_time": "2024-01-15T17:14:02.376Z"
   },
   {
    "duration": 145,
    "start_time": "2024-01-15T17:15:15.362Z"
   },
   {
    "duration": 149,
    "start_time": "2024-01-15T17:16:28.023Z"
   },
   {
    "duration": 154,
    "start_time": "2024-01-15T17:16:43.328Z"
   },
   {
    "duration": 363,
    "start_time": "2024-01-15T17:17:54.038Z"
   },
   {
    "duration": 456,
    "start_time": "2024-01-15T17:22:01.207Z"
   },
   {
    "duration": 26,
    "start_time": "2024-01-15T17:30:21.255Z"
   },
   {
    "duration": 11,
    "start_time": "2024-01-15T17:33:52.324Z"
   },
   {
    "duration": 27,
    "start_time": "2024-01-15T17:35:21.208Z"
   },
   {
    "duration": 26,
    "start_time": "2024-01-15T17:36:27.252Z"
   },
   {
    "duration": 11,
    "start_time": "2024-01-15T17:37:04.701Z"
   },
   {
    "duration": 16,
    "start_time": "2024-01-15T17:43:04.471Z"
   },
   {
    "duration": 1184,
    "start_time": "2024-01-15T18:19:08.920Z"
   },
   {
    "duration": 35,
    "start_time": "2024-01-15T18:19:10.105Z"
   },
   {
    "duration": 13,
    "start_time": "2024-01-15T18:19:10.141Z"
   },
   {
    "duration": 13,
    "start_time": "2024-01-15T18:19:10.155Z"
   },
   {
    "duration": 75,
    "start_time": "2024-01-15T18:19:10.169Z"
   },
   {
    "duration": 8,
    "start_time": "2024-01-15T18:19:10.245Z"
   },
   {
    "duration": 271,
    "start_time": "2024-01-15T18:19:10.255Z"
   },
   {
    "duration": 402,
    "start_time": "2024-01-15T18:19:10.528Z"
   },
   {
    "duration": 387,
    "start_time": "2024-01-15T18:19:10.932Z"
   },
   {
    "duration": 498,
    "start_time": "2024-01-15T18:19:11.322Z"
   },
   {
    "duration": 443,
    "start_time": "2024-01-15T18:19:11.821Z"
   },
   {
    "duration": 734,
    "start_time": "2024-01-15T18:19:12.266Z"
   },
   {
    "duration": 694,
    "start_time": "2024-01-15T18:19:13.001Z"
   },
   {
    "duration": 5,
    "start_time": "2024-01-15T18:19:13.696Z"
   },
   {
    "duration": 707,
    "start_time": "2024-01-15T18:19:13.703Z"
   },
   {
    "duration": 589,
    "start_time": "2024-01-15T18:19:14.412Z"
   },
   {
    "duration": 5,
    "start_time": "2024-01-15T18:19:15.003Z"
   },
   {
    "duration": 113,
    "start_time": "2024-01-15T18:19:15.009Z"
   },
   {
    "duration": 361,
    "start_time": "2024-01-15T18:19:15.124Z"
   },
   {
    "duration": 28,
    "start_time": "2024-01-15T18:19:15.487Z"
   },
   {
    "duration": 154,
    "start_time": "2024-01-15T18:19:15.516Z"
   },
   {
    "duration": 14,
    "start_time": "2024-01-15T18:19:15.671Z"
   },
   {
    "duration": 36,
    "start_time": "2024-01-15T18:19:15.686Z"
   },
   {
    "duration": 11,
    "start_time": "2024-01-15T18:19:15.723Z"
   },
   {
    "duration": 10,
    "start_time": "2024-01-15T18:19:15.736Z"
   },
   {
    "duration": 37,
    "start_time": "2024-01-15T18:19:15.747Z"
   },
   {
    "duration": 35,
    "start_time": "2024-01-15T18:19:15.785Z"
   },
   {
    "duration": 19,
    "start_time": "2024-01-15T18:19:15.822Z"
   },
   {
    "duration": 14,
    "start_time": "2024-01-15T19:24:19.086Z"
   },
   {
    "duration": 11,
    "start_time": "2024-01-15T19:24:28.257Z"
   },
   {
    "duration": 120,
    "start_time": "2024-01-15T19:25:18.966Z"
   },
   {
    "duration": 11,
    "start_time": "2024-01-15T19:25:23.541Z"
   },
   {
    "duration": 7,
    "start_time": "2024-01-15T19:25:33.028Z"
   },
   {
    "duration": 5,
    "start_time": "2024-01-15T19:26:20.440Z"
   },
   {
    "duration": 14,
    "start_time": "2024-01-15T19:26:51.084Z"
   },
   {
    "duration": 7,
    "start_time": "2024-01-15T19:26:57.701Z"
   },
   {
    "duration": 17,
    "start_time": "2024-01-15T19:27:37.480Z"
   },
   {
    "duration": 17,
    "start_time": "2024-01-15T19:28:38.526Z"
   },
   {
    "duration": 23,
    "start_time": "2024-01-15T19:29:37.514Z"
   },
   {
    "duration": 20,
    "start_time": "2024-01-15T19:30:16.946Z"
   },
   {
    "duration": 19,
    "start_time": "2024-01-15T19:30:32.977Z"
   },
   {
    "duration": 18,
    "start_time": "2024-01-15T19:31:12.985Z"
   },
   {
    "duration": 71,
    "start_time": "2024-01-15T19:33:34.433Z"
   },
   {
    "duration": 18,
    "start_time": "2024-01-15T19:34:08.272Z"
   },
   {
    "duration": 12,
    "start_time": "2024-01-15T19:34:11.759Z"
   },
   {
    "duration": 1385,
    "start_time": "2024-01-15T19:34:23.934Z"
   },
   {
    "duration": 35,
    "start_time": "2024-01-15T19:34:25.321Z"
   },
   {
    "duration": 13,
    "start_time": "2024-01-15T19:34:25.358Z"
   },
   {
    "duration": 24,
    "start_time": "2024-01-15T19:34:25.373Z"
   },
   {
    "duration": 81,
    "start_time": "2024-01-15T19:34:25.400Z"
   },
   {
    "duration": 20,
    "start_time": "2024-01-15T19:34:25.483Z"
   },
   {
    "duration": 19,
    "start_time": "2024-01-15T19:34:25.505Z"
   },
   {
    "duration": 15,
    "start_time": "2024-01-15T19:34:25.525Z"
   },
   {
    "duration": 48,
    "start_time": "2024-01-15T19:34:25.541Z"
   },
   {
    "duration": 346,
    "start_time": "2024-01-15T19:34:25.592Z"
   },
   {
    "duration": 384,
    "start_time": "2024-01-15T19:34:25.939Z"
   },
   {
    "duration": 296,
    "start_time": "2024-01-15T19:34:26.325Z"
   },
   {
    "duration": 405,
    "start_time": "2024-01-15T19:34:26.622Z"
   },
   {
    "duration": 349,
    "start_time": "2024-01-15T19:34:27.031Z"
   },
   {
    "duration": 383,
    "start_time": "2024-01-15T19:34:27.382Z"
   },
   {
    "duration": 338,
    "start_time": "2024-01-15T19:34:27.767Z"
   },
   {
    "duration": 5,
    "start_time": "2024-01-15T19:34:28.107Z"
   },
   {
    "duration": 385,
    "start_time": "2024-01-15T19:34:28.114Z"
   },
   {
    "duration": 290,
    "start_time": "2024-01-15T19:34:28.501Z"
   },
   {
    "duration": 5,
    "start_time": "2024-01-15T19:34:28.792Z"
   },
   {
    "duration": 48,
    "start_time": "2024-01-15T19:34:28.799Z"
   },
   {
    "duration": 195,
    "start_time": "2024-01-15T19:34:28.849Z"
   },
   {
    "duration": 47,
    "start_time": "2024-01-15T19:34:29.046Z"
   },
   {
    "duration": 159,
    "start_time": "2024-01-15T19:34:29.094Z"
   },
   {
    "duration": 7,
    "start_time": "2024-01-15T19:34:29.255Z"
   },
   {
    "duration": 38,
    "start_time": "2024-01-15T19:34:29.264Z"
   },
   {
    "duration": 11,
    "start_time": "2024-01-15T19:34:29.304Z"
   },
   {
    "duration": 9,
    "start_time": "2024-01-15T19:34:29.317Z"
   },
   {
    "duration": 8,
    "start_time": "2024-01-15T19:34:29.328Z"
   },
   {
    "duration": 60,
    "start_time": "2024-01-15T19:34:29.337Z"
   },
   {
    "duration": 18,
    "start_time": "2024-01-15T19:34:29.399Z"
   },
   {
    "duration": 409,
    "start_time": "2024-01-15T20:27:51.041Z"
   },
   {
    "duration": 3,
    "start_time": "2024-01-15T20:28:02.492Z"
   },
   {
    "duration": 45,
    "start_time": "2024-01-15T20:28:02.497Z"
   },
   {
    "duration": 14,
    "start_time": "2024-01-15T20:28:02.543Z"
   },
   {
    "duration": 17,
    "start_time": "2024-01-15T20:28:02.559Z"
   },
   {
    "duration": 69,
    "start_time": "2024-01-15T20:28:02.577Z"
   },
   {
    "duration": 18,
    "start_time": "2024-01-15T20:28:02.647Z"
   },
   {
    "duration": 17,
    "start_time": "2024-01-15T20:28:02.666Z"
   },
   {
    "duration": 3,
    "start_time": "2024-01-15T20:28:08.497Z"
   },
   {
    "duration": 45,
    "start_time": "2024-01-15T20:28:08.502Z"
   },
   {
    "duration": 11,
    "start_time": "2024-01-15T20:28:08.549Z"
   },
   {
    "duration": 24,
    "start_time": "2024-01-15T20:28:08.562Z"
   },
   {
    "duration": 63,
    "start_time": "2024-01-15T20:28:08.588Z"
   },
   {
    "duration": 19,
    "start_time": "2024-01-15T20:28:08.653Z"
   },
   {
    "duration": 18,
    "start_time": "2024-01-15T20:28:08.674Z"
   },
   {
    "duration": 13,
    "start_time": "2024-01-15T20:28:08.693Z"
   },
   {
    "duration": 7,
    "start_time": "2024-01-15T20:28:08.708Z"
   },
   {
    "duration": 302,
    "start_time": "2024-01-15T20:28:08.716Z"
   },
   {
    "duration": 284,
    "start_time": "2024-01-15T20:28:09.020Z"
   },
   {
    "duration": 289,
    "start_time": "2024-01-15T20:28:09.305Z"
   },
   {
    "duration": 372,
    "start_time": "2024-01-15T20:28:09.595Z"
   },
   {
    "duration": 301,
    "start_time": "2024-01-15T20:28:09.968Z"
   },
   {
    "duration": 545,
    "start_time": "2024-01-15T20:28:10.270Z"
   },
   {
    "duration": 677,
    "start_time": "2024-01-15T20:28:10.816Z"
   },
   {
    "duration": 5,
    "start_time": "2024-01-15T20:28:11.495Z"
   },
   {
    "duration": 611,
    "start_time": "2024-01-15T20:28:11.502Z"
   },
   {
    "duration": 203,
    "start_time": "2024-01-15T20:28:12.115Z"
   },
   {
    "duration": 5,
    "start_time": "2024-01-15T20:28:12.320Z"
   },
   {
    "duration": 134,
    "start_time": "2024-01-15T20:28:12.327Z"
   },
   {
    "duration": 191,
    "start_time": "2024-01-15T20:28:12.464Z"
   },
   {
    "duration": 34,
    "start_time": "2024-01-15T20:28:12.657Z"
   },
   {
    "duration": 158,
    "start_time": "2024-01-15T20:28:12.693Z"
   },
   {
    "duration": 6,
    "start_time": "2024-01-15T20:28:12.853Z"
   },
   {
    "duration": 35,
    "start_time": "2024-01-15T20:28:12.860Z"
   },
   {
    "duration": 11,
    "start_time": "2024-01-15T20:28:12.897Z"
   },
   {
    "duration": 16,
    "start_time": "2024-01-15T20:28:12.910Z"
   },
   {
    "duration": 7,
    "start_time": "2024-01-15T20:28:12.930Z"
   },
   {
    "duration": 54,
    "start_time": "2024-01-15T20:28:12.939Z"
   },
   {
    "duration": 22,
    "start_time": "2024-01-15T20:28:12.995Z"
   },
   {
    "duration": 294,
    "start_time": "2024-01-15T20:28:38.497Z"
   },
   {
    "duration": 3,
    "start_time": "2024-01-15T20:28:41.260Z"
   },
   {
    "duration": 40,
    "start_time": "2024-01-15T20:28:41.265Z"
   },
   {
    "duration": 11,
    "start_time": "2024-01-15T20:28:41.306Z"
   },
   {
    "duration": 11,
    "start_time": "2024-01-15T20:28:41.319Z"
   },
   {
    "duration": 62,
    "start_time": "2024-01-15T20:28:41.332Z"
   },
   {
    "duration": 17,
    "start_time": "2024-01-15T20:28:41.396Z"
   },
   {
    "duration": 16,
    "start_time": "2024-01-15T20:28:41.415Z"
   },
   {
    "duration": 60,
    "start_time": "2024-01-15T20:28:41.433Z"
   },
   {
    "duration": 7,
    "start_time": "2024-01-15T20:28:41.495Z"
   },
   {
    "duration": 298,
    "start_time": "2024-01-15T20:28:41.504Z"
   },
   {
    "duration": 282,
    "start_time": "2024-01-15T20:28:41.803Z"
   },
   {
    "duration": 281,
    "start_time": "2024-01-15T20:28:42.086Z"
   },
   {
    "duration": 383,
    "start_time": "2024-01-15T20:28:42.368Z"
   },
   {
    "duration": 303,
    "start_time": "2024-01-15T20:28:42.753Z"
   },
   {
    "duration": 547,
    "start_time": "2024-01-15T20:28:43.058Z"
   },
   {
    "duration": 677,
    "start_time": "2024-01-15T20:28:43.607Z"
   },
   {
    "duration": 5,
    "start_time": "2024-01-15T20:28:44.286Z"
   },
   {
    "duration": 633,
    "start_time": "2024-01-15T20:28:44.292Z"
   },
   {
    "duration": 198,
    "start_time": "2024-01-15T20:28:44.927Z"
   },
   {
    "duration": 6,
    "start_time": "2024-01-15T20:28:45.126Z"
   },
   {
    "duration": 27,
    "start_time": "2024-01-15T20:28:45.133Z"
   },
   {
    "duration": 203,
    "start_time": "2024-01-15T20:28:45.161Z"
   },
   {
    "duration": 40,
    "start_time": "2024-01-15T20:28:45.365Z"
   },
   {
    "duration": 149,
    "start_time": "2024-01-15T20:28:45.408Z"
   },
   {
    "duration": 6,
    "start_time": "2024-01-15T20:28:45.559Z"
   },
   {
    "duration": 43,
    "start_time": "2024-01-15T20:28:45.566Z"
   },
   {
    "duration": 11,
    "start_time": "2024-01-15T20:28:45.610Z"
   },
   {
    "duration": 17,
    "start_time": "2024-01-15T20:28:45.623Z"
   },
   {
    "duration": 12,
    "start_time": "2024-01-15T20:28:45.641Z"
   },
   {
    "duration": 53,
    "start_time": "2024-01-15T20:28:45.654Z"
   },
   {
    "duration": 17,
    "start_time": "2024-01-15T20:28:45.708Z"
   },
   {
    "duration": 4,
    "start_time": "2024-01-15T20:29:43.082Z"
   },
   {
    "duration": 37,
    "start_time": "2024-01-15T20:29:43.088Z"
   },
   {
    "duration": 12,
    "start_time": "2024-01-15T20:29:43.127Z"
   },
   {
    "duration": 30,
    "start_time": "2024-01-15T20:29:43.141Z"
   },
   {
    "duration": 74,
    "start_time": "2024-01-15T20:29:43.172Z"
   },
   {
    "duration": 18,
    "start_time": "2024-01-15T20:29:43.248Z"
   },
   {
    "duration": 17,
    "start_time": "2024-01-15T20:29:43.267Z"
   },
   {
    "duration": 16,
    "start_time": "2024-01-15T20:29:48.964Z"
   },
   {
    "duration": 3,
    "start_time": "2024-01-15T20:30:10.462Z"
   },
   {
    "duration": 34,
    "start_time": "2024-01-15T20:30:10.467Z"
   },
   {
    "duration": 12,
    "start_time": "2024-01-15T20:30:10.502Z"
   },
   {
    "duration": 27,
    "start_time": "2024-01-15T20:30:10.516Z"
   },
   {
    "duration": 65,
    "start_time": "2024-01-15T20:30:10.544Z"
   },
   {
    "duration": 19,
    "start_time": "2024-01-15T20:30:10.611Z"
   },
   {
    "duration": 23,
    "start_time": "2024-01-15T20:30:10.632Z"
   },
   {
    "duration": 18,
    "start_time": "2024-01-15T20:30:12.767Z"
   },
   {
    "duration": 3,
    "start_time": "2024-01-15T20:30:28.964Z"
   },
   {
    "duration": 45,
    "start_time": "2024-01-15T20:30:28.969Z"
   },
   {
    "duration": 11,
    "start_time": "2024-01-15T20:30:29.016Z"
   },
   {
    "duration": 37,
    "start_time": "2024-01-15T20:30:29.029Z"
   },
   {
    "duration": 58,
    "start_time": "2024-01-15T20:30:29.069Z"
   },
   {
    "duration": 21,
    "start_time": "2024-01-15T20:30:29.129Z"
   },
   {
    "duration": 19,
    "start_time": "2024-01-15T20:30:29.152Z"
   },
   {
    "duration": 25,
    "start_time": "2024-01-15T20:30:31.116Z"
   },
   {
    "duration": 334,
    "start_time": "2024-01-15T20:30:41.659Z"
   },
   {
    "duration": 3,
    "start_time": "2024-01-15T20:30:48.281Z"
   },
   {
    "duration": 35,
    "start_time": "2024-01-15T20:30:48.286Z"
   },
   {
    "duration": 12,
    "start_time": "2024-01-15T20:30:48.323Z"
   },
   {
    "duration": 27,
    "start_time": "2024-01-15T20:30:48.337Z"
   },
   {
    "duration": 66,
    "start_time": "2024-01-15T20:30:48.367Z"
   },
   {
    "duration": 22,
    "start_time": "2024-01-15T20:30:48.434Z"
   },
   {
    "duration": 20,
    "start_time": "2024-01-15T20:30:48.457Z"
   },
   {
    "duration": 39,
    "start_time": "2024-01-15T20:30:48.479Z"
   },
   {
    "duration": 8,
    "start_time": "2024-01-15T20:30:48.520Z"
   },
   {
    "duration": 319,
    "start_time": "2024-01-15T20:30:48.530Z"
   },
   {
    "duration": 371,
    "start_time": "2024-01-15T20:30:48.852Z"
   },
   {
    "duration": 286,
    "start_time": "2024-01-15T20:30:49.225Z"
   },
   {
    "duration": 372,
    "start_time": "2024-01-15T20:30:49.513Z"
   },
   {
    "duration": 299,
    "start_time": "2024-01-15T20:30:49.887Z"
   },
   {
    "duration": 382,
    "start_time": "2024-01-15T20:30:50.187Z"
   },
   {
    "duration": 326,
    "start_time": "2024-01-15T20:30:50.570Z"
   },
   {
    "duration": 5,
    "start_time": "2024-01-15T20:30:50.897Z"
   },
   {
    "duration": 364,
    "start_time": "2024-01-15T20:30:50.904Z"
   },
   {
    "duration": 198,
    "start_time": "2024-01-15T20:30:51.270Z"
   },
   {
    "duration": 13,
    "start_time": "2024-01-15T20:30:51.470Z"
   },
   {
    "duration": 38,
    "start_time": "2024-01-15T20:30:51.484Z"
   },
   {
    "duration": 194,
    "start_time": "2024-01-15T20:30:51.524Z"
   },
   {
    "duration": 28,
    "start_time": "2024-01-15T20:30:51.720Z"
   },
   {
    "duration": 159,
    "start_time": "2024-01-15T20:30:51.749Z"
   },
   {
    "duration": 6,
    "start_time": "2024-01-15T20:30:51.909Z"
   },
   {
    "duration": 28,
    "start_time": "2024-01-15T20:30:51.916Z"
   },
   {
    "duration": 11,
    "start_time": "2024-01-15T20:30:51.946Z"
   },
   {
    "duration": 31,
    "start_time": "2024-01-15T20:30:51.959Z"
   },
   {
    "duration": 7,
    "start_time": "2024-01-15T20:30:51.993Z"
   },
   {
    "duration": 90,
    "start_time": "2024-01-15T20:30:52.002Z"
   },
   {
    "duration": 27,
    "start_time": "2024-01-15T20:30:52.094Z"
   },
   {
    "duration": 12,
    "start_time": "2024-01-15T20:31:14.869Z"
   },
   {
    "duration": 9,
    "start_time": "2024-01-15T20:31:17.392Z"
   },
   {
    "duration": 8,
    "start_time": "2024-01-15T20:31:45.490Z"
   },
   {
    "duration": 6,
    "start_time": "2024-01-15T20:32:03.482Z"
   },
   {
    "duration": 4,
    "start_time": "2024-01-15T20:32:36.164Z"
   },
   {
    "duration": 4,
    "start_time": "2024-01-15T20:33:36.225Z"
   },
   {
    "duration": 11,
    "start_time": "2024-01-15T20:33:39.884Z"
   },
   {
    "duration": 4,
    "start_time": "2024-01-15T20:33:47.974Z"
   },
   {
    "duration": 3,
    "start_time": "2024-01-15T20:34:00.815Z"
   },
   {
    "duration": 4,
    "start_time": "2024-01-15T20:34:11.507Z"
   },
   {
    "duration": 4,
    "start_time": "2024-01-15T20:35:10.583Z"
   },
   {
    "duration": 324,
    "start_time": "2024-01-15T20:36:17.635Z"
   },
   {
    "duration": 4,
    "start_time": "2024-01-15T20:36:26.565Z"
   },
   {
    "duration": 74,
    "start_time": "2024-01-15T20:36:26.570Z"
   },
   {
    "duration": 12,
    "start_time": "2024-01-15T20:36:26.646Z"
   },
   {
    "duration": 33,
    "start_time": "2024-01-15T20:36:26.660Z"
   },
   {
    "duration": 90,
    "start_time": "2024-01-15T20:36:26.695Z"
   },
   {
    "duration": 18,
    "start_time": "2024-01-15T20:36:26.787Z"
   },
   {
    "duration": 17,
    "start_time": "2024-01-15T20:36:26.807Z"
   },
   {
    "duration": 16,
    "start_time": "2024-01-15T20:36:26.825Z"
   },
   {
    "duration": 1120,
    "start_time": "2024-01-15T21:10:06.234Z"
   },
   {
    "duration": 36,
    "start_time": "2024-01-15T21:10:07.356Z"
   },
   {
    "duration": 12,
    "start_time": "2024-01-15T21:10:07.396Z"
   },
   {
    "duration": 15,
    "start_time": "2024-01-15T21:10:07.410Z"
   },
   {
    "duration": 81,
    "start_time": "2024-01-15T21:10:07.426Z"
   },
   {
    "duration": 19,
    "start_time": "2024-01-15T21:10:07.509Z"
   },
   {
    "duration": 17,
    "start_time": "2024-01-15T21:10:07.529Z"
   },
   {
    "duration": 37,
    "start_time": "2024-01-15T21:10:07.548Z"
   },
   {
    "duration": 13,
    "start_time": "2024-01-15T21:10:07.587Z"
   },
   {
    "duration": 324,
    "start_time": "2024-01-15T21:10:07.601Z"
   },
   {
    "duration": 373,
    "start_time": "2024-01-15T21:10:07.926Z"
   },
   {
    "duration": 292,
    "start_time": "2024-01-15T21:10:08.301Z"
   },
   {
    "duration": 375,
    "start_time": "2024-01-15T21:10:08.596Z"
   },
   {
    "duration": 327,
    "start_time": "2024-01-15T21:10:08.973Z"
   },
   {
    "duration": 354,
    "start_time": "2024-01-15T21:10:09.302Z"
   },
   {
    "duration": 335,
    "start_time": "2024-01-15T21:10:09.658Z"
   },
   {
    "duration": 5,
    "start_time": "2024-01-15T21:10:09.995Z"
   },
   {
    "duration": 353,
    "start_time": "2024-01-15T21:10:10.002Z"
   },
   {
    "duration": 268,
    "start_time": "2024-01-15T21:10:10.356Z"
   },
   {
    "duration": 4,
    "start_time": "2024-01-15T21:10:10.626Z"
   },
   {
    "duration": 34,
    "start_time": "2024-01-15T21:10:10.632Z"
   },
   {
    "duration": 193,
    "start_time": "2024-01-15T21:10:10.668Z"
   },
   {
    "duration": 38,
    "start_time": "2024-01-15T21:10:10.862Z"
   },
   {
    "duration": 168,
    "start_time": "2024-01-15T21:10:10.902Z"
   },
   {
    "duration": 13,
    "start_time": "2024-01-15T21:10:11.072Z"
   },
   {
    "duration": 31,
    "start_time": "2024-01-15T21:10:11.087Z"
   },
   {
    "duration": 11,
    "start_time": "2024-01-15T21:10:11.120Z"
   },
   {
    "duration": 8,
    "start_time": "2024-01-15T21:10:11.133Z"
   },
   {
    "duration": 35,
    "start_time": "2024-01-15T21:10:11.143Z"
   },
   {
    "duration": 42,
    "start_time": "2024-01-15T21:10:11.180Z"
   },
   {
    "duration": 16,
    "start_time": "2024-01-15T21:10:11.224Z"
   },
   {
    "duration": 99,
    "start_time": "2024-01-15T21:14:10.595Z"
   },
   {
    "duration": 10,
    "start_time": "2024-01-15T21:14:30.451Z"
   },
   {
    "duration": 10,
    "start_time": "2024-01-15T21:14:37.160Z"
   },
   {
    "duration": 3,
    "start_time": "2024-01-15T21:14:50.401Z"
   },
   {
    "duration": 19,
    "start_time": "2024-01-15T21:14:55.829Z"
   },
   {
    "duration": 3,
    "start_time": "2024-01-15T21:15:10.929Z"
   },
   {
    "duration": 6,
    "start_time": "2024-01-15T21:15:27.824Z"
   },
   {
    "duration": 1299,
    "start_time": "2024-01-15T21:15:59.562Z"
   },
   {
    "duration": 6,
    "start_time": "2024-01-15T21:16:10.003Z"
   },
   {
    "duration": 7,
    "start_time": "2024-01-15T21:16:17.513Z"
   },
   {
    "duration": 13,
    "start_time": "2024-01-15T21:21:06.870Z"
   },
   {
    "duration": 1135,
    "start_time": "2024-01-15T21:24:15.913Z"
   },
   {
    "duration": 35,
    "start_time": "2024-01-15T21:24:17.050Z"
   },
   {
    "duration": 12,
    "start_time": "2024-01-15T21:24:17.087Z"
   },
   {
    "duration": 12,
    "start_time": "2024-01-15T21:24:17.101Z"
   },
   {
    "duration": 59,
    "start_time": "2024-01-15T21:24:17.114Z"
   },
   {
    "duration": 21,
    "start_time": "2024-01-15T21:24:17.175Z"
   },
   {
    "duration": 19,
    "start_time": "2024-01-15T21:24:17.197Z"
   },
   {
    "duration": 17,
    "start_time": "2024-01-15T21:24:17.217Z"
   },
   {
    "duration": 7,
    "start_time": "2024-01-15T21:24:17.236Z"
   },
   {
    "duration": 328,
    "start_time": "2024-01-15T21:24:17.245Z"
   },
   {
    "duration": 20,
    "start_time": "2024-01-15T21:24:17.575Z"
   },
   {
    "duration": 397,
    "start_time": "2024-01-15T21:24:17.596Z"
   },
   {
    "duration": 284,
    "start_time": "2024-01-15T21:24:17.995Z"
   },
   {
    "duration": 378,
    "start_time": "2024-01-15T21:24:18.281Z"
   },
   {
    "duration": 339,
    "start_time": "2024-01-15T21:24:18.661Z"
   },
   {
    "duration": 358,
    "start_time": "2024-01-15T21:24:19.002Z"
   },
   {
    "duration": 320,
    "start_time": "2024-01-15T21:24:19.362Z"
   },
   {
    "duration": 6,
    "start_time": "2024-01-15T21:24:19.683Z"
   },
   {
    "duration": 361,
    "start_time": "2024-01-15T21:24:19.690Z"
   },
   {
    "duration": 279,
    "start_time": "2024-01-15T21:24:20.052Z"
   },
   {
    "duration": 5,
    "start_time": "2024-01-15T21:24:20.332Z"
   },
   {
    "duration": 43,
    "start_time": "2024-01-15T21:24:20.339Z"
   },
   {
    "duration": 189,
    "start_time": "2024-01-15T21:24:20.383Z"
   },
   {
    "duration": 33,
    "start_time": "2024-01-15T21:24:20.574Z"
   },
   {
    "duration": 157,
    "start_time": "2024-01-15T21:24:20.609Z"
   },
   {
    "duration": 16,
    "start_time": "2024-01-15T21:24:20.768Z"
   },
   {
    "duration": 33,
    "start_time": "2024-01-15T21:24:20.786Z"
   },
   {
    "duration": 12,
    "start_time": "2024-01-15T21:24:20.822Z"
   },
   {
    "duration": 10,
    "start_time": "2024-01-15T21:24:20.835Z"
   },
   {
    "duration": 33,
    "start_time": "2024-01-15T21:24:20.846Z"
   },
   {
    "duration": 28,
    "start_time": "2024-01-15T21:24:20.881Z"
   },
   {
    "duration": 17,
    "start_time": "2024-01-15T21:24:20.910Z"
   },
   {
    "duration": 47,
    "start_time": "2024-01-18T13:42:45.334Z"
   },
   {
    "duration": 1015,
    "start_time": "2024-01-18T13:42:48.788Z"
   },
   {
    "duration": 77,
    "start_time": "2024-01-18T13:42:49.804Z"
   },
   {
    "duration": 12,
    "start_time": "2024-01-18T13:42:49.882Z"
   },
   {
    "duration": 12,
    "start_time": "2024-01-18T13:42:49.895Z"
   },
   {
    "duration": 131,
    "start_time": "2024-01-18T13:42:49.908Z"
   },
   {
    "duration": 20,
    "start_time": "2024-01-18T13:42:50.040Z"
   },
   {
    "duration": 25,
    "start_time": "2024-01-18T13:42:50.062Z"
   },
   {
    "duration": 17,
    "start_time": "2024-01-18T13:42:50.088Z"
   },
   {
    "duration": 18,
    "start_time": "2024-01-18T13:42:50.106Z"
   },
   {
    "duration": 281,
    "start_time": "2024-01-18T13:42:50.126Z"
   },
   {
    "duration": 13,
    "start_time": "2024-01-18T13:42:50.408Z"
   },
   {
    "duration": 337,
    "start_time": "2024-01-18T13:42:50.422Z"
   },
   {
    "duration": 253,
    "start_time": "2024-01-18T13:42:50.760Z"
   },
   {
    "duration": 382,
    "start_time": "2024-01-18T13:42:51.015Z"
   },
   {
    "duration": 560,
    "start_time": "2024-01-18T13:42:51.399Z"
   },
   {
    "duration": 537,
    "start_time": "2024-01-18T13:42:51.961Z"
   },
   {
    "duration": 470,
    "start_time": "2024-01-18T13:42:52.500Z"
   },
   {
    "duration": 4,
    "start_time": "2024-01-18T13:42:52.972Z"
   },
   {
    "duration": 318,
    "start_time": "2024-01-18T13:42:52.978Z"
   },
   {
    "duration": 265,
    "start_time": "2024-01-18T13:42:53.298Z"
   },
   {
    "duration": 4,
    "start_time": "2024-01-18T13:42:53.565Z"
   },
   {
    "duration": 27,
    "start_time": "2024-01-18T13:42:53.570Z"
   },
   {
    "duration": 186,
    "start_time": "2024-01-18T13:42:53.598Z"
   },
   {
    "duration": 26,
    "start_time": "2024-01-18T13:42:53.786Z"
   },
   {
    "duration": 136,
    "start_time": "2024-01-18T13:42:53.814Z"
   },
   {
    "duration": 9,
    "start_time": "2024-01-18T13:42:53.952Z"
   },
   {
    "duration": 26,
    "start_time": "2024-01-18T13:42:53.962Z"
   },
   {
    "duration": 4,
    "start_time": "2024-01-18T13:42:53.991Z"
   },
   {
    "duration": 15,
    "start_time": "2024-01-18T13:42:53.997Z"
   },
   {
    "duration": 9,
    "start_time": "2024-01-18T13:42:54.013Z"
   },
   {
    "duration": 17,
    "start_time": "2024-01-18T13:42:54.023Z"
   },
   {
    "duration": 39,
    "start_time": "2024-01-18T13:42:54.041Z"
   },
   {
    "duration": 14,
    "start_time": "2024-01-18T13:42:54.082Z"
   }
  ],
  "kernelspec": {
   "display_name": "Python 3 (ipykernel)",
   "language": "python",
   "name": "python3"
  },
  "language_info": {
   "codemirror_mode": {
    "name": "ipython",
    "version": 3
   },
   "file_extension": ".py",
   "mimetype": "text/x-python",
   "name": "python",
   "nbconvert_exporter": "python",
   "pygments_lexer": "ipython3",
   "version": "3.9.5"
  },
  "toc": {
   "base_numbering": 1,
   "nav_menu": {},
   "number_sections": true,
   "sideBar": true,
   "skip_h1_title": true,
   "title_cell": "Table of Contents",
   "title_sidebar": "Contents",
   "toc_cell": false,
   "toc_position": {
    "height": "calc(100% - 180px)",
    "left": "10px",
    "top": "150px",
    "width": "441.844px"
   },
   "toc_section_display": true,
   "toc_window_display": false
  }
 },
 "nbformat": 4,
 "nbformat_minor": 4
}
