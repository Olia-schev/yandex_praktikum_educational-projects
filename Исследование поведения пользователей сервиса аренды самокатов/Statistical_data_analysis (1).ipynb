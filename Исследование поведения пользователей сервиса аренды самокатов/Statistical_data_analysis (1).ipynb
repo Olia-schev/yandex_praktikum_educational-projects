{
 "cells": [
  {
   "cell_type": "markdown",
   "id": "ff20af9c-bceb-424a-b8b3-6858729e560b",
   "metadata": {},
   "source": [
    "# **Исследование поведения пользователей сервиса аренды самокатов**\n",
    "\n",
    "**Описание проекта**\n",
    "\n",
    "Популярному сервису аренды самокатов GoFast требуется помощь в проверке некоторых гипотез для увеличения выручки. Есть данные о некоторых пользователях из нескольких городов, а также об их поездках. "
   ]
  },
  {
   "cell_type": "markdown",
   "id": "5f257ae9-417d-4cf8-be38-b0e0d19f1945",
   "metadata": {},
   "source": [
    "**Задачи**\n",
    "\n",
    "Проверить гипотезы:\n",
    "* Тратят ли пользователи с подпиской больше времени на поездки? \n",
    "* Можно ли сказать, что расстояние, которое проезжают пользователи с подпиской за одну поездку, не превышает 3130 метров? \n",
    "* Будет ли помесячная выручка от пользователей с подпиской по месяцам выше, чем выручка от пользователей без подписки. \n",
    "* Снизилось ли количество обращений в поддержку после обновления сервера, с которым взаимодействует мобильное приложение?\n",
    "\n",
    "Решить задачи с помощью распределений:\n",
    "* Какое минимальное количество промокодов нужно разослать, чтобы вероятность не выполнить план была примерно 5 %. Подобрать параметры распределения, описывающего эту ситуацию.\n",
    "*  С помощью аппроксимации построить примерный график распределения и оценить вероятность того, что уведомление откроют не более 399,5 тыс. пользователей."
   ]
  },
  {
   "cell_type": "markdown",
   "id": "10565e85-afd3-45a9-86c3-0d25e64675b5",
   "metadata": {},
   "source": [
    "**Импорт необходимых библиотек**"
   ]
  },
  {
   "cell_type": "code",
   "execution_count": 1,
   "id": "5a3f740e-49a3-4167-96ad-18257170ce76",
   "metadata": {},
   "outputs": [],
   "source": [
    "import pandas as pd\n",
    "import matplotlib.pyplot as plt\n",
    "import numpy as np\n",
    "from math import sqrt\n",
    "from scipy import stats as st\n",
    "from scipy. stats import norm\n",
    "from scipy.stats import binom\n"
   ]
  },
  {
   "cell_type": "markdown",
   "id": "a6bf5e10-13aa-4d0f-b62c-8c767a2b7afa",
   "metadata": {},
   "source": [
    "**Структура проекта**"
   ]
  },
  {
   "cell_type": "markdown",
   "id": "75199234-afca-4f19-a363-58fb18ff77f2",
   "metadata": {},
   "source": [
    "- [Описание данных;](#review)\n",
    "- [Загрузка данных;](#loading_data)\n",
    "- [Предобработка данных;](#preprocessing)\n",
    "- [Исследовательский анализ данных;](#analysis)\n",
    "- [Объединение данных;](#merging)\n",
    "- [Подсчёт выручки;](#revenue)\n",
    "- [Проверка гипотез;](#hypotheses)\n",
    "- [Распределения;](#distribution)\n",
    "- [Общий вывод.](#results)"
   ]
  },
  {
   "cell_type": "markdown",
   "id": "da74eed4-4147-4066-b649-774fd399e92e",
   "metadata": {},
   "source": [
    "## Описание данных <a id='review'></a>"
   ]
  },
  {
   "cell_type": "markdown",
   "id": "3d792812-f959-4066-8df2-a42a1e2ab8be",
   "metadata": {},
   "source": [
    "В основных данных есть информация о пользователях, их поездках и подписках.\n",
    "\n",
    "**Пользователи — `users_go.csv`**\n",
    "* user_id - уникальный идентификатор пользователя\n",
    "* name - имя пользователя\n",
    "* age - возраст\n",
    "* city - город\n",
    "* subscription_type - тип подписки (free, ultra)\n",
    "\n",
    "**Поездки - `rides_go.csv`**\n",
    "* user_id - уникальный идентификатор пользователя\n",
    "* distance - расстояние, которое пользователь проехал в текущей сессии (в метрах)\n",
    "* duration - продолжительность сессии (в минутах) — время с того момента, как пользователь нажал кнопку «Начать поездку» до момента, как он нажал кнопку «Завершить поездку»\n",
    "* date\tдата совершения поездки\n",
    "\n",
    "**Подписки — `subscriptions_go.csv`**\n",
    "* subscription_type - тип подписки\n",
    "* minute_price - стоимость одной минуты поездки по данной подписке\n",
    "* start_ride_price - стоимость начала поездки\n",
    "* subscription_fee - стоимость ежемесячного платежа\n"
   ]
  },
  {
   "cell_type": "markdown",
   "id": "8548e9da-23e7-4c7e-848e-999a9c617a89",
   "metadata": {},
   "source": [
    "## Загрузка данных <a id='loading_data'></a>"
   ]
  },
  {
   "cell_type": "markdown",
   "id": "3fa3c420-b275-43de-8c9f-0c69e883f5ff",
   "metadata": {},
   "source": [
    "**Пользователи — `users_go.csv`**\n",
    "\n",
    "`Путь к файлу:` /datasets/users_go.csv"
   ]
  },
  {
   "cell_type": "code",
   "execution_count": 2,
   "id": "1e55c77e-46af-45ff-bbef-d59eb740ba59",
   "metadata": {},
   "outputs": [
    {
     "data": {
      "text/html": [
       "<div>\n",
       "<style scoped>\n",
       "    .dataframe tbody tr th:only-of-type {\n",
       "        vertical-align: middle;\n",
       "    }\n",
       "\n",
       "    .dataframe tbody tr th {\n",
       "        vertical-align: top;\n",
       "    }\n",
       "\n",
       "    .dataframe thead th {\n",
       "        text-align: right;\n",
       "    }\n",
       "</style>\n",
       "<table border=\"1\" class=\"dataframe\">\n",
       "  <thead>\n",
       "    <tr style=\"text-align: right;\">\n",
       "      <th></th>\n",
       "      <th>user_id</th>\n",
       "      <th>name</th>\n",
       "      <th>age</th>\n",
       "      <th>city</th>\n",
       "      <th>subscription_type</th>\n",
       "    </tr>\n",
       "  </thead>\n",
       "  <tbody>\n",
       "    <tr>\n",
       "      <th>0</th>\n",
       "      <td>1</td>\n",
       "      <td>Кира</td>\n",
       "      <td>22</td>\n",
       "      <td>Тюмень</td>\n",
       "      <td>ultra</td>\n",
       "    </tr>\n",
       "    <tr>\n",
       "      <th>1</th>\n",
       "      <td>2</td>\n",
       "      <td>Станислав</td>\n",
       "      <td>31</td>\n",
       "      <td>Омск</td>\n",
       "      <td>ultra</td>\n",
       "    </tr>\n",
       "    <tr>\n",
       "      <th>2</th>\n",
       "      <td>3</td>\n",
       "      <td>Алексей</td>\n",
       "      <td>20</td>\n",
       "      <td>Москва</td>\n",
       "      <td>ultra</td>\n",
       "    </tr>\n",
       "    <tr>\n",
       "      <th>3</th>\n",
       "      <td>4</td>\n",
       "      <td>Константин</td>\n",
       "      <td>26</td>\n",
       "      <td>Ростов-на-Дону</td>\n",
       "      <td>ultra</td>\n",
       "    </tr>\n",
       "    <tr>\n",
       "      <th>4</th>\n",
       "      <td>5</td>\n",
       "      <td>Адель</td>\n",
       "      <td>28</td>\n",
       "      <td>Омск</td>\n",
       "      <td>ultra</td>\n",
       "    </tr>\n",
       "  </tbody>\n",
       "</table>\n",
       "</div>"
      ],
      "text/plain": [
       "   user_id        name  age            city subscription_type\n",
       "0        1        Кира   22          Тюмень             ultra\n",
       "1        2   Станислав   31            Омск             ultra\n",
       "2        3     Алексей   20          Москва             ultra\n",
       "3        4  Константин   26  Ростов-на-Дону             ultra\n",
       "4        5       Адель   28            Омск             ultra"
      ]
     },
     "metadata": {},
     "output_type": "display_data"
    },
    {
     "name": "stdout",
     "output_type": "stream",
     "text": [
      "<class 'pandas.core.frame.DataFrame'>\n",
      "RangeIndex: 1565 entries, 0 to 1564\n",
      "Data columns (total 5 columns):\n",
      " #   Column             Non-Null Count  Dtype \n",
      "---  ------             --------------  ----- \n",
      " 0   user_id            1565 non-null   int64 \n",
      " 1   name               1565 non-null   object\n",
      " 2   age                1565 non-null   int64 \n",
      " 3   city               1565 non-null   object\n",
      " 4   subscription_type  1565 non-null   object\n",
      "dtypes: int64(2), object(3)\n",
      "memory usage: 61.3+ KB\n"
     ]
    }
   ],
   "source": [
    "users =pd.read_csv('users_go.csv') \n",
    "display(users.head())\n",
    "users.info()"
   ]
  },
  {
   "cell_type": "markdown",
   "id": "b2d79680-ba55-4e3c-a909-1a01d89fef1a",
   "metadata": {},
   "source": [
    "Данные содержат 5 столбцов и 1565 строк. Таблица содержит данные об возрасте, городе проживания и типе подписки пользователей. \n",
    "Типы данных, представленных в таблице int64 и object. Пропусков в данных нет. "
   ]
  },
  {
   "cell_type": "markdown",
   "id": "cc416784-065b-46c0-a304-744b517d00c5",
   "metadata": {},
   "source": [
    "**Поездки - `rides_go.csv`**\n",
    "\n",
    "`Путь к файлу:` /datasets/rides_go.csv\n"
   ]
  },
  {
   "cell_type": "code",
   "execution_count": 3,
   "id": "7027888e-ece4-42bb-84c5-bc3f2dd56caa",
   "metadata": {},
   "outputs": [
    {
     "data": {
      "text/html": [
       "<div>\n",
       "<style scoped>\n",
       "    .dataframe tbody tr th:only-of-type {\n",
       "        vertical-align: middle;\n",
       "    }\n",
       "\n",
       "    .dataframe tbody tr th {\n",
       "        vertical-align: top;\n",
       "    }\n",
       "\n",
       "    .dataframe thead th {\n",
       "        text-align: right;\n",
       "    }\n",
       "</style>\n",
       "<table border=\"1\" class=\"dataframe\">\n",
       "  <thead>\n",
       "    <tr style=\"text-align: right;\">\n",
       "      <th></th>\n",
       "      <th>user_id</th>\n",
       "      <th>distance</th>\n",
       "      <th>duration</th>\n",
       "      <th>date</th>\n",
       "    </tr>\n",
       "  </thead>\n",
       "  <tbody>\n",
       "    <tr>\n",
       "      <th>0</th>\n",
       "      <td>1</td>\n",
       "      <td>4409.919140</td>\n",
       "      <td>25.599769</td>\n",
       "      <td>2021-01-01</td>\n",
       "    </tr>\n",
       "    <tr>\n",
       "      <th>1</th>\n",
       "      <td>1</td>\n",
       "      <td>2617.592153</td>\n",
       "      <td>15.816871</td>\n",
       "      <td>2021-01-18</td>\n",
       "    </tr>\n",
       "    <tr>\n",
       "      <th>2</th>\n",
       "      <td>1</td>\n",
       "      <td>754.159807</td>\n",
       "      <td>6.232113</td>\n",
       "      <td>2021-04-20</td>\n",
       "    </tr>\n",
       "    <tr>\n",
       "      <th>3</th>\n",
       "      <td>1</td>\n",
       "      <td>2694.783254</td>\n",
       "      <td>18.511000</td>\n",
       "      <td>2021-08-11</td>\n",
       "    </tr>\n",
       "    <tr>\n",
       "      <th>4</th>\n",
       "      <td>1</td>\n",
       "      <td>4028.687306</td>\n",
       "      <td>26.265803</td>\n",
       "      <td>2021-08-28</td>\n",
       "    </tr>\n",
       "  </tbody>\n",
       "</table>\n",
       "</div>"
      ],
      "text/plain": [
       "   user_id     distance   duration        date\n",
       "0        1  4409.919140  25.599769  2021-01-01\n",
       "1        1  2617.592153  15.816871  2021-01-18\n",
       "2        1   754.159807   6.232113  2021-04-20\n",
       "3        1  2694.783254  18.511000  2021-08-11\n",
       "4        1  4028.687306  26.265803  2021-08-28"
      ]
     },
     "metadata": {},
     "output_type": "display_data"
    },
    {
     "name": "stdout",
     "output_type": "stream",
     "text": [
      "<class 'pandas.core.frame.DataFrame'>\n",
      "RangeIndex: 18068 entries, 0 to 18067\n",
      "Data columns (total 4 columns):\n",
      " #   Column    Non-Null Count  Dtype  \n",
      "---  ------    --------------  -----  \n",
      " 0   user_id   18068 non-null  int64  \n",
      " 1   distance  18068 non-null  float64\n",
      " 2   duration  18068 non-null  float64\n",
      " 3   date      18068 non-null  object \n",
      "dtypes: float64(2), int64(1), object(1)\n",
      "memory usage: 564.8+ KB\n"
     ]
    },
    {
     "data": {
      "text/plain": [
       "Index(['user_id', 'distance', 'duration', 'date'], dtype='object')"
      ]
     },
     "execution_count": 3,
     "metadata": {},
     "output_type": "execute_result"
    }
   ],
   "source": [
    "rides =pd.read_csv('rides_go.csv') \n",
    "display(rides.head())\n",
    "rides.info()\n",
    "rides.columns"
   ]
  },
  {
   "cell_type": "markdown",
   "id": "0fe07d58-a75c-4fc2-98d7-f8aa190293d8",
   "metadata": {},
   "source": [
    "Данные содержат 4 столбца и 18068 строк. Таблица содержит данные об типе подписки - стоимость одной минуты поездки по данной подписке, стоимость начала поездки и стоимость ежемесячного платежа. Типы данных, представленных в таблице float64, int64 и object."
   ]
  },
  {
   "cell_type": "markdown",
   "id": "bd2b6a89-b227-47fd-abde-490b2afb844c",
   "metadata": {},
   "source": [
    "**Подписки — `subscriptions_go.csv`**\n",
    "\n",
    "`Путь к файлу:`    /datasets/subscriptions_go.csv"
   ]
  },
  {
   "cell_type": "code",
   "execution_count": 4,
   "id": "d7400328-e857-4c20-80ac-5d23049ef0a5",
   "metadata": {},
   "outputs": [
    {
     "data": {
      "text/html": [
       "<div>\n",
       "<style scoped>\n",
       "    .dataframe tbody tr th:only-of-type {\n",
       "        vertical-align: middle;\n",
       "    }\n",
       "\n",
       "    .dataframe tbody tr th {\n",
       "        vertical-align: top;\n",
       "    }\n",
       "\n",
       "    .dataframe thead th {\n",
       "        text-align: right;\n",
       "    }\n",
       "</style>\n",
       "<table border=\"1\" class=\"dataframe\">\n",
       "  <thead>\n",
       "    <tr style=\"text-align: right;\">\n",
       "      <th></th>\n",
       "      <th>subscription_type</th>\n",
       "      <th>minute_price</th>\n",
       "      <th>start_ride_price</th>\n",
       "      <th>subscription_fee</th>\n",
       "    </tr>\n",
       "  </thead>\n",
       "  <tbody>\n",
       "    <tr>\n",
       "      <th>0</th>\n",
       "      <td>free</td>\n",
       "      <td>8</td>\n",
       "      <td>50</td>\n",
       "      <td>0</td>\n",
       "    </tr>\n",
       "    <tr>\n",
       "      <th>1</th>\n",
       "      <td>ultra</td>\n",
       "      <td>6</td>\n",
       "      <td>0</td>\n",
       "      <td>199</td>\n",
       "    </tr>\n",
       "  </tbody>\n",
       "</table>\n",
       "</div>"
      ],
      "text/plain": [
       "  subscription_type  minute_price  start_ride_price  subscription_fee\n",
       "0              free             8                50                 0\n",
       "1             ultra             6                 0               199"
      ]
     },
     "metadata": {},
     "output_type": "display_data"
    },
    {
     "name": "stdout",
     "output_type": "stream",
     "text": [
      "<class 'pandas.core.frame.DataFrame'>\n",
      "RangeIndex: 2 entries, 0 to 1\n",
      "Data columns (total 4 columns):\n",
      " #   Column             Non-Null Count  Dtype \n",
      "---  ------             --------------  ----- \n",
      " 0   subscription_type  2 non-null      object\n",
      " 1   minute_price       2 non-null      int64 \n",
      " 2   start_ride_price   2 non-null      int64 \n",
      " 3   subscription_fee   2 non-null      int64 \n",
      "dtypes: int64(3), object(1)\n",
      "memory usage: 192.0+ bytes\n"
     ]
    }
   ],
   "source": [
    "subscriptions =pd.read_csv('subscriptions_go.csv') \n",
    "display(subscriptions.head())\n",
    "subscriptions.info()"
   ]
  },
  {
   "cell_type": "markdown",
   "id": "c64a2650-6bb9-4347-bed5-e194de950f3e",
   "metadata": {},
   "source": [
    "Данные содержат 4 столбца и 2 строки. Таблица содержит данные об расстоянии, которое пользователь проехал в текущей сессии (в метрах), продолжительность сессии (в минутах), дата совершения поездки. Типы данных, представленных в таблице float64, int64(3) и object(3). Пропусков в данных нет. "
   ]
  },
  {
   "cell_type": "markdown",
   "id": "54dd3b83-40cf-40f6-9944-a12de0a58144",
   "metadata": {},
   "source": [
    "## Предобработка данных <a id='preprocessing'></a>"
   ]
  },
  {
   "cell_type": "markdown",
   "id": "a4ba8600-3f84-46da-87e7-ab8d31801b44",
   "metadata": {},
   "source": [
    "#### Типы данных\n",
    "В таблице `rides_go` данные в столбце `date` имеет тип данных object, изменим его на тип datetime64."
   ]
  },
  {
   "cell_type": "code",
   "execution_count": 5,
   "id": "35709ae8-2a6e-4f9b-929d-fda2b30e6e52",
   "metadata": {},
   "outputs": [
    {
     "data": {
      "text/plain": [
       "0        2021-01-01\n",
       "1        2021-01-18\n",
       "2        2021-04-20\n",
       "3        2021-08-11\n",
       "4        2021-08-28\n",
       "            ...    \n",
       "18063    2021-11-04\n",
       "18064    2021-11-16\n",
       "18065    2021-11-18\n",
       "18066    2021-11-27\n",
       "18067    2021-12-29\n",
       "Name: date, Length: 18068, dtype: object"
      ]
     },
     "execution_count": 5,
     "metadata": {},
     "output_type": "execute_result"
    }
   ],
   "source": [
    "rides['date']"
   ]
  },
  {
   "cell_type": "code",
   "execution_count": 6,
   "id": "55c69102-dfe4-48d7-8b2c-8a35f6958677",
   "metadata": {},
   "outputs": [],
   "source": [
    "rides['date'] = pd.to_datetime(rides['date'],format='%Y-%m-%d')"
   ]
  },
  {
   "cell_type": "code",
   "execution_count": 7,
   "id": "b2721101-446e-4eda-9138-cb10a586830c",
   "metadata": {},
   "outputs": [
    {
     "name": "stdout",
     "output_type": "stream",
     "text": [
      "<class 'pandas.core.frame.DataFrame'>\n",
      "RangeIndex: 18068 entries, 0 to 18067\n",
      "Data columns (total 4 columns):\n",
      " #   Column    Non-Null Count  Dtype         \n",
      "---  ------    --------------  -----         \n",
      " 0   user_id   18068 non-null  int64         \n",
      " 1   distance  18068 non-null  float64       \n",
      " 2   duration  18068 non-null  float64       \n",
      " 3   date      18068 non-null  datetime64[ns]\n",
      "dtypes: datetime64[ns](1), float64(2), int64(1)\n",
      "memory usage: 564.8 KB\n"
     ]
    }
   ],
   "source": [
    "rides.info()"
   ]
  },
  {
   "cell_type": "markdown",
   "id": "76103ee0-1d8e-43c4-999f-2ea907923ed2",
   "metadata": {},
   "source": [
    "#### Добавление в таблицу новых столбцов\n",
    "Создадим новый столбец с номером месяца на основе столбца `date`."
   ]
  },
  {
   "cell_type": "code",
   "execution_count": 8,
   "id": "42e949e3-895f-497a-8d3d-bdb48b895bad",
   "metadata": {},
   "outputs": [],
   "source": [
    "rides['month'] = rides['date'].dt.month"
   ]
  },
  {
   "cell_type": "code",
   "execution_count": 9,
   "id": "9b17ce4f-f730-481b-acf0-8a5f6fcc4a20",
   "metadata": {},
   "outputs": [
    {
     "data": {
      "text/html": [
       "<div>\n",
       "<style scoped>\n",
       "    .dataframe tbody tr th:only-of-type {\n",
       "        vertical-align: middle;\n",
       "    }\n",
       "\n",
       "    .dataframe tbody tr th {\n",
       "        vertical-align: top;\n",
       "    }\n",
       "\n",
       "    .dataframe thead th {\n",
       "        text-align: right;\n",
       "    }\n",
       "</style>\n",
       "<table border=\"1\" class=\"dataframe\">\n",
       "  <thead>\n",
       "    <tr style=\"text-align: right;\">\n",
       "      <th></th>\n",
       "      <th>user_id</th>\n",
       "      <th>distance</th>\n",
       "      <th>duration</th>\n",
       "      <th>date</th>\n",
       "      <th>month</th>\n",
       "    </tr>\n",
       "  </thead>\n",
       "  <tbody>\n",
       "    <tr>\n",
       "      <th>0</th>\n",
       "      <td>1</td>\n",
       "      <td>4409.919140</td>\n",
       "      <td>25.599769</td>\n",
       "      <td>2021-01-01</td>\n",
       "      <td>1</td>\n",
       "    </tr>\n",
       "    <tr>\n",
       "      <th>1</th>\n",
       "      <td>1</td>\n",
       "      <td>2617.592153</td>\n",
       "      <td>15.816871</td>\n",
       "      <td>2021-01-18</td>\n",
       "      <td>1</td>\n",
       "    </tr>\n",
       "    <tr>\n",
       "      <th>2</th>\n",
       "      <td>1</td>\n",
       "      <td>754.159807</td>\n",
       "      <td>6.232113</td>\n",
       "      <td>2021-04-20</td>\n",
       "      <td>4</td>\n",
       "    </tr>\n",
       "    <tr>\n",
       "      <th>3</th>\n",
       "      <td>1</td>\n",
       "      <td>2694.783254</td>\n",
       "      <td>18.511000</td>\n",
       "      <td>2021-08-11</td>\n",
       "      <td>8</td>\n",
       "    </tr>\n",
       "    <tr>\n",
       "      <th>4</th>\n",
       "      <td>1</td>\n",
       "      <td>4028.687306</td>\n",
       "      <td>26.265803</td>\n",
       "      <td>2021-08-28</td>\n",
       "      <td>8</td>\n",
       "    </tr>\n",
       "  </tbody>\n",
       "</table>\n",
       "</div>"
      ],
      "text/plain": [
       "   user_id     distance   duration       date  month\n",
       "0        1  4409.919140  25.599769 2021-01-01      1\n",
       "1        1  2617.592153  15.816871 2021-01-18      1\n",
       "2        1   754.159807   6.232113 2021-04-20      4\n",
       "3        1  2694.783254  18.511000 2021-08-11      8\n",
       "4        1  4028.687306  26.265803 2021-08-28      8"
      ]
     },
     "execution_count": 9,
     "metadata": {},
     "output_type": "execute_result"
    }
   ],
   "source": [
    "rides.head(5)"
   ]
  },
  {
   "cell_type": "markdown",
   "id": "5e6e88ca-94de-4559-929b-9125f40df160",
   "metadata": {},
   "source": [
    "#### Работа с пропусками: и дубликатами**\n",
    "Проверим наличие пропущенных значений и дубликатов в датафреймах и обработаем их."
   ]
  },
  {
   "cell_type": "code",
   "execution_count": 10,
   "id": "28499055-4287-4e6a-98ca-b26b47d36db0",
   "metadata": {},
   "outputs": [
    {
     "data": {
      "text/plain": [
       "31"
      ]
     },
     "execution_count": 10,
     "metadata": {},
     "output_type": "execute_result"
    }
   ],
   "source": [
    "users.duplicated().sum()"
   ]
  },
  {
   "cell_type": "code",
   "execution_count": 11,
   "id": "3b33198a-3fbf-4144-aa5d-2c25b2975a38",
   "metadata": {},
   "outputs": [
    {
     "data": {
      "text/plain": [
       "0"
      ]
     },
     "execution_count": 11,
     "metadata": {},
     "output_type": "execute_result"
    }
   ],
   "source": [
    "rides.duplicated().sum()"
   ]
  },
  {
   "cell_type": "code",
   "execution_count": 12,
   "id": "285cfbe0-dc45-408c-9aa0-e7f061fc0059",
   "metadata": {},
   "outputs": [
    {
     "data": {
      "text/plain": [
       "0"
      ]
     },
     "execution_count": 12,
     "metadata": {},
     "output_type": "execute_result"
    }
   ],
   "source": [
    "subscriptions.duplicated().sum()"
   ]
  },
  {
   "cell_type": "markdown",
   "id": "81808173-e51c-4c11-bb56-9d3416d9aabe",
   "metadata": {},
   "source": [
    "При загрузке данных было выявлено, что пропусков в данных нет, однако таблица `users` содержит 31 строку с явными дубликатами. Удалим дубликаты."
   ]
  },
  {
   "cell_type": "code",
   "execution_count": 13,
   "id": "83ab7181-1277-4a0d-84c8-ec393d099427",
   "metadata": {},
   "outputs": [
    {
     "data": {
      "text/html": [
       "<div>\n",
       "<style scoped>\n",
       "    .dataframe tbody tr th:only-of-type {\n",
       "        vertical-align: middle;\n",
       "    }\n",
       "\n",
       "    .dataframe tbody tr th {\n",
       "        vertical-align: top;\n",
       "    }\n",
       "\n",
       "    .dataframe thead th {\n",
       "        text-align: right;\n",
       "    }\n",
       "</style>\n",
       "<table border=\"1\" class=\"dataframe\">\n",
       "  <thead>\n",
       "    <tr style=\"text-align: right;\">\n",
       "      <th></th>\n",
       "      <th>user_id</th>\n",
       "      <th>name</th>\n",
       "      <th>age</th>\n",
       "      <th>city</th>\n",
       "      <th>subscription_type</th>\n",
       "    </tr>\n",
       "  </thead>\n",
       "  <tbody>\n",
       "    <tr>\n",
       "      <th>0</th>\n",
       "      <td>1</td>\n",
       "      <td>Кира</td>\n",
       "      <td>22</td>\n",
       "      <td>Тюмень</td>\n",
       "      <td>ultra</td>\n",
       "    </tr>\n",
       "    <tr>\n",
       "      <th>1</th>\n",
       "      <td>2</td>\n",
       "      <td>Станислав</td>\n",
       "      <td>31</td>\n",
       "      <td>Омск</td>\n",
       "      <td>ultra</td>\n",
       "    </tr>\n",
       "    <tr>\n",
       "      <th>2</th>\n",
       "      <td>3</td>\n",
       "      <td>Алексей</td>\n",
       "      <td>20</td>\n",
       "      <td>Москва</td>\n",
       "      <td>ultra</td>\n",
       "    </tr>\n",
       "    <tr>\n",
       "      <th>3</th>\n",
       "      <td>4</td>\n",
       "      <td>Константин</td>\n",
       "      <td>26</td>\n",
       "      <td>Ростов-на-Дону</td>\n",
       "      <td>ultra</td>\n",
       "    </tr>\n",
       "    <tr>\n",
       "      <th>4</th>\n",
       "      <td>5</td>\n",
       "      <td>Адель</td>\n",
       "      <td>28</td>\n",
       "      <td>Омск</td>\n",
       "      <td>ultra</td>\n",
       "    </tr>\n",
       "    <tr>\n",
       "      <th>...</th>\n",
       "      <td>...</td>\n",
       "      <td>...</td>\n",
       "      <td>...</td>\n",
       "      <td>...</td>\n",
       "      <td>...</td>\n",
       "    </tr>\n",
       "    <tr>\n",
       "      <th>1529</th>\n",
       "      <td>1530</td>\n",
       "      <td>Ростислав</td>\n",
       "      <td>29</td>\n",
       "      <td>Сочи</td>\n",
       "      <td>free</td>\n",
       "    </tr>\n",
       "    <tr>\n",
       "      <th>1530</th>\n",
       "      <td>1531</td>\n",
       "      <td>Никита</td>\n",
       "      <td>25</td>\n",
       "      <td>Пятигорск</td>\n",
       "      <td>free</td>\n",
       "    </tr>\n",
       "    <tr>\n",
       "      <th>1531</th>\n",
       "      <td>1532</td>\n",
       "      <td>Алексей</td>\n",
       "      <td>26</td>\n",
       "      <td>Тюмень</td>\n",
       "      <td>free</td>\n",
       "    </tr>\n",
       "    <tr>\n",
       "      <th>1532</th>\n",
       "      <td>1533</td>\n",
       "      <td>Степан</td>\n",
       "      <td>22</td>\n",
       "      <td>Краснодар</td>\n",
       "      <td>free</td>\n",
       "    </tr>\n",
       "    <tr>\n",
       "      <th>1533</th>\n",
       "      <td>1534</td>\n",
       "      <td>Альберт</td>\n",
       "      <td>25</td>\n",
       "      <td>Краснодар</td>\n",
       "      <td>free</td>\n",
       "    </tr>\n",
       "  </tbody>\n",
       "</table>\n",
       "<p>1534 rows × 5 columns</p>\n",
       "</div>"
      ],
      "text/plain": [
       "      user_id        name  age            city subscription_type\n",
       "0           1        Кира   22          Тюмень             ultra\n",
       "1           2   Станислав   31            Омск             ultra\n",
       "2           3     Алексей   20          Москва             ultra\n",
       "3           4  Константин   26  Ростов-на-Дону             ultra\n",
       "4           5       Адель   28            Омск             ultra\n",
       "...       ...         ...  ...             ...               ...\n",
       "1529     1530   Ростислав   29            Сочи              free\n",
       "1530     1531      Никита   25       Пятигорск              free\n",
       "1531     1532     Алексей   26          Тюмень              free\n",
       "1532     1533      Степан   22       Краснодар              free\n",
       "1533     1534     Альберт   25       Краснодар              free\n",
       "\n",
       "[1534 rows x 5 columns]"
      ]
     },
     "execution_count": 13,
     "metadata": {},
     "output_type": "execute_result"
    }
   ],
   "source": [
    "users = users.drop_duplicates().reset_index(drop=True)\n",
    "users"
   ]
  },
  {
   "cell_type": "markdown",
   "id": "be7e4403-ad55-4fbe-b67a-8e56cab15637",
   "metadata": {},
   "source": [
    "Теперь таблица содержит 1534 строки."
   ]
  },
  {
   "cell_type": "markdown",
   "id": "47658b12-a0b4-495b-bbf7-88b251718d30",
   "metadata": {},
   "source": [
    "## Исследовательский анализ данных <a id='analysis'></a>\n",
    "Опишем и визуализируем общую информацию о пользователях и поездках."
   ]
  },
  {
   "cell_type": "markdown",
   "id": "54e95def-bcad-478a-b24e-df3b23b2ce85",
   "metadata": {},
   "source": [
    "#### Частота встречаемости городов\n"
   ]
  },
  {
   "cell_type": "code",
   "execution_count": 14,
   "id": "b8847f7d-edb1-447e-9598-d5f85f8a42f7",
   "metadata": {},
   "outputs": [
    {
     "data": {
      "image/png": "[encoded data removed]",
      "text/plain": [
       "<Figure size 432x288 with 1 Axes>"
      ]
     },
     "metadata": {
      "needs_background": "light"
     },
     "output_type": "display_data"
    },
    {
     "data": {
      "text/plain": [
       "Москва            168\n",
       "Тюмень            180\n",
       "Омск              183\n",
       "Сочи              189\n",
       "Краснодар         193\n",
       "Ростов-на-Дону    198\n",
       "Екатеринбург      204\n",
       "Пятигорск         219\n",
       "Name: city, dtype: int64"
      ]
     },
     "execution_count": 14,
     "metadata": {},
     "output_type": "execute_result"
    }
   ],
   "source": [
    "users['city'].value_counts().plot.bar()\n",
    "plt.title('Частота встречаемости городов')\n",
    "plt.xlabel('Город')\n",
    "plt.ylabel('Частота')\n",
    "plt.show()\n",
    "users['city'].value_counts().sort_values()"
   ]
  },
  {
   "cell_type": "markdown",
   "id": "41a81ca0-3d1c-4efe-87b4-7ce3a9860061",
   "metadata": {},
   "source": [
    "**Вывод**\n",
    "__________\n",
    "Количество пользователей из разных городов варьируется от 168 до 219. Выборку можно считать репрезентативной, так как нет большого разброса между значениями. \n",
    "______"
   ]
  },
  {
   "cell_type": "markdown",
   "id": "a9f6b04e-ce81-4989-adf3-3761a0c636d9",
   "metadata": {},
   "source": [
    "#### Соотношение пользователей с подпиской и без подписки\n"
   ]
  },
  {
   "cell_type": "code",
   "execution_count": 15,
   "id": "5e8f79e0-df96-4f44-880a-6d8133c762e5",
   "metadata": {
    "scrolled": true
   },
   "outputs": [
    {
     "data": {
      "image/png": "[encoded data removed]",
      "text/plain": [
       "<Figure size 432x288 with 1 Axes>"
      ]
     },
     "metadata": {},
     "output_type": "display_data"
    },
    {
     "data": {
      "text/plain": [
       "free     835\n",
       "ultra    699\n",
       "Name: subscription_type, dtype: int64"
      ]
     },
     "execution_count": 15,
     "metadata": {},
     "output_type": "execute_result"
    }
   ],
   "source": [
    "users['subscription_type'].value_counts().plot.pie(autopct='%1.2f%%')\n",
    "plt.title(' Соотношение пользователей с подпиской и без подписки')\n",
    "plt.show()\n",
    "users['subscription_type'].value_counts()"
   ]
  },
  {
   "cell_type": "code",
   "execution_count": 16,
   "id": "d4d24c22",
   "metadata": {},
   "outputs": [
    {
     "data": {
      "text/plain": [
       "pandas.core.series.Series"
      ]
     },
     "execution_count": 16,
     "metadata": {},
     "output_type": "execute_result"
    }
   ],
   "source": [
    "type(users['subscription_type'].value_counts())"
   ]
  },
  {
   "cell_type": "markdown",
   "id": "d5c6011a-ba61-4caa-9a5b-7e2e0bcfa9c1",
   "metadata": {},
   "source": [
    "**Вывод**\n",
    "____\n",
    "Пользователей без подписки больше, чем пользователей с подпиской  на 136 пользователей\n",
    "___"
   ]
  },
  {
   "cell_type": "markdown",
   "id": "cab79148-3085-4c41-b1c3-00aeded01e94",
   "metadata": {},
   "source": [
    "#### Возраст пользователей\n"
   ]
  },
  {
   "cell_type": "code",
   "execution_count": 17,
   "id": "eac793e9-ec7e-4828-978d-160cfb503def",
   "metadata": {},
   "outputs": [
    {
     "data": {
      "image/png": "[encoded data removed]",
      "text/plain": [
       "<Figure size 432x288 with 1 Axes>"
      ]
     },
     "metadata": {
      "needs_background": "light"
     },
     "output_type": "display_data"
    }
   ],
   "source": [
    "users['age'].value_counts().sort_index().plot.bar()\n",
    "plt.title('Частота встречаемости возрастов')\n",
    "plt.xlabel('Возраст')\n",
    "plt.ylabel('Частота')\n",
    "plt.show()"
   ]
  },
  {
   "cell_type": "markdown",
   "id": "2c8e80b7-1929-4592-a5fd-064aaf275ef4",
   "metadata": {},
   "source": [
    "**Вывод**\n",
    "_______\n",
    "Наибольшему количеству пользователей 25 лет. Так же более 100 значений из выборки это пользователи в возрасте от 22 до 28 лет, что логично - у пользователей этой возрастной группы наибольшие финансовые возможности и потребности в быстром и доступном передвижении по городу.  \n",
    "Пользователей младше 18 и старше 32 совсем мало. \n",
    "_______"
   ]
  },
  {
   "cell_type": "markdown",
   "id": "9f2330e0-1e61-48ba-b450-658989ea8e72",
   "metadata": {},
   "source": [
    "#### Расстояние, которое пользователь преодолел за одну поездку\n"
   ]
  },
  {
   "cell_type": "code",
   "execution_count": 18,
   "id": "423d3a26-e3a3-4ace-9abd-51781707d7a8",
   "metadata": {
    "tags": []
   },
   "outputs": [
    {
     "data": {
      "image/png": "[encoded data removed]",
      "text/plain": [
       "<Figure size 432x288 with 1 Axes>"
      ]
     },
     "metadata": {
      "needs_background": "light"
     },
     "output_type": "display_data"
    }
   ],
   "source": [
    "rides['distance'].hist(bins=20)\n",
    "plt.title('Частота, проезжаемых пользователями расстояний')\n",
    "plt.xlabel('Расстояние')\n",
    "plt.ylabel('Частота')\n",
    "plt.show()"
   ]
  },
  {
   "cell_type": "markdown",
   "id": "93d453b8-884f-4c9f-a72e-531a4ff3fedb",
   "metadata": {},
   "source": [
    "**Вывод**\n",
    "________\n",
    "Большинство пользователей проезжает за одну поездку около 3000м. Отдельные пики обнаруживаются также у значений до 1000м\n",
    "____________"
   ]
  },
  {
   "cell_type": "markdown",
   "id": "b6643636-5e4f-47bb-9223-8df198a46ca0",
   "metadata": {},
   "source": [
    "#### Продолжительность поездок"
   ]
  },
  {
   "cell_type": "code",
   "execution_count": 19,
   "id": "83a711c6-c196-4d52-9859-f6c5b6c1c9f4",
   "metadata": {},
   "outputs": [
    {
     "data": {
      "text/plain": [
       "Text(0, 0.5, 'Частота')"
      ]
     },
     "execution_count": 19,
     "metadata": {},
     "output_type": "execute_result"
    },
    {
     "data": {
      "image/png": "[encoded data removed]",
      "text/plain": [
       "<Figure size 432x288 with 1 Axes>"
      ]
     },
     "metadata": {
      "needs_background": "light"
     },
     "output_type": "display_data"
    }
   ],
   "source": [
    "rides['duration'].hist()\n",
    "plt.title('Частота продолжительности поездок')\n",
    "plt.xlabel('Время (мин.)')\n",
    "plt.ylabel('Частота')"
   ]
  },
  {
   "cell_type": "markdown",
   "id": "f350acec-231a-488c-93d2-9bba76a392b6",
   "metadata": {},
   "source": [
    "**Вывод**\n",
    "___\n",
    "Пики наблюдаются у значений в 15-20 минут\n",
    "___"
   ]
  },
  {
   "cell_type": "markdown",
   "id": "1e13ca16-1e7f-4323-9ccc-a289c370f747",
   "metadata": {},
   "source": [
    "## Объединение данных <a id='merging'></a>\n",
    "Объединим данные о пользователях, поездках и подписках в один датафрейм."
   ]
  },
  {
   "cell_type": "code",
   "execution_count": 20,
   "id": "85f8d786-1c64-40cd-a376-2a15f65d54ac",
   "metadata": {},
   "outputs": [
    {
     "data": {
      "text/html": [
       "<div>\n",
       "<style scoped>\n",
       "    .dataframe tbody tr th:only-of-type {\n",
       "        vertical-align: middle;\n",
       "    }\n",
       "\n",
       "    .dataframe tbody tr th {\n",
       "        vertical-align: top;\n",
       "    }\n",
       "\n",
       "    .dataframe thead th {\n",
       "        text-align: right;\n",
       "    }\n",
       "</style>\n",
       "<table border=\"1\" class=\"dataframe\">\n",
       "  <thead>\n",
       "    <tr style=\"text-align: right;\">\n",
       "      <th></th>\n",
       "      <th>user_id</th>\n",
       "      <th>distance</th>\n",
       "      <th>duration</th>\n",
       "      <th>date</th>\n",
       "      <th>month</th>\n",
       "      <th>name</th>\n",
       "      <th>age</th>\n",
       "      <th>city</th>\n",
       "      <th>subscription_type</th>\n",
       "      <th>minute_price</th>\n",
       "      <th>start_ride_price</th>\n",
       "      <th>subscription_fee</th>\n",
       "    </tr>\n",
       "  </thead>\n",
       "  <tbody>\n",
       "    <tr>\n",
       "      <th>0</th>\n",
       "      <td>1</td>\n",
       "      <td>4409.919140</td>\n",
       "      <td>25.599769</td>\n",
       "      <td>2021-01-01</td>\n",
       "      <td>1</td>\n",
       "      <td>Кира</td>\n",
       "      <td>22</td>\n",
       "      <td>Тюмень</td>\n",
       "      <td>ultra</td>\n",
       "      <td>6</td>\n",
       "      <td>0</td>\n",
       "      <td>199</td>\n",
       "    </tr>\n",
       "    <tr>\n",
       "      <th>1</th>\n",
       "      <td>1</td>\n",
       "      <td>2617.592153</td>\n",
       "      <td>15.816871</td>\n",
       "      <td>2021-01-18</td>\n",
       "      <td>1</td>\n",
       "      <td>Кира</td>\n",
       "      <td>22</td>\n",
       "      <td>Тюмень</td>\n",
       "      <td>ultra</td>\n",
       "      <td>6</td>\n",
       "      <td>0</td>\n",
       "      <td>199</td>\n",
       "    </tr>\n",
       "    <tr>\n",
       "      <th>2</th>\n",
       "      <td>1</td>\n",
       "      <td>754.159807</td>\n",
       "      <td>6.232113</td>\n",
       "      <td>2021-04-20</td>\n",
       "      <td>4</td>\n",
       "      <td>Кира</td>\n",
       "      <td>22</td>\n",
       "      <td>Тюмень</td>\n",
       "      <td>ultra</td>\n",
       "      <td>6</td>\n",
       "      <td>0</td>\n",
       "      <td>199</td>\n",
       "    </tr>\n",
       "    <tr>\n",
       "      <th>3</th>\n",
       "      <td>1</td>\n",
       "      <td>2694.783254</td>\n",
       "      <td>18.511000</td>\n",
       "      <td>2021-08-11</td>\n",
       "      <td>8</td>\n",
       "      <td>Кира</td>\n",
       "      <td>22</td>\n",
       "      <td>Тюмень</td>\n",
       "      <td>ultra</td>\n",
       "      <td>6</td>\n",
       "      <td>0</td>\n",
       "      <td>199</td>\n",
       "    </tr>\n",
       "    <tr>\n",
       "      <th>4</th>\n",
       "      <td>1</td>\n",
       "      <td>4028.687306</td>\n",
       "      <td>26.265803</td>\n",
       "      <td>2021-08-28</td>\n",
       "      <td>8</td>\n",
       "      <td>Кира</td>\n",
       "      <td>22</td>\n",
       "      <td>Тюмень</td>\n",
       "      <td>ultra</td>\n",
       "      <td>6</td>\n",
       "      <td>0</td>\n",
       "      <td>199</td>\n",
       "    </tr>\n",
       "  </tbody>\n",
       "</table>\n",
       "</div>"
      ],
      "text/plain": [
       "   user_id     distance   duration       date  month  name  age    city  \\\n",
       "0        1  4409.919140  25.599769 2021-01-01      1  Кира   22  Тюмень   \n",
       "1        1  2617.592153  15.816871 2021-01-18      1  Кира   22  Тюмень   \n",
       "2        1   754.159807   6.232113 2021-04-20      4  Кира   22  Тюмень   \n",
       "3        1  2694.783254  18.511000 2021-08-11      8  Кира   22  Тюмень   \n",
       "4        1  4028.687306  26.265803 2021-08-28      8  Кира   22  Тюмень   \n",
       "\n",
       "  subscription_type  minute_price  start_ride_price  subscription_fee  \n",
       "0             ultra             6                 0               199  \n",
       "1             ultra             6                 0               199  \n",
       "2             ultra             6                 0               199  \n",
       "3             ultra             6                 0               199  \n",
       "4             ultra             6                 0               199  "
      ]
     },
     "execution_count": 20,
     "metadata": {},
     "output_type": "execute_result"
    }
   ],
   "source": [
    "data = rides.merge(users,on='user_id', how='inner')\n",
    "data = data.merge(subscriptions, on='subscription_type',how='inner')\n",
    "data.head(5)"
   ]
  },
  {
   "cell_type": "code",
   "execution_count": 21,
   "id": "8fcdb656",
   "metadata": {},
   "outputs": [
    {
     "name": "stdout",
     "output_type": "stream",
     "text": [
      "Пропусков в таблице: 0, Размер таблицы: 18068\n"
     ]
    }
   ],
   "source": [
    "print(f'Пропусков в таблице: {data.duplicated().sum()}, Размер таблицы: {data.shape[0]}')"
   ]
  },
  {
   "cell_type": "markdown",
   "id": "de4943b6",
   "metadata": {},
   "source": [
    "После объединения таблиц пропусков не возникло, и размер объединенной таблицы соответствует ожидаемому (18068 строк)."
   ]
  },
  {
   "cell_type": "markdown",
   "id": "694cde5c-7a54-41f6-b0ae-64e127623986",
   "metadata": {},
   "source": [
    "Создадим ещё два датафрейма: \n",
    "* С данными о пользователях без подписки;\n",
    "* С данными о пользователях с подпиской."
   ]
  },
  {
   "cell_type": "code",
   "execution_count": 22,
   "id": "d8ab6a9e-e506-457d-8ed2-e6e20dfbd1c1",
   "metadata": {},
   "outputs": [
    {
     "data": {
      "text/html": [
       "<div>\n",
       "<style scoped>\n",
       "    .dataframe tbody tr th:only-of-type {\n",
       "        vertical-align: middle;\n",
       "    }\n",
       "\n",
       "    .dataframe tbody tr th {\n",
       "        vertical-align: top;\n",
       "    }\n",
       "\n",
       "    .dataframe thead th {\n",
       "        text-align: right;\n",
       "    }\n",
       "</style>\n",
       "<table border=\"1\" class=\"dataframe\">\n",
       "  <thead>\n",
       "    <tr style=\"text-align: right;\">\n",
       "      <th></th>\n",
       "      <th>user_id</th>\n",
       "      <th>distance</th>\n",
       "      <th>duration</th>\n",
       "      <th>date</th>\n",
       "      <th>month</th>\n",
       "      <th>name</th>\n",
       "      <th>age</th>\n",
       "      <th>city</th>\n",
       "      <th>subscription_type</th>\n",
       "      <th>minute_price</th>\n",
       "      <th>start_ride_price</th>\n",
       "      <th>subscription_fee</th>\n",
       "    </tr>\n",
       "  </thead>\n",
       "  <tbody>\n",
       "    <tr>\n",
       "      <th>0</th>\n",
       "      <td>1</td>\n",
       "      <td>4409.919140</td>\n",
       "      <td>25.599769</td>\n",
       "      <td>2021-01-01</td>\n",
       "      <td>1</td>\n",
       "      <td>Кира</td>\n",
       "      <td>22</td>\n",
       "      <td>Тюмень</td>\n",
       "      <td>ultra</td>\n",
       "      <td>6</td>\n",
       "      <td>0</td>\n",
       "      <td>199</td>\n",
       "    </tr>\n",
       "    <tr>\n",
       "      <th>1</th>\n",
       "      <td>1</td>\n",
       "      <td>2617.592153</td>\n",
       "      <td>15.816871</td>\n",
       "      <td>2021-01-18</td>\n",
       "      <td>1</td>\n",
       "      <td>Кира</td>\n",
       "      <td>22</td>\n",
       "      <td>Тюмень</td>\n",
       "      <td>ultra</td>\n",
       "      <td>6</td>\n",
       "      <td>0</td>\n",
       "      <td>199</td>\n",
       "    </tr>\n",
       "    <tr>\n",
       "      <th>2</th>\n",
       "      <td>1</td>\n",
       "      <td>754.159807</td>\n",
       "      <td>6.232113</td>\n",
       "      <td>2021-04-20</td>\n",
       "      <td>4</td>\n",
       "      <td>Кира</td>\n",
       "      <td>22</td>\n",
       "      <td>Тюмень</td>\n",
       "      <td>ultra</td>\n",
       "      <td>6</td>\n",
       "      <td>0</td>\n",
       "      <td>199</td>\n",
       "    </tr>\n",
       "    <tr>\n",
       "      <th>3</th>\n",
       "      <td>1</td>\n",
       "      <td>2694.783254</td>\n",
       "      <td>18.511000</td>\n",
       "      <td>2021-08-11</td>\n",
       "      <td>8</td>\n",
       "      <td>Кира</td>\n",
       "      <td>22</td>\n",
       "      <td>Тюмень</td>\n",
       "      <td>ultra</td>\n",
       "      <td>6</td>\n",
       "      <td>0</td>\n",
       "      <td>199</td>\n",
       "    </tr>\n",
       "    <tr>\n",
       "      <th>4</th>\n",
       "      <td>1</td>\n",
       "      <td>4028.687306</td>\n",
       "      <td>26.265803</td>\n",
       "      <td>2021-08-28</td>\n",
       "      <td>8</td>\n",
       "      <td>Кира</td>\n",
       "      <td>22</td>\n",
       "      <td>Тюмень</td>\n",
       "      <td>ultra</td>\n",
       "      <td>6</td>\n",
       "      <td>0</td>\n",
       "      <td>199</td>\n",
       "    </tr>\n",
       "  </tbody>\n",
       "</table>\n",
       "</div>"
      ],
      "text/plain": [
       "   user_id     distance   duration       date  month  name  age    city  \\\n",
       "0        1  4409.919140  25.599769 2021-01-01      1  Кира   22  Тюмень   \n",
       "1        1  2617.592153  15.816871 2021-01-18      1  Кира   22  Тюмень   \n",
       "2        1   754.159807   6.232113 2021-04-20      4  Кира   22  Тюмень   \n",
       "3        1  2694.783254  18.511000 2021-08-11      8  Кира   22  Тюмень   \n",
       "4        1  4028.687306  26.265803 2021-08-28      8  Кира   22  Тюмень   \n",
       "\n",
       "  subscription_type  minute_price  start_ride_price  subscription_fee  \n",
       "0             ultra             6                 0               199  \n",
       "1             ultra             6                 0               199  \n",
       "2             ultra             6                 0               199  \n",
       "3             ultra             6                 0               199  \n",
       "4             ultra             6                 0               199  "
      ]
     },
     "execution_count": 22,
     "metadata": {},
     "output_type": "execute_result"
    }
   ],
   "source": [
    "ultra_sub = data.query('subscription_type == \"ultra\"')\n",
    "ultra_sub.head(5) "
   ]
  },
  {
   "cell_type": "code",
   "execution_count": 23,
   "id": "d710d4ea-351a-41c9-8796-16db0c3e3962",
   "metadata": {},
   "outputs": [
    {
     "data": {
      "text/html": [
       "<div>\n",
       "<style scoped>\n",
       "    .dataframe tbody tr th:only-of-type {\n",
       "        vertical-align: middle;\n",
       "    }\n",
       "\n",
       "    .dataframe tbody tr th {\n",
       "        vertical-align: top;\n",
       "    }\n",
       "\n",
       "    .dataframe thead th {\n",
       "        text-align: right;\n",
       "    }\n",
       "</style>\n",
       "<table border=\"1\" class=\"dataframe\">\n",
       "  <thead>\n",
       "    <tr style=\"text-align: right;\">\n",
       "      <th></th>\n",
       "      <th>user_id</th>\n",
       "      <th>distance</th>\n",
       "      <th>duration</th>\n",
       "      <th>date</th>\n",
       "      <th>month</th>\n",
       "      <th>name</th>\n",
       "      <th>age</th>\n",
       "      <th>city</th>\n",
       "      <th>subscription_type</th>\n",
       "      <th>minute_price</th>\n",
       "      <th>start_ride_price</th>\n",
       "      <th>subscription_fee</th>\n",
       "    </tr>\n",
       "  </thead>\n",
       "  <tbody>\n",
       "    <tr>\n",
       "      <th>6500</th>\n",
       "      <td>700</td>\n",
       "      <td>2515.690719</td>\n",
       "      <td>14.944286</td>\n",
       "      <td>2021-01-02</td>\n",
       "      <td>1</td>\n",
       "      <td>Айдар</td>\n",
       "      <td>22</td>\n",
       "      <td>Омск</td>\n",
       "      <td>free</td>\n",
       "      <td>8</td>\n",
       "      <td>50</td>\n",
       "      <td>0</td>\n",
       "    </tr>\n",
       "    <tr>\n",
       "      <th>6501</th>\n",
       "      <td>700</td>\n",
       "      <td>846.932642</td>\n",
       "      <td>16.234663</td>\n",
       "      <td>2021-02-01</td>\n",
       "      <td>2</td>\n",
       "      <td>Айдар</td>\n",
       "      <td>22</td>\n",
       "      <td>Омск</td>\n",
       "      <td>free</td>\n",
       "      <td>8</td>\n",
       "      <td>50</td>\n",
       "      <td>0</td>\n",
       "    </tr>\n",
       "    <tr>\n",
       "      <th>6502</th>\n",
       "      <td>700</td>\n",
       "      <td>4004.434142</td>\n",
       "      <td>20.016628</td>\n",
       "      <td>2021-02-04</td>\n",
       "      <td>2</td>\n",
       "      <td>Айдар</td>\n",
       "      <td>22</td>\n",
       "      <td>Омск</td>\n",
       "      <td>free</td>\n",
       "      <td>8</td>\n",
       "      <td>50</td>\n",
       "      <td>0</td>\n",
       "    </tr>\n",
       "    <tr>\n",
       "      <th>6503</th>\n",
       "      <td>700</td>\n",
       "      <td>1205.911290</td>\n",
       "      <td>9.782872</td>\n",
       "      <td>2021-02-10</td>\n",
       "      <td>2</td>\n",
       "      <td>Айдар</td>\n",
       "      <td>22</td>\n",
       "      <td>Омск</td>\n",
       "      <td>free</td>\n",
       "      <td>8</td>\n",
       "      <td>50</td>\n",
       "      <td>0</td>\n",
       "    </tr>\n",
       "    <tr>\n",
       "      <th>6504</th>\n",
       "      <td>700</td>\n",
       "      <td>3047.379435</td>\n",
       "      <td>17.427673</td>\n",
       "      <td>2021-02-14</td>\n",
       "      <td>2</td>\n",
       "      <td>Айдар</td>\n",
       "      <td>22</td>\n",
       "      <td>Омск</td>\n",
       "      <td>free</td>\n",
       "      <td>8</td>\n",
       "      <td>50</td>\n",
       "      <td>0</td>\n",
       "    </tr>\n",
       "  </tbody>\n",
       "</table>\n",
       "</div>"
      ],
      "text/plain": [
       "      user_id     distance   duration       date  month   name  age  city  \\\n",
       "6500      700  2515.690719  14.944286 2021-01-02      1  Айдар   22  Омск   \n",
       "6501      700   846.932642  16.234663 2021-02-01      2  Айдар   22  Омск   \n",
       "6502      700  4004.434142  20.016628 2021-02-04      2  Айдар   22  Омск   \n",
       "6503      700  1205.911290   9.782872 2021-02-10      2  Айдар   22  Омск   \n",
       "6504      700  3047.379435  17.427673 2021-02-14      2  Айдар   22  Омск   \n",
       "\n",
       "     subscription_type  minute_price  start_ride_price  subscription_fee  \n",
       "6500              free             8                50                 0  \n",
       "6501              free             8                50                 0  \n",
       "6502              free             8                50                 0  \n",
       "6503              free             8                50                 0  \n",
       "6504              free             8                50                 0  "
      ]
     },
     "execution_count": 23,
     "metadata": {},
     "output_type": "execute_result"
    }
   ],
   "source": [
    "free_sub = data.query('subscription_type == \"free\"')\n",
    "free_sub.head(5)"
   ]
  },
  {
   "cell_type": "markdown",
   "id": "96ac22c4-6c83-435e-80b0-e0cc985fc00e",
   "metadata": {},
   "source": [
    "Визуализируем информацию о расстоянии и времени поездок для пользователей обеих категорий."
   ]
  },
  {
   "cell_type": "code",
   "execution_count": 24,
   "id": "142f21ec-3c1a-41e7-8ef0-0f2843146574",
   "metadata": {},
   "outputs": [
    {
     "data": {
      "image/png": "[encoded data removed]",
      "text/plain": [
       "<Figure size 432x288 with 1 Axes>"
      ]
     },
     "metadata": {
      "needs_background": "light"
     },
     "output_type": "display_data"
    },
    {
     "data": {
      "image/png": "[encoded data removed]",
      "text/plain": [
       "<Figure size 432x288 with 1 Axes>"
      ]
     },
     "metadata": {
      "needs_background": "light"
     },
     "output_type": "display_data"
    }
   ],
   "source": [
    "ultra_sub['distance'].plot(kind='hist',histtype='step',label='Ultra',legend=True, title='distance') \n",
    "free_sub['distance'].plot(kind='hist',histtype='step',label='Free',legend=True) \n",
    "plt.legend\n",
    "plt.show()\n",
    "\n",
    "\n",
    "ultra_sub['duration'].plot(kind='hist',histtype='step',label='Ultra',legend=True, title='duration') \n",
    "free_sub['duration'].plot(kind='hist',histtype='step',label='Free',legend=True) \n",
    "plt.show()\n"
   ]
  },
  {
   "cell_type": "markdown",
   "id": "a138106b-da97-4f26-8503-f7b5870fe459",
   "metadata": {},
   "source": [
    "**Вывод**\n",
    "_______\n",
    "Пики в гистограммах с информацией о расстоянии наблюдаются у значений в 3000 м для пользователей с подпиской и от 2000 до 4000м для пользователей без подписки. Наблюдаются повышенные значения среди пользователей без подписки  от 0 до 1000 метров. Возможно, это связано с тем, что пользователи, у которых нет нужды пользоваться самокатом для перемещения на большие расстояния не оформляют подписку так как это будет дороже. \n",
    "\n",
    "По времени пользования выборки похожи - пики наблюдаются у значений в 15 и 20 минут. \n",
    "_______________"
   ]
  },
  {
   "cell_type": "markdown",
   "id": "b3c7e83d-e4ec-447d-aca4-b140cd243d2e",
   "metadata": {},
   "source": [
    "## Подсчёт выручки <a id='revenue'></a>\n",
    "Создадим датафрейм с агрегированными данными о поездках на основе датафрейма с объединёнными данными таблицы `data`: \n",
    "\n",
    "Найдем суммарное расстояние, количество поездок и суммарное время для каждого пользователя за каждый месяц."
   ]
  },
  {
   "cell_type": "code",
   "execution_count": 25,
   "id": "715fcbe0-0ae1-4495-87cd-bc64c1abe68e",
   "metadata": {},
   "outputs": [
    {
     "data": {
      "text/html": [
       "<div>\n",
       "<style scoped>\n",
       "    .dataframe tbody tr th:only-of-type {\n",
       "        vertical-align: middle;\n",
       "    }\n",
       "\n",
       "    .dataframe tbody tr th {\n",
       "        vertical-align: top;\n",
       "    }\n",
       "\n",
       "    .dataframe thead th {\n",
       "        text-align: right;\n",
       "    }\n",
       "</style>\n",
       "<table border=\"1\" class=\"dataframe\">\n",
       "  <thead>\n",
       "    <tr style=\"text-align: right;\">\n",
       "      <th></th>\n",
       "      <th>user_id</th>\n",
       "      <th>distance</th>\n",
       "      <th>duration</th>\n",
       "      <th>date</th>\n",
       "      <th>month</th>\n",
       "      <th>name</th>\n",
       "      <th>age</th>\n",
       "      <th>city</th>\n",
       "      <th>subscription_type</th>\n",
       "      <th>minute_price</th>\n",
       "      <th>start_ride_price</th>\n",
       "      <th>subscription_fee</th>\n",
       "    </tr>\n",
       "  </thead>\n",
       "  <tbody>\n",
       "    <tr>\n",
       "      <th>0</th>\n",
       "      <td>1</td>\n",
       "      <td>4409.919140</td>\n",
       "      <td>26.0</td>\n",
       "      <td>2021-01-01</td>\n",
       "      <td>1</td>\n",
       "      <td>Кира</td>\n",
       "      <td>22</td>\n",
       "      <td>Тюмень</td>\n",
       "      <td>ultra</td>\n",
       "      <td>6</td>\n",
       "      <td>0</td>\n",
       "      <td>199</td>\n",
       "    </tr>\n",
       "    <tr>\n",
       "      <th>1</th>\n",
       "      <td>1</td>\n",
       "      <td>2617.592153</td>\n",
       "      <td>16.0</td>\n",
       "      <td>2021-01-18</td>\n",
       "      <td>1</td>\n",
       "      <td>Кира</td>\n",
       "      <td>22</td>\n",
       "      <td>Тюмень</td>\n",
       "      <td>ultra</td>\n",
       "      <td>6</td>\n",
       "      <td>0</td>\n",
       "      <td>199</td>\n",
       "    </tr>\n",
       "    <tr>\n",
       "      <th>2</th>\n",
       "      <td>1</td>\n",
       "      <td>754.159807</td>\n",
       "      <td>7.0</td>\n",
       "      <td>2021-04-20</td>\n",
       "      <td>4</td>\n",
       "      <td>Кира</td>\n",
       "      <td>22</td>\n",
       "      <td>Тюмень</td>\n",
       "      <td>ultra</td>\n",
       "      <td>6</td>\n",
       "      <td>0</td>\n",
       "      <td>199</td>\n",
       "    </tr>\n",
       "    <tr>\n",
       "      <th>3</th>\n",
       "      <td>1</td>\n",
       "      <td>2694.783254</td>\n",
       "      <td>19.0</td>\n",
       "      <td>2021-08-11</td>\n",
       "      <td>8</td>\n",
       "      <td>Кира</td>\n",
       "      <td>22</td>\n",
       "      <td>Тюмень</td>\n",
       "      <td>ultra</td>\n",
       "      <td>6</td>\n",
       "      <td>0</td>\n",
       "      <td>199</td>\n",
       "    </tr>\n",
       "    <tr>\n",
       "      <th>4</th>\n",
       "      <td>1</td>\n",
       "      <td>4028.687306</td>\n",
       "      <td>27.0</td>\n",
       "      <td>2021-08-28</td>\n",
       "      <td>8</td>\n",
       "      <td>Кира</td>\n",
       "      <td>22</td>\n",
       "      <td>Тюмень</td>\n",
       "      <td>ultra</td>\n",
       "      <td>6</td>\n",
       "      <td>0</td>\n",
       "      <td>199</td>\n",
       "    </tr>\n",
       "  </tbody>\n",
       "</table>\n",
       "</div>"
      ],
      "text/plain": [
       "   user_id     distance  duration       date  month  name  age    city  \\\n",
       "0        1  4409.919140      26.0 2021-01-01      1  Кира   22  Тюмень   \n",
       "1        1  2617.592153      16.0 2021-01-18      1  Кира   22  Тюмень   \n",
       "2        1   754.159807       7.0 2021-04-20      4  Кира   22  Тюмень   \n",
       "3        1  2694.783254      19.0 2021-08-11      8  Кира   22  Тюмень   \n",
       "4        1  4028.687306      27.0 2021-08-28      8  Кира   22  Тюмень   \n",
       "\n",
       "  subscription_type  minute_price  start_ride_price  subscription_fee  \n",
       "0             ultra             6                 0               199  \n",
       "1             ultra             6                 0               199  \n",
       "2             ultra             6                 0               199  \n",
       "3             ultra             6                 0               199  \n",
       "4             ultra             6                 0               199  "
      ]
     },
     "execution_count": 25,
     "metadata": {},
     "output_type": "execute_result"
    }
   ],
   "source": [
    "#округлим продолжительность каждой поездки в каждой строке исходного датафрейма  до следующего целого числа.\n",
    "data['duration'] = np.ceil(data['duration'])\n",
    "data.head(5)"
   ]
  },
  {
   "cell_type": "code",
   "execution_count": 26,
   "id": "3f35d650-9ff8-4ba3-be4a-1ce5ad475c43",
   "metadata": {
    "tags": []
   },
   "outputs": [
    {
     "data": {
      "text/html": [
       "<div>\n",
       "<style scoped>\n",
       "    .dataframe tbody tr th:only-of-type {\n",
       "        vertical-align: middle;\n",
       "    }\n",
       "\n",
       "    .dataframe tbody tr th {\n",
       "        vertical-align: top;\n",
       "    }\n",
       "\n",
       "    .dataframe thead th {\n",
       "        text-align: right;\n",
       "    }\n",
       "</style>\n",
       "<table border=\"1\" class=\"dataframe\">\n",
       "  <thead>\n",
       "    <tr style=\"text-align: right;\">\n",
       "      <th></th>\n",
       "      <th>user_id</th>\n",
       "      <th>month</th>\n",
       "      <th>count</th>\n",
       "      <th>distance_sum</th>\n",
       "      <th>duration_sum</th>\n",
       "    </tr>\n",
       "  </thead>\n",
       "  <tbody>\n",
       "    <tr>\n",
       "      <th>0</th>\n",
       "      <td>1</td>\n",
       "      <td>1</td>\n",
       "      <td>2</td>\n",
       "      <td>7027.511294</td>\n",
       "      <td>42.0</td>\n",
       "    </tr>\n",
       "    <tr>\n",
       "      <th>1</th>\n",
       "      <td>1</td>\n",
       "      <td>4</td>\n",
       "      <td>1</td>\n",
       "      <td>754.159807</td>\n",
       "      <td>7.0</td>\n",
       "    </tr>\n",
       "    <tr>\n",
       "      <th>2</th>\n",
       "      <td>1</td>\n",
       "      <td>8</td>\n",
       "      <td>2</td>\n",
       "      <td>6723.470560</td>\n",
       "      <td>46.0</td>\n",
       "    </tr>\n",
       "    <tr>\n",
       "      <th>3</th>\n",
       "      <td>1</td>\n",
       "      <td>10</td>\n",
       "      <td>2</td>\n",
       "      <td>5809.911100</td>\n",
       "      <td>32.0</td>\n",
       "    </tr>\n",
       "    <tr>\n",
       "      <th>4</th>\n",
       "      <td>1</td>\n",
       "      <td>11</td>\n",
       "      <td>3</td>\n",
       "      <td>7003.499363</td>\n",
       "      <td>56.0</td>\n",
       "    </tr>\n",
       "  </tbody>\n",
       "</table>\n",
       "</div>"
      ],
      "text/plain": [
       "   user_id  month  count  distance_sum  duration_sum\n",
       "0        1      1      2   7027.511294          42.0\n",
       "1        1      4      1    754.159807           7.0\n",
       "2        1      8      2   6723.470560          46.0\n",
       "3        1     10      2   5809.911100          32.0\n",
       "4        1     11      3   7003.499363          56.0"
      ]
     },
     "execution_count": 26,
     "metadata": {},
     "output_type": "execute_result"
    }
   ],
   "source": [
    "data_pivot = data.groupby(['user_id','month']).agg({'month':'count', \n",
    "                                                     'distance':'sum', \n",
    "                                                     'duration':'sum' })\n",
    "data_pivot.columns = ['count','distance_sum','duration_sum' ]\n",
    "data_pivot = data_pivot.reset_index()\n",
    "data_pivot.head(5)"
   ]
  },
  {
   "cell_type": "markdown",
   "id": "90e11668-ffcf-4bfb-ab4a-b27d8774968f",
   "metadata": {},
   "source": [
    "В этот же датафрейм добавим столбец с помесячной выручкой, которую принёс каждый пользователь. \n",
    "\n",
    "Для этого обратимся к информации об условиях оплаты для подписчиков и тех, у кого нет подписки:\n",
    "* без подписки\n",
    "    - абонентская плата отсутствует;\n",
    "    - стоимость одной минуты поездки —  8 рублей;\n",
    "    - стоимость старта (начала поездки) — 50 рублей;\n",
    "* с подпиской Ultra\n",
    "    - абонентская плата — 199 рублей в месяц;\n",
    "    - стоимость одной минуты поездки —  6 рублей;\n",
    "    - стоимость старта — бесплатно."
   ]
  },
  {
   "cell_type": "code",
   "execution_count": 27,
   "id": "001dafed-a726-48a3-aa7b-40e24cb3219c",
   "metadata": {},
   "outputs": [
    {
     "name": "stderr",
     "output_type": "stream",
     "text": [
      "C:\\Users\\scheo\\AppData\\Local\\Temp/ipykernel_1184/62024646.py:2: FutureWarning: Indexing with multiple keys (implicitly converted to a tuple of keys) will be deprecated, use a list instead.\n",
      "  user_pivot = data.groupby('user_id')['minute_price','start_ride_price','subscription_fee'].mean()\n"
     ]
    },
    {
     "data": {
      "text/html": [
       "<div>\n",
       "<style scoped>\n",
       "    .dataframe tbody tr th:only-of-type {\n",
       "        vertical-align: middle;\n",
       "    }\n",
       "\n",
       "    .dataframe tbody tr th {\n",
       "        vertical-align: top;\n",
       "    }\n",
       "\n",
       "    .dataframe thead th {\n",
       "        text-align: right;\n",
       "    }\n",
       "</style>\n",
       "<table border=\"1\" class=\"dataframe\">\n",
       "  <thead>\n",
       "    <tr style=\"text-align: right;\">\n",
       "      <th></th>\n",
       "      <th>user_id</th>\n",
       "      <th>minute_price</th>\n",
       "      <th>start_ride_price</th>\n",
       "      <th>subscription_fee</th>\n",
       "    </tr>\n",
       "  </thead>\n",
       "  <tbody>\n",
       "    <tr>\n",
       "      <th>0</th>\n",
       "      <td>1</td>\n",
       "      <td>6</td>\n",
       "      <td>0</td>\n",
       "      <td>199</td>\n",
       "    </tr>\n",
       "    <tr>\n",
       "      <th>1</th>\n",
       "      <td>2</td>\n",
       "      <td>6</td>\n",
       "      <td>0</td>\n",
       "      <td>199</td>\n",
       "    </tr>\n",
       "    <tr>\n",
       "      <th>2</th>\n",
       "      <td>3</td>\n",
       "      <td>6</td>\n",
       "      <td>0</td>\n",
       "      <td>199</td>\n",
       "    </tr>\n",
       "    <tr>\n",
       "      <th>3</th>\n",
       "      <td>4</td>\n",
       "      <td>6</td>\n",
       "      <td>0</td>\n",
       "      <td>199</td>\n",
       "    </tr>\n",
       "    <tr>\n",
       "      <th>4</th>\n",
       "      <td>5</td>\n",
       "      <td>6</td>\n",
       "      <td>0</td>\n",
       "      <td>199</td>\n",
       "    </tr>\n",
       "  </tbody>\n",
       "</table>\n",
       "</div>"
      ],
      "text/plain": [
       "   user_id  minute_price  start_ride_price  subscription_fee\n",
       "0        1             6                 0               199\n",
       "1        2             6                 0               199\n",
       "2        3             6                 0               199\n",
       "3        4             6                 0               199\n",
       "4        5             6                 0               199"
      ]
     },
     "execution_count": 27,
     "metadata": {},
     "output_type": "execute_result"
    }
   ],
   "source": [
    "#выделим данные о подписках всех пользователей\n",
    "user_pivot = data.groupby('user_id')['minute_price','start_ride_price','subscription_fee'].mean()\n",
    "user_pivot = user_pivot.reset_index()\n",
    "user_pivot.head(5)"
   ]
  },
  {
   "cell_type": "code",
   "execution_count": 28,
   "id": "a8085c0b-1328-4a08-8298-c2b47dfdcdfc",
   "metadata": {},
   "outputs": [
    {
     "data": {
      "text/html": [
       "<div>\n",
       "<style scoped>\n",
       "    .dataframe tbody tr th:only-of-type {\n",
       "        vertical-align: middle;\n",
       "    }\n",
       "\n",
       "    .dataframe tbody tr th {\n",
       "        vertical-align: top;\n",
       "    }\n",
       "\n",
       "    .dataframe thead th {\n",
       "        text-align: right;\n",
       "    }\n",
       "</style>\n",
       "<table border=\"1\" class=\"dataframe\">\n",
       "  <thead>\n",
       "    <tr style=\"text-align: right;\">\n",
       "      <th></th>\n",
       "      <th>user_id</th>\n",
       "      <th>month</th>\n",
       "      <th>count</th>\n",
       "      <th>distance_sum</th>\n",
       "      <th>duration_sum</th>\n",
       "      <th>minute_price</th>\n",
       "      <th>start_ride_price</th>\n",
       "      <th>subscription_fee</th>\n",
       "    </tr>\n",
       "  </thead>\n",
       "  <tbody>\n",
       "    <tr>\n",
       "      <th>0</th>\n",
       "      <td>1</td>\n",
       "      <td>1</td>\n",
       "      <td>2</td>\n",
       "      <td>7027.511294</td>\n",
       "      <td>42.0</td>\n",
       "      <td>6</td>\n",
       "      <td>0</td>\n",
       "      <td>199</td>\n",
       "    </tr>\n",
       "    <tr>\n",
       "      <th>1</th>\n",
       "      <td>1</td>\n",
       "      <td>4</td>\n",
       "      <td>1</td>\n",
       "      <td>754.159807</td>\n",
       "      <td>7.0</td>\n",
       "      <td>6</td>\n",
       "      <td>0</td>\n",
       "      <td>199</td>\n",
       "    </tr>\n",
       "    <tr>\n",
       "      <th>2</th>\n",
       "      <td>1</td>\n",
       "      <td>8</td>\n",
       "      <td>2</td>\n",
       "      <td>6723.470560</td>\n",
       "      <td>46.0</td>\n",
       "      <td>6</td>\n",
       "      <td>0</td>\n",
       "      <td>199</td>\n",
       "    </tr>\n",
       "    <tr>\n",
       "      <th>3</th>\n",
       "      <td>1</td>\n",
       "      <td>10</td>\n",
       "      <td>2</td>\n",
       "      <td>5809.911100</td>\n",
       "      <td>32.0</td>\n",
       "      <td>6</td>\n",
       "      <td>0</td>\n",
       "      <td>199</td>\n",
       "    </tr>\n",
       "    <tr>\n",
       "      <th>4</th>\n",
       "      <td>1</td>\n",
       "      <td>11</td>\n",
       "      <td>3</td>\n",
       "      <td>7003.499363</td>\n",
       "      <td>56.0</td>\n",
       "      <td>6</td>\n",
       "      <td>0</td>\n",
       "      <td>199</td>\n",
       "    </tr>\n",
       "  </tbody>\n",
       "</table>\n",
       "</div>"
      ],
      "text/plain": [
       "   user_id  month  count  distance_sum  duration_sum  minute_price  \\\n",
       "0        1      1      2   7027.511294          42.0             6   \n",
       "1        1      4      1    754.159807           7.0             6   \n",
       "2        1      8      2   6723.470560          46.0             6   \n",
       "3        1     10      2   5809.911100          32.0             6   \n",
       "4        1     11      3   7003.499363          56.0             6   \n",
       "\n",
       "   start_ride_price  subscription_fee  \n",
       "0                 0               199  \n",
       "1                 0               199  \n",
       "2                 0               199  \n",
       "3                 0               199  \n",
       "4                 0               199  "
      ]
     },
     "execution_count": 28,
     "metadata": {},
     "output_type": "execute_result"
    }
   ],
   "source": [
    "#соединим данные о подписках пользователей и датафрейм с агрегированными данными о поездках \n",
    "data_pivot = data_pivot.merge(user_pivot, on='user_id')\n",
    "data_pivot.head(5)"
   ]
  },
  {
   "cell_type": "code",
   "execution_count": 29,
   "id": "316373fe-f346-462d-9fba-cfdef0fd7d87",
   "metadata": {},
   "outputs": [
    {
     "data": {
      "text/html": [
       "<div>\n",
       "<style scoped>\n",
       "    .dataframe tbody tr th:only-of-type {\n",
       "        vertical-align: middle;\n",
       "    }\n",
       "\n",
       "    .dataframe tbody tr th {\n",
       "        vertical-align: top;\n",
       "    }\n",
       "\n",
       "    .dataframe thead th {\n",
       "        text-align: right;\n",
       "    }\n",
       "</style>\n",
       "<table border=\"1\" class=\"dataframe\">\n",
       "  <thead>\n",
       "    <tr style=\"text-align: right;\">\n",
       "      <th></th>\n",
       "      <th>user_id</th>\n",
       "      <th>month</th>\n",
       "      <th>count</th>\n",
       "      <th>distance_sum</th>\n",
       "      <th>duration_sum</th>\n",
       "      <th>minute_price</th>\n",
       "      <th>start_ride_price</th>\n",
       "      <th>subscription_fee</th>\n",
       "      <th>monthly_revenue</th>\n",
       "    </tr>\n",
       "  </thead>\n",
       "  <tbody>\n",
       "    <tr>\n",
       "      <th>0</th>\n",
       "      <td>1</td>\n",
       "      <td>1</td>\n",
       "      <td>2</td>\n",
       "      <td>7027.511294</td>\n",
       "      <td>42.0</td>\n",
       "      <td>6</td>\n",
       "      <td>0</td>\n",
       "      <td>199</td>\n",
       "      <td>451.0</td>\n",
       "    </tr>\n",
       "    <tr>\n",
       "      <th>1</th>\n",
       "      <td>1</td>\n",
       "      <td>4</td>\n",
       "      <td>1</td>\n",
       "      <td>754.159807</td>\n",
       "      <td>7.0</td>\n",
       "      <td>6</td>\n",
       "      <td>0</td>\n",
       "      <td>199</td>\n",
       "      <td>241.0</td>\n",
       "    </tr>\n",
       "    <tr>\n",
       "      <th>2</th>\n",
       "      <td>1</td>\n",
       "      <td>8</td>\n",
       "      <td>2</td>\n",
       "      <td>6723.470560</td>\n",
       "      <td>46.0</td>\n",
       "      <td>6</td>\n",
       "      <td>0</td>\n",
       "      <td>199</td>\n",
       "      <td>475.0</td>\n",
       "    </tr>\n",
       "    <tr>\n",
       "      <th>3</th>\n",
       "      <td>1</td>\n",
       "      <td>10</td>\n",
       "      <td>2</td>\n",
       "      <td>5809.911100</td>\n",
       "      <td>32.0</td>\n",
       "      <td>6</td>\n",
       "      <td>0</td>\n",
       "      <td>199</td>\n",
       "      <td>391.0</td>\n",
       "    </tr>\n",
       "    <tr>\n",
       "      <th>4</th>\n",
       "      <td>1</td>\n",
       "      <td>11</td>\n",
       "      <td>3</td>\n",
       "      <td>7003.499363</td>\n",
       "      <td>56.0</td>\n",
       "      <td>6</td>\n",
       "      <td>0</td>\n",
       "      <td>199</td>\n",
       "      <td>535.0</td>\n",
       "    </tr>\n",
       "  </tbody>\n",
       "</table>\n",
       "</div>"
      ],
      "text/plain": [
       "   user_id  month  count  distance_sum  duration_sum  minute_price  \\\n",
       "0        1      1      2   7027.511294          42.0             6   \n",
       "1        1      4      1    754.159807           7.0             6   \n",
       "2        1      8      2   6723.470560          46.0             6   \n",
       "3        1     10      2   5809.911100          32.0             6   \n",
       "4        1     11      3   7003.499363          56.0             6   \n",
       "\n",
       "   start_ride_price  subscription_fee  monthly_revenue  \n",
       "0                 0               199            451.0  \n",
       "1                 0               199            241.0  \n",
       "2                 0               199            475.0  \n",
       "3                 0               199            391.0  \n",
       "4                 0               199            535.0  "
      ]
     },
     "execution_count": 29,
     "metadata": {},
     "output_type": "execute_result"
    }
   ],
   "source": [
    "data_pivot['monthly_revenue'] = data_pivot['duration_sum']*data_pivot['minute_price']+ \\\n",
    "                                data_pivot['count']*data_pivot['start_ride_price']+ \\\n",
    "                                data_pivot['subscription_fee']\n",
    "data_pivot.head(5)"
   ]
  },
  {
   "cell_type": "code",
   "execution_count": 30,
   "id": "fb3252d5-a06a-4136-8392-836177c9c385",
   "metadata": {},
   "outputs": [],
   "source": [
    "#выделим таблицы с пользователями с подпиской и без в отдельные переменные\n",
    "ultra = data_pivot.query('subscription_fee == 199 ')\n",
    "free = data_pivot.query('subscription_fee == 0')"
   ]
  },
  {
   "cell_type": "markdown",
   "id": "a3b99919-94f7-443f-93db-6f39b32e2fbd",
   "metadata": {},
   "source": [
    "## Проверка гипотез <a id='hypotheses'></a>"
   ]
  },
  {
   "cell_type": "markdown",
   "id": "39f8a70b-7ffa-41a4-ac31-d023e627fa0a",
   "metadata": {},
   "source": [
    "При проверке гипотез статистическими методами будем использовать коэффициент статистической значимости равный 5%."
   ]
  },
  {
   "cell_type": "code",
   "execution_count": 31,
   "id": "086b1698-58c1-40cc-95b5-9c9fd86ee6b1",
   "metadata": {},
   "outputs": [],
   "source": [
    "alpha = 0.05"
   ]
  },
  {
   "cell_type": "markdown",
   "id": "cc1bc499-bcf4-433c-a7f9-96401f336da3",
   "metadata": {},
   "source": [
    "#### Тратят ли пользователи с подпиской больше времени на поездки? \n"
   ]
  },
  {
   "cell_type": "markdown",
   "id": "7195a407-2958-4b7b-bc4f-643d1b48b110",
   "metadata": {},
   "source": [
    "Сформулируем нулевую гипотезу: средние значения времени поездок пользователей с подпиской и без подписки равны. \n",
    "\n",
    "H0 => mu1 = mu2\n",
    "\n",
    "Альтернативная гипотеза: среднее время поездки пользователя с подпиской больше, чем у пользователя без подписки\n",
    "\n",
    "H1 => mu1 > mu2 "
   ]
  },
  {
   "cell_type": "code",
   "execution_count": 32,
   "id": "def054ff-be90-4c2f-a52c-97eabea06f5f",
   "metadata": {},
   "outputs": [
    {
     "name": "stdout",
     "output_type": "stream",
     "text": [
      "p-value = 1.1351562754257953e-36, Нулевая гипотеза отвергается в пользу альтернативной\n"
     ]
    }
   ],
   "source": [
    "free_duration = free_sub['duration']\n",
    "ultra_duration = ultra_sub['duration']\n",
    "\n",
    "ttest_one = st.ttest_ind(ultra_duration, \n",
    "                       free_duration,\n",
    "                       equal_var = False)\n",
    "if ttest_one.pvalue < alpha:\n",
    "    print(f'p-value = {ttest_one.pvalue}, Нулевая гипотеза отвергается в пользу альтернативной')\n",
    "else:\n",
    "    print(f'p-value = {ttest_one.pvalue}, Нет оснований отвергать нулевую гипотезу')"
   ]
  },
  {
   "cell_type": "markdown",
   "id": "56fa4f6b-ac23-4a44-87a2-d99ec861b1b8",
   "metadata": {},
   "source": [
    "**Вывод**\n",
    "_____\n",
    "Значение p-value значительно  меньше заданного уровня значимости, поэтому можно отвергнуть нулевую гипотезу. Есть основания говорить, что пользователи с подпиской тратят больше времени на поездки. Так как стоимость поездки зависит от времени в пути, то пользователи с подпиской «выгоднее» для компании.\n",
    "______"
   ]
  },
  {
   "cell_type": "markdown",
   "id": "5890d106-c492-4770-bb2a-f9beeeab717e",
   "metadata": {},
   "source": [
    "#### Расстояние, которое проезжают пользователи с подпиской за одну поездку, не превышает 3130 метров?\n"
   ]
  },
  {
   "cell_type": "markdown",
   "id": "0587874c-da93-476d-8c08-8c39b727d67f",
   "metadata": {},
   "source": [
    "Нулевую гипотезу сформулируем как равенство среднего значения расстояния, которое проезжают пользователи с подпиской за одну поездку 3130 метрам.\n",
    "\n",
    "H0 => mu1 = 3130\n",
    "\n",
    "Альтернативная гипотеза: расстояние, которое проезжают пользователи с подпиской за одну поездку, менее 3130 метров\n",
    "\n",
    "H1 => mu1 < 3130 "
   ]
  },
  {
   "cell_type": "code",
   "execution_count": 33,
   "id": "2dd765f6-3482-4d09-9c7a-c0c932892072",
   "metadata": {},
   "outputs": [
    {
     "name": "stdout",
     "output_type": "stream",
     "text": [
      "p-value = 0.08046311521502145, Нет оснований отвергать нулевую гипотезу\n"
     ]
    }
   ],
   "source": [
    "ultra_distance = ultra_sub['distance']\n",
    "ttest_two = st.ttest_1samp(ultra_distance, 3130, alternative = 'less')\n",
    "if ttest_two.pvalue < alpha:\n",
    "    print(f'p-value = {ttest_two.pvalue}, Нулевая гипотеза отвергается в пользу альтернативной')\n",
    "else:\n",
    "    print(f'p-value = {ttest_two.pvalue}, Нет оснований отвергать нулевую гипотезу')\n",
    "    "
   ]
  },
  {
   "cell_type": "markdown",
   "id": "b14c1160-e63a-4d11-97a8-ae94186274c1",
   "metadata": {},
   "source": [
    "**Вывод**\n",
    "_________\n",
    "Оснований отвергать нулевую гипотезу нет, так как вероятность того, что пользователи проезжают 3130 м и более лежит в пределах статистической значимости выборки. \n",
    "Так как расстояние одной поездки в 3130 метров — оптимальное с точки зрения износа самоката, можно сказать, что необходимо обратить внимание на количество самокатов в городах или качество сервисного обслуживания. \n",
    "_______"
   ]
  },
  {
   "cell_type": "markdown",
   "id": "426de827-7aa5-4fe2-9b4b-b4c5a6c77fca",
   "metadata": {},
   "source": [
    "#### Будет ли помесячная выручка от пользователей с подпиской по месяцам выше, чем выручка от пользователей без подписки? \n"
   ]
  },
  {
   "cell_type": "markdown",
   "id": "1c280f21-f31e-4746-9653-747374af8bd4",
   "metadata": {},
   "source": [
    "Нулевая гипотеза: помесячные выручки от пользователей с подпиской и без одинаковы\n",
    "\n",
    "H0 => mu1 = mu2\n",
    "\n",
    "Альтернативная гипотеза: выручка от пользователей с подпиской больше\n",
    "\n",
    "H1 => mu1 > mu2"
   ]
  },
  {
   "cell_type": "code",
   "execution_count": 34,
   "id": "353d8e57-2dd3-48ba-9a17-e33263ddeb2b",
   "metadata": {},
   "outputs": [
    {
     "name": "stdout",
     "output_type": "stream",
     "text": [
      "p-value = 1.8850394384715216e-31, Нулевая гипотеза отвергается в пользу альтернативной\n"
     ]
    }
   ],
   "source": [
    "free_revenue = free['monthly_revenue']\n",
    "ultra_revenue = ultra['monthly_revenue']\n",
    "\n",
    "ttest_three = st.ttest_ind(ultra_revenue,free_revenue,alternative='greater')\n",
    "if ttest_three.pvalue < alpha:\n",
    "    print(f'p-value = {ttest_three.pvalue}, Нулевая гипотеза отвергается в пользу альтернативной')\n",
    "else:\n",
    "    print(f'p-value = {ttest_three.pvalue}, Нет оснований отвергать нулевую гипотезу')"
   ]
  },
  {
   "cell_type": "markdown",
   "id": "46558128-7a9a-4ec5-bfaf-31d1c09b19c8",
   "metadata": {},
   "source": [
    " **Вывод**\n",
    "_________\n",
    "Есть основания полагать, что пользователи с подпиской приносят больше прибыли бизнесу, чем пользователи без подписки. \n",
    "_______"
   ]
  },
  {
   "cell_type": "markdown",
   "id": "a8a8cb93-5658-4638-b72d-39c1b2b9b551",
   "metadata": {},
   "source": [
    "#### Снизилось ли количество обращений в поддержку после обновления сервера, с которым взаимодействует мобильное приложение?\n"
   ]
  },
  {
   "cell_type": "markdown",
   "id": "2623e2e7-30aa-437f-b1d2-e8e99eab911c",
   "metadata": {},
   "source": [
    "**Задача:** Техническая команда сервиса обновила сервера, с которыми взаимодействует мобильное приложение. Она надеется, что из-за этого количество обращений в техподдержку значимо снизилось. Некоторый файл содержит для каждого пользователя данные о количестве обращений до обновления и после него. Какой тест понадобился бы для проверки этой гипотезы?"
   ]
  },
  {
   "cell_type": "markdown",
   "id": "b607ac4e-ea4a-4a64-b299-7a7165a489c9",
   "metadata": {},
   "source": [
    "**Ответ:**\n",
    "\n",
    "В данном случае необходимо рассматривать гипотезу о равенстве средних для зависимых выборок. Проверяем равенство среднего значения генеральной совокупности до и после изменения\n",
    "\n",
    "`Нулевая гипотеза` будет звучать так: среднее количество обращений до обновления равно среднему количеству обращений после обновления (mu1=mu2)\n",
    "\n",
    "`Альтернативная гипотеза`: среднее количество обращений до обновления не равно среднему количеству обращений после обновления (mu1≠mu2)\n",
    "\n",
    "Для решения используем метод `st.ttest_rel()`, в качестве аргументов передаем данные о количестве пользователей до и после обновления. "
   ]
  },
  {
   "cell_type": "markdown",
   "id": "17d8008d-09c5-4723-9fc0-9b52dafdbc2b",
   "metadata": {},
   "source": [
    "## Распределения <a id='distribution'></a>"
   ]
  },
  {
   "cell_type": "markdown",
   "id": "7c8025cb-6125-4612-bf10-2db35274f458",
   "metadata": {},
   "source": [
    "#### Задача 7.1 \n",
    "Отделу маркетинга GoFast поставили задачу: нужно провести акцию с раздачей промокодов на один бесплатный месяц подписки, в рамках которой как минимум `100` существующих клиентов должны продлить эту подписку. То есть по завершении периода действия подписки пользователь может либо отказаться от неё, либо продлить, совершив соответствующий платёж. Эта акция уже проводилась ранее и по итогу выяснилось, что после бесплатного пробного периода подписку продлевают  `10 % пользователей`. Выясните, `какое минимальное количество промокодов нужно разослать`, чтобы вероятность не выполнить план была примерно  `5 %`. \n",
    "Подберите параметры распределения, описывающего эту ситуацию, постройте график распределения и сформулируйте ответ на вопрос о количестве промокодов.\n"
   ]
  },
  {
   "cell_type": "markdown",
   "id": "23ac1221-b9ea-4951-974e-5f59814a8dda",
   "metadata": {},
   "source": [
    "Известно, что 10% пользователей продлевают подписку после пробного периода, соответственно вероятность \"успеха\" p=0.1 Построим график биномиального распределения для целевого количества подписчиков n=100."
   ]
  },
  {
   "cell_type": "code",
   "execution_count": 35,
   "id": "be5cc6d4-68f1-4b2d-a6d1-e39ec0084e8f",
   "metadata": {},
   "outputs": [
    {
     "name": "stdout",
     "output_type": "stream",
     "text": [
      "Минимальное количество промокодов для вероятности не выполнения плана примерно 5%: 120\n"
     ]
    },
    {
     "data": {
      "image/png": "[encoded data removed]",
      "text/plain": [
       "<Figure size 432x288 with 1 Axes>"
      ]
     },
     "metadata": {
      "needs_background": "light"
     },
     "output_type": "display_data"
    }
   ],
   "source": [
    "# Уровень значимости\n",
    "alpha = 0.05\n",
    "\n",
    "# Вероятность продления подписки\n",
    "p = 0.10\n",
    "\n",
    "# Минимальное количество клиентов, которые должны продлить подписку\n",
    "n_success = 100\n",
    "\n",
    "# Начинаем с небольшого числа промокодов\n",
    "n_promo = 100\n",
    "\n",
    "# Расчет биномиального распределения до тех пор, пока сумма вероятностей не выполнения плана не станет меньше alpha\n",
    "while True:\n",
    "    # Вероятность не продления подписки\n",
    "    p_not_success = 1 - p\n",
    "    # Функция биномиального распределения (вероятность того, что не менее n_success клиентов не продлят подписку)\n",
    "    prob_not_success = st.binom.cdf(n_success - 1, n_promo, p_not_success)\n",
    "    if prob_not_success <= alpha:\n",
    "        break\n",
    "    else:\n",
    "        n_promo += 10\n",
    "\n",
    "# Вывод результата\n",
    "print(f\"Минимальное количество промокодов для вероятности не выполнения плана примерно 5%: {n_promo}\")\n",
    "\n",
    "# Построение графика биномиального распределения\n",
    "x = range(n_promo + 1)\n",
    "plt.bar(x, [st.binom.pmf(i, n_promo, p) for i in x], align='center', alpha=0.5)\n",
    "plt.title('Биномиальное распределение')\n",
    "plt.xlabel('Количество успешных продлений подписки')\n",
    "plt.ylabel('Вероятность')\n",
    "plt.show()"
   ]
  },
  {
   "cell_type": "markdown",
   "id": "49a1741c-4396-4efa-8444-a704d806195f",
   "metadata": {},
   "source": [
    "**Вывод**\n",
    "___________\n",
    "Таким образом,  нужно разослать минимум 120 промокодов, чтобы вероятность не выполнить план была примерно 5 %.\n",
    "___________"
   ]
  },
  {
   "cell_type": "markdown",
   "id": "0f93391e-2b27-41f7-94e4-ef101fa76ba9",
   "metadata": {},
   "source": [
    "#### Задача 7.2\n",
    "Отдел маркетинга рассылает клиентам push-уведомления в мобильном приложении. Клиенты могут открыть его или не открывать. Известно, что уведомления открывают около 40 % получивших клиентов. Отдел планирует разослать 1 млн уведомлений. С помощью аппроксимации постройте примерный график распределения и оцените вероятность того, что уведомление откроют не более 399,5 тыс. пользователей."
   ]
  },
  {
   "cell_type": "code",
   "execution_count": 36,
   "id": "609d80aa-916a-414c-94cc-cbd7ee87aeb5",
   "metadata": {},
   "outputs": [
    {
     "data": {
      "image/png": "[encoded data removed]",
      "text/plain": [
       "<Figure size 432x288 with 1 Axes>"
      ]
     },
     "metadata": {
      "needs_background": "light"
     },
     "output_type": "display_data"
    },
    {
     "name": "stdout",
     "output_type": "stream",
     "text": [
      "Условие выполняется\n"
     ]
    }
   ],
   "source": [
    " # задаём параметры биномиального распределения\n",
    "n = 50\n",
    "p = 0.22\n",
    "#зададим границы распределения от mu-4s до mu+4s\n",
    "left = int(n * p - 4 * sqrt(n * p * (1 - p)))\n",
    "right = int(n * p + 4 * sqrt(n * p * (1 - p)))\n",
    "# зададим набор значений биномиальной величины на выбранном промежутке от left до right\n",
    "x = list(range( left, right))\n",
    "\n",
    "# зададим параметры нормального распределения равными\n",
    "# мат.ожиданию и дисперсии биномиального распределения\n",
    "mu = n * p\n",
    "sigma = sqrt(n * p * (1 - p))\n",
    " \n",
    "# рисуем график нормального распределения:\n",
    "plt.plot(norm.pdf(x, mu, sigma))\n",
    "plt.show()\n",
    " \n",
    "\n",
    "\n",
    "# выводим, выполняется ли наше условие аппроксимации:\n",
    "# лежит ли mu ± 3 sigma в промежутке от 0 до n:\n",
    "if (mu - (3 * sigma) >= 0) and ((mu + (3 * sigma) <= n)):\n",
    "    print('Условие выполняется')\n",
    "else:\n",
    "    print('Условие не выполняется')\n"
   ]
  },
  {
   "cell_type": "code",
   "execution_count": 37,
   "id": "8b7d7392-1d4e-4618-858a-8d3eace985c5",
   "metadata": {},
   "outputs": [
    {
     "name": "stdout",
     "output_type": "stream",
     "text": [
      "0.15371708296369768\n"
     ]
    }
   ],
   "source": [
    "n = 1000000 # параметры биномиального распределения\n",
    "p = 0.4 \n",
    "\n",
    "mu = n*p #  параметры нормального распределения\n",
    "sigma = sqrt(n * p * (1 - p))  \n",
    "\n",
    "distr = st.norm(mu,sigma) # нормальное распределение\n",
    "result =distr.cdf(399500) # вероятность\n",
    "print(result)"
   ]
  },
  {
   "cell_type": "markdown",
   "id": "4436f155-fe22-4484-b4b6-04a97960c9e9",
   "metadata": {},
   "source": [
    "**Вывод**\n",
    "___\n",
    "Вероятность того, что уведомление откроют не более 399,5 тыс. пользователей составляет 15,37%\n",
    "___\n"
   ]
  },
  {
   "cell_type": "markdown",
   "id": "f09f2e7a-e314-4828-8d06-1d29261fdca4",
   "metadata": {},
   "source": [
    "## Общий вывод <a id='results'></a>"
   ]
  },
  {
   "cell_type": "markdown",
   "id": "b28dbd16-ae61-4bc2-b76e-c17e11acdeca",
   "metadata": {},
   "source": [
    "**На этапе предобработки в данных были выявлены следующие проблемы:**\n",
    "* В таблице `rides_go` тип данных в столбце `date` был изменен на  datetime64;\n",
    "* В датасет был добавлен новый столбец с номером месяца на основе столбца `date`;\n",
    "* Были удалены явные дубликаты из таблицы `users` (31 строка).\n",
    "\n",
    "**При исследовательском анализе и  проверке гипотез были сделаны следующие выводы:**\n",
    "* Количество пользователей из разных городов в выборке от 168 до 219;\n",
    "* Основная возрастная категория пользователей — это люди от 25 до 28 лет;\n",
    "* В среднем продолжительность поездки составляет 15-20 минут;\n",
    "* Пользователи с подпиской являются наиболее \"выгодными\" для компании так как они тратят больше времени на поездки и приносят больше прибыли, чем пользователи без подписки;\n",
    "* Пользователи без подписки чаще передвигаются на самокате на малые расстояния ( до 1000 метров);\n",
    "* Так же было выявлено, что в среднем пользователи проезжают около 3130м и более, что является критичным значением для износа самокатов.\n",
    "\n",
    "\n",
    "**При решении задач для отдела маркетинга GoFast были получены следующие результаты:**\n",
    "*  В ходе акции с раздачей промокодов на один бесплатный месяц чтобы как минимум 100 существующих клиентов продлили подписку необходимо разослать не менее 120 промокодов. \n",
    "* Вероятность того, что  push-уведомления в мобильном приложении откроют не более 399,5 тыс. пользователей составляет 15,37%\n",
    "\n",
    "**Рекомендации для бизнеса**\n",
    "1. Учитывая, что пользователи с подпиской приносят больше прибыли, рекомендуется активно продвигать подписочную модель. Это может включать в себя предложения, целенаправленные на увеличение числа подписчиков через бонусные программы, персонализированные предложения и улучшение условий для подписчиков.\n",
    "\n",
    "2. Учитывая, что пользователи без подписки чаще используют самокаты на небольшие расстояния, компания может сосредоточить усилия на оптимизации использования самокатов в городах, где это актуально. Например, расширение зон обслуживания, снижение тарифов на короткие поездки и т.д.\n",
    "\n",
    "3. На основе результатов о критичном значении среднего пробега пользователей рекомендуется уделить внимание управлению износом самокатов. Это может включать в себя планы по обновлению парка самокатов, ремонт и техническое обслуживание для предотвращения выхода самокатов из строя."
   ]
  }
 ],
 "metadata": {
  "ExecuteTimeLog": [
   {
    "duration": 1163,
    "start_time": "2023-10-27T21:39:50.447Z"
   },
   {
    "duration": 95,
    "start_time": "2023-10-27T21:39:51.612Z"
   },
   {
    "duration": 110,
    "start_time": "2023-10-27T21:39:51.709Z"
   },
   {
    "duration": 92,
    "start_time": "2023-10-27T21:39:51.821Z"
   },
   {
    "duration": 5,
    "start_time": "2023-10-27T21:39:51.915Z"
   },
   {
    "duration": 47,
    "start_time": "2023-10-27T21:39:51.921Z"
   },
   {
    "duration": 45,
    "start_time": "2023-10-27T21:39:51.970Z"
   },
   {
    "duration": 18,
    "start_time": "2023-10-27T21:39:52.017Z"
   },
   {
    "duration": 31,
    "start_time": "2023-10-27T21:39:52.037Z"
   },
   {
    "duration": 6,
    "start_time": "2023-10-27T21:39:52.106Z"
   },
   {
    "duration": 23,
    "start_time": "2023-10-27T21:39:52.114Z"
   },
   {
    "duration": 5,
    "start_time": "2023-10-27T21:39:52.138Z"
   },
   {
    "duration": 63,
    "start_time": "2023-10-27T21:39:52.145Z"
   },
   {
    "duration": 5,
    "start_time": "2023-10-27T21:39:52.210Z"
   },
   {
    "duration": 303,
    "start_time": "2023-10-27T21:39:52.217Z"
   },
   {
    "duration": 212,
    "start_time": "2023-10-27T21:39:52.521Z"
   },
   {
    "duration": 475,
    "start_time": "2023-10-27T21:39:52.735Z"
   },
   {
    "duration": 239,
    "start_time": "2023-10-27T21:39:53.211Z"
   },
   {
    "duration": 133,
    "start_time": "2023-10-27T21:39:53.452Z"
   },
   {
    "duration": 46,
    "start_time": "2023-10-27T21:39:53.586Z"
   },
   {
    "duration": 19,
    "start_time": "2023-10-27T21:39:53.633Z"
   },
   {
    "duration": 14,
    "start_time": "2023-10-27T21:39:53.654Z"
   },
   {
    "duration": 302,
    "start_time": "2023-10-27T21:39:53.670Z"
   },
   {
    "duration": 12,
    "start_time": "2023-10-27T21:39:53.974Z"
   },
   {
    "duration": 31,
    "start_time": "2023-10-27T21:39:53.988Z"
   },
   {
    "duration": 19,
    "start_time": "2023-10-27T21:39:54.021Z"
   },
   {
    "duration": 12,
    "start_time": "2023-10-27T21:39:54.041Z"
   },
   {
    "duration": 20,
    "start_time": "2023-10-27T21:39:54.056Z"
   },
   {
    "duration": 10,
    "start_time": "2023-10-27T21:39:54.077Z"
   },
   {
    "duration": 10,
    "start_time": "2023-10-27T21:39:54.088Z"
   },
   {
    "duration": 13,
    "start_time": "2023-10-27T21:39:54.100Z"
   },
   {
    "duration": 11,
    "start_time": "2023-10-27T21:39:54.114Z"
   },
   {
    "duration": 23,
    "start_time": "2023-10-27T21:39:54.126Z"
   },
   {
    "duration": 317,
    "start_time": "2023-10-27T21:39:54.151Z"
   },
   {
    "duration": 4,
    "start_time": "2023-10-27T21:39:54.469Z"
   },
   {
    "duration": 115,
    "start_time": "2023-10-27T21:39:54.475Z"
   },
   {
    "duration": 5,
    "start_time": "2023-10-27T21:39:54.592Z"
   },
   {
    "duration": 1420,
    "start_time": "2023-10-28T08:59:28.442Z"
   },
   {
    "duration": 122,
    "start_time": "2023-10-28T08:59:29.865Z"
   },
   {
    "duration": 94,
    "start_time": "2023-10-28T08:59:29.989Z"
   },
   {
    "duration": 67,
    "start_time": "2023-10-28T08:59:30.086Z"
   },
   {
    "duration": 5,
    "start_time": "2023-10-28T08:59:30.155Z"
   },
   {
    "duration": 26,
    "start_time": "2023-10-28T08:59:30.161Z"
   },
   {
    "duration": 31,
    "start_time": "2023-10-28T08:59:30.189Z"
   },
   {
    "duration": 35,
    "start_time": "2023-10-28T08:59:30.221Z"
   },
   {
    "duration": 24,
    "start_time": "2023-10-28T08:59:30.258Z"
   },
   {
    "duration": 31,
    "start_time": "2023-10-28T08:59:30.286Z"
   },
   {
    "duration": 50,
    "start_time": "2023-10-28T08:59:30.320Z"
   },
   {
    "duration": 25,
    "start_time": "2023-10-28T08:59:30.373Z"
   },
   {
    "duration": 52,
    "start_time": "2023-10-28T08:59:30.400Z"
   },
   {
    "duration": 28,
    "start_time": "2023-10-28T08:59:30.454Z"
   },
   {
    "duration": 166,
    "start_time": "2023-10-28T08:59:30.484Z"
   },
   {
    "duration": 130,
    "start_time": "2023-10-28T08:59:30.652Z"
   },
   {
    "duration": 273,
    "start_time": "2023-10-28T08:59:30.784Z"
   },
   {
    "duration": 166,
    "start_time": "2023-10-28T08:59:31.060Z"
   },
   {
    "duration": 157,
    "start_time": "2023-10-28T08:59:31.229Z"
   },
   {
    "duration": 36,
    "start_time": "2023-10-28T08:59:31.389Z"
   },
   {
    "duration": 18,
    "start_time": "2023-10-28T08:59:31.428Z"
   },
   {
    "duration": 30,
    "start_time": "2023-10-28T08:59:31.448Z"
   },
   {
    "duration": 384,
    "start_time": "2023-10-28T08:59:31.480Z"
   },
   {
    "duration": 15,
    "start_time": "2023-10-28T08:59:31.866Z"
   },
   {
    "duration": 131,
    "start_time": "2023-10-28T08:59:31.883Z"
   },
   {
    "duration": 76,
    "start_time": "2023-10-28T08:59:32.016Z"
   },
   {
    "duration": 121,
    "start_time": "2023-10-28T08:59:32.094Z"
   },
   {
    "duration": 72,
    "start_time": "2023-10-28T08:59:32.218Z"
   },
   {
    "duration": 127,
    "start_time": "2023-10-28T08:59:32.291Z"
   },
   {
    "duration": 80,
    "start_time": "2023-10-28T08:59:32.420Z"
   },
   {
    "duration": 74,
    "start_time": "2023-10-28T08:59:32.502Z"
   },
   {
    "duration": 150,
    "start_time": "2023-10-28T08:59:32.577Z"
   },
   {
    "duration": 89,
    "start_time": "2023-10-28T08:59:32.729Z"
   },
   {
    "duration": 365,
    "start_time": "2023-10-28T08:59:32.819Z"
   },
   {
    "duration": 5,
    "start_time": "2023-10-28T08:59:33.188Z"
   },
   {
    "duration": 153,
    "start_time": "2023-10-28T08:59:33.195Z"
   },
   {
    "duration": 6,
    "start_time": "2023-10-28T08:59:33.350Z"
   },
   {
    "duration": 8,
    "start_time": "2023-10-28T09:01:45.328Z"
   },
   {
    "duration": 20,
    "start_time": "2023-10-28T09:01:54.122Z"
   },
   {
    "duration": 7,
    "start_time": "2023-10-28T09:01:58.528Z"
   },
   {
    "duration": 1151,
    "start_time": "2023-10-28T09:02:11.581Z"
   },
   {
    "duration": 49,
    "start_time": "2023-10-28T09:02:12.734Z"
   },
   {
    "duration": 46,
    "start_time": "2023-10-28T09:02:12.785Z"
   },
   {
    "duration": 35,
    "start_time": "2023-10-28T09:02:12.833Z"
   },
   {
    "duration": 7,
    "start_time": "2023-10-28T09:02:12.871Z"
   },
   {
    "duration": 10,
    "start_time": "2023-10-28T09:02:12.880Z"
   },
   {
    "duration": 32,
    "start_time": "2023-10-28T09:02:12.892Z"
   },
   {
    "duration": 6,
    "start_time": "2023-10-28T09:02:12.926Z"
   },
   {
    "duration": 16,
    "start_time": "2023-10-28T09:02:12.934Z"
   },
   {
    "duration": 24,
    "start_time": "2023-10-28T09:02:12.951Z"
   },
   {
    "duration": 14,
    "start_time": "2023-10-28T09:02:12.977Z"
   },
   {
    "duration": 21,
    "start_time": "2023-10-28T09:02:12.993Z"
   },
   {
    "duration": 15,
    "start_time": "2023-10-28T09:02:13.023Z"
   },
   {
    "duration": 7,
    "start_time": "2023-10-28T09:02:13.041Z"
   },
   {
    "duration": 159,
    "start_time": "2023-10-28T09:02:13.050Z"
   },
   {
    "duration": 129,
    "start_time": "2023-10-28T09:02:13.211Z"
   },
   {
    "duration": 246,
    "start_time": "2023-10-28T09:02:13.341Z"
   },
   {
    "duration": 160,
    "start_time": "2023-10-28T09:02:13.589Z"
   },
   {
    "duration": 152,
    "start_time": "2023-10-28T09:02:13.751Z"
   },
   {
    "duration": 32,
    "start_time": "2023-10-28T09:02:13.905Z"
   },
   {
    "duration": 23,
    "start_time": "2023-10-28T09:02:13.939Z"
   },
   {
    "duration": 16,
    "start_time": "2023-10-28T09:02:13.964Z"
   },
   {
    "duration": 334,
    "start_time": "2023-10-28T09:02:13.982Z"
   },
   {
    "duration": 17,
    "start_time": "2023-10-28T09:02:14.318Z"
   },
   {
    "duration": 19,
    "start_time": "2023-10-28T09:02:14.336Z"
   },
   {
    "duration": 13,
    "start_time": "2023-10-28T09:02:14.357Z"
   },
   {
    "duration": 14,
    "start_time": "2023-10-28T09:02:14.372Z"
   },
   {
    "duration": 49,
    "start_time": "2023-10-28T09:02:14.388Z"
   },
   {
    "duration": 10,
    "start_time": "2023-10-28T09:02:14.439Z"
   },
   {
    "duration": 4,
    "start_time": "2023-10-28T09:02:14.450Z"
   },
   {
    "duration": 17,
    "start_time": "2023-10-28T09:02:14.456Z"
   },
   {
    "duration": 7,
    "start_time": "2023-10-28T09:02:14.474Z"
   },
   {
    "duration": 15,
    "start_time": "2023-10-28T09:02:14.482Z"
   },
   {
    "duration": 353,
    "start_time": "2023-10-28T09:02:14.499Z"
   },
   {
    "duration": 3,
    "start_time": "2023-10-28T09:02:14.854Z"
   },
   {
    "duration": 133,
    "start_time": "2023-10-28T09:02:14.859Z"
   },
   {
    "duration": 5,
    "start_time": "2023-10-28T09:02:14.994Z"
   },
   {
    "duration": 130,
    "start_time": "2023-10-28T09:07:18.490Z"
   },
   {
    "duration": 153,
    "start_time": "2023-10-28T09:09:08.855Z"
   },
   {
    "duration": 96,
    "start_time": "2023-10-28T09:10:19.599Z"
   },
   {
    "duration": 77,
    "start_time": "2023-10-28T09:10:40.418Z"
   },
   {
    "duration": 82,
    "start_time": "2023-10-28T09:10:46.125Z"
   },
   {
    "duration": 83,
    "start_time": "2023-10-28T09:13:15.480Z"
   },
   {
    "duration": 91,
    "start_time": "2023-10-28T09:13:23.041Z"
   },
   {
    "duration": 150,
    "start_time": "2023-10-28T09:14:09.059Z"
   },
   {
    "duration": 252,
    "start_time": "2023-10-28T09:15:16.856Z"
   },
   {
    "duration": 226,
    "start_time": "2023-10-28T09:15:47.866Z"
   },
   {
    "duration": 315,
    "start_time": "2023-10-28T09:16:29.953Z"
   },
   {
    "duration": 234,
    "start_time": "2023-10-28T09:16:34.258Z"
   },
   {
    "duration": 159,
    "start_time": "2023-10-28T09:17:03.661Z"
   },
   {
    "duration": 156,
    "start_time": "2023-10-28T09:17:13.819Z"
   },
   {
    "duration": 134,
    "start_time": "2023-10-28T09:21:17.793Z"
   },
   {
    "duration": 134,
    "start_time": "2023-10-28T09:21:39.691Z"
   },
   {
    "duration": 12,
    "start_time": "2023-10-28T09:22:39.420Z"
   },
   {
    "duration": 105,
    "start_time": "2023-10-28T09:24:37.344Z"
   },
   {
    "duration": 20,
    "start_time": "2023-10-28T09:24:42.279Z"
   },
   {
    "duration": 22,
    "start_time": "2023-10-28T09:24:52.165Z"
   },
   {
    "duration": 14,
    "start_time": "2023-10-28T09:25:10.725Z"
   },
   {
    "duration": 23,
    "start_time": "2023-10-28T09:25:18.371Z"
   },
   {
    "duration": 5,
    "start_time": "2023-10-28T09:43:03.971Z"
   },
   {
    "duration": 1104,
    "start_time": "2023-10-28T09:54:09.073Z"
   },
   {
    "duration": 47,
    "start_time": "2023-10-28T09:54:10.179Z"
   },
   {
    "duration": 44,
    "start_time": "2023-10-28T09:54:10.228Z"
   },
   {
    "duration": 30,
    "start_time": "2023-10-28T09:54:10.274Z"
   },
   {
    "duration": 5,
    "start_time": "2023-10-28T09:54:10.306Z"
   },
   {
    "duration": 17,
    "start_time": "2023-10-28T09:54:10.313Z"
   },
   {
    "duration": 13,
    "start_time": "2023-10-28T09:54:10.332Z"
   },
   {
    "duration": 6,
    "start_time": "2023-10-28T09:54:10.347Z"
   },
   {
    "duration": 13,
    "start_time": "2023-10-28T09:54:10.355Z"
   },
   {
    "duration": 33,
    "start_time": "2023-10-28T09:54:10.370Z"
   },
   {
    "duration": 8,
    "start_time": "2023-10-28T09:54:10.405Z"
   },
   {
    "duration": 5,
    "start_time": "2023-10-28T09:54:10.424Z"
   },
   {
    "duration": 14,
    "start_time": "2023-10-28T09:54:10.431Z"
   },
   {
    "duration": 6,
    "start_time": "2023-10-28T09:54:10.448Z"
   },
   {
    "duration": 176,
    "start_time": "2023-10-28T09:54:10.456Z"
   },
   {
    "duration": 97,
    "start_time": "2023-10-28T09:54:10.633Z"
   },
   {
    "duration": 252,
    "start_time": "2023-10-28T09:54:10.731Z"
   },
   {
    "duration": 163,
    "start_time": "2023-10-28T09:54:10.984Z"
   },
   {
    "duration": 156,
    "start_time": "2023-10-28T09:54:11.149Z"
   },
   {
    "duration": 31,
    "start_time": "2023-10-28T09:54:11.307Z"
   },
   {
    "duration": 35,
    "start_time": "2023-10-28T09:54:11.341Z"
   },
   {
    "duration": 16,
    "start_time": "2023-10-28T09:54:11.378Z"
   },
   {
    "duration": 33,
    "start_time": "2023-10-28T09:54:11.397Z"
   },
   {
    "duration": 320,
    "start_time": "2023-10-28T09:54:11.432Z"
   },
   {
    "duration": 13,
    "start_time": "2023-10-28T09:54:11.753Z"
   },
   {
    "duration": 291,
    "start_time": "2023-10-28T09:54:11.767Z"
   },
   {
    "duration": 71,
    "start_time": "2023-10-28T09:54:12.059Z"
   },
   {
    "duration": 46,
    "start_time": "2023-10-28T09:54:12.132Z"
   },
   {
    "duration": 178,
    "start_time": "2023-10-28T09:54:12.180Z"
   },
   {
    "duration": 99,
    "start_time": "2023-10-28T09:54:12.360Z"
   },
   {
    "duration": 39,
    "start_time": "2023-10-28T09:54:12.461Z"
   },
   {
    "duration": 24,
    "start_time": "2023-10-28T09:54:12.502Z"
   },
   {
    "duration": 27,
    "start_time": "2023-10-28T09:54:12.527Z"
   },
   {
    "duration": 40,
    "start_time": "2023-10-28T09:54:12.555Z"
   },
   {
    "duration": 259,
    "start_time": "2023-10-28T09:54:12.597Z"
   },
   {
    "duration": 4,
    "start_time": "2023-10-28T09:54:12.857Z"
   },
   {
    "duration": 153,
    "start_time": "2023-10-28T09:54:12.863Z"
   },
   {
    "duration": 8,
    "start_time": "2023-10-28T09:54:13.018Z"
   },
   {
    "duration": 166,
    "start_time": "2023-10-28T09:56:58.024Z"
   },
   {
    "duration": 145,
    "start_time": "2023-10-28T09:57:21.498Z"
   },
   {
    "duration": 1215,
    "start_time": "2023-10-28T09:59:01.324Z"
   },
   {
    "duration": 48,
    "start_time": "2023-10-28T09:59:02.541Z"
   },
   {
    "duration": 116,
    "start_time": "2023-10-28T09:59:02.590Z"
   },
   {
    "duration": 92,
    "start_time": "2023-10-28T09:59:02.707Z"
   },
   {
    "duration": 131,
    "start_time": "2023-10-28T09:59:02.802Z"
   },
   {
    "duration": 207,
    "start_time": "2023-10-28T09:59:02.935Z"
   },
   {
    "duration": 189,
    "start_time": "2023-10-28T09:59:03.144Z"
   },
   {
    "duration": 55,
    "start_time": "2023-10-28T09:59:03.335Z"
   },
   {
    "duration": 124,
    "start_time": "2023-10-28T09:59:03.392Z"
   },
   {
    "duration": 222,
    "start_time": "2023-10-28T09:59:03.518Z"
   },
   {
    "duration": 334,
    "start_time": "2023-10-28T09:59:03.742Z"
   },
   {
    "duration": 157,
    "start_time": "2023-10-28T09:59:04.078Z"
   },
   {
    "duration": 139,
    "start_time": "2023-10-28T09:59:04.237Z"
   },
   {
    "duration": 38,
    "start_time": "2023-10-28T09:59:04.379Z"
   },
   {
    "duration": 232,
    "start_time": "2023-10-28T09:59:04.419Z"
   },
   {
    "duration": 191,
    "start_time": "2023-10-28T09:59:04.653Z"
   },
   {
    "duration": 521,
    "start_time": "2023-10-28T09:59:04.846Z"
   },
   {
    "duration": 378,
    "start_time": "2023-10-28T09:59:05.368Z"
   },
   {
    "duration": 386,
    "start_time": "2023-10-28T09:59:05.748Z"
   },
   {
    "duration": 25,
    "start_time": "2023-10-28T09:59:06.135Z"
   },
   {
    "duration": 121,
    "start_time": "2023-10-28T09:59:06.162Z"
   },
   {
    "duration": 93,
    "start_time": "2023-10-28T09:59:06.284Z"
   },
   {
    "duration": 25,
    "start_time": "2023-10-28T09:59:06.379Z"
   },
   {
    "duration": 314,
    "start_time": "2023-10-28T09:59:06.405Z"
   },
   {
    "duration": 13,
    "start_time": "2023-10-28T09:59:06.721Z"
   },
   {
    "duration": 116,
    "start_time": "2023-10-28T09:59:06.736Z"
   },
   {
    "duration": 51,
    "start_time": "2023-10-28T09:59:06.854Z"
   },
   {
    "duration": 135,
    "start_time": "2023-10-28T09:59:06.907Z"
   },
   {
    "duration": 81,
    "start_time": "2023-10-28T09:59:07.044Z"
   },
   {
    "duration": 130,
    "start_time": "2023-10-28T09:59:07.127Z"
   },
   {
    "duration": 121,
    "start_time": "2023-10-28T09:59:07.259Z"
   },
   {
    "duration": 38,
    "start_time": "2023-10-28T09:59:07.382Z"
   },
   {
    "duration": 11,
    "start_time": "2023-10-28T09:59:07.421Z"
   },
   {
    "duration": 26,
    "start_time": "2023-10-28T09:59:07.434Z"
   },
   {
    "duration": 344,
    "start_time": "2023-10-28T09:59:07.462Z"
   },
   {
    "duration": 4,
    "start_time": "2023-10-28T09:59:07.808Z"
   },
   {
    "duration": 320,
    "start_time": "2023-10-28T09:59:07.824Z"
   },
   {
    "duration": 57,
    "start_time": "2023-10-28T09:59:08.147Z"
   },
   {
    "duration": 28,
    "start_time": "2023-10-28T10:05:24.957Z"
   },
   {
    "duration": 11,
    "start_time": "2023-10-28T10:05:30.054Z"
   },
   {
    "duration": 14,
    "start_time": "2023-10-28T10:05:35.710Z"
   },
   {
    "duration": 1178,
    "start_time": "2023-10-28T10:06:52.253Z"
   },
   {
    "duration": 48,
    "start_time": "2023-10-28T10:06:53.434Z"
   },
   {
    "duration": 46,
    "start_time": "2023-10-28T10:06:53.484Z"
   },
   {
    "duration": 29,
    "start_time": "2023-10-28T10:06:53.532Z"
   },
   {
    "duration": 6,
    "start_time": "2023-10-28T10:06:53.564Z"
   },
   {
    "duration": 15,
    "start_time": "2023-10-28T10:06:53.571Z"
   },
   {
    "duration": 13,
    "start_time": "2023-10-28T10:06:53.588Z"
   },
   {
    "duration": 22,
    "start_time": "2023-10-28T10:06:53.602Z"
   },
   {
    "duration": 10,
    "start_time": "2023-10-28T10:06:53.626Z"
   },
   {
    "duration": 28,
    "start_time": "2023-10-28T10:06:53.638Z"
   },
   {
    "duration": 9,
    "start_time": "2023-10-28T10:06:53.668Z"
   },
   {
    "duration": 5,
    "start_time": "2023-10-28T10:06:53.679Z"
   },
   {
    "duration": 16,
    "start_time": "2023-10-28T10:06:53.686Z"
   },
   {
    "duration": 24,
    "start_time": "2023-10-28T10:06:53.705Z"
   },
   {
    "duration": 178,
    "start_time": "2023-10-28T10:06:53.731Z"
   },
   {
    "duration": 100,
    "start_time": "2023-10-28T10:06:53.910Z"
   },
   {
    "duration": 269,
    "start_time": "2023-10-28T10:06:54.012Z"
   },
   {
    "duration": 178,
    "start_time": "2023-10-28T10:06:54.283Z"
   },
   {
    "duration": 167,
    "start_time": "2023-10-28T10:06:54.463Z"
   },
   {
    "duration": 27,
    "start_time": "2023-10-28T10:06:54.632Z"
   },
   {
    "duration": 17,
    "start_time": "2023-10-28T10:06:54.662Z"
   },
   {
    "duration": 46,
    "start_time": "2023-10-28T10:06:54.681Z"
   },
   {
    "duration": 18,
    "start_time": "2023-10-28T10:06:54.729Z"
   },
   {
    "duration": 348,
    "start_time": "2023-10-28T10:06:54.749Z"
   },
   {
    "duration": 15,
    "start_time": "2023-10-28T10:06:55.099Z"
   },
   {
    "duration": 20,
    "start_time": "2023-10-28T10:06:55.124Z"
   },
   {
    "duration": 13,
    "start_time": "2023-10-28T10:06:55.146Z"
   },
   {
    "duration": 14,
    "start_time": "2023-10-28T10:06:55.161Z"
   },
   {
    "duration": 49,
    "start_time": "2023-10-28T10:06:55.178Z"
   },
   {
    "duration": 194,
    "start_time": "2023-10-28T10:06:55.230Z"
   },
   {
    "duration": 2,
    "start_time": "2023-10-28T10:06:55.426Z"
   },
   {
    "duration": 29,
    "start_time": "2023-10-28T10:06:55.430Z"
   },
   {
    "duration": 4,
    "start_time": "2023-10-28T10:06:55.461Z"
   },
   {
    "duration": 5,
    "start_time": "2023-10-28T10:06:55.467Z"
   },
   {
    "duration": 588,
    "start_time": "2023-10-28T10:06:55.473Z"
   },
   {
    "duration": 3,
    "start_time": "2023-10-28T10:06:56.063Z"
   },
   {
    "duration": 267,
    "start_time": "2023-10-28T10:06:56.068Z"
   },
   {
    "duration": 5,
    "start_time": "2023-10-28T10:06:56.337Z"
   },
   {
    "duration": 61,
    "start_time": "2023-11-02T08:04:34.176Z"
   },
   {
    "duration": 1237,
    "start_time": "2023-11-02T08:04:39.168Z"
   },
   {
    "duration": 97,
    "start_time": "2023-11-02T08:04:40.407Z"
   },
   {
    "duration": 89,
    "start_time": "2023-11-02T08:04:40.506Z"
   },
   {
    "duration": 68,
    "start_time": "2023-11-02T08:04:40.596Z"
   },
   {
    "duration": 5,
    "start_time": "2023-11-02T08:04:40.666Z"
   },
   {
    "duration": 46,
    "start_time": "2023-11-02T08:04:40.672Z"
   },
   {
    "duration": 16,
    "start_time": "2023-11-02T08:04:40.721Z"
   },
   {
    "duration": 12,
    "start_time": "2023-11-02T08:04:40.738Z"
   },
   {
    "duration": 38,
    "start_time": "2023-11-02T08:04:40.751Z"
   },
   {
    "duration": 20,
    "start_time": "2023-11-02T08:04:40.791Z"
   },
   {
    "duration": 18,
    "start_time": "2023-11-02T08:04:40.813Z"
   },
   {
    "duration": 18,
    "start_time": "2023-11-02T08:04:40.834Z"
   },
   {
    "duration": 33,
    "start_time": "2023-11-02T08:04:40.854Z"
   },
   {
    "duration": 12,
    "start_time": "2023-11-02T08:04:40.891Z"
   },
   {
    "duration": 183,
    "start_time": "2023-11-02T08:04:40.905Z"
   },
   {
    "duration": 181,
    "start_time": "2023-11-02T08:04:41.090Z"
   },
   {
    "duration": 0,
    "start_time": "2023-11-02T08:04:41.272Z"
   },
   {
    "duration": 0,
    "start_time": "2023-11-02T08:04:41.274Z"
   },
   {
    "duration": 0,
    "start_time": "2023-11-02T08:04:41.275Z"
   },
   {
    "duration": 0,
    "start_time": "2023-11-02T08:04:41.276Z"
   },
   {
    "duration": 0,
    "start_time": "2023-11-02T08:04:41.278Z"
   },
   {
    "duration": 0,
    "start_time": "2023-11-02T08:04:41.279Z"
   },
   {
    "duration": 0,
    "start_time": "2023-11-02T08:04:41.280Z"
   },
   {
    "duration": 0,
    "start_time": "2023-11-02T08:04:41.281Z"
   },
   {
    "duration": 0,
    "start_time": "2023-11-02T08:04:41.283Z"
   },
   {
    "duration": 0,
    "start_time": "2023-11-02T08:04:41.284Z"
   },
   {
    "duration": 0,
    "start_time": "2023-11-02T08:04:41.286Z"
   },
   {
    "duration": 0,
    "start_time": "2023-11-02T08:04:41.287Z"
   },
   {
    "duration": 0,
    "start_time": "2023-11-02T08:04:41.289Z"
   },
   {
    "duration": 0,
    "start_time": "2023-11-02T08:04:41.290Z"
   },
   {
    "duration": 0,
    "start_time": "2023-11-02T08:04:41.292Z"
   },
   {
    "duration": 0,
    "start_time": "2023-11-02T08:04:41.294Z"
   },
   {
    "duration": 0,
    "start_time": "2023-11-02T08:04:41.296Z"
   },
   {
    "duration": 0,
    "start_time": "2023-11-02T08:04:41.298Z"
   },
   {
    "duration": 0,
    "start_time": "2023-11-02T08:04:41.300Z"
   },
   {
    "duration": 0,
    "start_time": "2023-11-02T08:04:41.301Z"
   },
   {
    "duration": 0,
    "start_time": "2023-11-02T08:04:41.303Z"
   },
   {
    "duration": 0,
    "start_time": "2023-11-02T08:04:41.304Z"
   },
   {
    "duration": 0,
    "start_time": "2023-11-02T08:04:41.306Z"
   },
   {
    "duration": 96,
    "start_time": "2023-11-02T08:05:39.483Z"
   },
   {
    "duration": 6,
    "start_time": "2023-11-02T08:05:41.832Z"
   },
   {
    "duration": 8,
    "start_time": "2023-11-02T08:06:10.411Z"
   },
   {
    "duration": 55,
    "start_time": "2023-11-03T09:08:29.268Z"
   },
   {
    "duration": 1111,
    "start_time": "2023-11-03T09:08:32.200Z"
   },
   {
    "duration": 103,
    "start_time": "2023-11-03T09:08:33.312Z"
   },
   {
    "duration": 100,
    "start_time": "2023-11-03T09:08:33.416Z"
   },
   {
    "duration": 75,
    "start_time": "2023-11-03T09:08:33.518Z"
   },
   {
    "duration": 7,
    "start_time": "2023-11-03T09:08:33.595Z"
   },
   {
    "duration": 21,
    "start_time": "2023-11-03T09:08:33.603Z"
   },
   {
    "duration": 10,
    "start_time": "2023-11-03T09:08:33.626Z"
   },
   {
    "duration": 30,
    "start_time": "2023-11-03T09:08:33.638Z"
   },
   {
    "duration": 10,
    "start_time": "2023-11-03T09:08:33.670Z"
   },
   {
    "duration": 11,
    "start_time": "2023-11-03T09:08:33.683Z"
   },
   {
    "duration": 7,
    "start_time": "2023-11-03T09:08:33.696Z"
   },
   {
    "duration": 4,
    "start_time": "2023-11-03T09:08:33.705Z"
   },
   {
    "duration": 17,
    "start_time": "2023-11-03T09:08:33.710Z"
   },
   {
    "duration": 5,
    "start_time": "2023-11-03T09:08:33.728Z"
   },
   {
    "duration": 174,
    "start_time": "2023-11-03T09:08:33.735Z"
   },
   {
    "duration": 89,
    "start_time": "2023-11-03T09:08:33.911Z"
   },
   {
    "duration": 5,
    "start_time": "2023-11-03T09:08:34.001Z"
   },
   {
    "duration": 255,
    "start_time": "2023-11-03T09:08:34.007Z"
   },
   {
    "duration": 154,
    "start_time": "2023-11-03T09:08:34.264Z"
   },
   {
    "duration": 167,
    "start_time": "2023-11-03T09:08:34.419Z"
   },
   {
    "duration": 24,
    "start_time": "2023-11-03T09:08:34.587Z"
   },
   {
    "duration": 38,
    "start_time": "2023-11-03T09:08:34.612Z"
   },
   {
    "duration": 22,
    "start_time": "2023-11-03T09:08:34.656Z"
   },
   {
    "duration": 14,
    "start_time": "2023-11-03T09:08:34.679Z"
   },
   {
    "duration": 292,
    "start_time": "2023-11-03T09:08:34.694Z"
   },
   {
    "duration": 13,
    "start_time": "2023-11-03T09:08:34.987Z"
   },
   {
    "duration": 16,
    "start_time": "2023-11-03T09:08:35.002Z"
   },
   {
    "duration": 20,
    "start_time": "2023-11-03T09:08:35.048Z"
   },
   {
    "duration": 13,
    "start_time": "2023-11-03T09:08:35.070Z"
   },
   {
    "duration": 12,
    "start_time": "2023-11-03T09:08:35.085Z"
   },
   {
    "duration": 8,
    "start_time": "2023-11-03T09:08:35.099Z"
   },
   {
    "duration": 4,
    "start_time": "2023-11-03T09:08:35.109Z"
   },
   {
    "duration": 79,
    "start_time": "2023-11-03T09:08:35.114Z"
   },
   {
    "duration": 17,
    "start_time": "2023-11-03T09:08:35.195Z"
   },
   {
    "duration": 5,
    "start_time": "2023-11-03T09:08:35.213Z"
   },
   {
    "duration": 254,
    "start_time": "2023-11-03T09:08:35.219Z"
   },
   {
    "duration": 5,
    "start_time": "2023-11-03T09:08:35.475Z"
   },
   {
    "duration": 115,
    "start_time": "2023-11-03T09:08:35.481Z"
   },
   {
    "duration": 5,
    "start_time": "2023-11-03T09:08:35.597Z"
   },
   {
    "duration": 5,
    "start_time": "2023-11-03T09:15:48.586Z"
   },
   {
    "duration": 7,
    "start_time": "2023-11-03T09:16:02.349Z"
   },
   {
    "duration": 5,
    "start_time": "2023-11-03T13:02:57.077Z"
   },
   {
    "duration": 5,
    "start_time": "2023-11-03T13:03:20.511Z"
   },
   {
    "duration": 5,
    "start_time": "2023-11-03T13:03:27.823Z"
   },
   {
    "duration": 5,
    "start_time": "2023-11-03T13:03:32.115Z"
   }
  ],
  "kernelspec": {
   "display_name": "Python 3 (ipykernel)",
   "language": "python",
   "name": "python3"
  },
  "language_info": {
   "codemirror_mode": {
    "name": "ipython",
    "version": 3
   },
   "file_extension": ".py",
   "mimetype": "text/x-python",
   "name": "python",
   "nbconvert_exporter": "python",
   "pygments_lexer": "ipython3",
   "version": "3.9.5"
  },
  "toc": {
   "base_numbering": 1,
   "nav_menu": {},
   "number_sections": true,
   "sideBar": true,
   "skip_h1_title": true,
   "title_cell": "Table of Contents",
   "title_sidebar": "Contents",
   "toc_cell": false,
   "toc_position": {
    "height": "calc(100% - 180px)",
    "left": "10px",
    "top": "150px",
    "width": "188px"
   },
   "toc_section_display": true,
   "toc_window_display": true
  },
  "toc-autonumbering": false,
  "toc-showmarkdowntxt": false
 },
 "nbformat": 4,
 "nbformat_minor": 5
}
