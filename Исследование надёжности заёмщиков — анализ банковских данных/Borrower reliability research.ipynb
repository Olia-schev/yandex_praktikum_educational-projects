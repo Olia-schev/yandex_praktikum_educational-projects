{
 "cells": [
  {
   "cell_type": "markdown",
   "id": "6cdeb8d0-0c7a-4c40-8a79-fd5f957b819e",
   "metadata": {},
   "source": [
    "# **Исследование надёжности заёмщиков — анализ банковских данных**"
   ]
  },
  {
   "cell_type": "markdown",
   "id": "03841a14-1237-42a2-b75a-291cbefb744e",
   "metadata": {},
   "source": [
    "## Описание проекта\n",
    "Заказчик — кредитный отдел банка. Нужно разобраться, влияет ли семейное положение и количество детей клиента на факт погашения кредита в срок. Входные данные от банка — статистика о платёжеспособности клиентов.\n",
    "Результаты исследования будут учтены при построении модели кредитного скоринга — специальной системы, которая оценивает способность потенциального заёмщика вернуть кредит банку."
   ]
  },
  {
   "cell_type": "markdown",
   "id": "ad41affc-0caa-4864-b260-26529e28185f",
   "metadata": {},
   "source": [
    "**Структура проекта**\n",
    "\n",
    "- [Описание данных;](#review)\n",
    "- [Загрузка данных;](#loading_data)\n",
    "- [Предобработка данных;](#preprocessing)\n",
    "- [Исследовательский анализ данных;](#analysis)\n",
    "- [Выводы](#results)"
   ]
  },
  {
   "cell_type": "markdown",
   "id": "dedf5e3a-4176-4ebf-be18-3eeb67436816",
   "metadata": {},
   "source": [
    "<a id='review'></a>\n",
    "## Описание данных\n",
    "* `children` — количество детей в семье\n",
    "* `days_employed` — общий трудовой стаж в днях\n",
    "* `dob_years` — возраст клиента в годах\n",
    "* `education` — уровень образования клиента\n",
    "* `education_id` — идентификатор уровня образования\n",
    "* `family_status` — семейное положение\n",
    "* `family_status_id` — идентификатор семейного положения\n",
    "* `gender` — пол клиента\n",
    "* `income_type` — тип занятости\n",
    "* `debt` — имел ли задолженность по возврату кредитов\n",
    "* `total_income` — ежемесячный доход\n",
    "* `purpose` — цель получения кредита"
   ]
  },
  {
   "cell_type": "markdown",
   "id": "28deddfa-99b3-4f35-8f44-1e66dde2f3c3",
   "metadata": {},
   "source": [
    "**Импорт необходимых библиотек**"
   ]
  },
  {
   "cell_type": "code",
   "execution_count": 1,
   "id": "3ee805c7-79ad-4dba-a987-da814d324434",
   "metadata": {},
   "outputs": [],
   "source": [
    "import pandas as pd\n",
    "#import matplotlib as mpl\n",
    "import matplotlib.pyplot as plt"
   ]
  },
  {
   "cell_type": "markdown",
   "id": "a9c00f9b-5f00-434c-acc8-ea2ea60f65d0",
   "metadata": {},
   "source": [
    "<a id='loading_data'></a>\n",
    "## Загрузка данных\n"
   ]
  },
  {
   "cell_type": "code",
   "execution_count": 2,
   "id": "2ff1832f-fb6b-4b72-843a-9f4b8940be8f",
   "metadata": {
    "tags": []
   },
   "outputs": [],
   "source": [
    "data=pd.read_csv('data.csv')"
   ]
  },
  {
   "cell_type": "code",
   "execution_count": 3,
   "id": "ac1d2991-98fc-4687-957f-b3264aa33979",
   "metadata": {
    "tags": []
   },
   "outputs": [
    {
     "data": {
      "text/html": [
       "<div>\n",
       "<style scoped>\n",
       "    .dataframe tbody tr th:only-of-type {\n",
       "        vertical-align: middle;\n",
       "    }\n",
       "\n",
       "    .dataframe tbody tr th {\n",
       "        vertical-align: top;\n",
       "    }\n",
       "\n",
       "    .dataframe thead th {\n",
       "        text-align: right;\n",
       "    }\n",
       "</style>\n",
       "<table border=\"1\" class=\"dataframe\">\n",
       "  <thead>\n",
       "    <tr style=\"text-align: right;\">\n",
       "      <th></th>\n",
       "      <th>children</th>\n",
       "      <th>days_employed</th>\n",
       "      <th>dob_years</th>\n",
       "      <th>education</th>\n",
       "      <th>education_id</th>\n",
       "      <th>family_status</th>\n",
       "      <th>family_status_id</th>\n",
       "      <th>gender</th>\n",
       "      <th>income_type</th>\n",
       "      <th>debt</th>\n",
       "      <th>total_income</th>\n",
       "      <th>purpose</th>\n",
       "    </tr>\n",
       "  </thead>\n",
       "  <tbody>\n",
       "    <tr>\n",
       "      <th>0</th>\n",
       "      <td>1</td>\n",
       "      <td>-8437.673028</td>\n",
       "      <td>42</td>\n",
       "      <td>высшее</td>\n",
       "      <td>0</td>\n",
       "      <td>женат / замужем</td>\n",
       "      <td>0</td>\n",
       "      <td>F</td>\n",
       "      <td>сотрудник</td>\n",
       "      <td>0</td>\n",
       "      <td>253875.639453</td>\n",
       "      <td>покупка жилья</td>\n",
       "    </tr>\n",
       "    <tr>\n",
       "      <th>1</th>\n",
       "      <td>1</td>\n",
       "      <td>-4024.803754</td>\n",
       "      <td>36</td>\n",
       "      <td>среднее</td>\n",
       "      <td>1</td>\n",
       "      <td>женат / замужем</td>\n",
       "      <td>0</td>\n",
       "      <td>F</td>\n",
       "      <td>сотрудник</td>\n",
       "      <td>0</td>\n",
       "      <td>112080.014102</td>\n",
       "      <td>приобретение автомобиля</td>\n",
       "    </tr>\n",
       "    <tr>\n",
       "      <th>2</th>\n",
       "      <td>0</td>\n",
       "      <td>-5623.422610</td>\n",
       "      <td>33</td>\n",
       "      <td>Среднее</td>\n",
       "      <td>1</td>\n",
       "      <td>женат / замужем</td>\n",
       "      <td>0</td>\n",
       "      <td>M</td>\n",
       "      <td>сотрудник</td>\n",
       "      <td>0</td>\n",
       "      <td>145885.952297</td>\n",
       "      <td>покупка жилья</td>\n",
       "    </tr>\n",
       "    <tr>\n",
       "      <th>3</th>\n",
       "      <td>3</td>\n",
       "      <td>-4124.747207</td>\n",
       "      <td>32</td>\n",
       "      <td>среднее</td>\n",
       "      <td>1</td>\n",
       "      <td>женат / замужем</td>\n",
       "      <td>0</td>\n",
       "      <td>M</td>\n",
       "      <td>сотрудник</td>\n",
       "      <td>0</td>\n",
       "      <td>267628.550329</td>\n",
       "      <td>дополнительное образование</td>\n",
       "    </tr>\n",
       "    <tr>\n",
       "      <th>4</th>\n",
       "      <td>0</td>\n",
       "      <td>340266.072047</td>\n",
       "      <td>53</td>\n",
       "      <td>среднее</td>\n",
       "      <td>1</td>\n",
       "      <td>гражданский брак</td>\n",
       "      <td>1</td>\n",
       "      <td>F</td>\n",
       "      <td>пенсионер</td>\n",
       "      <td>0</td>\n",
       "      <td>158616.077870</td>\n",
       "      <td>сыграть свадьбу</td>\n",
       "    </tr>\n",
       "    <tr>\n",
       "      <th>5</th>\n",
       "      <td>0</td>\n",
       "      <td>-926.185831</td>\n",
       "      <td>27</td>\n",
       "      <td>высшее</td>\n",
       "      <td>0</td>\n",
       "      <td>гражданский брак</td>\n",
       "      <td>1</td>\n",
       "      <td>M</td>\n",
       "      <td>компаньон</td>\n",
       "      <td>0</td>\n",
       "      <td>255763.565419</td>\n",
       "      <td>покупка жилья</td>\n",
       "    </tr>\n",
       "    <tr>\n",
       "      <th>6</th>\n",
       "      <td>0</td>\n",
       "      <td>-2879.202052</td>\n",
       "      <td>43</td>\n",
       "      <td>высшее</td>\n",
       "      <td>0</td>\n",
       "      <td>женат / замужем</td>\n",
       "      <td>0</td>\n",
       "      <td>F</td>\n",
       "      <td>компаньон</td>\n",
       "      <td>0</td>\n",
       "      <td>240525.971920</td>\n",
       "      <td>операции с жильем</td>\n",
       "    </tr>\n",
       "    <tr>\n",
       "      <th>7</th>\n",
       "      <td>0</td>\n",
       "      <td>-152.779569</td>\n",
       "      <td>50</td>\n",
       "      <td>СРЕДНЕЕ</td>\n",
       "      <td>1</td>\n",
       "      <td>женат / замужем</td>\n",
       "      <td>0</td>\n",
       "      <td>M</td>\n",
       "      <td>сотрудник</td>\n",
       "      <td>0</td>\n",
       "      <td>135823.934197</td>\n",
       "      <td>образование</td>\n",
       "    </tr>\n",
       "    <tr>\n",
       "      <th>8</th>\n",
       "      <td>2</td>\n",
       "      <td>-6929.865299</td>\n",
       "      <td>35</td>\n",
       "      <td>ВЫСШЕЕ</td>\n",
       "      <td>0</td>\n",
       "      <td>гражданский брак</td>\n",
       "      <td>1</td>\n",
       "      <td>F</td>\n",
       "      <td>сотрудник</td>\n",
       "      <td>0</td>\n",
       "      <td>95856.832424</td>\n",
       "      <td>на проведение свадьбы</td>\n",
       "    </tr>\n",
       "    <tr>\n",
       "      <th>9</th>\n",
       "      <td>0</td>\n",
       "      <td>-2188.756445</td>\n",
       "      <td>41</td>\n",
       "      <td>среднее</td>\n",
       "      <td>1</td>\n",
       "      <td>женат / замужем</td>\n",
       "      <td>0</td>\n",
       "      <td>M</td>\n",
       "      <td>сотрудник</td>\n",
       "      <td>0</td>\n",
       "      <td>144425.938277</td>\n",
       "      <td>покупка жилья для семьи</td>\n",
       "    </tr>\n",
       "  </tbody>\n",
       "</table>\n",
       "</div>"
      ],
      "text/plain": [
       "   children  days_employed  dob_years education  education_id  \\\n",
       "0         1   -8437.673028         42    высшее             0   \n",
       "1         1   -4024.803754         36   среднее             1   \n",
       "2         0   -5623.422610         33   Среднее             1   \n",
       "3         3   -4124.747207         32   среднее             1   \n",
       "4         0  340266.072047         53   среднее             1   \n",
       "5         0    -926.185831         27    высшее             0   \n",
       "6         0   -2879.202052         43    высшее             0   \n",
       "7         0    -152.779569         50   СРЕДНЕЕ             1   \n",
       "8         2   -6929.865299         35    ВЫСШЕЕ             0   \n",
       "9         0   -2188.756445         41   среднее             1   \n",
       "\n",
       "      family_status  family_status_id gender income_type  debt   total_income  \\\n",
       "0   женат / замужем                 0      F   сотрудник     0  253875.639453   \n",
       "1   женат / замужем                 0      F   сотрудник     0  112080.014102   \n",
       "2   женат / замужем                 0      M   сотрудник     0  145885.952297   \n",
       "3   женат / замужем                 0      M   сотрудник     0  267628.550329   \n",
       "4  гражданский брак                 1      F   пенсионер     0  158616.077870   \n",
       "5  гражданский брак                 1      M   компаньон     0  255763.565419   \n",
       "6   женат / замужем                 0      F   компаньон     0  240525.971920   \n",
       "7   женат / замужем                 0      M   сотрудник     0  135823.934197   \n",
       "8  гражданский брак                 1      F   сотрудник     0   95856.832424   \n",
       "9   женат / замужем                 0      M   сотрудник     0  144425.938277   \n",
       "\n",
       "                      purpose  \n",
       "0               покупка жилья  \n",
       "1     приобретение автомобиля  \n",
       "2               покупка жилья  \n",
       "3  дополнительное образование  \n",
       "4             сыграть свадьбу  \n",
       "5               покупка жилья  \n",
       "6           операции с жильем  \n",
       "7                 образование  \n",
       "8       на проведение свадьбы  \n",
       "9     покупка жилья для семьи  "
      ]
     },
     "execution_count": 3,
     "metadata": {},
     "output_type": "execute_result"
    }
   ],
   "source": [
    "data.head(10)"
   ]
  },
  {
   "cell_type": "code",
   "execution_count": 4,
   "id": "9478ef63-d595-4b10-a761-118e4288b111",
   "metadata": {
    "tags": []
   },
   "outputs": [
    {
     "name": "stdout",
     "output_type": "stream",
     "text": [
      "<class 'pandas.core.frame.DataFrame'>\n",
      "RangeIndex: 21525 entries, 0 to 21524\n",
      "Data columns (total 12 columns):\n",
      " #   Column            Non-Null Count  Dtype  \n",
      "---  ------            --------------  -----  \n",
      " 0   children          21525 non-null  int64  \n",
      " 1   days_employed     19351 non-null  float64\n",
      " 2   dob_years         21525 non-null  int64  \n",
      " 3   education         21525 non-null  object \n",
      " 4   education_id      21525 non-null  int64  \n",
      " 5   family_status     21525 non-null  object \n",
      " 6   family_status_id  21525 non-null  int64  \n",
      " 7   gender            21525 non-null  object \n",
      " 8   income_type       21525 non-null  object \n",
      " 9   debt              21525 non-null  int64  \n",
      " 10  total_income      19351 non-null  float64\n",
      " 11  purpose           21525 non-null  object \n",
      "dtypes: float64(2), int64(5), object(5)\n",
      "memory usage: 2.0+ MB\n"
     ]
    }
   ],
   "source": [
    "data.info()"
   ]
  },
  {
   "cell_type": "markdown",
   "id": "54bcba2d-b4e1-41f2-b48e-7b2ae4da2e57",
   "metadata": {},
   "source": [
    "* Данные содержат 21 525 строк и 12 столбцов\n",
    "* В данных присутствуют пропуски \n",
    "* Тип данных в столбце `total_income`  -  `float64`. Заменим его на тип `int`"
   ]
  },
  {
   "cell_type": "markdown",
   "id": "b69eec2f-26a7-4e98-893b-845580e83c46",
   "metadata": {},
   "source": [
    "<a id='preprocessing'></a>\n",
    "## Предобработка данных\n",
    "\n",
    "\n",
    "### Удаление пропусков"
   ]
  },
  {
   "cell_type": "code",
   "execution_count": 5,
   "id": "580975f3-e015-43de-9c95-9ccbb0de82f3",
   "metadata": {
    "tags": []
   },
   "outputs": [
    {
     "data": {
      "text/plain": [
       "children               0\n",
       "days_employed       2174\n",
       "dob_years              0\n",
       "education              0\n",
       "education_id           0\n",
       "family_status          0\n",
       "family_status_id       0\n",
       "gender                 0\n",
       "income_type            0\n",
       "debt                   0\n",
       "total_income        2174\n",
       "purpose                0\n",
       "dtype: int64"
      ]
     },
     "execution_count": 5,
     "metadata": {},
     "output_type": "execute_result"
    }
   ],
   "source": [
    "data.isna().sum()"
   ]
  },
  {
   "cell_type": "markdown",
   "id": "2598a439-4ce2-4681-912d-d595311ca284",
   "metadata": {},
   "source": [
    "Пропуски обнаружены в столбцах: `days_employed` и `total_income`.\n",
    "Так как сумма доходов зависит от типа занятости, заменим пропуски в столбце days_employed медианным значением по каждому типу в столбце `income_type`.\n",
    "\n",
    "*Для заполнения пропусков выбираем медианное значение, так как оно делит выборку пополам так, что в одной половине значения меньше медианного, а в другой больше. Среднее значение может быть сильно завышено или занижено относительно медианного, так что при заполнении пропусков средним можно сильно исказить результаты дальнейшего исследования.*"
   ]
  },
  {
   "cell_type": "code",
   "execution_count": 6,
   "id": "a89669c7-e8db-4bbf-8b0f-6bb68b2cf820",
   "metadata": {
    "tags": []
   },
   "outputs": [],
   "source": [
    "income = data['income_type'].unique()\n",
    "\n",
    "for inc in income:\n",
    "    data.loc[(data['income_type']==inc) & (data['total_income'].isna()),'total_income'] =\\\n",
    "    data.loc[ data['income_type']==inc, 'total_income'].median()"
   ]
  },
  {
   "cell_type": "markdown",
   "id": "bafdf2e8-e9b3-4bf3-a645-3776f0ff5c4d",
   "metadata": {},
   "source": [
    "Пропуски в столбце `days_employed` заполним медианными значениями для каждого типа занятости `income_type`."
   ]
  },
  {
   "cell_type": "code",
   "execution_count": 7,
   "id": "b7749158-1cde-44f4-ac27-51ea86eb1b59",
   "metadata": {},
   "outputs": [],
   "source": [
    "for t in data['income_type'].unique():\n",
    "    data.loc[(data['income_type'] == t) & (data['days_employed'].isna()), 'days_employed'] = \\\n",
    "    data.loc[(data['income_type'] == t), 'days_employed'].median()"
   ]
  },
  {
   "cell_type": "code",
   "execution_count": 8,
   "id": "2f16866b-9be9-49c1-8be8-fcab51ca1856",
   "metadata": {},
   "outputs": [
    {
     "data": {
      "text/plain": [
       "children            0\n",
       "days_employed       0\n",
       "dob_years           0\n",
       "education           0\n",
       "education_id        0\n",
       "family_status       0\n",
       "family_status_id    0\n",
       "gender              0\n",
       "income_type         0\n",
       "debt                0\n",
       "total_income        0\n",
       "purpose             0\n",
       "dtype: int64"
      ]
     },
     "execution_count": 8,
     "metadata": {},
     "output_type": "execute_result"
    }
   ],
   "source": [
    "data.isna().sum()"
   ]
  },
  {
   "cell_type": "markdown",
   "id": "7ef22315-50e7-4a14-8d20-4832f2cc1773",
   "metadata": {},
   "source": [
    "Пропуски были обнаружены в столбцах  `days_employed` (общий трудовой стаж в днях) и `total_income` (ежемесячный доход), причем в обоих этих колонках пропуски в одних и тех же строках, так что можно предположить, что это ошибка выгрузки данных.\n",
    "Кроме технических ошибок причиной может быть человеческий фактор. Например, клиент не заполнил информацию о стаже и доходе из-за того, что не еще работал или работал не официально."
   ]
  },
  {
   "cell_type": "markdown",
   "id": "9fcc3ed9-7f76-442c-837f-1702b7d1e144",
   "metadata": {},
   "source": [
    "### Обработка аномальных значений"
   ]
  },
  {
   "cell_type": "markdown",
   "id": "728d2d92-0879-4106-a790-b490d655ef94",
   "metadata": {},
   "source": [
    "Чтобы выявить аномальные значения в датафрейме, посмотрим основные статистические характеристики данных по каждому столбцу и построим гистограммы. "
   ]
  },
  {
   "cell_type": "code",
   "execution_count": 9,
   "id": "2ebc2f44-6d68-40f5-a665-9a8a066bea82",
   "metadata": {},
   "outputs": [
    {
     "data": {
      "text/html": [
       "<div>\n",
       "<style scoped>\n",
       "    .dataframe tbody tr th:only-of-type {\n",
       "        vertical-align: middle;\n",
       "    }\n",
       "\n",
       "    .dataframe tbody tr th {\n",
       "        vertical-align: top;\n",
       "    }\n",
       "\n",
       "    .dataframe thead th {\n",
       "        text-align: right;\n",
       "    }\n",
       "</style>\n",
       "<table border=\"1\" class=\"dataframe\">\n",
       "  <thead>\n",
       "    <tr style=\"text-align: right;\">\n",
       "      <th></th>\n",
       "      <th>children</th>\n",
       "      <th>days_employed</th>\n",
       "      <th>dob_years</th>\n",
       "      <th>education_id</th>\n",
       "      <th>family_status_id</th>\n",
       "      <th>debt</th>\n",
       "      <th>total_income</th>\n",
       "    </tr>\n",
       "  </thead>\n",
       "  <tbody>\n",
       "    <tr>\n",
       "      <th>count</th>\n",
       "      <td>21525.000000</td>\n",
       "      <td>21525.000000</td>\n",
       "      <td>21525.000000</td>\n",
       "      <td>21525.000000</td>\n",
       "      <td>21525.000000</td>\n",
       "      <td>21525.000000</td>\n",
       "      <td>2.152500e+04</td>\n",
       "    </tr>\n",
       "    <tr>\n",
       "      <th>mean</th>\n",
       "      <td>0.538908</td>\n",
       "      <td>63550.497071</td>\n",
       "      <td>43.293380</td>\n",
       "      <td>0.817236</td>\n",
       "      <td>0.972544</td>\n",
       "      <td>0.080883</td>\n",
       "      <td>1.652253e+05</td>\n",
       "    </tr>\n",
       "    <tr>\n",
       "      <th>std</th>\n",
       "      <td>1.381587</td>\n",
       "      <td>141150.420058</td>\n",
       "      <td>12.574584</td>\n",
       "      <td>0.548138</td>\n",
       "      <td>1.420324</td>\n",
       "      <td>0.272661</td>\n",
       "      <td>9.804367e+04</td>\n",
       "    </tr>\n",
       "    <tr>\n",
       "      <th>min</th>\n",
       "      <td>-1.000000</td>\n",
       "      <td>-18388.949901</td>\n",
       "      <td>0.000000</td>\n",
       "      <td>0.000000</td>\n",
       "      <td>0.000000</td>\n",
       "      <td>0.000000</td>\n",
       "      <td>2.066726e+04</td>\n",
       "    </tr>\n",
       "    <tr>\n",
       "      <th>25%</th>\n",
       "      <td>0.000000</td>\n",
       "      <td>-2570.047544</td>\n",
       "      <td>33.000000</td>\n",
       "      <td>1.000000</td>\n",
       "      <td>0.000000</td>\n",
       "      <td>0.000000</td>\n",
       "      <td>1.077982e+05</td>\n",
       "    </tr>\n",
       "    <tr>\n",
       "      <th>50%</th>\n",
       "      <td>0.000000</td>\n",
       "      <td>-1355.683356</td>\n",
       "      <td>42.000000</td>\n",
       "      <td>1.000000</td>\n",
       "      <td>0.000000</td>\n",
       "      <td>0.000000</td>\n",
       "      <td>1.425944e+05</td>\n",
       "    </tr>\n",
       "    <tr>\n",
       "      <th>75%</th>\n",
       "      <td>1.000000</td>\n",
       "      <td>-316.240646</td>\n",
       "      <td>53.000000</td>\n",
       "      <td>1.000000</td>\n",
       "      <td>1.000000</td>\n",
       "      <td>0.000000</td>\n",
       "      <td>1.955499e+05</td>\n",
       "    </tr>\n",
       "    <tr>\n",
       "      <th>max</th>\n",
       "      <td>20.000000</td>\n",
       "      <td>401755.400475</td>\n",
       "      <td>75.000000</td>\n",
       "      <td>4.000000</td>\n",
       "      <td>4.000000</td>\n",
       "      <td>1.000000</td>\n",
       "      <td>2.265604e+06</td>\n",
       "    </tr>\n",
       "  </tbody>\n",
       "</table>\n",
       "</div>"
      ],
      "text/plain": [
       "           children  days_employed     dob_years  education_id  \\\n",
       "count  21525.000000   21525.000000  21525.000000  21525.000000   \n",
       "mean       0.538908   63550.497071     43.293380      0.817236   \n",
       "std        1.381587  141150.420058     12.574584      0.548138   \n",
       "min       -1.000000  -18388.949901      0.000000      0.000000   \n",
       "25%        0.000000   -2570.047544     33.000000      1.000000   \n",
       "50%        0.000000   -1355.683356     42.000000      1.000000   \n",
       "75%        1.000000    -316.240646     53.000000      1.000000   \n",
       "max       20.000000  401755.400475     75.000000      4.000000   \n",
       "\n",
       "       family_status_id          debt  total_income  \n",
       "count      21525.000000  21525.000000  2.152500e+04  \n",
       "mean           0.972544      0.080883  1.652253e+05  \n",
       "std            1.420324      0.272661  9.804367e+04  \n",
       "min            0.000000      0.000000  2.066726e+04  \n",
       "25%            0.000000      0.000000  1.077982e+05  \n",
       "50%            0.000000      0.000000  1.425944e+05  \n",
       "75%            1.000000      0.000000  1.955499e+05  \n",
       "max            4.000000      1.000000  2.265604e+06  "
      ]
     },
     "metadata": {},
     "output_type": "display_data"
    },
    {
     "data": {
      "image/png": "[encoded data removed]",
      "text/plain": [
       "<Figure size 864x864 with 9 Axes>"
      ]
     },
     "metadata": {
      "needs_background": "light"
     },
     "output_type": "display_data"
    }
   ],
   "source": [
    "display(data.describe())\n",
    "data.hist(figsize=(12,12))\n",
    "plt.show()"
   ]
  },
  {
   "cell_type": "markdown",
   "id": "0015717b-baa5-49d0-9562-efaa7c05be2a",
   "metadata": {},
   "source": [
    "* В столбце с количеством детей есть отрицательное значение и максимальное значение 20 детей, что  маловероятно. Удалим эти значения\n",
    "* В столбце `days_employed` (общий трудовой стаж в днях) обнаружены отрицательные значения, так же максимальное значение 401755 дней (что равно примерно 1000 лет)\n",
    "* Минимальный возраст клиентов 0 лет также выглядит подозрительно"
   ]
  },
  {
   "cell_type": "code",
   "execution_count": 10,
   "id": "69311223-c080-4e4b-bf3b-541878fdcc11",
   "metadata": {
    "tags": []
   },
   "outputs": [
    {
     "data": {
      "text/plain": [
       "array([1, 0, 3, 2, 4, 5], dtype=int64)"
      ]
     },
     "metadata": {},
     "output_type": "display_data"
    }
   ],
   "source": [
    "# Удаление аномалий из столбца childrem\n",
    "drop_index=data.loc[(data['children']==-1) | (data['children']==20)].index\n",
    "data=data.drop(labels=drop_index, axis=0)\n",
    "display(data['children'].unique())\n"
   ]
  },
  {
   "cell_type": "code",
   "execution_count": 11,
   "id": "76ff8410-ba39-45e8-a2d4-a06496d57608",
   "metadata": {},
   "outputs": [
    {
     "data": {
      "text/plain": [
       "income_type\n",
       "безработный        366413.652744\n",
       "в декрете            3296.759962\n",
       "госслужащий          2689.368353\n",
       "компаньон            1547.382223\n",
       "пенсионер          365213.306266\n",
       "предприниматель       520.848083\n",
       "сотрудник            1574.202821\n",
       "студент               578.751554\n",
       "Name: days_employed, dtype: float64"
      ]
     },
     "execution_count": 11,
     "metadata": {},
     "output_type": "execute_result"
    }
   ],
   "source": [
    "# Заменим все отрицательные значения В столбце days_employed положительными.\n",
    "data['days_employed']=data['days_employed'].abs()\n",
    "# для каждого типа занятости выведем медианное значение трудового стажа `days_employed` в днях.\n",
    "data.groupby('income_type')['days_employed'].agg('median')"
   ]
  },
  {
   "cell_type": "markdown",
   "id": "73547a21-a44f-4708-b7bb-d05a36e12235",
   "metadata": {},
   "source": [
    "Аномально высокие значения обнаружены у пенсионеров и безработных. Судя по гистограммам построенных выше таких значений очень мало, но удалять их из датасета не будем, так как зависимость между рабочим стажем и возвратом кредита в срок в нашем исследовании не учитывается. \n"
   ]
  },
  {
   "cell_type": "markdown",
   "id": "09bb89aa-03ba-4bae-afe7-cd328f66a896",
   "metadata": {},
   "source": [
    "Посмотрим уникальные значения возрастов пользователей моложе 18 лет. "
   ]
  },
  {
   "cell_type": "code",
   "execution_count": 12,
   "id": "82640cdc-7224-43f3-858c-3fc6a45b5917",
   "metadata": {},
   "outputs": [
    {
     "data": {
      "text/plain": [
       "array([0], dtype=int64)"
      ]
     },
     "execution_count": 12,
     "metadata": {},
     "output_type": "execute_result"
    }
   ],
   "source": [
    "data.query('dob_years < 18')['dob_years'].unique()"
   ]
  },
  {
   "cell_type": "markdown",
   "id": "a407b76b-e5f6-43a6-808e-0b58722679eb",
   "metadata": {},
   "source": [
    "Те самые значения '0'. Видимо эти пользователи просто не заполнили графу с возрастом. Оставим эти строки, так как данный столбец не учитывается в нашем исследовании."
   ]
  },
  {
   "cell_type": "markdown",
   "id": "71f8d47f-a12b-424b-8f16-a62ff4a9aff3",
   "metadata": {
    "tags": []
   },
   "source": [
    "### Изменение типов данных"
   ]
  },
  {
   "cell_type": "markdown",
   "id": "427afa10-f9fe-4201-9eb6-9e55915f55c3",
   "metadata": {
    "tags": []
   },
   "source": [
    "Заменим вещественный тип данных в столбце `total_income` на целочисленный с помощью метода `astype()`."
   ]
  },
  {
   "cell_type": "code",
   "execution_count": 13,
   "id": "04c04b38-e12b-4a73-8442-f14b43b88af4",
   "metadata": {
    "tags": []
   },
   "outputs": [],
   "source": [
    "data['total_income']=data['total_income'].astype('int')"
   ]
  },
  {
   "cell_type": "code",
   "execution_count": 14,
   "id": "66426b7e-9169-47fd-87f6-ba8671c0097e",
   "metadata": {},
   "outputs": [
    {
     "name": "stdout",
     "output_type": "stream",
     "text": [
      "<class 'pandas.core.frame.DataFrame'>\n",
      "Int64Index: 21402 entries, 0 to 21524\n",
      "Data columns (total 12 columns):\n",
      " #   Column            Non-Null Count  Dtype  \n",
      "---  ------            --------------  -----  \n",
      " 0   children          21402 non-null  int64  \n",
      " 1   days_employed     21402 non-null  float64\n",
      " 2   dob_years         21402 non-null  int64  \n",
      " 3   education         21402 non-null  object \n",
      " 4   education_id      21402 non-null  int64  \n",
      " 5   family_status     21402 non-null  object \n",
      " 6   family_status_id  21402 non-null  int64  \n",
      " 7   gender            21402 non-null  object \n",
      " 8   income_type       21402 non-null  object \n",
      " 9   debt              21402 non-null  int64  \n",
      " 10  total_income      21402 non-null  int32  \n",
      " 11  purpose           21402 non-null  object \n",
      "dtypes: float64(1), int32(1), int64(5), object(5)\n",
      "memory usage: 2.0+ MB\n"
     ]
    }
   ],
   "source": [
    "data.info()"
   ]
  },
  {
   "cell_type": "markdown",
   "id": "b1a09db0-dbd8-4b3f-8e07-cf89352c7966",
   "metadata": {},
   "source": [
    "### Обработка дубликатов\n",
    "\n",
    "**Обработка явных дубликатов**"
   ]
  },
  {
   "cell_type": "code",
   "execution_count": 15,
   "id": "44b9785d-9a4d-492c-89f5-5bc882a6b3f0",
   "metadata": {},
   "outputs": [
    {
     "data": {
      "text/plain": [
       "54"
      ]
     },
     "metadata": {},
     "output_type": "display_data"
    },
    {
     "data": {
      "text/plain": [
       "0"
      ]
     },
     "metadata": {},
     "output_type": "display_data"
    }
   ],
   "source": [
    "display(data.duplicated().sum())\n",
    "data=data.drop_duplicates()\n",
    "display(data.duplicated().sum())"
   ]
  },
  {
   "cell_type": "markdown",
   "id": "73851e6c-fac1-4e47-ae18-e6f4b6d788cf",
   "metadata": {},
   "source": [
    "**Обработка неявных дубликатов**\n",
    "\n",
    "Посмотрим уникальные значения в столбцах со строковыми значениями. "
   ]
  },
  {
   "cell_type": "code",
   "execution_count": 16,
   "id": "199a4bd5-c1cd-4c3e-aa1f-a1094076f0df",
   "metadata": {},
   "outputs": [
    {
     "data": {
      "text/plain": [
       "array(['высшее', 'среднее', 'Среднее', 'СРЕДНЕЕ', 'ВЫСШЕЕ',\n",
       "       'неоконченное высшее', 'начальное', 'Высшее',\n",
       "       'НЕОКОНЧЕННОЕ ВЫСШЕЕ', 'Неоконченное высшее', 'НАЧАЛЬНОЕ',\n",
       "       'Начальное', 'Ученая степень', 'УЧЕНАЯ СТЕПЕНЬ', 'ученая степень'],\n",
       "      dtype=object)"
      ]
     },
     "metadata": {},
     "output_type": "display_data"
    },
    {
     "data": {
      "text/plain": [
       "array(['женат / замужем', 'гражданский брак', 'вдовец / вдова',\n",
       "       'в разводе', 'Не женат / не замужем'], dtype=object)"
      ]
     },
     "metadata": {},
     "output_type": "display_data"
    },
    {
     "data": {
      "text/plain": [
       "array(['F', 'M', 'XNA'], dtype=object)"
      ]
     },
     "metadata": {},
     "output_type": "display_data"
    },
    {
     "data": {
      "text/plain": [
       "array(['сотрудник', 'пенсионер', 'компаньон', 'госслужащий',\n",
       "       'безработный', 'предприниматель', 'студент', 'в декрете'],\n",
       "      dtype=object)"
      ]
     },
     "metadata": {},
     "output_type": "display_data"
    },
    {
     "data": {
      "text/plain": [
       "array(['покупка жилья', 'приобретение автомобиля',\n",
       "       'дополнительное образование', 'сыграть свадьбу',\n",
       "       'операции с жильем', 'образование', 'на проведение свадьбы',\n",
       "       'покупка жилья для семьи', 'покупка недвижимости',\n",
       "       'покупка коммерческой недвижимости', 'покупка жилой недвижимости',\n",
       "       'строительство собственной недвижимости', 'недвижимость',\n",
       "       'строительство недвижимости', 'на покупку подержанного автомобиля',\n",
       "       'на покупку своего автомобиля',\n",
       "       'операции с коммерческой недвижимостью',\n",
       "       'строительство жилой недвижимости', 'жилье',\n",
       "       'операции со своей недвижимостью', 'автомобили',\n",
       "       'заняться образованием', 'сделка с подержанным автомобилем',\n",
       "       'получение образования', 'автомобиль', 'свадьба',\n",
       "       'получение дополнительного образования', 'покупка своего жилья',\n",
       "       'операции с недвижимостью', 'получение высшего образования',\n",
       "       'свой автомобиль', 'сделка с автомобилем',\n",
       "       'профильное образование', 'высшее образование',\n",
       "       'покупка жилья для сдачи', 'на покупку автомобиля', 'ремонт жилью',\n",
       "       'заняться высшим образованием'], dtype=object)"
      ]
     },
     "metadata": {},
     "output_type": "display_data"
    }
   ],
   "source": [
    "display(data['education'].unique())\n",
    "display(data['family_status'].unique())\n",
    "display(data['gender'].unique())\n",
    "display(data['income_type'].unique())\n",
    "display(data['purpose'].unique())"
   ]
  },
  {
   "cell_type": "markdown",
   "id": "4479525c-031d-4d79-91eb-3e3f8d3a676e",
   "metadata": {},
   "source": [
    "* В столбце `education` есть одни и те же значения, но записанные по-разному: с использованием заглавных и строчных букв. Приведем их к нижнему регистру.\n",
    "* В столбце `purpose` очень много наименований целей кредита. Объединим их в категории:\n",
    "    - `'операции с автомобилем'`,\n",
    "    - `'операции с недвижимостью'`,\n",
    "    - `'проведение свадьбы'`,\n",
    "    - `'получение образования'`"
   ]
  },
  {
   "cell_type": "code",
   "execution_count": 17,
   "id": "f90a222d-2bac-4d35-b5b4-4a926f7553bb",
   "metadata": {
    "tags": []
   },
   "outputs": [],
   "source": [
    "data['education']=data['education'].str.lower()"
   ]
  },
  {
   "cell_type": "code",
   "execution_count": 18,
   "id": "64d6622e-5d16-455a-aa97-b2ca1b332a51",
   "metadata": {},
   "outputs": [
    {
     "data": {
      "text/plain": [
       "array(['операции с недвижимостью', 'операции с автомобилем',\n",
       "       'получение образования', 'проведение свадьбы'], dtype=object)"
      ]
     },
     "metadata": {},
     "output_type": "display_data"
    }
   ],
   "source": [
    "# создадим функцию categorize_purpose()\n",
    "def categorize_purpose(row):\n",
    "    try:\n",
    "        if 'автом' in row:\n",
    "            return 'операции с автомобилем'\n",
    "        elif 'жил' in row or 'недвиж' in row:\n",
    "            return 'операции с недвижимостью'\n",
    "        elif 'свад' in row:\n",
    "            return 'проведение свадьбы'\n",
    "        elif 'образов' in row:\n",
    "            return 'получение образования'\n",
    "    except:\n",
    "        return 'нет категории'\n",
    "\n",
    "data['purpose_category'] = data['purpose'].apply(categorize_purpose)\n",
    "\n",
    "display(data['purpose_category'].unique())"
   ]
  },
  {
   "cell_type": "markdown",
   "id": "becbaafa-0752-480e-98bb-f320ad18b9ef",
   "metadata": {},
   "source": [
    "### Категоризация данных"
   ]
  },
  {
   "cell_type": "markdown",
   "id": "494ad467-c85e-4857-9f81-ad971ebdfa2a",
   "metadata": {
    "tags": []
   },
   "source": [
    "Разделим пользователей на категории относительно ежемесячного дохода:\n",
    "- 0–30000 — `'E'`;\n",
    "- 30001–50000 — `'D'`;\n",
    "- 50001–200000 — `'C'`;\n",
    "- 200001–1000000 — `'B'`;\n",
    "- 1000001 и выше — `'A'`."
   ]
  },
  {
   "cell_type": "code",
   "execution_count": 19,
   "id": "8c9b3d51-0f7a-469e-8e53-935949511ca5",
   "metadata": {
    "tags": []
   },
   "outputs": [
    {
     "data": {
      "text/plain": [
       "array(['B', 'C', 'D', 'E', 'A'], dtype=object)"
      ]
     },
     "execution_count": 19,
     "metadata": {},
     "output_type": "execute_result"
    }
   ],
   "source": [
    "def categorize_income(income):\n",
    "    try:\n",
    "        if 0 <= income <= 30000:\n",
    "            return 'E'\n",
    "        elif 30001 <= income <= 50000:\n",
    "            return 'D'\n",
    "        elif 50001 <= income <= 200000:\n",
    "            return 'C'\n",
    "        elif 200001 <= income <= 1000000:\n",
    "            return 'B'\n",
    "        elif income >= 1000001:\n",
    "            return 'A'\n",
    "    except:\n",
    "        pass\n",
    "data['total_income_category'] = data['total_income'].apply(categorize_income)\n",
    "data['total_income_category'].unique()"
   ]
  },
  {
   "cell_type": "markdown",
   "id": "d47f2ed0-0966-4ee5-a6f3-7450093a54cf",
   "metadata": {
    "tags": []
   },
   "source": [
    "<a id='analysis'></a>\n",
    "## Исследовательский анализ данных \n"
   ]
  },
  {
   "cell_type": "markdown",
   "id": "d2d5b06d-bcd0-4219-9001-e7d7f46c16e0",
   "metadata": {},
   "source": [
    "### Есть ли зависимость между количеством детей и возвратом кредита в срок?"
   ]
  },
  {
   "cell_type": "code",
   "execution_count": 20,
   "id": "359ec008-0b8a-4384-b027-9636ce1150db",
   "metadata": {
    "tags": []
   },
   "outputs": [
    {
     "data": {
      "text/html": [
       "<div>\n",
       "<style scoped>\n",
       "    .dataframe tbody tr th:only-of-type {\n",
       "        vertical-align: middle;\n",
       "    }\n",
       "\n",
       "    .dataframe tbody tr th {\n",
       "        vertical-align: top;\n",
       "    }\n",
       "\n",
       "    .dataframe thead th {\n",
       "        text-align: right;\n",
       "    }\n",
       "</style>\n",
       "<table border=\"1\" class=\"dataframe\">\n",
       "  <thead>\n",
       "    <tr style=\"text-align: right;\">\n",
       "      <th></th>\n",
       "      <th>number of borrowers</th>\n",
       "      <th>debtors</th>\n",
       "      <th>share of arrears (%)</th>\n",
       "    </tr>\n",
       "    <tr>\n",
       "      <th>children</th>\n",
       "      <th></th>\n",
       "      <th></th>\n",
       "      <th></th>\n",
       "    </tr>\n",
       "  </thead>\n",
       "  <tbody>\n",
       "    <tr>\n",
       "      <th>4</th>\n",
       "      <td>41</td>\n",
       "      <td>4.0</td>\n",
       "      <td>9.756098</td>\n",
       "    </tr>\n",
       "    <tr>\n",
       "      <th>2</th>\n",
       "      <td>2052</td>\n",
       "      <td>194.0</td>\n",
       "      <td>9.454191</td>\n",
       "    </tr>\n",
       "    <tr>\n",
       "      <th>1</th>\n",
       "      <td>4809</td>\n",
       "      <td>444.0</td>\n",
       "      <td>9.232689</td>\n",
       "    </tr>\n",
       "    <tr>\n",
       "      <th>3</th>\n",
       "      <td>330</td>\n",
       "      <td>27.0</td>\n",
       "      <td>8.181818</td>\n",
       "    </tr>\n",
       "    <tr>\n",
       "      <th>0</th>\n",
       "      <td>14107</td>\n",
       "      <td>1063.0</td>\n",
       "      <td>7.535266</td>\n",
       "    </tr>\n",
       "    <tr>\n",
       "      <th>5</th>\n",
       "      <td>9</td>\n",
       "      <td>NaN</td>\n",
       "      <td>NaN</td>\n",
       "    </tr>\n",
       "  </tbody>\n",
       "</table>\n",
       "</div>"
      ],
      "text/plain": [
       "          number of borrowers  debtors  share of arrears (%)\n",
       "children                                                    \n",
       "4                          41      4.0              9.756098\n",
       "2                        2052    194.0              9.454191\n",
       "1                        4809    444.0              9.232689\n",
       "3                         330     27.0              8.181818\n",
       "0                       14107   1063.0              7.535266\n",
       "5                           9      NaN                   NaN"
      ]
     },
     "execution_count": 20,
     "metadata": {},
     "output_type": "execute_result"
    }
   ],
   "source": [
    "#сгруппируем таблицу по столбцу 'children' и посчитаем количество заемщиков в каждой категории\n",
    "children_group=data.groupby('children')['debt'].count()\n",
    "children_group=pd.DataFrame(data=children_group)  \n",
    "\n",
    "#посчитаем количество заемщиков имеющих задолженности и добавим их к таблице children_group\n",
    "children_pivot=data.pivot_table(index=['children'], columns=data[data['debt']==1]['debt'], values='days_employed',aggfunc='count')\n",
    "children_pivot=children_group.merge(children_pivot, on='children', how='left')\n",
    "\n",
    "#Посчитаем долю просрочек в %, добавим столбец к таблице children_pivot\n",
    "children_arrears=children_pivot[1]/children_pivot['debt']*100\n",
    "children_arrears=pd.DataFrame(data=children_arrears)\n",
    "children_pivot=children_pivot.merge(children_arrears, on='children', how='left')\n",
    "children_pivot=children_pivot.rename(columns={'debt':'number of borrowers',1:'debtors' , 0:'share of arrears (%)'})\n",
    "children_pivot.sort_values(by='share of arrears (%)',ascending=False)"
   ]
  },
  {
   "cell_type": "markdown",
   "id": "15c4d034-3d9c-4cf4-aa9f-af5884aa0d25",
   "metadata": {},
   "source": [
    "**Вывод:** \n",
    "- Клиентов с 3,4 и 5 детьми среди всех заемщиков менее 5%, при этом все клиенты с 5 детьми вообще не имеют задолженностей, поэтому при оценке зависимостей мы не можем учитывать эти категории; \n",
    "- Наибольший процент должников отмечается в категориях клиентов с 2 или 1 ребенком (более 9%);\n",
    "- Меньше всего должников среди клиентов без детей (7,5%);\n",
    "   \n",
    "*Клиенты с 3 и более детьми реже берут кредиты.*\n",
    "\n",
    "*При сравнении категорий клиентов без детей, с 1 и с 2 детьми, видно, что доля просрочки увеличивается с увеличением количества детей, так наиболее надежной категорией будут клиенты без детей.*"
   ]
  },
  {
   "cell_type": "markdown",
   "id": "aa15802a-97b6-41a4-b80a-525282ffbe76",
   "metadata": {},
   "source": [
    "### Есть ли зависимость между семейным положением и возвратом кредита в срок?"
   ]
  },
  {
   "cell_type": "code",
   "execution_count": 21,
   "id": "b2f5d452-51c9-4f4b-be3b-bd065c3d8719",
   "metadata": {},
   "outputs": [
    {
     "data": {
      "text/html": [
       "<div>\n",
       "<style scoped>\n",
       "    .dataframe tbody tr th:only-of-type {\n",
       "        vertical-align: middle;\n",
       "    }\n",
       "\n",
       "    .dataframe tbody tr th {\n",
       "        vertical-align: top;\n",
       "    }\n",
       "\n",
       "    .dataframe thead th {\n",
       "        text-align: right;\n",
       "    }\n",
       "</style>\n",
       "<table border=\"1\" class=\"dataframe\">\n",
       "  <thead>\n",
       "    <tr style=\"text-align: right;\">\n",
       "      <th></th>\n",
       "      <th>number of borrowers</th>\n",
       "      <th>debtors</th>\n",
       "      <th>share of arrears (%)</th>\n",
       "    </tr>\n",
       "    <tr>\n",
       "      <th>family_status</th>\n",
       "      <th></th>\n",
       "      <th></th>\n",
       "      <th></th>\n",
       "    </tr>\n",
       "  </thead>\n",
       "  <tbody>\n",
       "    <tr>\n",
       "      <th>Не женат / не замужем</th>\n",
       "      <td>2796</td>\n",
       "      <td>273</td>\n",
       "      <td>9.763948</td>\n",
       "    </tr>\n",
       "    <tr>\n",
       "      <th>гражданский брак</th>\n",
       "      <td>4146</td>\n",
       "      <td>385</td>\n",
       "      <td>9.286059</td>\n",
       "    </tr>\n",
       "    <tr>\n",
       "      <th>женат / замужем</th>\n",
       "      <td>12266</td>\n",
       "      <td>927</td>\n",
       "      <td>7.557476</td>\n",
       "    </tr>\n",
       "    <tr>\n",
       "      <th>в разводе</th>\n",
       "      <td>1189</td>\n",
       "      <td>84</td>\n",
       "      <td>7.064760</td>\n",
       "    </tr>\n",
       "    <tr>\n",
       "      <th>вдовец / вдова</th>\n",
       "      <td>951</td>\n",
       "      <td>63</td>\n",
       "      <td>6.624606</td>\n",
       "    </tr>\n",
       "  </tbody>\n",
       "</table>\n",
       "</div>"
      ],
      "text/plain": [
       "                       number of borrowers  debtors  share of arrears (%)\n",
       "family_status                                                            \n",
       "Не женат / не замужем                 2796      273              9.763948\n",
       "гражданский брак                      4146      385              9.286059\n",
       "женат / замужем                      12266      927              7.557476\n",
       "в разводе                             1189       84              7.064760\n",
       "вдовец / вдова                         951       63              6.624606"
      ]
     },
     "execution_count": 21,
     "metadata": {},
     "output_type": "execute_result"
    }
   ],
   "source": [
    "#сгруппируем таблицу по столбцу 'family_status' и посчитаем количество заемщиков в каждой категории\n",
    "family_group=data.groupby('family_status')['debt'].count()\n",
    "family_group=pd.DataFrame(data=family_group)\n",
    "\n",
    "#посчитаем количество заемщиков имеющих задолжености и добавим их к таблице family_group\n",
    "family_pivot=data.pivot_table(index=['family_status'], columns=data[data['debt']==1]['debt'], values='days_employed',aggfunc='count')\n",
    "family_pivot=family_group.merge(family_pivot, on='family_status', how='left')\n",
    "\n",
    "#Посчитаем долю просрочек в %, добавим столбец к таблице family_pivot\n",
    "family_arrears=family_pivot[1]/family_pivot['debt']*100\n",
    "family_arrears=pd.DataFrame(data=family_arrears)\n",
    "family_pivot=family_pivot.merge(family_arrears, on='family_status', how='left')\n",
    "family_pivot=family_pivot.rename(columns={'debt':'number of borrowers',1:'debtors' , 0:'share of arrears (%)'})\n",
    "family_pivot.sort_values(by='share of arrears (%)',ascending=False)\n"
   ]
  },
  {
   "cell_type": "markdown",
   "id": "efd2e367-ca6c-4410-b02a-4f7ec3b27723",
   "metadata": {
    "id": "c389ca63"
   },
   "source": [
    "**Вывод:** \n",
    "- Наибольшая доля просрочек отмечается в категориях не женатых/не замужних и состоящих в гражданском браке клиентов;\n",
    "- Женатые и замужние клиенты отдают кредиты лучше;\n",
    "- Можно предположить, что клиенты в разводе и вдовцы/вдовы являются наиболее надежной категорией, однако их количество среди всех заемщиков менее 5%, так что выборку можно считать не репрезентативной  \n",
    "\n",
    "*Если не учитывать при сравнении категории разведенных и вдовцов, видно, что доля просрочек уменьшается при вступлении в брак*"
   ]
  },
  {
   "cell_type": "markdown",
   "id": "2d598c98-308f-4f2c-a05f-22aea700b590",
   "metadata": {},
   "source": [
    "### Есть ли зависимость между уровнем дохода и возвратом кредита в срок?"
   ]
  },
  {
   "cell_type": "code",
   "execution_count": 22,
   "id": "ed9748d4-587a-4a67-a1bc-0d185e3c04bb",
   "metadata": {},
   "outputs": [
    {
     "data": {
      "text/html": [
       "<div>\n",
       "<style scoped>\n",
       "    .dataframe tbody tr th:only-of-type {\n",
       "        vertical-align: middle;\n",
       "    }\n",
       "\n",
       "    .dataframe tbody tr th {\n",
       "        vertical-align: top;\n",
       "    }\n",
       "\n",
       "    .dataframe thead th {\n",
       "        text-align: right;\n",
       "    }\n",
       "</style>\n",
       "<table border=\"1\" class=\"dataframe\">\n",
       "  <thead>\n",
       "    <tr style=\"text-align: right;\">\n",
       "      <th></th>\n",
       "      <th>number of borrowers</th>\n",
       "      <th>debtors</th>\n",
       "      <th>share of arrears (%)</th>\n",
       "    </tr>\n",
       "    <tr>\n",
       "      <th>total_income_category</th>\n",
       "      <th></th>\n",
       "      <th></th>\n",
       "      <th></th>\n",
       "    </tr>\n",
       "  </thead>\n",
       "  <tbody>\n",
       "    <tr>\n",
       "      <th>E</th>\n",
       "      <td>22</td>\n",
       "      <td>2</td>\n",
       "      <td>9.090909</td>\n",
       "    </tr>\n",
       "    <tr>\n",
       "      <th>C</th>\n",
       "      <td>15938</td>\n",
       "      <td>1353</td>\n",
       "      <td>8.489145</td>\n",
       "    </tr>\n",
       "    <tr>\n",
       "      <th>A</th>\n",
       "      <td>25</td>\n",
       "      <td>2</td>\n",
       "      <td>8.000000</td>\n",
       "    </tr>\n",
       "    <tr>\n",
       "      <th>B</th>\n",
       "      <td>5014</td>\n",
       "      <td>354</td>\n",
       "      <td>7.060231</td>\n",
       "    </tr>\n",
       "    <tr>\n",
       "      <th>D</th>\n",
       "      <td>349</td>\n",
       "      <td>21</td>\n",
       "      <td>6.017192</td>\n",
       "    </tr>\n",
       "  </tbody>\n",
       "</table>\n",
       "</div>"
      ],
      "text/plain": [
       "                       number of borrowers  debtors  share of arrears (%)\n",
       "total_income_category                                                    \n",
       "E                                       22        2              9.090909\n",
       "C                                    15938     1353              8.489145\n",
       "A                                       25        2              8.000000\n",
       "B                                     5014      354              7.060231\n",
       "D                                      349       21              6.017192"
      ]
     },
     "execution_count": 22,
     "metadata": {},
     "output_type": "execute_result"
    }
   ],
   "source": [
    "#сгруппируем таблицу по столбцу 'total_income_category' и посчитаем количество заемщиков в каждой категории\n",
    "income_group=data.groupby('total_income_category')['debt'].count()\n",
    "income_group=pd.DataFrame(data=income_group)\n",
    "\n",
    "#посчитаем количество заемщиков имеющих задолжености и добавим их к таблице income_group\n",
    "income_pivot=data.pivot_table(index=['total_income_category'], columns=data[data['debt']==1]['debt'], values='days_employed',aggfunc='count')\n",
    "income_pivot=income_group.merge(income_pivot, on='total_income_category', how='left')\n",
    "\n",
    "#Посчитаем долю просрочек в %, добавим столбец к таблице income_pivot\n",
    "income_arrears=income_pivot[1]/income_pivot['debt']*100\n",
    "income_arrears=pd.DataFrame(data=income_arrears)\n",
    "income_pivot=income_pivot.merge(income_arrears, on='total_income_category', how='left')\n",
    "income_pivot=income_pivot.rename(columns={'debt':'number of borrowers',1:'debtors' , 0:'share of arrears (%)'})\n",
    "income_pivot.sort_values(by='share of arrears (%)',ascending=False)"
   ]
  },
  {
   "cell_type": "markdown",
   "id": "b0c6a10d-62d3-4def-8843-8aac1b801bd7",
   "metadata": {},
   "source": [
    "**Вывод:** \n",
    "- Преобладающее количество заемщиков имеют доходы от 50001 до 1000000 руб, выборки по остальным категориям можно считать не репрезентативными;\n",
    "- Клиенты с доходом 200001–1000000 руб. отдают кредиты лучше, клиентов с доходом 50001–200000 руб.;\n",
    "\n",
    "*При сравнении репрезентативных выборок видна прямая зависимость между уровнем дохода и частотой погашения долга-чем выше доход, тем меньше доля просрочек.*"
   ]
  },
  {
   "cell_type": "markdown",
   "id": "d83f8ec9-6cc5-480f-8205-33648bd9ed45",
   "metadata": {},
   "source": [
    "### Как разные цели кредита влияют на его возврат в срок?"
   ]
  },
  {
   "cell_type": "code",
   "execution_count": 23,
   "id": "88e831c2-0002-41da-8469-42bac40e2d7f",
   "metadata": {},
   "outputs": [
    {
     "data": {
      "text/html": [
       "<div>\n",
       "<style scoped>\n",
       "    .dataframe tbody tr th:only-of-type {\n",
       "        vertical-align: middle;\n",
       "    }\n",
       "\n",
       "    .dataframe tbody tr th {\n",
       "        vertical-align: top;\n",
       "    }\n",
       "\n",
       "    .dataframe thead th {\n",
       "        text-align: right;\n",
       "    }\n",
       "</style>\n",
       "<table border=\"1\" class=\"dataframe\">\n",
       "  <thead>\n",
       "    <tr style=\"text-align: right;\">\n",
       "      <th></th>\n",
       "      <th>number of borrowers</th>\n",
       "      <th>debtors</th>\n",
       "      <th>share of arrears (%)</th>\n",
       "    </tr>\n",
       "    <tr>\n",
       "      <th>purpose_category</th>\n",
       "      <th></th>\n",
       "      <th></th>\n",
       "      <th></th>\n",
       "    </tr>\n",
       "  </thead>\n",
       "  <tbody>\n",
       "    <tr>\n",
       "      <th>операции с автомобилем</th>\n",
       "      <td>4281</td>\n",
       "      <td>400</td>\n",
       "      <td>9.343611</td>\n",
       "    </tr>\n",
       "    <tr>\n",
       "      <th>получение образования</th>\n",
       "      <td>3989</td>\n",
       "      <td>369</td>\n",
       "      <td>9.250439</td>\n",
       "    </tr>\n",
       "    <tr>\n",
       "      <th>проведение свадьбы</th>\n",
       "      <td>2324</td>\n",
       "      <td>183</td>\n",
       "      <td>7.874355</td>\n",
       "    </tr>\n",
       "    <tr>\n",
       "      <th>операции с недвижимостью</th>\n",
       "      <td>10754</td>\n",
       "      <td>780</td>\n",
       "      <td>7.253115</td>\n",
       "    </tr>\n",
       "  </tbody>\n",
       "</table>\n",
       "</div>"
      ],
      "text/plain": [
       "                          number of borrowers  debtors  share of arrears (%)\n",
       "purpose_category                                                            \n",
       "операции с автомобилем                   4281      400              9.343611\n",
       "получение образования                    3989      369              9.250439\n",
       "проведение свадьбы                       2324      183              7.874355\n",
       "операции с недвижимостью                10754      780              7.253115"
      ]
     },
     "execution_count": 23,
     "metadata": {},
     "output_type": "execute_result"
    }
   ],
   "source": [
    "#сгруппируем таблицу по столбцу 'purpose_category' и посчитаем количество заемщиков в каждой категории\n",
    "purpose_group=data.groupby('purpose_category')['debt'].count()\n",
    "purpose_group=pd.DataFrame(data=purpose_group)\n",
    "\n",
    "#посчитаем количество заемщиков имеющих задолжености и добавим их к таблице purpose_group\n",
    "purpose_pivot=data.pivot_table(index=['purpose_category'], columns=data[data['debt']==1]['debt'], values='days_employed',aggfunc='count')\n",
    "purpose_pivot=purpose_group.merge(purpose_pivot, on='purpose_category', how='left')\n",
    "\n",
    "#Посчитаем долю просрочек в %, добавим столбец к таблице purpose_pivot\n",
    "purpose_arrears=purpose_pivot[1]/purpose_pivot['debt']*100\n",
    "purpose_arrears=pd.DataFrame(data=purpose_arrears)\n",
    "purpose_pivot=purpose_pivot.merge(purpose_arrears, on='purpose_category', how='left')\n",
    "purpose_pivot=purpose_pivot.rename(columns={'debt':'number of borrowers',1:'debtors' , 0:'share of arrears (%)'})\n",
    "purpose_pivot.sort_values(by='share of arrears (%)',ascending=False)"
   ]
  },
  {
   "cell_type": "markdown",
   "id": "0903a21a-08e3-42de-9de0-49563ac5d669",
   "metadata": {},
   "source": [
    "**Вывод:** \n",
    "- Наибольшая доля просрочек отмечается в категориях операции с автомобилем и получение образования;\n",
    "- Самой надежной категорией клиентов, согласно данным, являются клиенты, взявшие кредит на проведение свадьбы и операции с недвижимостью.\n",
    "\n",
    "*Наибольшая доля должников среди клиентов, взявших кредит на операции с автомобилем и получение образования может быть связано с другими факторами, например, семьи с детьми могут брать кредиты на автомобиль и образование чаще.* "
   ]
  },
  {
   "cell_type": "markdown",
   "id": "73cd75a5-2a3f-4c0b-99e4-93a824b615cc",
   "metadata": {},
   "source": [
    "<a id='results'></a>\n",
    "## Выводы\n"
   ]
  },
  {
   "cell_type": "markdown",
   "id": "faa00f9c-f3d2-4583-a67d-2ff46cca6c0e",
   "metadata": {},
   "source": [
    "В качестве исходных данных была использована статистика о платёжеспособности клиентов, предоставленная кредитным отделом банка.\n",
    "\n",
    "**На этапе предобработки в данных были выявлены следующие проблемы:**\n",
    "- в столбцах days_employed (общий трудовой стаж в днях) и total_income (ежемесячный доход) были обнаружены пропуски. Данные о доходе клиента важны для исследования, поэтому пропуски были заполнены медианным доходом, рассчитанным для каждого типа занятости. \n",
    "- В столбцах days_employed и children были обнаружены аномальные значения. \n",
    "- Так же были обнаружены неявные дубликаты в столбце education - одни и те же значения, но записанные в разных регистрах.\n",
    "\n",
    "\n",
    "**При анализе данных были выявлено, что зависимость между рассматриваемыми категориями и возвратом кредита в срок есть.** \n",
    "\n",
    "Были отмечены наименее надежные категории клиентов это: \n",
    "- клиенты с 1 или 2 детьми, \n",
    "- не женатые клиенты, \n",
    "- клиенты с низким доходом. \n",
    "- Хуже всего выплачивают кредиты на операции с автомобилем и получение образования.\n",
    "\n",
    "Стоит отметить, что доли просрочек по каждой из категорий не сильно отличаются друг от друга (на 2-3 ед.). \n",
    "\n",
    "Из-за не репрезентативности выборок по некоторым категориям клиентов, возможно эти категории следует исследовать отдельно и более детально по большему количеству признаков (возраст, уровень образования, тип занятости и т.д.).\n",
    "\n",
    "**Рекомендации, по улучшению сбора данных и настройке системы скоринга:**\n",
    "- Рекомендовано отрегулировать систему валидации при выгрузке данных во избежание возникновения дубликатов. \n",
    "- Сделать все поля анкеты обязательными к заполнению клиентом, чтобы не допустить возникновения пропусков \n",
    "- Установить лимит для вводимых значений (например, чтобы пользователь не смог записать в анкете, что у него стаж более 1000 лет или -1 ребенок)\n",
    "- Сделать автоматическую замену регистра, при заполнении полей со строковыми значениями, чтобы в анкете не было неявных дубликатов."
   ]
  }
 ],
 "metadata": {
  "kernelspec": {
   "display_name": "Python 3 (ipykernel)",
   "language": "python",
   "name": "python3"
  },
  "language_info": {
   "codemirror_mode": {
    "name": "ipython",
    "version": 3
   },
   "file_extension": ".py",
   "mimetype": "text/x-python",
   "name": "python",
   "nbconvert_exporter": "python",
   "pygments_lexer": "ipython3",
   "version": "3.9.5"
  }
 },
 "nbformat": 4,
 "nbformat_minor": 5
}
